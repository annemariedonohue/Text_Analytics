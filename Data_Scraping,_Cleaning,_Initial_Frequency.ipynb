{
  "nbformat": 4,
  "nbformat_minor": 0,
  "metadata": {
    "colab": {
      "name": "Data Scraping, Cleaning, Initial Frequency.ipynb",
      "provenance": [],
      "collapsed_sections": [
        "O0np1xfhggqD",
        "hjybhkU0ggqJ",
        "seJ9S_bjggqO",
        "cglo-qWNggqO",
        "j6d4z0lxggqP",
        "J1zCFXCAggqP",
        "peEHrllCggqP",
        "dJlh1VsxggqQ",
        "V6p0fq5hggqR",
        "4LHHN8AcggqR",
        "rC21fvhdggqR",
        "ChCwcj7wggqT",
        "I9VBRbL6ggqT",
        "c26H2T4FggqT",
        "3hOutvs8ggqU",
        "Vmhgr5AFggqU",
        "mAP3ZjIXggqV",
        "zT0752JOggqW",
        "DZkSH8MxggqX",
        "M4pXFxxfggqY",
        "KegMaJ_4ggqZ",
        "4c_6MyFPggqa",
        "7Pchgeimggqa",
        "3kfZi3Sqggqb",
        "SqEkU_cCggqb",
        "vL6FjNs7ggqc"
      ]
    },
    "kernelspec": {
      "display_name": "Python 3",
      "language": "python",
      "name": "python3"
    },
    "language_info": {
      "codemirror_mode": {
        "name": "ipython",
        "version": 3
      },
      "file_extension": ".py",
      "mimetype": "text/x-python",
      "name": "python",
      "nbconvert_exporter": "python",
      "pygments_lexer": "ipython3",
      "version": "3.8.3"
    }
  },
  "cells": [
    {
      "cell_type": "code",
      "metadata": {
        "colab": {
          "base_uri": "https://localhost:8080/"
        },
        "id": "6vT3NyvrhZiR",
        "outputId": "015d7f3f-27da-46e5-cb9b-aabece2ac8b6"
      },
      "source": [
        "!pip install AppStore\n",
        "!pip install app_store_scraper\n"
      ],
      "execution_count": null,
      "outputs": [
        {
          "output_type": "stream",
          "text": [
            "Collecting AppStore\n",
            "  Downloading https://files.pythonhosted.org/packages/1e/d9/cdc3a77b74843402f89bc4b1e62f1315853880a3910766398f12fd1abc45/appstore-0.0.4-py2.py3-none-any.whl\n",
            "Installing collected packages: AppStore\n",
            "Successfully installed AppStore-0.0.4\n",
            "Collecting app_store_scraper\n",
            "  Downloading https://files.pythonhosted.org/packages/ba/2e/35eb1628b550d5e936f0a9171c1e3ea978288849693d3c6daab9e74cbab9/app_store_scraper-0.3.5-py3-none-any.whl\n",
            "Requirement already satisfied: requests==2.23.0 in /usr/local/lib/python3.7/dist-packages (from app_store_scraper) (2.23.0)\n",
            "Requirement already satisfied: idna<3,>=2.5 in /usr/local/lib/python3.7/dist-packages (from requests==2.23.0->app_store_scraper) (2.10)\n",
            "Requirement already satisfied: chardet<4,>=3.0.2 in /usr/local/lib/python3.7/dist-packages (from requests==2.23.0->app_store_scraper) (3.0.4)\n",
            "Requirement already satisfied: certifi>=2017.4.17 in /usr/local/lib/python3.7/dist-packages (from requests==2.23.0->app_store_scraper) (2020.12.5)\n",
            "Requirement already satisfied: urllib3!=1.25.0,!=1.25.1,<1.26,>=1.21.1 in /usr/local/lib/python3.7/dist-packages (from requests==2.23.0->app_store_scraper) (1.24.3)\n",
            "Installing collected packages: app-store-scraper\n",
            "Successfully installed app-store-scraper-0.3.5\n"
          ],
          "name": "stdout"
        }
      ]
    },
    {
      "cell_type": "code",
      "metadata": {
        "id": "VXy6Px51HIxe"
      },
      "source": [
        "from app_store_scraper import AppStore\n",
        "from pprint import pprint\n",
        "import pandas as pd\n",
        "import random\n",
        "from bs4 import BeautifulSoup\n",
        "import urllib.request\n",
        "import datetime"
      ],
      "execution_count": null,
      "outputs": []
    },
    {
      "cell_type": "code",
      "metadata": {
        "colab": {
          "base_uri": "https://localhost:8080/"
        },
        "id": "JvLgZaVgHNZC",
        "outputId": "995f526f-90de-4afc-c430-e5eabad9a237"
      },
      "source": [
        "reviews = AppStore(country=\"us\", app_name=\"chase\",app_id = 298867247)\n",
        "all_reviews1 = reviews.review(how_many=50000, after=datetime.datetime(2019,12,31),sleep = random.randint(3,6))"
      ],
      "execution_count": null,
      "outputs": [
        {
          "output_type": "stream",
          "text": [
            "2021-05-12 19:28:58,300 [INFO] Base - Initialised: AppStore('us', 'chase', 298867247)\n",
            "2021-05-12 19:28:58,302 [INFO] Base - Ready to fetch reviews from: https://apps.apple.com/us/app/chase/id298867247\n",
            "2021-05-12 19:29:06,837 [INFO] Base - [id:298867247] Fetched 15 reviews (15 fetched in total)\n",
            "2021-05-12 19:29:19,749 [INFO] Base - [id:298867247] Fetched 36 reviews (36 fetched in total)\n",
            "2021-05-12 19:29:32,531 [INFO] Base - [id:298867247] Fetched 59 reviews (59 fetched in total)\n",
            "2021-05-12 19:29:45,521 [INFO] Base - [id:298867247] Fetched 84 reviews (84 fetched in total)\n",
            "2021-05-12 19:29:58,114 [INFO] Base - [id:298867247] Fetched 103 reviews (103 fetched in total)\n",
            "2021-05-12 19:30:10,887 [INFO] Base - [id:298867247] Fetched 128 reviews (128 fetched in total)\n",
            "2021-05-12 19:30:23,750 [INFO] Base - [id:298867247] Fetched 149 reviews (149 fetched in total)\n",
            "2021-05-12 19:30:36,497 [INFO] Base - [id:298867247] Fetched 172 reviews (172 fetched in total)\n",
            "2021-05-12 19:30:49,223 [INFO] Base - [id:298867247] Fetched 179 reviews (179 fetched in total)\n",
            "2021-05-12 19:31:01,961 [INFO] Base - [id:298867247] Fetched 207 reviews (207 fetched in total)\n",
            "2021-05-12 19:31:14,659 [INFO] Base - [id:298867247] Fetched 226 reviews (226 fetched in total)\n",
            "2021-05-12 19:31:27,277 [INFO] Base - [id:298867247] Fetched 254 reviews (254 fetched in total)\n",
            "2021-05-12 19:31:40,052 [INFO] Base - [id:298867247] Fetched 274 reviews (274 fetched in total)\n",
            "2021-05-12 19:31:52,628 [INFO] Base - [id:298867247] Fetched 299 reviews (299 fetched in total)\n",
            "2021-05-12 19:32:05,277 [INFO] Base - [id:298867247] Fetched 318 reviews (318 fetched in total)\n",
            "2021-05-12 19:32:18,132 [INFO] Base - [id:298867247] Fetched 345 reviews (345 fetched in total)\n",
            "2021-05-12 19:32:30,920 [INFO] Base - [id:298867247] Fetched 364 reviews (364 fetched in total)\n",
            "2021-05-12 19:32:43,752 [INFO] Base - [id:298867247] Fetched 385 reviews (385 fetched in total)\n",
            "2021-05-12 19:32:56,672 [INFO] Base - [id:298867247] Fetched 407 reviews (407 fetched in total)\n",
            "2021-05-12 19:33:09,543 [INFO] Base - [id:298867247] Fetched 435 reviews (435 fetched in total)\n",
            "2021-05-12 19:33:22,266 [INFO] Base - [id:298867247] Fetched 449 reviews (449 fetched in total)\n",
            "2021-05-12 19:33:35,009 [INFO] Base - [id:298867247] Fetched 474 reviews (474 fetched in total)\n",
            "2021-05-12 19:33:47,495 [INFO] Base - [id:298867247] Fetched 489 reviews (489 fetched in total)\n",
            "2021-05-12 19:34:00,139 [INFO] Base - [id:298867247] Fetched 512 reviews (512 fetched in total)\n",
            "2021-05-12 19:34:13,043 [INFO] Base - [id:298867247] Fetched 530 reviews (530 fetched in total)\n",
            "2021-05-12 19:34:25,925 [INFO] Base - [id:298867247] Fetched 555 reviews (555 fetched in total)\n",
            "2021-05-12 19:34:38,736 [INFO] Base - [id:298867247] Fetched 570 reviews (570 fetched in total)\n",
            "2021-05-12 19:34:51,570 [INFO] Base - [id:298867247] Fetched 594 reviews (594 fetched in total)\n",
            "2021-05-12 19:35:04,503 [INFO] Base - [id:298867247] Fetched 608 reviews (608 fetched in total)\n",
            "2021-05-12 19:35:17,374 [INFO] Base - [id:298867247] Fetched 632 reviews (632 fetched in total)\n",
            "2021-05-12 19:35:30,109 [INFO] Base - [id:298867247] Fetched 660 reviews (660 fetched in total)\n",
            "2021-05-12 19:35:42,879 [INFO] Base - [id:298867247] Fetched 681 reviews (681 fetched in total)\n",
            "2021-05-12 19:35:55,975 [INFO] Base - [id:298867247] Fetched 701 reviews (701 fetched in total)\n",
            "2021-05-12 19:36:08,613 [INFO] Base - [id:298867247] Fetched 720 reviews (720 fetched in total)\n",
            "2021-05-12 19:36:21,424 [INFO] Base - [id:298867247] Fetched 744 reviews (744 fetched in total)\n",
            "2021-05-12 19:36:34,611 [INFO] Base - [id:298867247] Fetched 761 reviews (761 fetched in total)\n",
            "2021-05-12 19:36:47,464 [INFO] Base - [id:298867247] Fetched 782 reviews (782 fetched in total)\n",
            "2021-05-12 19:37:00,324 [INFO] Base - [id:298867247] Fetched 797 reviews (797 fetched in total)\n",
            "2021-05-12 19:37:13,005 [INFO] Base - [id:298867247] Fetched 822 reviews (822 fetched in total)\n",
            "2021-05-12 19:37:25,728 [INFO] Base - [id:298867247] Fetched 837 reviews (837 fetched in total)\n",
            "2021-05-12 19:37:38,643 [INFO] Base - [id:298867247] Fetched 855 reviews (855 fetched in total)\n",
            "2021-05-12 19:37:51,490 [INFO] Base - [id:298867247] Fetched 867 reviews (867 fetched in total)\n",
            "2021-05-12 19:38:04,371 [INFO] Base - [id:298867247] Fetched 873 reviews (873 fetched in total)\n",
            "2021-05-12 19:38:17,213 [INFO] Base - [id:298867247] Fetched 904 reviews (904 fetched in total)\n",
            "2021-05-12 19:38:30,147 [INFO] Base - [id:298867247] Fetched 930 reviews (930 fetched in total)\n",
            "2021-05-12 19:38:42,909 [INFO] Base - [id:298867247] Fetched 958 reviews (958 fetched in total)\n",
            "2021-05-12 19:38:55,661 [INFO] Base - [id:298867247] Fetched 958 reviews (958 fetched in total)\n",
            "2021-05-12 19:39:08,528 [INFO] Base - [id:298867247] Fetched 977 reviews (977 fetched in total)\n",
            "2021-05-12 19:39:21,316 [INFO] Base - [id:298867247] Fetched 1010 reviews (1010 fetched in total)\n",
            "2021-05-12 19:39:34,202 [INFO] Base - [id:298867247] Fetched 1019 reviews (1019 fetched in total)\n",
            "2021-05-12 19:39:46,933 [INFO] Base - [id:298867247] Fetched 1050 reviews (1050 fetched in total)\n",
            "2021-05-12 19:39:59,543 [INFO] Base - [id:298867247] Fetched 1068 reviews (1068 fetched in total)\n",
            "2021-05-12 19:40:12,364 [INFO] Base - [id:298867247] Fetched 1076 reviews (1076 fetched in total)\n",
            "2021-05-12 19:40:25,051 [INFO] Base - [id:298867247] Fetched 1105 reviews (1105 fetched in total)\n",
            "2021-05-12 19:40:38,077 [INFO] Base - [id:298867247] Fetched 1127 reviews (1127 fetched in total)\n",
            "2021-05-12 19:40:50,877 [INFO] Base - [id:298867247] Fetched 1127 reviews (1127 fetched in total)\n",
            "2021-05-12 19:41:03,727 [INFO] Base - [id:298867247] Fetched 1157 reviews (1157 fetched in total)\n",
            "2021-05-12 19:41:16,664 [INFO] Base - [id:298867247] Fetched 1180 reviews (1180 fetched in total)\n",
            "2021-05-12 19:41:29,926 [INFO] Base - [id:298867247] Fetched 1187 reviews (1187 fetched in total)\n",
            "2021-05-12 19:41:42,862 [INFO] Base - [id:298867247] Fetched 1229 reviews (1229 fetched in total)\n",
            "2021-05-12 19:41:55,540 [INFO] Base - [id:298867247] Fetched 1229 reviews (1229 fetched in total)\n",
            "2021-05-12 19:42:08,107 [INFO] Base - [id:298867247] Fetched 1279 reviews (1279 fetched in total)\n",
            "2021-05-12 19:42:21,065 [INFO] Base - [id:298867247] Fetched 1279 reviews (1279 fetched in total)\n",
            "2021-05-12 19:42:34,140 [INFO] Base - [id:298867247] Fetched 1313 reviews (1313 fetched in total)\n",
            "2021-05-12 19:42:46,811 [INFO] Base - [id:298867247] Fetched 1313 reviews (1313 fetched in total)\n",
            "2021-05-12 19:42:59,750 [INFO] Base - [id:298867247] Fetched 1350 reviews (1350 fetched in total)\n",
            "2021-05-12 19:43:12,520 [INFO] Base - [id:298867247] Fetched 1361 reviews (1361 fetched in total)\n",
            "2021-05-12 19:43:25,275 [INFO] Base - [id:298867247] Fetched 1393 reviews (1393 fetched in total)\n",
            "2021-05-12 19:43:38,008 [INFO] Base - [id:298867247] Fetched 1400 reviews (1400 fetched in total)\n",
            "2021-05-12 19:43:51,029 [INFO] Base - [id:298867247] Fetched 1435 reviews (1435 fetched in total)\n",
            "2021-05-12 19:44:03,787 [INFO] Base - [id:298867247] Fetched 1448 reviews (1448 fetched in total)\n",
            "2021-05-12 19:44:16,536 [INFO] Base - [id:298867247] Fetched 1484 reviews (1484 fetched in total)\n",
            "2021-05-12 19:44:29,501 [INFO] Base - [id:298867247] Fetched 1487 reviews (1487 fetched in total)\n",
            "2021-05-12 19:44:42,381 [INFO] Base - [id:298867247] Fetched 1523 reviews (1523 fetched in total)\n",
            "2021-05-12 19:44:55,275 [INFO] Base - [id:298867247] Fetched 1528 reviews (1528 fetched in total)\n",
            "2021-05-12 19:45:08,184 [INFO] Base - [id:298867247] Fetched 1557 reviews (1557 fetched in total)\n",
            "2021-05-12 19:45:21,047 [INFO] Base - [id:298867247] Fetched 1559 reviews (1559 fetched in total)\n",
            "2021-05-12 19:45:34,004 [INFO] Base - [id:298867247] Fetched 1590 reviews (1590 fetched in total)\n",
            "2021-05-12 19:45:47,001 [INFO] Base - [id:298867247] Fetched 1590 reviews (1590 fetched in total)\n",
            "2021-05-12 19:45:59,871 [INFO] Base - [id:298867247] Fetched 1638 reviews (1638 fetched in total)\n",
            "2021-05-12 19:46:12,757 [INFO] Base - [id:298867247] Fetched 1640 reviews (1640 fetched in total)\n",
            "2021-05-12 19:46:25,716 [INFO] Base - [id:298867247] Fetched 1654 reviews (1654 fetched in total)\n",
            "2021-05-12 19:46:38,631 [INFO] Base - [id:298867247] Fetched 1694 reviews (1694 fetched in total)\n",
            "2021-05-12 19:46:51,677 [INFO] Base - [id:298867247] Fetched 1694 reviews (1694 fetched in total)\n",
            "2021-05-12 19:47:04,574 [INFO] Base - [id:298867247] Fetched 1728 reviews (1728 fetched in total)\n",
            "2021-05-12 19:47:17,828 [INFO] Base - [id:298867247] Fetched 1730 reviews (1730 fetched in total)\n",
            "2021-05-12 19:47:30,797 [INFO] Base - [id:298867247] Fetched 1751 reviews (1751 fetched in total)\n",
            "2021-05-12 19:47:43,677 [INFO] Base - [id:298867247] Fetched 1778 reviews (1778 fetched in total)\n",
            "2021-05-12 19:47:56,297 [INFO] Base - [id:298867247] Fetched 1778 reviews (1778 fetched in total)\n",
            "2021-05-12 19:48:09,035 [INFO] Base - [id:298867247] Fetched 1826 reviews (1826 fetched in total)\n",
            "2021-05-12 19:48:22,080 [INFO] Base - [id:298867247] Fetched 1826 reviews (1826 fetched in total)\n",
            "2021-05-12 19:48:34,741 [INFO] Base - [id:298867247] Fetched 1850 reviews (1850 fetched in total)\n",
            "2021-05-12 19:48:47,723 [INFO] Base - [id:298867247] Fetched 1890 reviews (1890 fetched in total)\n",
            "2021-05-12 19:49:00,216 [INFO] Base - [id:298867247] Fetched 1890 reviews (1890 fetched in total)\n",
            "2021-05-12 19:49:13,270 [INFO] Base - [id:298867247] Fetched 1927 reviews (1927 fetched in total)\n",
            "2021-05-12 19:49:26,406 [INFO] Base - [id:298867247] Fetched 1927 reviews (1927 fetched in total)\n",
            "2021-05-12 19:49:39,326 [INFO] Base - [id:298867247] Fetched 1962 reviews (1962 fetched in total)\n",
            "2021-05-12 19:49:52,206 [INFO] Base - [id:298867247] Fetched 1981 reviews (1981 fetched in total)\n",
            "2021-05-12 19:50:05,125 [INFO] Base - [id:298867247] Fetched 1984 reviews (1984 fetched in total)\n",
            "2021-05-12 19:50:17,789 [INFO] Base - [id:298867247] Fetched 2044 reviews (2044 fetched in total)\n",
            "2021-05-12 19:50:30,357 [INFO] Base - [id:298867247] Fetched 2046 reviews (2046 fetched in total)\n",
            "2021-05-12 19:50:43,205 [INFO] Base - [id:298867247] Fetched 2058 reviews (2058 fetched in total)\n",
            "2021-05-12 19:50:56,216 [INFO] Base - [id:298867247] Fetched 2113 reviews (2113 fetched in total)\n",
            "2021-05-12 19:51:09,233 [INFO] Base - [id:298867247] Fetched 2113 reviews (2113 fetched in total)\n",
            "2021-05-12 19:51:22,248 [INFO] Base - [id:298867247] Fetched 2150 reviews (2150 fetched in total)\n",
            "2021-05-12 19:51:35,129 [INFO] Base - [id:298867247] Fetched 2168 reviews (2168 fetched in total)\n",
            "2021-05-12 19:51:48,315 [INFO] Base - [id:298867247] Fetched 2168 reviews (2168 fetched in total)\n",
            "2021-05-12 19:52:02,067 [INFO] Base - [id:298867247] Fetched 2213 reviews (2213 fetched in total)\n",
            "2021-05-12 19:52:15,067 [INFO] Base - [id:298867247] Fetched 2218 reviews (2218 fetched in total)\n",
            "2021-05-12 19:52:28,269 [INFO] Base - [id:298867247] Fetched 2218 reviews (2218 fetched in total)\n",
            "2021-05-12 19:52:41,080 [INFO] Base - [id:298867247] Fetched 2267 reviews (2267 fetched in total)\n",
            "2021-05-12 19:52:54,070 [INFO] Base - [id:298867247] Fetched 2281 reviews (2281 fetched in total)\n",
            "2021-05-12 19:53:07,230 [INFO] Base - [id:298867247] Fetched 2281 reviews (2281 fetched in total)\n",
            "2021-05-12 19:53:19,967 [INFO] Base - [id:298867247] Fetched 2330 reviews (2330 fetched in total)\n",
            "2021-05-12 19:53:32,847 [INFO] Base - [id:298867247] Fetched 2346 reviews (2346 fetched in total)\n",
            "2021-05-12 19:53:45,509 [INFO] Base - [id:298867247] Fetched 2346 reviews (2346 fetched in total)\n",
            "2021-05-12 19:53:58,320 [INFO] Base - [id:298867247] Fetched 2387 reviews (2387 fetched in total)\n",
            "2021-05-12 19:54:11,168 [INFO] Base - [id:298867247] Fetched 2407 reviews (2407 fetched in total)\n",
            "2021-05-12 19:54:23,923 [INFO] Base - [id:298867247] Fetched 2407 reviews (2407 fetched in total)\n",
            "2021-05-12 19:54:36,890 [INFO] Base - [id:298867247] Fetched 2462 reviews (2462 fetched in total)\n",
            "2021-05-12 19:54:49,760 [INFO] Base - [id:298867247] Fetched 2470 reviews (2470 fetched in total)\n",
            "2021-05-12 19:55:02,932 [INFO] Base - [id:298867247] Fetched 2470 reviews (2470 fetched in total)\n",
            "2021-05-12 19:55:15,704 [INFO] Base - [id:298867247] Fetched 2525 reviews (2525 fetched in total)\n",
            "2021-05-12 19:55:28,493 [INFO] Base - [id:298867247] Fetched 2525 reviews (2525 fetched in total)\n",
            "2021-05-12 19:55:41,224 [INFO] Base - [id:298867247] Fetched 2531 reviews (2531 fetched in total)\n",
            "2021-05-12 19:55:53,983 [INFO] Base - [id:298867247] Fetched 2585 reviews (2585 fetched in total)\n",
            "2021-05-12 19:56:06,821 [INFO] Base - [id:298867247] Fetched 2585 reviews (2585 fetched in total)\n",
            "2021-05-12 19:56:19,424 [INFO] Base - [id:298867247] Fetched 2607 reviews (2607 fetched in total)\n",
            "2021-05-12 19:56:32,088 [INFO] Base - [id:298867247] Fetched 2645 reviews (2645 fetched in total)\n",
            "2021-05-12 19:56:44,898 [INFO] Base - [id:298867247] Fetched 2645 reviews (2645 fetched in total)\n",
            "2021-05-12 19:56:57,606 [INFO] Base - [id:298867247] Fetched 2675 reviews (2675 fetched in total)\n",
            "2021-05-12 19:57:10,602 [INFO] Base - [id:298867247] Fetched 2685 reviews (2685 fetched in total)\n",
            "2021-05-12 19:57:23,555 [INFO] Base - [id:298867247] Fetched 2691 reviews (2691 fetched in total)\n",
            "2021-05-12 19:57:36,327 [INFO] Base - [id:298867247] Fetched 2751 reviews (2751 fetched in total)\n",
            "2021-05-12 19:57:49,237 [INFO] Base - [id:298867247] Fetched 2752 reviews (2752 fetched in total)\n",
            "2021-05-12 19:58:02,093 [INFO] Base - [id:298867247] Fetched 2759 reviews (2759 fetched in total)\n",
            "2021-05-12 19:58:14,911 [INFO] Base - [id:298867247] Fetched 2815 reviews (2815 fetched in total)\n",
            "2021-05-12 19:58:27,725 [INFO] Base - [id:298867247] Fetched 2815 reviews (2815 fetched in total)\n",
            "2021-05-12 19:58:40,567 [INFO] Base - [id:298867247] Fetched 2821 reviews (2821 fetched in total)\n",
            "2021-05-12 19:58:53,434 [INFO] Base - [id:298867247] Fetched 2873 reviews (2873 fetched in total)\n",
            "2021-05-12 19:59:06,391 [INFO] Base - [id:298867247] Fetched 2873 reviews (2873 fetched in total)\n",
            "2021-05-12 19:59:19,311 [INFO] Base - [id:298867247] Fetched 2884 reviews (2884 fetched in total)\n",
            "2021-05-12 19:59:32,336 [INFO] Base - [id:298867247] Fetched 2941 reviews (2941 fetched in total)\n",
            "2021-05-12 19:59:45,202 [INFO] Base - [id:298867247] Fetched 2941 reviews (2941 fetched in total)\n",
            "2021-05-12 19:59:57,955 [INFO] Base - [id:298867247] Fetched 2960 reviews (2960 fetched in total)\n",
            "2021-05-12 20:00:10,838 [INFO] Base - [id:298867247] Fetched 3001 reviews (3001 fetched in total)\n",
            "2021-05-12 20:00:23,718 [INFO] Base - [id:298867247] Fetched 3001 reviews (3001 fetched in total)\n",
            "2021-05-12 20:00:36,773 [INFO] Base - [id:298867247] Fetched 3031 reviews (3031 fetched in total)\n",
            "2021-05-12 20:00:49,520 [INFO] Base - [id:298867247] Fetched 3061 reviews (3061 fetched in total)\n",
            "2021-05-12 20:01:02,595 [INFO] Base - [id:298867247] Fetched 3061 reviews (3061 fetched in total)\n",
            "2021-05-12 20:01:15,363 [INFO] Base - [id:298867247] Fetched 3090 reviews (3090 fetched in total)\n",
            "2021-05-12 20:01:28,105 [INFO] Base - [id:298867247] Fetched 3116 reviews (3116 fetched in total)\n",
            "2021-05-12 20:01:40,894 [INFO] Base - [id:298867247] Fetched 3116 reviews (3116 fetched in total)\n",
            "2021-05-12 20:01:53,770 [INFO] Base - [id:298867247] Fetched 3151 reviews (3151 fetched in total)\n",
            "2021-05-12 20:02:06,529 [INFO] Base - [id:298867247] Fetched 3177 reviews (3177 fetched in total)\n",
            "2021-05-12 20:02:19,346 [INFO] Base - [id:298867247] Fetched 3177 reviews (3177 fetched in total)\n",
            "2021-05-12 20:02:32,112 [INFO] Base - [id:298867247] Fetched 3224 reviews (3224 fetched in total)\n",
            "2021-05-12 20:02:45,008 [INFO] Base - [id:298867247] Fetched 3239 reviews (3239 fetched in total)\n",
            "2021-05-12 20:02:58,031 [INFO] Base - [id:298867247] Fetched 3239 reviews (3239 fetched in total)\n",
            "2021-05-12 20:03:11,090 [INFO] Base - [id:298867247] Fetched 3269 reviews (3269 fetched in total)\n",
            "2021-05-12 20:03:23,645 [INFO] Base - [id:298867247] Fetched 3303 reviews (3303 fetched in total)\n",
            "2021-05-12 20:03:36,572 [INFO] Base - [id:298867247] Fetched 3303 reviews (3303 fetched in total)\n",
            "2021-05-12 20:03:49,507 [INFO] Base - [id:298867247] Fetched 3332 reviews (3332 fetched in total)\n",
            "2021-05-12 20:04:02,463 [INFO] Base - [id:298867247] Fetched 3382 reviews (3382 fetched in total)\n",
            "2021-05-12 20:04:15,264 [INFO] Base - [id:298867247] Fetched 3382 reviews (3382 fetched in total)\n",
            "2021-05-12 20:04:28,059 [INFO] Base - [id:298867247] Fetched 3382 reviews (3382 fetched in total)\n",
            "2021-05-12 20:04:41,027 [INFO] Base - [id:298867247] Fetched 3441 reviews (3441 fetched in total)\n",
            "2021-05-12 20:04:54,009 [INFO] Base - [id:298867247] Fetched 3451 reviews (3451 fetched in total)\n",
            "2021-05-12 20:05:06,755 [INFO] Base - [id:298867247] Fetched 3451 reviews (3451 fetched in total)\n",
            "2021-05-12 20:05:19,502 [INFO] Base - [id:298867247] Fetched 3498 reviews (3498 fetched in total)\n",
            "2021-05-12 20:05:32,432 [INFO] Base - [id:298867247] Fetched 3498 reviews (3498 fetched in total)\n",
            "2021-05-12 20:05:45,176 [INFO] Base - [id:298867247] Fetched 3531 reviews (3531 fetched in total)\n",
            "2021-05-12 20:05:58,093 [INFO] Base - [id:298867247] Fetched 3549 reviews (3549 fetched in total)\n",
            "2021-05-12 20:06:11,112 [INFO] Base - [id:298867247] Fetched 3549 reviews (3549 fetched in total)\n",
            "2021-05-12 20:06:23,932 [INFO] Base - [id:298867247] Fetched 3575 reviews (3575 fetched in total)\n",
            "2021-05-12 20:06:36,882 [INFO] Base - [id:298867247] Fetched 3610 reviews (3610 fetched in total)\n",
            "2021-05-12 20:06:49,848 [INFO] Base - [id:298867247] Fetched 3610 reviews (3610 fetched in total)\n",
            "2021-05-12 20:07:02,765 [INFO] Base - [id:298867247] Fetched 3647 reviews (3647 fetched in total)\n",
            "2021-05-12 20:07:15,604 [INFO] Base - [id:298867247] Fetched 3663 reviews (3663 fetched in total)\n",
            "2021-05-12 20:07:28,415 [INFO] Base - [id:298867247] Fetched 3663 reviews (3663 fetched in total)\n",
            "2021-05-12 20:07:41,259 [INFO] Base - [id:298867247] Fetched 3709 reviews (3709 fetched in total)\n",
            "2021-05-12 20:07:54,025 [INFO] Base - [id:298867247] Fetched 3728 reviews (3728 fetched in total)\n",
            "2021-05-12 20:08:06,834 [INFO] Base - [id:298867247] Fetched 3728 reviews (3728 fetched in total)\n",
            "2021-05-12 20:08:19,520 [INFO] Base - [id:298867247] Fetched 3775 reviews (3775 fetched in total)\n",
            "2021-05-12 20:08:32,463 [INFO] Base - [id:298867247] Fetched 3791 reviews (3791 fetched in total)\n",
            "2021-05-12 20:08:45,298 [INFO] Base - [id:298867247] Fetched 3791 reviews (3791 fetched in total)\n",
            "2021-05-12 20:08:58,449 [INFO] Base - [id:298867247] Fetched 3845 reviews (3845 fetched in total)\n",
            "2021-05-12 20:09:11,474 [INFO] Base - [id:298867247] Fetched 3862 reviews (3862 fetched in total)\n",
            "2021-05-12 20:09:24,412 [INFO] Base - [id:298867247] Fetched 3871 reviews (3871 fetched in total)\n",
            "2021-05-12 20:09:37,367 [INFO] Base - [id:298867247] Fetched 3909 reviews (3909 fetched in total)\n",
            "2021-05-12 20:09:50,322 [INFO] Base - [id:298867247] Fetched 3909 reviews (3909 fetched in total)\n",
            "2021-05-12 20:10:03,225 [INFO] Base - [id:298867247] Fetched 3963 reviews (3963 fetched in total)\n",
            "2021-05-12 20:10:16,202 [INFO] Base - [id:298867247] Fetched 3963 reviews (3963 fetched in total)\n",
            "2021-05-12 20:10:29,091 [INFO] Base - [id:298867247] Fetched 3994 reviews (3994 fetched in total)\n",
            "2021-05-12 20:10:42,096 [INFO] Base - [id:298867247] Fetched 4024 reviews (4024 fetched in total)\n",
            "2021-05-12 20:10:55,202 [INFO] Base - [id:298867247] Fetched 4024 reviews (4024 fetched in total)\n",
            "2021-05-12 20:11:08,159 [INFO] Base - [id:298867247] Fetched 4066 reviews (4066 fetched in total)\n",
            "2021-05-12 20:11:20,976 [INFO] Base - [id:298867247] Fetched 4076 reviews (4076 fetched in total)\n",
            "2021-05-12 20:11:33,824 [INFO] Base - [id:298867247] Fetched 4076 reviews (4076 fetched in total)\n",
            "2021-05-12 20:11:46,859 [INFO] Base - [id:298867247] Fetched 4128 reviews (4128 fetched in total)\n",
            "2021-05-12 20:11:59,720 [INFO] Base - [id:298867247] Fetched 4135 reviews (4135 fetched in total)\n",
            "2021-05-12 20:12:12,602 [INFO] Base - [id:298867247] Fetched 4137 reviews (4137 fetched in total)\n",
            "2021-05-12 20:12:25,368 [INFO] Base - [id:298867247] Fetched 4192 reviews (4192 fetched in total)\n",
            "2021-05-12 20:12:38,280 [INFO] Base - [id:298867247] Fetched 4192 reviews (4192 fetched in total)\n",
            "2021-05-12 20:12:51,636 [INFO] Base - [id:298867247] Fetched 4226 reviews (4226 fetched in total)\n",
            "2021-05-12 20:13:04,588 [INFO] Base - [id:298867247] Fetched 4253 reviews (4253 fetched in total)\n",
            "2021-05-12 20:13:17,668 [INFO] Base - [id:298867247] Fetched 4253 reviews (4253 fetched in total)\n",
            "2021-05-12 20:13:30,756 [INFO] Base - [id:298867247] Fetched 4275 reviews (4275 fetched in total)\n",
            "2021-05-12 20:13:43,815 [INFO] Base - [id:298867247] Fetched 4311 reviews (4311 fetched in total)\n",
            "2021-05-12 20:13:56,820 [INFO] Base - [id:298867247] Fetched 4311 reviews (4311 fetched in total)\n",
            "2021-05-12 20:14:09,893 [INFO] Base - [id:298867247] Fetched 4358 reviews (4358 fetched in total)\n",
            "2021-05-12 20:14:22,666 [INFO] Base - [id:298867247] Fetched 4358 reviews (4358 fetched in total)\n",
            "2021-05-12 20:14:35,745 [INFO] Base - [id:298867247] Fetched 4358 reviews (4358 fetched in total)\n",
            "2021-05-12 20:14:48,687 [INFO] Base - [id:298867247] Fetched 4413 reviews (4413 fetched in total)\n",
            "2021-05-12 20:15:01,919 [INFO] Base - [id:298867247] Fetched 4420 reviews (4420 fetched in total)\n",
            "2021-05-12 20:15:14,882 [INFO] Base - [id:298867247] Fetched 4431 reviews (4431 fetched in total)\n",
            "2021-05-12 20:15:27,987 [INFO] Base - [id:298867247] Fetched 4468 reviews (4468 fetched in total)\n",
            "2021-05-12 20:15:40,904 [INFO] Base - [id:298867247] Fetched 4468 reviews (4468 fetched in total)\n",
            "2021-05-12 20:15:53,774 [INFO] Base - [id:298867247] Fetched 4508 reviews (4508 fetched in total)\n",
            "2021-05-12 20:16:06,936 [INFO] Base - [id:298867247] Fetched 4521 reviews (4521 fetched in total)\n",
            "2021-05-12 20:16:19,859 [INFO] Base - [id:298867247] Fetched 4540 reviews (4540 fetched in total)\n",
            "2021-05-12 20:16:32,924 [INFO] Base - [id:298867247] Fetched 4561 reviews (4561 fetched in total)\n",
            "2021-05-12 20:16:45,912 [INFO] Base - [id:298867247] Fetched 4561 reviews (4561 fetched in total)\n",
            "2021-05-12 20:16:58,751 [INFO] Base - [id:298867247] Fetched 4607 reviews (4607 fetched in total)\n",
            "2021-05-12 20:17:11,975 [INFO] Base - [id:298867247] Fetched 4607 reviews (4607 fetched in total)\n",
            "2021-05-12 20:17:24,784 [INFO] Base - [id:298867247] Fetched 4657 reviews (4657 fetched in total)\n",
            "2021-05-12 20:17:37,773 [INFO] Base - [id:298867247] Fetched 4667 reviews (4667 fetched in total)\n",
            "2021-05-12 20:17:50,851 [INFO] Base - [id:298867247] Fetched 4684 reviews (4684 fetched in total)\n",
            "2021-05-12 20:18:03,896 [INFO] Base - [id:298867247] Fetched 4709 reviews (4709 fetched in total)\n",
            "2021-05-12 20:18:17,084 [INFO] Base - [id:298867247] Fetched 4709 reviews (4709 fetched in total)\n",
            "2021-05-12 20:18:30,140 [INFO] Base - [id:298867247] Fetched 4754 reviews (4754 fetched in total)\n",
            "2021-05-12 20:18:43,150 [INFO] Base - [id:298867247] Fetched 4757 reviews (4757 fetched in total)\n",
            "2021-05-12 20:18:55,830 [INFO] Base - [id:298867247] Fetched 4777 reviews (4777 fetched in total)\n",
            "2021-05-12 20:19:08,617 [INFO] Base - [id:298867247] Fetched 4805 reviews (4805 fetched in total)\n",
            "2021-05-12 20:19:21,661 [INFO] Base - [id:298867247] Fetched 4810 reviews (4810 fetched in total)\n",
            "2021-05-12 20:19:34,190 [INFO] Base - [id:298867247] Fetched 4854 reviews (4854 fetched in total)\n",
            "2021-05-12 20:19:46,674 [INFO] Base - [id:298867247] Fetched 4854 reviews (4854 fetched in total)\n",
            "2021-05-12 20:19:59,247 [INFO] Base - [id:298867247] Fetched 4894 reviews (4894 fetched in total)\n",
            "2021-05-12 20:20:12,277 [INFO] Base - [id:298867247] Fetched 4894 reviews (4894 fetched in total)\n",
            "2021-05-12 20:20:25,389 [INFO] Base - [id:298867247] Fetched 4934 reviews (4934 fetched in total)\n",
            "2021-05-12 20:20:38,124 [INFO] Base - [id:298867247] Fetched 4934 reviews (4934 fetched in total)\n",
            "2021-05-12 20:20:51,128 [INFO] Base - [id:298867247] Fetched 4961 reviews (4961 fetched in total)\n",
            "2021-05-12 20:21:03,935 [INFO] Base - [id:298867247] Fetched 4992 reviews (4992 fetched in total)\n",
            "2021-05-12 20:21:16,710 [INFO] Base - [id:298867247] Fetched 5002 reviews (5002 fetched in total)\n",
            "2021-05-12 20:21:29,539 [INFO] Base - [id:298867247] Fetched 5040 reviews (5040 fetched in total)\n",
            "2021-05-12 20:21:42,377 [INFO] Base - [id:298867247] Fetched 5040 reviews (5040 fetched in total)\n",
            "2021-05-12 20:21:55,366 [INFO] Base - [id:298867247] Fetched 5086 reviews (5086 fetched in total)\n",
            "2021-05-12 20:22:08,265 [INFO] Base - [id:298867247] Fetched 5086 reviews (5086 fetched in total)\n",
            "2021-05-12 20:22:21,245 [INFO] Base - [id:298867247] Fetched 5118 reviews (5118 fetched in total)\n",
            "2021-05-12 20:22:34,235 [INFO] Base - [id:298867247] Fetched 5118 reviews (5118 fetched in total)\n",
            "2021-05-12 20:22:47,101 [INFO] Base - [id:298867247] Fetched 5158 reviews (5158 fetched in total)\n",
            "2021-05-12 20:22:59,992 [INFO] Base - [id:298867247] Fetched 5158 reviews (5158 fetched in total)\n",
            "2021-05-12 20:23:12,811 [INFO] Base - [id:298867247] Fetched 5195 reviews (5195 fetched in total)\n",
            "2021-05-12 20:23:25,621 [INFO] Base - [id:298867247] Fetched 5196 reviews (5196 fetched in total)\n",
            "2021-05-12 20:23:38,475 [INFO] Base - [id:298867247] Fetched 5228 reviews (5228 fetched in total)\n",
            "2021-05-12 20:23:51,304 [INFO] Base - [id:298867247] Fetched 5228 reviews (5228 fetched in total)\n",
            "2021-05-12 20:24:04,112 [INFO] Base - [id:298867247] Fetched 5261 reviews (5261 fetched in total)\n",
            "2021-05-12 20:24:17,006 [INFO] Base - [id:298867247] Fetched 5276 reviews (5276 fetched in total)\n",
            "2021-05-12 20:24:29,859 [INFO] Base - [id:298867247] Fetched 5303 reviews (5303 fetched in total)\n",
            "2021-05-12 20:24:42,661 [INFO] Base - [id:298867247] Fetched 5338 reviews (5338 fetched in total)\n",
            "2021-05-12 20:24:55,498 [INFO] Base - [id:298867247] Fetched 5338 reviews (5338 fetched in total)\n",
            "2021-05-12 20:25:08,330 [INFO] Base - [id:298867247] Fetched 5373 reviews (5373 fetched in total)\n",
            "2021-05-12 20:25:21,204 [INFO] Base - [id:298867247] Fetched 5373 reviews (5373 fetched in total)\n",
            "2021-05-12 20:25:34,035 [INFO] Base - [id:298867247] Fetched 5411 reviews (5411 fetched in total)\n",
            "2021-05-12 20:25:46,638 [INFO] Base - [id:298867247] Fetched 5411 reviews (5411 fetched in total)\n",
            "2021-05-12 20:25:59,830 [INFO] Base - [id:298867247] Fetched 5455 reviews (5455 fetched in total)\n",
            "2021-05-12 20:26:12,704 [INFO] Base - [id:298867247] Fetched 5476 reviews (5476 fetched in total)\n",
            "2021-05-12 20:26:25,810 [INFO] Base - [id:298867247] Fetched 5496 reviews (5496 fetched in total)\n",
            "2021-05-12 20:26:38,817 [INFO] Base - [id:298867247] Fetched 5527 reviews (5527 fetched in total)\n",
            "2021-05-12 20:26:51,836 [INFO] Base - [id:298867247] Fetched 5536 reviews (5536 fetched in total)\n",
            "2021-05-12 20:27:04,682 [INFO] Base - [id:298867247] Fetched 5563 reviews (5563 fetched in total)\n",
            "2021-05-12 20:27:17,576 [INFO] Base - [id:298867247] Fetched 5601 reviews (5601 fetched in total)\n",
            "2021-05-12 20:27:30,220 [INFO] Base - [id:298867247] Fetched 5613 reviews (5613 fetched in total)\n",
            "2021-05-12 20:27:43,320 [INFO] Base - [id:298867247] Fetched 5632 reviews (5632 fetched in total)\n",
            "2021-05-12 20:27:56,248 [INFO] Base - [id:298867247] Fetched 5673 reviews (5673 fetched in total)\n",
            "2021-05-12 20:28:09,236 [INFO] Base - [id:298867247] Fetched 5692 reviews (5692 fetched in total)\n",
            "2021-05-12 20:28:22,166 [INFO] Base - [id:298867247] Fetched 5702 reviews (5702 fetched in total)\n",
            "2021-05-12 20:28:35,109 [INFO] Base - [id:298867247] Fetched 5726 reviews (5726 fetched in total)\n",
            "2021-05-12 20:28:48,200 [INFO] Base - [id:298867247] Fetched 5751 reviews (5751 fetched in total)\n",
            "2021-05-12 20:29:01,239 [INFO] Base - [id:298867247] Fetched 5787 reviews (5787 fetched in total)\n",
            "2021-05-12 20:29:14,294 [INFO] Base - [id:298867247] Fetched 5809 reviews (5809 fetched in total)\n",
            "2021-05-12 20:29:27,340 [INFO] Base - [id:298867247] Fetched 5826 reviews (5826 fetched in total)\n",
            "2021-05-12 20:29:40,390 [INFO] Base - [id:298867247] Fetched 5852 reviews (5852 fetched in total)\n",
            "2021-05-12 20:29:53,480 [INFO] Base - [id:298867247] Fetched 5879 reviews (5879 fetched in total)\n",
            "2021-05-12 20:30:06,530 [INFO] Base - [id:298867247] Fetched 5901 reviews (5901 fetched in total)\n",
            "2021-05-12 20:30:19,580 [INFO] Base - [id:298867247] Fetched 5925 reviews (5925 fetched in total)\n",
            "2021-05-12 20:30:32,788 [INFO] Base - [id:298867247] Fetched 5953 reviews (5953 fetched in total)\n",
            "2021-05-12 20:30:45,761 [INFO] Base - [id:298867247] Fetched 5976 reviews (5976 fetched in total)\n",
            "2021-05-12 20:30:59,044 [INFO] Base - [id:298867247] Fetched 6004 reviews (6004 fetched in total)\n",
            "2021-05-12 20:31:12,767 [INFO] Base - [id:298867247] Fetched 6032 reviews (6032 fetched in total)\n",
            "2021-05-12 20:31:25,807 [INFO] Base - [id:298867247] Fetched 6059 reviews (6059 fetched in total)\n",
            "2021-05-12 20:31:38,819 [INFO] Base - [id:298867247] Fetched 6083 reviews (6083 fetched in total)\n",
            "2021-05-12 20:31:51,626 [INFO] Base - [id:298867247] Fetched 6109 reviews (6109 fetched in total)\n",
            "2021-05-12 20:32:04,341 [INFO] Base - [id:298867247] Fetched 6138 reviews (6138 fetched in total)\n",
            "2021-05-12 20:32:17,344 [INFO] Base - [id:298867247] Fetched 6159 reviews (6159 fetched in total)\n",
            "2021-05-12 20:32:30,180 [INFO] Base - [id:298867247] Fetched 6185 reviews (6185 fetched in total)\n",
            "2021-05-12 20:32:42,935 [INFO] Base - [id:298867247] Fetched 6216 reviews (6216 fetched in total)\n",
            "2021-05-12 20:32:56,251 [INFO] Base - [id:298867247] Fetched 6238 reviews (6238 fetched in total)\n",
            "2021-05-12 20:33:09,233 [INFO] Base - [id:298867247] Fetched 6267 reviews (6267 fetched in total)\n",
            "2021-05-12 20:33:22,104 [INFO] Base - [id:298867247] Fetched 6287 reviews (6287 fetched in total)\n",
            "2021-05-12 20:33:35,149 [INFO] Base - [id:298867247] Fetched 6312 reviews (6312 fetched in total)\n",
            "2021-05-12 20:33:47,998 [INFO] Base - [id:298867247] Fetched 6336 reviews (6336 fetched in total)\n",
            "2021-05-12 20:34:00,975 [INFO] Base - [id:298867247] Fetched 6364 reviews (6364 fetched in total)\n",
            "2021-05-12 20:34:13,900 [INFO] Base - [id:298867247] Fetched 6389 reviews (6389 fetched in total)\n",
            "2021-05-12 20:34:26,906 [INFO] Base - [id:298867247] Fetched 6415 reviews (6415 fetched in total)\n",
            "2021-05-12 20:34:39,932 [INFO] Base - [id:298867247] Fetched 6446 reviews (6446 fetched in total)\n",
            "2021-05-12 20:34:52,971 [INFO] Base - [id:298867247] Fetched 6475 reviews (6475 fetched in total)\n",
            "2021-05-12 20:35:05,864 [INFO] Base - [id:298867247] Fetched 6497 reviews (6497 fetched in total)\n",
            "2021-05-12 20:35:18,972 [INFO] Base - [id:298867247] Fetched 6510 reviews (6510 fetched in total)\n",
            "2021-05-12 20:35:32,064 [INFO] Base - [id:298867247] Fetched 6510 reviews (6510 fetched in total)\n",
            "2021-05-12 20:35:45,212 [INFO] Base - [id:298867247] Fetched 6510 reviews (6510 fetched in total)\n",
            "2021-05-12 20:35:58,031 [INFO] Base - [id:298867247] Fetched 6510 reviews (6510 fetched in total)\n",
            "2021-05-12 20:36:10,979 [INFO] Base - [id:298867247] Fetched 6510 reviews (6510 fetched in total)\n",
            "2021-05-12 20:36:23,879 [INFO] Base - [id:298867247] Fetched 6510 reviews (6510 fetched in total)\n",
            "2021-05-12 20:36:36,867 [INFO] Base - [id:298867247] Fetched 6510 reviews (6510 fetched in total)\n",
            "2021-05-12 20:36:49,774 [INFO] Base - [id:298867247] Fetched 6510 reviews (6510 fetched in total)\n",
            "2021-05-12 20:37:02,494 [INFO] Base - [id:298867247] Fetched 6510 reviews (6510 fetched in total)\n",
            "2021-05-12 20:37:15,259 [INFO] Base - [id:298867247] Fetched 6510 reviews (6510 fetched in total)\n",
            "2021-05-12 20:37:28,082 [INFO] Base - [id:298867247] Fetched 6510 reviews (6510 fetched in total)\n",
            "2021-05-12 20:37:40,963 [INFO] Base - [id:298867247] Fetched 6510 reviews (6510 fetched in total)\n",
            "2021-05-12 20:37:53,835 [INFO] Base - [id:298867247] Fetched 6510 reviews (6510 fetched in total)\n",
            "2021-05-12 20:38:06,819 [INFO] Base - [id:298867247] Fetched 6510 reviews (6510 fetched in total)\n",
            "2021-05-12 20:38:19,668 [INFO] Base - [id:298867247] Fetched 6510 reviews (6510 fetched in total)\n",
            "2021-05-12 20:38:32,539 [INFO] Base - [id:298867247] Fetched 6510 reviews (6510 fetched in total)\n",
            "2021-05-12 20:38:45,506 [INFO] Base - [id:298867247] Fetched 6510 reviews (6510 fetched in total)\n",
            "2021-05-12 20:38:58,434 [INFO] Base - [id:298867247] Fetched 6510 reviews (6510 fetched in total)\n",
            "2021-05-12 20:39:11,283 [INFO] Base - [id:298867247] Fetched 6510 reviews (6510 fetched in total)\n",
            "2021-05-12 20:39:24,144 [INFO] Base - [id:298867247] Fetched 6510 reviews (6510 fetched in total)\n",
            "2021-05-12 20:39:37,160 [INFO] Base - [id:298867247] Fetched 6510 reviews (6510 fetched in total)\n",
            "2021-05-12 20:39:50,173 [INFO] Base - [id:298867247] Fetched 6510 reviews (6510 fetched in total)\n",
            "2021-05-12 20:40:03,026 [INFO] Base - [id:298867247] Fetched 6510 reviews (6510 fetched in total)\n",
            "2021-05-12 20:40:15,962 [INFO] Base - [id:298867247] Fetched 6510 reviews (6510 fetched in total)\n",
            "2021-05-12 20:40:28,622 [INFO] Base - [id:298867247] Fetched 6510 reviews (6510 fetched in total)\n",
            "2021-05-12 20:40:41,819 [INFO] Base - [id:298867247] Fetched 6510 reviews (6510 fetched in total)\n",
            "2021-05-12 20:40:54,816 [INFO] Base - [id:298867247] Fetched 6510 reviews (6510 fetched in total)\n",
            "2021-05-12 20:41:07,956 [INFO] Base - [id:298867247] Fetched 6510 reviews (6510 fetched in total)\n",
            "2021-05-12 20:41:21,041 [INFO] Base - [id:298867247] Fetched 6510 reviews (6510 fetched in total)\n",
            "2021-05-12 20:41:34,061 [INFO] Base - [id:298867247] Fetched 6510 reviews (6510 fetched in total)\n",
            "2021-05-12 20:41:46,706 [INFO] Base - [id:298867247] Fetched 6510 reviews (6510 fetched in total)\n",
            "2021-05-12 20:41:59,745 [INFO] Base - [id:298867247] Fetched 6510 reviews (6510 fetched in total)\n",
            "2021-05-12 20:42:12,987 [INFO] Base - [id:298867247] Fetched 6510 reviews (6510 fetched in total)\n",
            "2021-05-12 20:42:25,996 [INFO] Base - [id:298867247] Fetched 6510 reviews (6510 fetched in total)\n",
            "2021-05-12 20:42:39,011 [INFO] Base - [id:298867247] Fetched 6510 reviews (6510 fetched in total)\n",
            "2021-05-12 20:42:52,214 [INFO] Base - [id:298867247] Fetched 6510 reviews (6510 fetched in total)\n",
            "2021-05-12 20:43:05,259 [INFO] Base - [id:298867247] Fetched 6510 reviews (6510 fetched in total)\n",
            "2021-05-12 20:43:18,410 [INFO] Base - [id:298867247] Fetched 6510 reviews (6510 fetched in total)\n",
            "2021-05-12 20:43:31,298 [INFO] Base - [id:298867247] Fetched 6510 reviews (6510 fetched in total)\n",
            "2021-05-12 20:43:44,294 [INFO] Base - [id:298867247] Fetched 6510 reviews (6510 fetched in total)\n",
            "2021-05-12 20:43:57,632 [INFO] Base - [id:298867247] Fetched 6510 reviews (6510 fetched in total)\n",
            "2021-05-12 20:44:10,652 [INFO] Base - [id:298867247] Fetched 6510 reviews (6510 fetched in total)\n",
            "2021-05-12 20:44:23,773 [INFO] Base - [id:298867247] Fetched 6510 reviews (6510 fetched in total)\n",
            "2021-05-12 20:44:36,800 [INFO] Base - [id:298867247] Fetched 6510 reviews (6510 fetched in total)\n",
            "2021-05-12 20:44:49,986 [INFO] Base - [id:298867247] Fetched 6510 reviews (6510 fetched in total)\n",
            "2021-05-12 20:45:02,915 [INFO] Base - [id:298867247] Fetched 6510 reviews (6510 fetched in total)\n",
            "2021-05-12 20:45:15,922 [INFO] Base - [id:298867247] Fetched 6510 reviews (6510 fetched in total)\n",
            "2021-05-12 20:45:28,428 [INFO] Base - [id:298867247] Fetched 6510 reviews (6510 fetched in total)\n",
            "2021-05-12 20:45:41,519 [INFO] Base - [id:298867247] Fetched 6510 reviews (6510 fetched in total)\n",
            "2021-05-12 20:45:54,533 [INFO] Base - [id:298867247] Fetched 6510 reviews (6510 fetched in total)\n",
            "2021-05-12 20:46:07,383 [INFO] Base - [id:298867247] Fetched 6510 reviews (6510 fetched in total)\n",
            "2021-05-12 20:46:20,259 [INFO] Base - [id:298867247] Fetched 6510 reviews (6510 fetched in total)\n",
            "2021-05-12 20:46:33,273 [INFO] Base - [id:298867247] Fetched 6510 reviews (6510 fetched in total)\n",
            "2021-05-12 20:46:46,352 [INFO] Base - [id:298867247] Fetched 6510 reviews (6510 fetched in total)\n",
            "2021-05-12 20:46:59,418 [INFO] Base - [id:298867247] Fetched 6510 reviews (6510 fetched in total)\n",
            "2021-05-12 20:47:12,458 [INFO] Base - [id:298867247] Fetched 6510 reviews (6510 fetched in total)\n",
            "2021-05-12 20:47:25,144 [INFO] Base - [id:298867247] Fetched 6510 reviews (6510 fetched in total)\n",
            "2021-05-12 20:47:38,159 [INFO] Base - [id:298867247] Fetched 6510 reviews (6510 fetched in total)\n",
            "2021-05-12 20:47:51,333 [INFO] Base - [id:298867247] Fetched 6510 reviews (6510 fetched in total)\n",
            "2021-05-12 20:48:04,450 [INFO] Base - [id:298867247] Fetched 6510 reviews (6510 fetched in total)\n",
            "2021-05-12 20:48:17,377 [INFO] Base - [id:298867247] Fetched 6510 reviews (6510 fetched in total)\n",
            "2021-05-12 20:48:30,059 [INFO] Base - [id:298867247] Fetched 6510 reviews (6510 fetched in total)\n",
            "2021-05-12 20:48:42,874 [INFO] Base - [id:298867247] Fetched 6510 reviews (6510 fetched in total)\n",
            "2021-05-12 20:48:55,749 [INFO] Base - [id:298867247] Fetched 6510 reviews (6510 fetched in total)\n",
            "2021-05-12 20:49:08,789 [INFO] Base - [id:298867247] Fetched 6510 reviews (6510 fetched in total)\n",
            "2021-05-12 20:49:21,622 [INFO] Base - [id:298867247] Fetched 6510 reviews (6510 fetched in total)\n",
            "2021-05-12 20:49:34,546 [INFO] Base - [id:298867247] Fetched 6510 reviews (6510 fetched in total)\n",
            "2021-05-12 20:49:47,533 [INFO] Base - [id:298867247] Fetched 6510 reviews (6510 fetched in total)\n",
            "2021-05-12 20:50:00,487 [INFO] Base - [id:298867247] Fetched 6510 reviews (6510 fetched in total)\n",
            "2021-05-12 20:50:13,432 [INFO] Base - [id:298867247] Fetched 6510 reviews (6510 fetched in total)\n",
            "2021-05-12 20:50:26,648 [INFO] Base - [id:298867247] Fetched 6510 reviews (6510 fetched in total)\n",
            "2021-05-12 20:50:39,683 [INFO] Base - [id:298867247] Fetched 6510 reviews (6510 fetched in total)\n",
            "2021-05-12 20:50:52,851 [INFO] Base - [id:298867247] Fetched 6510 reviews (6510 fetched in total)\n",
            "2021-05-12 20:51:05,639 [INFO] Base - [id:298867247] Fetched 6510 reviews (6510 fetched in total)\n",
            "2021-05-12 20:51:18,585 [INFO] Base - [id:298867247] Fetched 6510 reviews (6510 fetched in total)\n",
            "2021-05-12 20:51:31,538 [INFO] Base - [id:298867247] Fetched 6510 reviews (6510 fetched in total)\n",
            "2021-05-12 20:51:44,543 [INFO] Base - [id:298867247] Fetched 6510 reviews (6510 fetched in total)\n",
            "2021-05-12 20:51:57,747 [INFO] Base - [id:298867247] Fetched 6510 reviews (6510 fetched in total)\n",
            "2021-05-12 20:52:10,930 [INFO] Base - [id:298867247] Fetched 6510 reviews (6510 fetched in total)\n",
            "2021-05-12 20:52:23,888 [INFO] Base - [id:298867247] Fetched 6510 reviews (6510 fetched in total)\n",
            "2021-05-12 20:52:36,615 [INFO] Base - [id:298867247] Fetched 6510 reviews (6510 fetched in total)\n",
            "2021-05-12 20:52:49,684 [INFO] Base - [id:298867247] Fetched 6510 reviews (6510 fetched in total)\n",
            "2021-05-12 20:53:03,150 [INFO] Base - [id:298867247] Fetched 6510 reviews (6510 fetched in total)\n",
            "2021-05-12 20:53:16,255 [INFO] Base - [id:298867247] Fetched 6510 reviews (6510 fetched in total)\n",
            "2021-05-12 20:53:28,970 [INFO] Base - [id:298867247] Fetched 6510 reviews (6510 fetched in total)\n",
            "2021-05-12 20:53:42,024 [INFO] Base - [id:298867247] Fetched 6510 reviews (6510 fetched in total)\n",
            "2021-05-12 20:53:54,789 [INFO] Base - [id:298867247] Fetched 6510 reviews (6510 fetched in total)\n",
            "2021-05-12 20:54:08,019 [INFO] Base - [id:298867247] Fetched 6510 reviews (6510 fetched in total)\n",
            "2021-05-12 20:54:21,387 [INFO] Base - [id:298867247] Fetched 6510 reviews (6510 fetched in total)\n",
            "2021-05-12 20:54:34,452 [INFO] Base - [id:298867247] Fetched 6510 reviews (6510 fetched in total)\n",
            "2021-05-12 20:54:47,711 [INFO] Base - [id:298867247] Fetched 6510 reviews (6510 fetched in total)\n",
            "2021-05-12 20:55:00,386 [INFO] Base - [id:298867247] Fetched 6510 reviews (6510 fetched in total)\n",
            "2021-05-12 20:55:13,695 [INFO] Base - [id:298867247] Fetched 6510 reviews (6510 fetched in total)\n",
            "2021-05-12 20:55:26,588 [INFO] Base - [id:298867247] Fetched 6510 reviews (6510 fetched in total)\n",
            "2021-05-12 20:55:39,477 [INFO] Base - [id:298867247] Fetched 6510 reviews (6510 fetched in total)\n",
            "2021-05-12 20:55:52,358 [INFO] Base - [id:298867247] Fetched 6510 reviews (6510 fetched in total)\n",
            "2021-05-12 20:56:05,281 [INFO] Base - [id:298867247] Fetched 6510 reviews (6510 fetched in total)\n",
            "2021-05-12 20:56:18,610 [INFO] Base - [id:298867247] Fetched 6510 reviews (6510 fetched in total)\n",
            "2021-05-12 20:56:32,250 [INFO] Base - [id:298867247] Fetched 6510 reviews (6510 fetched in total)\n",
            "2021-05-12 20:56:45,259 [INFO] Base - [id:298867247] Fetched 6510 reviews (6510 fetched in total)\n",
            "2021-05-12 20:56:58,461 [INFO] Base - [id:298867247] Fetched 6510 reviews (6510 fetched in total)\n",
            "2021-05-12 20:57:11,358 [INFO] Base - [id:298867247] Fetched 6510 reviews (6510 fetched in total)\n",
            "2021-05-12 20:57:24,268 [INFO] Base - [id:298867247] Fetched 6510 reviews (6510 fetched in total)\n",
            "2021-05-12 20:57:37,298 [INFO] Base - [id:298867247] Fetched 6510 reviews (6510 fetched in total)\n",
            "2021-05-12 20:57:50,279 [INFO] Base - [id:298867247] Fetched 6510 reviews (6510 fetched in total)\n",
            "2021-05-12 20:58:03,449 [INFO] Base - [id:298867247] Fetched 6510 reviews (6510 fetched in total)\n",
            "2021-05-12 20:58:16,574 [INFO] Base - [id:298867247] Fetched 6510 reviews (6510 fetched in total)\n",
            "2021-05-12 20:58:29,502 [INFO] Base - [id:298867247] Fetched 6510 reviews (6510 fetched in total)\n",
            "2021-05-12 20:58:42,561 [INFO] Base - [id:298867247] Fetched 6510 reviews (6510 fetched in total)\n",
            "2021-05-12 20:58:55,683 [INFO] Base - [id:298867247] Fetched 6510 reviews (6510 fetched in total)\n",
            "2021-05-12 20:59:08,760 [INFO] Base - [id:298867247] Fetched 6510 reviews (6510 fetched in total)\n",
            "2021-05-12 20:59:21,449 [INFO] Base - [id:298867247] Fetched 6510 reviews (6510 fetched in total)\n",
            "2021-05-12 20:59:34,324 [INFO] Base - [id:298867247] Fetched 6510 reviews (6510 fetched in total)\n",
            "2021-05-12 20:59:47,250 [INFO] Base - [id:298867247] Fetched 6510 reviews (6510 fetched in total)\n",
            "2021-05-12 21:00:00,100 [INFO] Base - [id:298867247] Fetched 6510 reviews (6510 fetched in total)\n",
            "2021-05-12 21:00:13,197 [INFO] Base - [id:298867247] Fetched 6510 reviews (6510 fetched in total)\n",
            "2021-05-12 21:00:23,266 [INFO] Base - [id:298867247] Fetched 6510 reviews (6510 fetched in total)\n",
            "2021-05-12 21:00:36,292 [INFO] Base - [id:298867247] Fetched 6510 reviews (6510 fetched in total)\n",
            "2021-05-12 21:00:49,246 [INFO] Base - [id:298867247] Fetched 6510 reviews (6510 fetched in total)\n",
            "2021-05-12 21:01:02,198 [INFO] Base - [id:298867247] Fetched 6510 reviews (6510 fetched in total)\n",
            "2021-05-12 21:01:15,121 [INFO] Base - [id:298867247] Fetched 6510 reviews (6510 fetched in total)\n",
            "2021-05-12 21:01:28,151 [INFO] Base - [id:298867247] Fetched 6510 reviews (6510 fetched in total)\n",
            "2021-05-12 21:01:41,043 [INFO] Base - [id:298867247] Fetched 6510 reviews (6510 fetched in total)\n",
            "2021-05-12 21:01:54,397 [INFO] Base - [id:298867247] Fetched 6510 reviews (6510 fetched in total)\n",
            "2021-05-12 21:02:07,398 [INFO] Base - [id:298867247] Fetched 6510 reviews (6510 fetched in total)\n",
            "2021-05-12 21:02:20,289 [INFO] Base - [id:298867247] Fetched 6510 reviews (6510 fetched in total)\n",
            "2021-05-12 21:02:33,449 [INFO] Base - [id:298867247] Fetched 6510 reviews (6510 fetched in total)\n",
            "2021-05-12 21:02:46,526 [INFO] Base - [id:298867247] Fetched 6510 reviews (6510 fetched in total)\n",
            "2021-05-12 21:02:59,504 [INFO] Base - [id:298867247] Fetched 6510 reviews (6510 fetched in total)\n",
            "2021-05-12 21:03:12,381 [INFO] Base - [id:298867247] Fetched 6510 reviews (6510 fetched in total)\n",
            "2021-05-12 21:03:25,976 [INFO] Base - [id:298867247] Fetched 6510 reviews (6510 fetched in total)\n",
            "2021-05-12 21:03:39,041 [INFO] Base - [id:298867247] Fetched 6510 reviews (6510 fetched in total)\n",
            "2021-05-12 21:03:52,090 [INFO] Base - [id:298867247] Fetched 6510 reviews (6510 fetched in total)\n",
            "2021-05-12 21:04:05,237 [INFO] Base - [id:298867247] Fetched 6510 reviews (6510 fetched in total)\n",
            "2021-05-12 21:04:17,984 [INFO] Base - [id:298867247] Fetched 6510 reviews (6510 fetched in total)\n",
            "2021-05-12 21:04:30,867 [INFO] Base - [id:298867247] Fetched 6510 reviews (6510 fetched in total)\n",
            "2021-05-12 21:04:43,894 [INFO] Base - [id:298867247] Fetched 6510 reviews (6510 fetched in total)\n",
            "2021-05-12 21:04:56,494 [INFO] Base - [id:298867247] Fetched 6510 reviews (6510 fetched in total)\n",
            "2021-05-12 21:05:09,559 [INFO] Base - [id:298867247] Fetched 6510 reviews (6510 fetched in total)\n",
            "2021-05-12 21:05:22,540 [INFO] Base - [id:298867247] Fetched 6510 reviews (6510 fetched in total)\n",
            "2021-05-12 21:05:35,395 [INFO] Base - [id:298867247] Fetched 6510 reviews (6510 fetched in total)\n",
            "2021-05-12 21:05:48,289 [INFO] Base - [id:298867247] Fetched 6510 reviews (6510 fetched in total)\n",
            "2021-05-12 21:06:01,173 [INFO] Base - [id:298867247] Fetched 6510 reviews (6510 fetched in total)\n",
            "2021-05-12 21:06:14,026 [INFO] Base - [id:298867247] Fetched 6510 reviews (6510 fetched in total)\n",
            "2021-05-12 21:06:26,903 [INFO] Base - [id:298867247] Fetched 6510 reviews (6510 fetched in total)\n",
            "2021-05-12 21:06:39,813 [INFO] Base - [id:298867247] Fetched 6510 reviews (6510 fetched in total)\n",
            "2021-05-12 21:06:52,795 [INFO] Base - [id:298867247] Fetched 6510 reviews (6510 fetched in total)\n",
            "2021-05-12 21:07:05,987 [INFO] Base - [id:298867247] Fetched 6510 reviews (6510 fetched in total)\n",
            "2021-05-12 21:07:19,035 [INFO] Base - [id:298867247] Fetched 6510 reviews (6510 fetched in total)\n",
            "2021-05-12 21:07:32,048 [INFO] Base - [id:298867247] Fetched 6510 reviews (6510 fetched in total)\n",
            "2021-05-12 21:07:45,123 [INFO] Base - [id:298867247] Fetched 6510 reviews (6510 fetched in total)\n",
            "2021-05-12 21:07:58,167 [INFO] Base - [id:298867247] Fetched 6510 reviews (6510 fetched in total)\n",
            "2021-05-12 21:08:11,245 [INFO] Base - [id:298867247] Fetched 6510 reviews (6510 fetched in total)\n",
            "2021-05-12 21:08:24,165 [INFO] Base - [id:298867247] Fetched 6510 reviews (6510 fetched in total)\n",
            "2021-05-12 21:08:37,142 [INFO] Base - [id:298867247] Fetched 6510 reviews (6510 fetched in total)\n",
            "2021-05-12 21:08:50,217 [INFO] Base - [id:298867247] Fetched 6510 reviews (6510 fetched in total)\n",
            "2021-05-12 21:09:03,544 [INFO] Base - [id:298867247] Fetched 6510 reviews (6510 fetched in total)\n",
            "2021-05-12 21:09:16,917 [INFO] Base - [id:298867247] Fetched 6510 reviews (6510 fetched in total)\n",
            "2021-05-12 21:09:29,858 [INFO] Base - [id:298867247] Fetched 6510 reviews (6510 fetched in total)\n",
            "2021-05-12 21:09:42,651 [INFO] Base - [id:298867247] Fetched 6510 reviews (6510 fetched in total)\n",
            "2021-05-12 21:09:55,822 [INFO] Base - [id:298867247] Fetched 6510 reviews (6510 fetched in total)\n",
            "2021-05-12 21:10:08,878 [INFO] Base - [id:298867247] Fetched 6510 reviews (6510 fetched in total)\n",
            "2021-05-12 21:10:21,998 [INFO] Base - [id:298867247] Fetched 6510 reviews (6510 fetched in total)\n",
            "2021-05-12 21:10:35,067 [INFO] Base - [id:298867247] Fetched 6510 reviews (6510 fetched in total)\n",
            "2021-05-12 21:10:48,282 [INFO] Base - [id:298867247] Fetched 6510 reviews (6510 fetched in total)\n",
            "2021-05-12 21:11:01,443 [INFO] Base - [id:298867247] Fetched 6510 reviews (6510 fetched in total)\n",
            "2021-05-12 21:11:14,529 [INFO] Base - [id:298867247] Fetched 6510 reviews (6510 fetched in total)\n",
            "2021-05-12 21:11:27,634 [INFO] Base - [id:298867247] Fetched 6510 reviews (6510 fetched in total)\n",
            "2021-05-12 21:11:40,871 [INFO] Base - [id:298867247] Fetched 6510 reviews (6510 fetched in total)\n",
            "2021-05-12 21:11:54,083 [INFO] Base - [id:298867247] Fetched 6510 reviews (6510 fetched in total)\n",
            "2021-05-12 21:12:07,448 [INFO] Base - [id:298867247] Fetched 6510 reviews (6510 fetched in total)\n",
            "2021-05-12 21:12:20,430 [INFO] Base - [id:298867247] Fetched 6510 reviews (6510 fetched in total)\n",
            "2021-05-12 21:12:33,659 [INFO] Base - [id:298867247] Fetched 6510 reviews (6510 fetched in total)\n",
            "2021-05-12 21:12:46,898 [INFO] Base - [id:298867247] Fetched 6510 reviews (6510 fetched in total)\n",
            "2021-05-12 21:13:00,239 [INFO] Base - [id:298867247] Fetched 6510 reviews (6510 fetched in total)\n",
            "2021-05-12 21:13:13,415 [INFO] Base - [id:298867247] Fetched 6510 reviews (6510 fetched in total)\n",
            "2021-05-12 21:13:26,518 [INFO] Base - [id:298867247] Fetched 6510 reviews (6510 fetched in total)\n",
            "2021-05-12 21:13:39,435 [INFO] Base - [id:298867247] Fetched 6510 reviews (6510 fetched in total)\n",
            "2021-05-12 21:13:52,451 [INFO] Base - [id:298867247] Fetched 6510 reviews (6510 fetched in total)\n",
            "2021-05-12 21:14:05,780 [INFO] Base - [id:298867247] Fetched 6510 reviews (6510 fetched in total)\n",
            "2021-05-12 21:14:19,401 [INFO] Base - [id:298867247] Fetched 6510 reviews (6510 fetched in total)\n",
            "2021-05-12 21:14:32,324 [INFO] Base - [id:298867247] Fetched 6510 reviews (6510 fetched in total)\n",
            "2021-05-12 21:14:45,357 [INFO] Base - [id:298867247] Fetched 6510 reviews (6510 fetched in total)\n",
            "2021-05-12 21:14:58,797 [INFO] Base - [id:298867247] Fetched 6510 reviews (6510 fetched in total)\n",
            "2021-05-12 21:15:11,482 [INFO] Base - [id:298867247] Fetched 6510 reviews (6510 fetched in total)\n",
            "2021-05-12 21:15:24,540 [INFO] Base - [id:298867247] Fetched 6510 reviews (6510 fetched in total)\n",
            "2021-05-12 21:15:37,739 [INFO] Base - [id:298867247] Fetched 6510 reviews (6510 fetched in total)\n",
            "2021-05-12 21:15:50,553 [INFO] Base - [id:298867247] Fetched 6510 reviews (6510 fetched in total)\n",
            "2021-05-12 21:16:03,628 [INFO] Base - [id:298867247] Fetched 6510 reviews (6510 fetched in total)\n",
            "2021-05-12 21:16:16,505 [INFO] Base - [id:298867247] Fetched 6510 reviews (6510 fetched in total)\n",
            "2021-05-12 21:16:29,772 [INFO] Base - [id:298867247] Fetched 6510 reviews (6510 fetched in total)\n",
            "2021-05-12 21:16:39,381 [INFO] Base - [id:298867247] Fetched 6510 reviews (6510 fetched in total)\n",
            "2021-05-12 21:16:52,387 [INFO] Base - [id:298867247] Fetched 6510 reviews (6510 fetched in total)\n",
            "2021-05-12 21:17:05,236 [INFO] Base - [id:298867247] Fetched 6510 reviews (6510 fetched in total)\n",
            "2021-05-12 21:17:18,231 [INFO] Base - [id:298867247] Fetched 6510 reviews (6510 fetched in total)\n",
            "2021-05-12 21:17:30,860 [INFO] Base - [id:298867247] Fetched 6510 reviews (6510 fetched in total)\n",
            "2021-05-12 21:17:44,213 [INFO] Base - [id:298867247] Fetched 6510 reviews (6510 fetched in total)\n",
            "2021-05-12 21:17:57,360 [INFO] Base - [id:298867247] Fetched 6510 reviews (6510 fetched in total)\n",
            "2021-05-12 21:18:10,785 [INFO] Base - [id:298867247] Fetched 6510 reviews (6510 fetched in total)\n",
            "2021-05-12 21:18:24,088 [INFO] Base - [id:298867247] Fetched 6510 reviews (6510 fetched in total)\n",
            "2021-05-12 21:18:37,140 [INFO] Base - [id:298867247] Fetched 6510 reviews (6510 fetched in total)\n",
            "2021-05-12 21:18:49,725 [INFO] Base - [id:298867247] Fetched 6510 reviews (6510 fetched in total)\n",
            "2021-05-12 21:19:02,757 [INFO] Base - [id:298867247] Fetched 6510 reviews (6510 fetched in total)\n",
            "2021-05-12 21:19:15,705 [INFO] Base - [id:298867247] Fetched 6510 reviews (6510 fetched in total)\n",
            "2021-05-12 21:19:28,782 [INFO] Base - [id:298867247] Fetched 6510 reviews (6510 fetched in total)\n",
            "2021-05-12 21:19:41,998 [INFO] Base - [id:298867247] Fetched 6510 reviews (6510 fetched in total)\n",
            "2021-05-12 21:19:55,130 [INFO] Base - [id:298867247] Fetched 6510 reviews (6510 fetched in total)\n",
            "2021-05-12 21:20:08,307 [INFO] Base - [id:298867247] Fetched 6510 reviews (6510 fetched in total)\n",
            "2021-05-12 21:20:21,448 [INFO] Base - [id:298867247] Fetched 6510 reviews (6510 fetched in total)\n",
            "2021-05-12 21:20:34,660 [INFO] Base - [id:298867247] Fetched 6510 reviews (6510 fetched in total)\n",
            "2021-05-12 21:20:47,684 [INFO] Base - [id:298867247] Fetched 6510 reviews (6510 fetched in total)\n",
            "2021-05-12 21:21:01,114 [INFO] Base - [id:298867247] Fetched 6510 reviews (6510 fetched in total)\n",
            "2021-05-12 21:21:14,025 [INFO] Base - [id:298867247] Fetched 6510 reviews (6510 fetched in total)\n",
            "2021-05-12 21:21:27,235 [INFO] Base - [id:298867247] Fetched 6510 reviews (6510 fetched in total)\n",
            "2021-05-12 21:21:40,501 [INFO] Base - [id:298867247] Fetched 6510 reviews (6510 fetched in total)\n",
            "2021-05-12 21:21:53,424 [INFO] Base - [id:298867247] Fetched 6510 reviews (6510 fetched in total)\n",
            "2021-05-12 21:22:06,808 [INFO] Base - [id:298867247] Fetched 6510 reviews (6510 fetched in total)\n",
            "2021-05-12 21:22:19,675 [INFO] Base - [id:298867247] Fetched 6510 reviews (6510 fetched in total)\n",
            "2021-05-12 21:22:32,875 [INFO] Base - [id:298867247] Fetched 6510 reviews (6510 fetched in total)\n",
            "2021-05-12 21:22:45,675 [INFO] Base - [id:298867247] Fetched 6510 reviews (6510 fetched in total)\n",
            "2021-05-12 21:22:59,003 [INFO] Base - [id:298867247] Fetched 6510 reviews (6510 fetched in total)\n",
            "2021-05-12 21:23:12,069 [INFO] Base - [id:298867247] Fetched 6510 reviews (6510 fetched in total)\n",
            "2021-05-12 21:23:25,259 [INFO] Base - [id:298867247] Fetched 6510 reviews (6510 fetched in total)\n",
            "2021-05-12 21:23:38,498 [INFO] Base - [id:298867247] Fetched 6510 reviews (6510 fetched in total)\n",
            "2021-05-12 21:23:51,703 [INFO] Base - [id:298867247] Fetched 6510 reviews (6510 fetched in total)\n",
            "2021-05-12 21:24:04,599 [INFO] Base - [id:298867247] Fetched 6510 reviews (6510 fetched in total)\n",
            "2021-05-12 21:24:17,433 [INFO] Base - [id:298867247] Fetched 6510 reviews (6510 fetched in total)\n",
            "2021-05-12 21:24:30,243 [INFO] Base - [id:298867247] Fetched 6510 reviews (6510 fetched in total)\n",
            "2021-05-12 21:24:43,759 [INFO] Base - [id:298867247] Fetched 6510 reviews (6510 fetched in total)\n",
            "2021-05-12 21:24:56,931 [INFO] Base - [id:298867247] Fetched 6510 reviews (6510 fetched in total)\n",
            "2021-05-12 21:25:09,983 [INFO] Base - [id:298867247] Fetched 6510 reviews (6510 fetched in total)\n",
            "2021-05-12 21:25:23,246 [INFO] Base - [id:298867247] Fetched 6510 reviews (6510 fetched in total)\n",
            "2021-05-12 21:25:36,084 [INFO] Base - [id:298867247] Fetched 6510 reviews (6510 fetched in total)\n",
            "2021-05-12 21:25:49,138 [INFO] Base - [id:298867247] Fetched 6510 reviews (6510 fetched in total)\n",
            "2021-05-12 21:26:02,257 [INFO] Base - [id:298867247] Fetched 6510 reviews (6510 fetched in total)\n",
            "2021-05-12 21:26:15,046 [INFO] Base - [id:298867247] Fetched 6510 reviews (6510 fetched in total)\n",
            "2021-05-12 21:26:27,951 [INFO] Base - [id:298867247] Fetched 6510 reviews (6510 fetched in total)\n",
            "2021-05-12 21:26:40,927 [INFO] Base - [id:298867247] Fetched 6510 reviews (6510 fetched in total)\n",
            "2021-05-12 21:26:53,795 [INFO] Base - [id:298867247] Fetched 6510 reviews (6510 fetched in total)\n",
            "2021-05-12 21:27:06,726 [INFO] Base - [id:298867247] Fetched 6510 reviews (6510 fetched in total)\n",
            "2021-05-12 21:27:19,828 [INFO] Base - [id:298867247] Fetched 6510 reviews (6510 fetched in total)\n",
            "2021-05-12 21:27:33,117 [INFO] Base - [id:298867247] Fetched 6510 reviews (6510 fetched in total)\n",
            "2021-05-12 21:27:45,902 [INFO] Base - [id:298867247] Fetched 6510 reviews (6510 fetched in total)\n",
            "2021-05-12 21:27:59,068 [INFO] Base - [id:298867247] Fetched 6510 reviews (6510 fetched in total)\n",
            "2021-05-12 21:28:12,236 [INFO] Base - [id:298867247] Fetched 6510 reviews (6510 fetched in total)\n",
            "2021-05-12 21:28:25,114 [INFO] Base - [id:298867247] Fetched 6510 reviews (6510 fetched in total)\n",
            "2021-05-12 21:28:38,658 [INFO] Base - [id:298867247] Fetched 6510 reviews (6510 fetched in total)\n",
            "2021-05-12 21:28:51,665 [INFO] Base - [id:298867247] Fetched 6510 reviews (6510 fetched in total)\n",
            "2021-05-12 21:29:04,835 [INFO] Base - [id:298867247] Fetched 6510 reviews (6510 fetched in total)\n",
            "2021-05-12 21:29:17,935 [INFO] Base - [id:298867247] Fetched 6510 reviews (6510 fetched in total)\n",
            "2021-05-12 21:29:30,999 [INFO] Base - [id:298867247] Fetched 6510 reviews (6510 fetched in total)\n",
            "2021-05-12 21:29:43,951 [INFO] Base - [id:298867247] Fetched 6510 reviews (6510 fetched in total)\n",
            "2021-05-12 21:29:57,004 [INFO] Base - [id:298867247] Fetched 6510 reviews (6510 fetched in total)\n",
            "2021-05-12 21:30:10,127 [INFO] Base - [id:298867247] Fetched 6510 reviews (6510 fetched in total)\n",
            "2021-05-12 21:30:23,008 [INFO] Base - [id:298867247] Fetched 6510 reviews (6510 fetched in total)\n",
            "2021-05-12 21:30:36,122 [INFO] Base - [id:298867247] Fetched 6510 reviews (6510 fetched in total)\n",
            "2021-05-12 21:30:49,315 [INFO] Base - [id:298867247] Fetched 6510 reviews (6510 fetched in total)\n",
            "2021-05-12 21:31:02,169 [INFO] Base - [id:298867247] Fetched 6510 reviews (6510 fetched in total)\n",
            "2021-05-12 21:31:15,052 [INFO] Base - [id:298867247] Fetched 6510 reviews (6510 fetched in total)\n",
            "2021-05-12 21:31:28,691 [INFO] Base - [id:298867247] Fetched 6510 reviews (6510 fetched in total)\n",
            "2021-05-12 21:31:41,641 [INFO] Base - [id:298867247] Fetched 6510 reviews (6510 fetched in total)\n",
            "2021-05-12 21:31:54,633 [INFO] Base - [id:298867247] Fetched 6510 reviews (6510 fetched in total)\n",
            "2021-05-12 21:32:07,851 [INFO] Base - [id:298867247] Fetched 6510 reviews (6510 fetched in total)\n",
            "2021-05-12 21:32:20,775 [INFO] Base - [id:298867247] Fetched 6510 reviews (6510 fetched in total)\n",
            "2021-05-12 21:32:34,136 [INFO] Base - [id:298867247] Fetched 6510 reviews (6510 fetched in total)\n",
            "2021-05-12 21:32:47,063 [INFO] Base - [id:298867247] Fetched 6510 reviews (6510 fetched in total)\n",
            "2021-05-12 21:33:00,123 [INFO] Base - [id:298867247] Fetched 6510 reviews (6510 fetched in total)\n",
            "2021-05-12 21:33:13,208 [INFO] Base - [id:298867247] Fetched 6510 reviews (6510 fetched in total)\n",
            "2021-05-12 21:33:26,538 [INFO] Base - [id:298867247] Fetched 6510 reviews (6510 fetched in total)\n",
            "2021-05-12 21:33:39,921 [INFO] Base - [id:298867247] Fetched 6510 reviews (6510 fetched in total)\n",
            "2021-05-12 21:33:52,791 [INFO] Base - [id:298867247] Fetched 6510 reviews (6510 fetched in total)\n",
            "2021-05-12 21:34:05,596 [INFO] Base - [id:298867247] Fetched 6510 reviews (6510 fetched in total)\n",
            "2021-05-12 21:34:18,707 [INFO] Base - [id:298867247] Fetched 6510 reviews (6510 fetched in total)\n",
            "2021-05-12 21:34:31,753 [INFO] Base - [id:298867247] Fetched 6510 reviews (6510 fetched in total)\n",
            "2021-05-12 21:34:45,034 [INFO] Base - [id:298867247] Fetched 6510 reviews (6510 fetched in total)\n",
            "2021-05-12 21:34:58,096 [INFO] Base - [id:298867247] Fetched 6510 reviews (6510 fetched in total)\n",
            "2021-05-12 21:35:11,186 [INFO] Base - [id:298867247] Fetched 6510 reviews (6510 fetched in total)\n",
            "2021-05-12 21:35:24,450 [INFO] Base - [id:298867247] Fetched 6510 reviews (6510 fetched in total)\n",
            "2021-05-12 21:35:37,481 [INFO] Base - [id:298867247] Fetched 6510 reviews (6510 fetched in total)\n",
            "2021-05-12 21:35:50,528 [INFO] Base - [id:298867247] Fetched 6510 reviews (6510 fetched in total)\n",
            "2021-05-12 21:36:03,777 [INFO] Base - [id:298867247] Fetched 6510 reviews (6510 fetched in total)\n",
            "2021-05-12 21:36:16,912 [INFO] Base - [id:298867247] Fetched 6510 reviews (6510 fetched in total)\n",
            "2021-05-12 21:36:29,963 [INFO] Base - [id:298867247] Fetched 6510 reviews (6510 fetched in total)\n",
            "2021-05-12 21:36:43,264 [INFO] Base - [id:298867247] Fetched 6510 reviews (6510 fetched in total)\n",
            "2021-05-12 21:36:57,345 [INFO] Base - [id:298867247] Fetched 6510 reviews (6510 fetched in total)\n",
            "2021-05-12 21:37:10,629 [INFO] Base - [id:298867247] Fetched 6510 reviews (6510 fetched in total)\n",
            "2021-05-12 21:37:23,535 [INFO] Base - [id:298867247] Fetched 6510 reviews (6510 fetched in total)\n",
            "2021-05-12 21:37:32,978 [INFO] Base - [id:298867247] Fetched 6510 reviews (6510 fetched in total)\n",
            "2021-05-12 21:37:45,992 [INFO] Base - [id:298867247] Fetched 6510 reviews (6510 fetched in total)\n",
            "2021-05-12 21:37:59,116 [INFO] Base - [id:298867247] Fetched 6510 reviews (6510 fetched in total)\n",
            "2021-05-12 21:38:12,338 [INFO] Base - [id:298867247] Fetched 6510 reviews (6510 fetched in total)\n",
            "2021-05-12 21:38:25,897 [INFO] Base - [id:298867247] Fetched 6510 reviews (6510 fetched in total)\n",
            "2021-05-12 21:38:39,503 [INFO] Base - [id:298867247] Fetched 6510 reviews (6510 fetched in total)\n",
            "2021-05-12 21:38:52,630 [INFO] Base - [id:298867247] Fetched 6510 reviews (6510 fetched in total)\n",
            "2021-05-12 21:39:05,798 [INFO] Base - [id:298867247] Fetched 6510 reviews (6510 fetched in total)\n",
            "2021-05-12 21:39:18,562 [INFO] Base - [id:298867247] Fetched 6510 reviews (6510 fetched in total)\n",
            "2021-05-12 21:39:31,671 [INFO] Base - [id:298867247] Fetched 6510 reviews (6510 fetched in total)\n",
            "2021-05-12 21:39:45,224 [INFO] Base - [id:298867247] Fetched 6510 reviews (6510 fetched in total)\n",
            "2021-05-12 21:39:58,482 [INFO] Base - [id:298867247] Fetched 6510 reviews (6510 fetched in total)\n",
            "2021-05-12 21:40:11,580 [INFO] Base - [id:298867247] Fetched 6510 reviews (6510 fetched in total)\n",
            "2021-05-12 21:40:24,544 [INFO] Base - [id:298867247] Fetched 6510 reviews (6510 fetched in total)\n",
            "2021-05-12 21:40:37,659 [INFO] Base - [id:298867247] Fetched 6510 reviews (6510 fetched in total)\n",
            "2021-05-12 21:40:50,833 [INFO] Base - [id:298867247] Fetched 6510 reviews (6510 fetched in total)\n",
            "2021-05-12 21:41:03,965 [INFO] Base - [id:298867247] Fetched 6510 reviews (6510 fetched in total)\n",
            "2021-05-12 21:41:16,712 [INFO] Base - [id:298867247] Fetched 6510 reviews (6510 fetched in total)\n",
            "2021-05-12 21:41:30,016 [INFO] Base - [id:298867247] Fetched 6510 reviews (6510 fetched in total)\n",
            "2021-05-12 21:41:43,474 [INFO] Base - [id:298867247] Fetched 6510 reviews (6510 fetched in total)\n",
            "2021-05-12 21:41:56,845 [INFO] Base - [id:298867247] Fetched 6510 reviews (6510 fetched in total)\n",
            "2021-05-12 21:42:06,296 [INFO] Base - [id:298867247] Fetched 6510 reviews (6510 fetched in total)\n",
            "2021-05-12 21:42:19,524 [INFO] Base - [id:298867247] Fetched 6510 reviews (6510 fetched in total)\n",
            "2021-05-12 21:42:32,798 [INFO] Base - [id:298867247] Fetched 6510 reviews (6510 fetched in total)\n",
            "2021-05-12 21:42:45,975 [INFO] Base - [id:298867247] Fetched 6510 reviews (6510 fetched in total)\n",
            "2021-05-12 21:42:59,452 [INFO] Base - [id:298867247] Fetched 6510 reviews (6510 fetched in total)\n",
            "2021-05-12 21:43:12,899 [INFO] Base - [id:298867247] Fetched 6510 reviews (6510 fetched in total)\n",
            "2021-05-12 21:43:26,378 [INFO] Base - [id:298867247] Fetched 6510 reviews (6510 fetched in total)\n",
            "2021-05-12 21:43:39,545 [INFO] Base - [id:298867247] Fetched 6510 reviews (6510 fetched in total)\n",
            "2021-05-12 21:43:52,874 [INFO] Base - [id:298867247] Fetched 6510 reviews (6510 fetched in total)\n",
            "2021-05-12 21:44:05,769 [INFO] Base - [id:298867247] Fetched 6510 reviews (6510 fetched in total)\n",
            "2021-05-12 21:44:19,110 [INFO] Base - [id:298867247] Fetched 6510 reviews (6510 fetched in total)\n",
            "2021-05-12 21:44:32,186 [INFO] Base - [id:298867247] Fetched 6510 reviews (6510 fetched in total)\n",
            "2021-05-12 21:44:45,515 [INFO] Base - [id:298867247] Fetched 6510 reviews (6510 fetched in total)\n",
            "2021-05-12 21:44:58,715 [INFO] Base - [id:298867247] Fetched 6510 reviews (6510 fetched in total)\n",
            "2021-05-12 21:45:11,746 [INFO] Base - [id:298867247] Fetched 6510 reviews (6510 fetched in total)\n",
            "2021-05-12 21:45:24,724 [INFO] Base - [id:298867247] Fetched 6510 reviews (6510 fetched in total)\n",
            "2021-05-12 21:45:37,986 [INFO] Base - [id:298867247] Fetched 6510 reviews (6510 fetched in total)\n",
            "2021-05-12 21:45:51,121 [INFO] Base - [id:298867247] Fetched 6510 reviews (6510 fetched in total)\n",
            "2021-05-12 21:46:04,146 [INFO] Base - [id:298867247] Fetched 6510 reviews (6510 fetched in total)\n",
            "2021-05-12 21:46:17,064 [INFO] Base - [id:298867247] Fetched 6510 reviews (6510 fetched in total)\n",
            "2021-05-12 21:46:30,524 [INFO] Base - [id:298867247] Fetched 6510 reviews (6510 fetched in total)\n",
            "2021-05-12 21:46:43,476 [INFO] Base - [id:298867247] Fetched 6510 reviews (6510 fetched in total)\n",
            "2021-05-12 21:46:56,370 [INFO] Base - [id:298867247] Fetched 6510 reviews (6510 fetched in total)\n",
            "2021-05-12 21:47:09,505 [INFO] Base - [id:298867247] Fetched 6510 reviews (6510 fetched in total)\n",
            "2021-05-12 21:47:22,666 [INFO] Base - [id:298867247] Fetched 6510 reviews (6510 fetched in total)\n",
            "2021-05-12 21:47:35,827 [INFO] Base - [id:298867247] Fetched 6510 reviews (6510 fetched in total)\n",
            "2021-05-12 21:47:48,965 [INFO] Base - [id:298867247] Fetched 6510 reviews (6510 fetched in total)\n",
            "2021-05-12 21:48:02,027 [INFO] Base - [id:298867247] Fetched 6510 reviews (6510 fetched in total)\n",
            "2021-05-12 21:48:14,943 [INFO] Base - [id:298867247] Fetched 6510 reviews (6510 fetched in total)\n",
            "2021-05-12 21:48:27,992 [INFO] Base - [id:298867247] Fetched 6510 reviews (6510 fetched in total)\n",
            "2021-05-12 21:48:40,970 [INFO] Base - [id:298867247] Fetched 6510 reviews (6510 fetched in total)\n",
            "2021-05-12 21:48:53,862 [INFO] Base - [id:298867247] Fetched 6510 reviews (6510 fetched in total)\n",
            "2021-05-12 21:49:06,692 [INFO] Base - [id:298867247] Fetched 6510 reviews (6510 fetched in total)\n",
            "2021-05-12 21:49:20,518 [INFO] Base - [id:298867247] Fetched 6510 reviews (6510 fetched in total)\n",
            "2021-05-12 21:49:33,554 [INFO] Base - [id:298867247] Fetched 6510 reviews (6510 fetched in total)\n",
            "2021-05-12 21:49:46,723 [INFO] Base - [id:298867247] Fetched 6510 reviews (6510 fetched in total)\n",
            "2021-05-12 21:49:59,919 [INFO] Base - [id:298867247] Fetched 6510 reviews (6510 fetched in total)\n",
            "2021-05-12 21:50:13,026 [INFO] Base - [id:298867247] Fetched 6510 reviews (6510 fetched in total)\n",
            "2021-05-12 21:50:26,095 [INFO] Base - [id:298867247] Fetched 6510 reviews (6510 fetched in total)\n",
            "2021-05-12 21:50:39,117 [INFO] Base - [id:298867247] Fetched 6510 reviews (6510 fetched in total)\n",
            "2021-05-12 21:50:52,108 [INFO] Base - [id:298867247] Fetched 6510 reviews (6510 fetched in total)\n",
            "2021-05-12 21:51:05,461 [INFO] Base - [id:298867247] Fetched 6510 reviews (6510 fetched in total)\n",
            "2021-05-12 21:51:18,414 [INFO] Base - [id:298867247] Fetched 6510 reviews (6510 fetched in total)\n",
            "2021-05-12 21:51:31,333 [INFO] Base - [id:298867247] Fetched 6510 reviews (6510 fetched in total)\n",
            "2021-05-12 21:51:44,240 [INFO] Base - [id:298867247] Fetched 6510 reviews (6510 fetched in total)\n",
            "2021-05-12 21:51:57,518 [INFO] Base - [id:298867247] Fetched 6510 reviews (6510 fetched in total)\n",
            "2021-05-12 21:52:10,622 [INFO] Base - [id:298867247] Fetched 6510 reviews (6510 fetched in total)\n",
            "2021-05-12 21:52:23,747 [INFO] Base - [id:298867247] Fetched 6510 reviews (6510 fetched in total)\n",
            "2021-05-12 21:52:36,618 [INFO] Base - [id:298867247] Fetched 6510 reviews (6510 fetched in total)\n",
            "2021-05-12 21:52:46,001 [INFO] Base - [id:298867247] Fetched 6510 reviews (6510 fetched in total)\n",
            "2021-05-12 21:52:59,113 [INFO] Base - [id:298867247] Fetched 6510 reviews (6510 fetched in total)\n",
            "2021-05-12 21:53:12,503 [INFO] Base - [id:298867247] Fetched 6510 reviews (6510 fetched in total)\n",
            "2021-05-12 21:53:26,026 [INFO] Base - [id:298867247] Fetched 6510 reviews (6510 fetched in total)\n",
            "2021-05-12 21:53:38,864 [INFO] Base - [id:298867247] Fetched 6510 reviews (6510 fetched in total)\n",
            "2021-05-12 21:53:52,136 [INFO] Base - [id:298867247] Fetched 6510 reviews (6510 fetched in total)\n",
            "2021-05-12 21:54:05,269 [INFO] Base - [id:298867247] Fetched 6510 reviews (6510 fetched in total)\n",
            "2021-05-12 21:54:18,350 [INFO] Base - [id:298867247] Fetched 6510 reviews (6510 fetched in total)\n",
            "2021-05-12 21:54:31,731 [INFO] Base - [id:298867247] Fetched 6510 reviews (6510 fetched in total)\n",
            "2021-05-12 21:54:45,096 [INFO] Base - [id:298867247] Fetched 6510 reviews (6510 fetched in total)\n",
            "2021-05-12 21:54:58,489 [INFO] Base - [id:298867247] Fetched 6510 reviews (6510 fetched in total)\n",
            "2021-05-12 21:55:11,500 [INFO] Base - [id:298867247] Fetched 6510 reviews (6510 fetched in total)\n",
            "2021-05-12 21:55:24,582 [INFO] Base - [id:298867247] Fetched 6510 reviews (6510 fetched in total)\n",
            "2021-05-12 21:55:37,725 [INFO] Base - [id:298867247] Fetched 6510 reviews (6510 fetched in total)\n",
            "2021-05-12 21:55:50,671 [INFO] Base - [id:298867247] Fetched 6510 reviews (6510 fetched in total)\n",
            "2021-05-12 21:56:03,802 [INFO] Base - [id:298867247] Fetched 6510 reviews (6510 fetched in total)\n",
            "2021-05-12 21:56:16,559 [INFO] Base - [id:298867247] Fetched 6510 reviews (6510 fetched in total)\n",
            "2021-05-12 21:56:29,710 [INFO] Base - [id:298867247] Fetched 6510 reviews (6510 fetched in total)\n",
            "2021-05-12 21:56:42,766 [INFO] Base - [id:298867247] Fetched 6510 reviews (6510 fetched in total)\n",
            "2021-05-12 21:56:55,792 [INFO] Base - [id:298867247] Fetched 6510 reviews (6510 fetched in total)\n",
            "2021-05-12 21:57:08,757 [INFO] Base - [id:298867247] Fetched 6510 reviews (6510 fetched in total)\n",
            "2021-05-12 21:57:21,741 [INFO] Base - [id:298867247] Fetched 6510 reviews (6510 fetched in total)\n",
            "2021-05-12 21:57:34,504 [INFO] Base - [id:298867247] Fetched 6510 reviews (6510 fetched in total)\n",
            "2021-05-12 21:57:47,462 [INFO] Base - [id:298867247] Fetched 6510 reviews (6510 fetched in total)\n",
            "2021-05-12 21:58:00,281 [INFO] Base - [id:298867247] Fetched 6510 reviews (6510 fetched in total)\n",
            "2021-05-12 21:58:13,396 [INFO] Base - [id:298867247] Fetched 6510 reviews (6510 fetched in total)\n",
            "2021-05-12 21:58:26,373 [INFO] Base - [id:298867247] Fetched 6510 reviews (6510 fetched in total)\n",
            "2021-05-12 21:58:39,388 [INFO] Base - [id:298867247] Fetched 6510 reviews (6510 fetched in total)\n",
            "2021-05-12 21:58:52,383 [INFO] Base - [id:298867247] Fetched 6510 reviews (6510 fetched in total)\n",
            "2021-05-12 21:59:05,376 [INFO] Base - [id:298867247] Fetched 6510 reviews (6510 fetched in total)\n",
            "2021-05-12 21:59:18,436 [INFO] Base - [id:298867247] Fetched 6510 reviews (6510 fetched in total)\n",
            "2021-05-12 21:59:31,400 [INFO] Base - [id:298867247] Fetched 6510 reviews (6510 fetched in total)\n",
            "2021-05-12 21:59:44,475 [INFO] Base - [id:298867247] Fetched 6510 reviews (6510 fetched in total)\n",
            "2021-05-12 21:59:57,390 [INFO] Base - [id:298867247] Fetched 6510 reviews (6510 fetched in total)\n",
            "2021-05-12 22:00:10,513 [INFO] Base - [id:298867247] Fetched 6510 reviews (6510 fetched in total)\n",
            "2021-05-12 22:00:23,574 [INFO] Base - [id:298867247] Fetched 6510 reviews (6510 fetched in total)\n",
            "2021-05-12 22:00:36,650 [INFO] Base - [id:298867247] Fetched 6510 reviews (6510 fetched in total)\n",
            "2021-05-12 22:00:49,558 [INFO] Base - [id:298867247] Fetched 6510 reviews (6510 fetched in total)\n",
            "2021-05-12 22:01:02,621 [INFO] Base - [id:298867247] Fetched 6510 reviews (6510 fetched in total)\n",
            "2021-05-12 22:01:15,619 [INFO] Base - [id:298867247] Fetched 6510 reviews (6510 fetched in total)\n",
            "2021-05-12 22:01:28,623 [INFO] Base - [id:298867247] Fetched 6510 reviews (6510 fetched in total)\n",
            "2021-05-12 22:01:41,593 [INFO] Base - [id:298867247] Fetched 6510 reviews (6510 fetched in total)\n",
            "2021-05-12 22:01:54,662 [INFO] Base - [id:298867247] Fetched 6510 reviews (6510 fetched in total)\n",
            "2021-05-12 22:02:07,579 [INFO] Base - [id:298867247] Fetched 6510 reviews (6510 fetched in total)\n",
            "2021-05-12 22:02:20,479 [INFO] Base - [id:298867247] Fetched 6510 reviews (6510 fetched in total)\n",
            "2021-05-12 22:02:33,432 [INFO] Base - [id:298867247] Fetched 6510 reviews (6510 fetched in total)\n",
            "2021-05-12 22:02:46,438 [INFO] Base - [id:298867247] Fetched 6510 reviews (6510 fetched in total)\n",
            "2021-05-12 22:02:59,404 [INFO] Base - [id:298867247] Fetched 6510 reviews (6510 fetched in total)\n",
            "2021-05-12 22:03:12,492 [INFO] Base - [id:298867247] Fetched 6510 reviews (6510 fetched in total)\n",
            "2021-05-12 22:03:25,488 [INFO] Base - [id:298867247] Fetched 6510 reviews (6510 fetched in total)\n",
            "2021-05-12 22:03:38,351 [INFO] Base - [id:298867247] Fetched 6510 reviews (6510 fetched in total)\n",
            "2021-05-12 22:03:51,465 [INFO] Base - [id:298867247] Fetched 6510 reviews (6510 fetched in total)\n",
            "2021-05-12 22:04:04,185 [INFO] Base - [id:298867247] Fetched 6510 reviews (6510 fetched in total)\n",
            "2021-05-12 22:04:17,185 [INFO] Base - [id:298867247] Fetched 6510 reviews (6510 fetched in total)\n",
            "2021-05-12 22:04:30,255 [INFO] Base - [id:298867247] Fetched 6510 reviews (6510 fetched in total)\n",
            "2021-05-12 22:04:43,466 [INFO] Base - [id:298867247] Fetched 6510 reviews (6510 fetched in total)\n",
            "2021-05-12 22:04:56,603 [INFO] Base - [id:298867247] Fetched 6510 reviews (6510 fetched in total)\n",
            "2021-05-12 22:05:09,834 [INFO] Base - [id:298867247] Fetched 6510 reviews (6510 fetched in total)\n",
            "2021-05-12 22:05:23,078 [INFO] Base - [id:298867247] Fetched 6510 reviews (6510 fetched in total)\n",
            "2021-05-12 22:05:36,256 [INFO] Base - [id:298867247] Fetched 6510 reviews (6510 fetched in total)\n",
            "2021-05-12 22:05:49,435 [INFO] Base - [id:298867247] Fetched 6510 reviews (6510 fetched in total)\n",
            "2021-05-12 22:06:02,792 [INFO] Base - [id:298867247] Fetched 6510 reviews (6510 fetched in total)\n",
            "2021-05-12 22:06:15,946 [INFO] Base - [id:298867247] Fetched 6510 reviews (6510 fetched in total)\n",
            "2021-05-12 22:06:29,083 [INFO] Base - [id:298867247] Fetched 6510 reviews (6510 fetched in total)\n",
            "2021-05-12 22:06:42,195 [INFO] Base - [id:298867247] Fetched 6510 reviews (6510 fetched in total)\n",
            "2021-05-12 22:06:55,410 [INFO] Base - [id:298867247] Fetched 6510 reviews (6510 fetched in total)\n",
            "2021-05-12 22:07:08,425 [INFO] Base - [id:298867247] Fetched 6510 reviews (6510 fetched in total)\n",
            "2021-05-12 22:07:21,667 [INFO] Base - [id:298867247] Fetched 6510 reviews (6510 fetched in total)\n",
            "2021-05-12 22:07:34,777 [INFO] Base - [id:298867247] Fetched 6510 reviews (6510 fetched in total)\n",
            "2021-05-12 22:07:48,515 [INFO] Base - [id:298867247] Fetched 6510 reviews (6510 fetched in total)\n",
            "2021-05-12 22:08:01,469 [INFO] Base - [id:298867247] Fetched 6510 reviews (6510 fetched in total)\n",
            "2021-05-12 22:08:14,696 [INFO] Base - [id:298867247] Fetched 6510 reviews (6510 fetched in total)\n",
            "2021-05-12 22:08:27,915 [INFO] Base - [id:298867247] Fetched 6510 reviews (6510 fetched in total)\n",
            "2021-05-12 22:08:40,988 [INFO] Base - [id:298867247] Fetched 6510 reviews (6510 fetched in total)\n",
            "2021-05-12 22:08:54,326 [INFO] Base - [id:298867247] Fetched 6510 reviews (6510 fetched in total)\n",
            "2021-05-12 22:09:08,159 [INFO] Base - [id:298867247] Fetched 6510 reviews (6510 fetched in total)\n",
            "2021-05-12 22:09:21,337 [INFO] Base - [id:298867247] Fetched 6510 reviews (6510 fetched in total)\n",
            "2021-05-12 22:09:34,502 [INFO] Base - [id:298867247] Fetched 6510 reviews (6510 fetched in total)\n",
            "2021-05-12 22:09:48,865 [INFO] Base - [id:298867247] Fetched 6510 reviews (6510 fetched in total)\n",
            "2021-05-12 22:10:02,040 [INFO] Base - [id:298867247] Fetched 6510 reviews (6510 fetched in total)\n",
            "2021-05-12 22:10:15,594 [INFO] Base - [id:298867247] Fetched 6510 reviews (6510 fetched in total)\n",
            "2021-05-12 22:10:28,933 [INFO] Base - [id:298867247] Fetched 6510 reviews (6510 fetched in total)\n",
            "2021-05-12 22:10:41,862 [INFO] Base - [id:298867247] Fetched 6510 reviews (6510 fetched in total)\n",
            "2021-05-12 22:10:55,021 [INFO] Base - [id:298867247] Fetched 6510 reviews (6510 fetched in total)\n",
            "2021-05-12 22:11:08,332 [INFO] Base - [id:298867247] Fetched 6510 reviews (6510 fetched in total)\n",
            "2021-05-12 22:11:21,945 [INFO] Base - [id:298867247] Fetched 6510 reviews (6510 fetched in total)\n",
            "2021-05-12 22:11:35,106 [INFO] Base - [id:298867247] Fetched 6510 reviews (6510 fetched in total)\n",
            "2021-05-12 22:11:44,847 [INFO] Base - [id:298867247] Fetched 6510 reviews (6510 fetched in total)\n",
            "2021-05-12 22:11:58,503 [INFO] Base - [id:298867247] Fetched 6510 reviews (6510 fetched in total)\n",
            "2021-05-12 22:12:11,728 [INFO] Base - [id:298867247] Fetched 6510 reviews (6510 fetched in total)\n",
            "2021-05-12 22:12:24,697 [INFO] Base - [id:298867247] Fetched 6510 reviews (6510 fetched in total)\n",
            "2021-05-12 22:12:34,414 [INFO] Base - [id:298867247] Fetched 6510 reviews (6510 fetched in total)\n",
            "2021-05-12 22:12:47,563 [INFO] Base - [id:298867247] Fetched 6510 reviews (6510 fetched in total)\n",
            "2021-05-12 22:13:00,971 [INFO] Base - [id:298867247] Fetched 6510 reviews (6510 fetched in total)\n",
            "2021-05-12 22:13:13,990 [INFO] Base - [id:298867247] Fetched 6510 reviews (6510 fetched in total)\n",
            "2021-05-12 22:13:27,202 [INFO] Base - [id:298867247] Fetched 6510 reviews (6510 fetched in total)\n",
            "2021-05-12 22:13:40,292 [INFO] Base - [id:298867247] Fetched 6510 reviews (6510 fetched in total)\n",
            "2021-05-12 22:13:53,396 [INFO] Base - [id:298867247] Fetched 6510 reviews (6510 fetched in total)\n",
            "2021-05-12 22:14:06,708 [INFO] Base - [id:298867247] Fetched 6510 reviews (6510 fetched in total)\n",
            "2021-05-12 22:14:19,872 [INFO] Base - [id:298867247] Fetched 6510 reviews (6510 fetched in total)\n",
            "2021-05-12 22:14:33,368 [INFO] Base - [id:298867247] Fetched 6510 reviews (6510 fetched in total)\n",
            "2021-05-12 22:14:46,626 [INFO] Base - [id:298867247] Fetched 6510 reviews (6510 fetched in total)\n",
            "2021-05-12 22:14:59,740 [INFO] Base - [id:298867247] Fetched 6510 reviews (6510 fetched in total)\n",
            "2021-05-12 22:15:10,194 [INFO] Base - [id:298867247] Fetched 6510 reviews (6510 fetched in total)\n",
            "2021-05-12 22:15:23,937 [INFO] Base - [id:298867247] Fetched 6510 reviews (6510 fetched in total)\n",
            "2021-05-12 22:15:33,707 [INFO] Base - [id:298867247] Fetched 6510 reviews (6510 fetched in total)\n",
            "2021-05-12 22:15:47,616 [INFO] Base - [id:298867247] Fetched 6510 reviews (6510 fetched in total)\n",
            "2021-05-12 22:16:01,381 [INFO] Base - [id:298867247] Fetched 6510 reviews (6510 fetched in total)\n",
            "2021-05-12 22:16:15,691 [INFO] Base - [id:298867247] Fetched 6510 reviews (6510 fetched in total)\n",
            "2021-05-12 22:16:28,869 [INFO] Base - [id:298867247] Fetched 6510 reviews (6510 fetched in total)\n",
            "2021-05-12 22:16:42,878 [INFO] Base - [id:298867247] Fetched 6510 reviews (6510 fetched in total)\n",
            "2021-05-12 22:16:56,135 [INFO] Base - [id:298867247] Fetched 6510 reviews (6510 fetched in total)\n",
            "2021-05-12 22:17:09,161 [INFO] Base - [id:298867247] Fetched 6510 reviews (6510 fetched in total)\n",
            "2021-05-12 22:17:22,236 [INFO] Base - [id:298867247] Fetched 6510 reviews (6510 fetched in total)\n",
            "2021-05-12 22:17:35,253 [INFO] Base - [id:298867247] Fetched 6510 reviews (6510 fetched in total)\n",
            "2021-05-12 22:17:48,375 [INFO] Base - [id:298867247] Fetched 6510 reviews (6510 fetched in total)\n",
            "2021-05-12 22:18:01,750 [INFO] Base - [id:298867247] Fetched 6510 reviews (6510 fetched in total)\n",
            "2021-05-12 22:18:14,704 [INFO] Base - [id:298867247] Fetched 6510 reviews (6510 fetched in total)\n",
            "2021-05-12 22:18:27,562 [INFO] Base - [id:298867247] Fetched 6510 reviews (6510 fetched in total)\n",
            "2021-05-12 22:18:40,611 [INFO] Base - [id:298867247] Fetched 6510 reviews (6510 fetched in total)\n",
            "2021-05-12 22:18:53,383 [INFO] Base - [id:298867247] Fetched 6510 reviews (6510 fetched in total)\n",
            "2021-05-12 22:19:06,273 [INFO] Base - [id:298867247] Fetched 6510 reviews (6510 fetched in total)\n",
            "2021-05-12 22:19:19,423 [INFO] Base - [id:298867247] Fetched 6510 reviews (6510 fetched in total)\n",
            "2021-05-12 22:19:32,374 [INFO] Base - [id:298867247] Fetched 6510 reviews (6510 fetched in total)\n",
            "2021-05-12 22:19:45,327 [INFO] Base - [id:298867247] Fetched 6510 reviews (6510 fetched in total)\n",
            "2021-05-12 22:19:58,284 [INFO] Base - [id:298867247] Fetched 6510 reviews (6510 fetched in total)\n",
            "2021-05-12 22:20:11,288 [INFO] Base - [id:298867247] Fetched 6510 reviews (6510 fetched in total)\n",
            "2021-05-12 22:20:24,306 [INFO] Base - [id:298867247] Fetched 6510 reviews (6510 fetched in total)\n",
            "2021-05-12 22:20:37,156 [INFO] Base - [id:298867247] Fetched 6510 reviews (6510 fetched in total)\n",
            "2021-05-12 22:20:50,060 [INFO] Base - [id:298867247] Fetched 6510 reviews (6510 fetched in total)\n",
            "2021-05-12 22:21:03,094 [INFO] Base - [id:298867247] Fetched 6510 reviews (6510 fetched in total)\n",
            "2021-05-12 22:21:16,042 [INFO] Base - [id:298867247] Fetched 6510 reviews (6510 fetched in total)\n",
            "2021-05-12 22:21:29,122 [INFO] Base - [id:298867247] Fetched 6510 reviews (6510 fetched in total)\n",
            "2021-05-12 22:21:42,024 [INFO] Base - [id:298867247] Fetched 6510 reviews (6510 fetched in total)\n",
            "2021-05-12 22:21:55,010 [INFO] Base - [id:298867247] Fetched 6510 reviews (6510 fetched in total)\n",
            "2021-05-12 22:22:08,001 [INFO] Base - [id:298867247] Fetched 6510 reviews (6510 fetched in total)\n",
            "2021-05-12 22:22:20,981 [INFO] Base - [id:298867247] Fetched 6510 reviews (6510 fetched in total)\n",
            "2021-05-12 22:22:33,890 [INFO] Base - [id:298867247] Fetched 6510 reviews (6510 fetched in total)\n",
            "2021-05-12 22:22:46,840 [INFO] Base - [id:298867247] Fetched 6510 reviews (6510 fetched in total)\n",
            "2021-05-12 22:22:59,813 [INFO] Base - [id:298867247] Fetched 6510 reviews (6510 fetched in total)\n",
            "2021-05-12 22:23:12,801 [INFO] Base - [id:298867247] Fetched 6510 reviews (6510 fetched in total)\n",
            "2021-05-12 22:23:25,742 [INFO] Base - [id:298867247] Fetched 6510 reviews (6510 fetched in total)\n",
            "2021-05-12 22:23:38,697 [INFO] Base - [id:298867247] Fetched 6510 reviews (6510 fetched in total)\n",
            "2021-05-12 22:23:51,720 [INFO] Base - [id:298867247] Fetched 6510 reviews (6510 fetched in total)\n",
            "2021-05-12 22:24:01,335 [INFO] Base - [id:298867247] Fetched 6510 reviews (6510 fetched in total)\n",
            "2021-05-12 22:24:14,101 [INFO] Base - [id:298867247] Fetched 6510 reviews (6510 fetched in total)\n",
            "2021-05-12 22:24:27,099 [INFO] Base - [id:298867247] Fetched 6510 reviews (6510 fetched in total)\n",
            "2021-05-12 22:24:40,101 [INFO] Base - [id:298867247] Fetched 6510 reviews (6510 fetched in total)\n",
            "2021-05-12 22:24:53,332 [INFO] Base - [id:298867247] Fetched 6510 reviews (6510 fetched in total)\n",
            "2021-05-12 22:25:06,568 [INFO] Base - [id:298867247] Fetched 6510 reviews (6510 fetched in total)\n",
            "2021-05-12 22:25:19,838 [INFO] Base - [id:298867247] Fetched 6510 reviews (6510 fetched in total)\n",
            "2021-05-12 22:25:33,032 [INFO] Base - [id:298867247] Fetched 6510 reviews (6510 fetched in total)\n",
            "2021-05-12 22:25:46,255 [INFO] Base - [id:298867247] Fetched 6510 reviews (6510 fetched in total)\n",
            "2021-05-12 22:25:59,519 [INFO] Base - [id:298867247] Fetched 6510 reviews (6510 fetched in total)\n",
            "2021-05-12 22:26:12,688 [INFO] Base - [id:298867247] Fetched 6510 reviews (6510 fetched in total)\n",
            "2021-05-12 22:26:25,909 [INFO] Base - [id:298867247] Fetched 6510 reviews (6510 fetched in total)\n",
            "2021-05-12 22:26:38,776 [INFO] Base - [id:298867247] Fetched 6510 reviews (6510 fetched in total)\n",
            "2021-05-12 22:26:51,812 [INFO] Base - [id:298867247] Fetched 6510 reviews (6510 fetched in total)\n",
            "2021-05-12 22:27:04,858 [INFO] Base - [id:298867247] Fetched 6510 reviews (6510 fetched in total)\n",
            "2021-05-12 22:27:17,887 [INFO] Base - [id:298867247] Fetched 6510 reviews (6510 fetched in total)\n",
            "2021-05-12 22:27:30,939 [INFO] Base - [id:298867247] Fetched 6510 reviews (6510 fetched in total)\n",
            "2021-05-12 22:27:43,980 [INFO] Base - [id:298867247] Fetched 6510 reviews (6510 fetched in total)\n",
            "2021-05-12 22:27:56,975 [INFO] Base - [id:298867247] Fetched 6510 reviews (6510 fetched in total)\n",
            "2021-05-12 22:28:10,113 [INFO] Base - [id:298867247] Fetched 6510 reviews (6510 fetched in total)\n",
            "2021-05-12 22:28:23,095 [INFO] Base - [id:298867247] Fetched 6510 reviews (6510 fetched in total)\n",
            "2021-05-12 22:28:36,185 [INFO] Base - [id:298867247] Fetched 6510 reviews (6510 fetched in total)\n",
            "2021-05-12 22:28:49,127 [INFO] Base - [id:298867247] Fetched 6510 reviews (6510 fetched in total)\n",
            "2021-05-12 22:29:02,185 [INFO] Base - [id:298867247] Fetched 6510 reviews (6510 fetched in total)\n",
            "2021-05-12 22:29:15,468 [INFO] Base - [id:298867247] Fetched 6510 reviews (6510 fetched in total)\n",
            "2021-05-12 22:29:28,653 [INFO] Base - [id:298867247] Fetched 6510 reviews (6510 fetched in total)\n",
            "2021-05-12 22:29:41,926 [INFO] Base - [id:298867247] Fetched 6510 reviews (6510 fetched in total)\n",
            "2021-05-12 22:29:55,119 [INFO] Base - [id:298867247] Fetched 6510 reviews (6510 fetched in total)\n",
            "2021-05-12 22:30:08,296 [INFO] Base - [id:298867247] Fetched 6510 reviews (6510 fetched in total)\n",
            "2021-05-12 22:30:21,444 [INFO] Base - [id:298867247] Fetched 6510 reviews (6510 fetched in total)\n",
            "2021-05-12 22:30:34,624 [INFO] Base - [id:298867247] Fetched 6510 reviews (6510 fetched in total)\n",
            "2021-05-12 22:30:47,791 [INFO] Base - [id:298867247] Fetched 6510 reviews (6510 fetched in total)\n",
            "2021-05-12 22:31:00,903 [INFO] Base - [id:298867247] Fetched 6510 reviews (6510 fetched in total)\n",
            "2021-05-12 22:31:13,892 [INFO] Base - [id:298867247] Fetched 6510 reviews (6510 fetched in total)\n",
            "2021-05-12 22:31:26,882 [INFO] Base - [id:298867247] Fetched 6510 reviews (6510 fetched in total)\n",
            "2021-05-12 22:31:40,147 [INFO] Base - [id:298867247] Fetched 6510 reviews (6510 fetched in total)\n",
            "2021-05-12 22:31:53,167 [INFO] Base - [id:298867247] Fetched 6510 reviews (6510 fetched in total)\n",
            "2021-05-12 22:32:05,984 [INFO] Base - [id:298867247] Fetched 6510 reviews (6510 fetched in total)\n",
            "2021-05-12 22:32:18,736 [INFO] Base - [id:298867247] Fetched 6510 reviews (6510 fetched in total)\n",
            "2021-05-12 22:32:31,833 [INFO] Base - [id:298867247] Fetched 6510 reviews (6510 fetched in total)\n",
            "2021-05-12 22:32:44,850 [INFO] Base - [id:298867247] Fetched 6510 reviews (6510 fetched in total)\n",
            "2021-05-12 22:32:58,005 [INFO] Base - [id:298867247] Fetched 6510 reviews (6510 fetched in total)\n",
            "2021-05-12 22:33:11,144 [INFO] Base - [id:298867247] Fetched 6510 reviews (6510 fetched in total)\n",
            "2021-05-12 22:33:23,988 [INFO] Base - [id:298867247] Fetched 6510 reviews (6510 fetched in total)\n",
            "2021-05-12 22:33:37,066 [INFO] Base - [id:298867247] Fetched 6510 reviews (6510 fetched in total)\n",
            "2021-05-12 22:33:50,112 [INFO] Base - [id:298867247] Fetched 6510 reviews (6510 fetched in total)\n",
            "2021-05-12 22:34:03,156 [INFO] Base - [id:298867247] Fetched 6510 reviews (6510 fetched in total)\n",
            "2021-05-12 22:34:16,146 [INFO] Base - [id:298867247] Fetched 6510 reviews (6510 fetched in total)\n",
            "2021-05-12 22:34:29,199 [INFO] Base - [id:298867247] Fetched 6510 reviews (6510 fetched in total)\n",
            "2021-05-12 22:34:42,287 [INFO] Base - [id:298867247] Fetched 6510 reviews (6510 fetched in total)\n",
            "2021-05-12 22:34:55,316 [INFO] Base - [id:298867247] Fetched 6510 reviews (6510 fetched in total)\n",
            "2021-05-12 22:35:08,323 [INFO] Base - [id:298867247] Fetched 6510 reviews (6510 fetched in total)\n",
            "2021-05-12 22:35:21,453 [INFO] Base - [id:298867247] Fetched 6510 reviews (6510 fetched in total)\n",
            "2021-05-12 22:35:34,479 [INFO] Base - [id:298867247] Fetched 6510 reviews (6510 fetched in total)\n",
            "2021-05-12 22:35:47,630 [INFO] Base - [id:298867247] Fetched 6510 reviews (6510 fetched in total)\n",
            "2021-05-12 22:36:00,638 [INFO] Base - [id:298867247] Fetched 6510 reviews (6510 fetched in total)\n",
            "2021-05-12 22:36:12,081 [INFO] Base - [id:298867247] Fetched 6510 reviews (6510 fetched in total)\n",
            "2021-05-12 22:36:26,749 [INFO] Base - [id:298867247] Fetched 6510 reviews (6510 fetched in total)\n",
            "2021-05-12 22:36:39,569 [INFO] Base - [id:298867247] Fetched 6510 reviews (6510 fetched in total)\n",
            "2021-05-12 22:36:52,721 [INFO] Base - [id:298867247] Fetched 6510 reviews (6510 fetched in total)\n",
            "2021-05-12 22:37:05,872 [INFO] Base - [id:298867247] Fetched 6510 reviews (6510 fetched in total)\n",
            "2021-05-12 22:37:19,105 [INFO] Base - [id:298867247] Fetched 6510 reviews (6510 fetched in total)\n",
            "2021-05-12 22:37:32,293 [INFO] Base - [id:298867247] Fetched 6510 reviews (6510 fetched in total)\n",
            "2021-05-12 22:37:45,522 [INFO] Base - [id:298867247] Fetched 6510 reviews (6510 fetched in total)\n",
            "2021-05-12 22:37:58,731 [INFO] Base - [id:298867247] Fetched 6510 reviews (6510 fetched in total)\n",
            "2021-05-12 22:38:11,868 [INFO] Base - [id:298867247] Fetched 6510 reviews (6510 fetched in total)\n",
            "2021-05-12 22:38:24,851 [INFO] Base - [id:298867247] Fetched 6510 reviews (6510 fetched in total)\n",
            "2021-05-12 22:38:38,007 [INFO] Base - [id:298867247] Fetched 6510 reviews (6510 fetched in total)\n",
            "2021-05-12 22:38:51,123 [INFO] Base - [id:298867247] Fetched 6510 reviews (6510 fetched in total)\n",
            "2021-05-12 22:39:04,377 [INFO] Base - [id:298867247] Fetched 6510 reviews (6510 fetched in total)\n",
            "2021-05-12 22:39:17,472 [INFO] Base - [id:298867247] Fetched 6510 reviews (6510 fetched in total)\n",
            "2021-05-12 22:39:30,586 [INFO] Base - [id:298867247] Fetched 6510 reviews (6510 fetched in total)\n",
            "2021-05-12 22:39:43,713 [INFO] Base - [id:298867247] Fetched 6510 reviews (6510 fetched in total)\n",
            "2021-05-12 22:39:56,737 [INFO] Base - [id:298867247] Fetched 6510 reviews (6510 fetched in total)\n",
            "2021-05-12 22:40:09,618 [INFO] Base - [id:298867247] Fetched 6510 reviews (6510 fetched in total)\n",
            "2021-05-12 22:40:22,714 [INFO] Base - [id:298867247] Fetched 6510 reviews (6510 fetched in total)\n",
            "2021-05-12 22:40:35,598 [INFO] Base - [id:298867247] Fetched 6510 reviews (6510 fetched in total)\n",
            "2021-05-12 22:40:48,685 [INFO] Base - [id:298867247] Fetched 6510 reviews (6510 fetched in total)\n",
            "2021-05-12 22:41:01,716 [INFO] Base - [id:298867247] Fetched 6510 reviews (6510 fetched in total)\n",
            "2021-05-12 22:41:15,008 [INFO] Base - [id:298867247] Fetched 6510 reviews (6510 fetched in total)\n",
            "2021-05-12 22:41:28,239 [INFO] Base - [id:298867247] Fetched 6510 reviews (6510 fetched in total)\n",
            "2021-05-12 22:41:41,480 [INFO] Base - [id:298867247] Fetched 6510 reviews (6510 fetched in total)\n",
            "2021-05-12 22:41:54,696 [INFO] Base - [id:298867247] Fetched 6510 reviews (6510 fetched in total)\n",
            "2021-05-12 22:42:07,871 [INFO] Base - [id:298867247] Fetched 6510 reviews (6510 fetched in total)\n",
            "2021-05-12 22:42:21,073 [INFO] Base - [id:298867247] Fetched 6510 reviews (6510 fetched in total)\n",
            "2021-05-12 22:42:34,252 [INFO] Base - [id:298867247] Fetched 6510 reviews (6510 fetched in total)\n",
            "2021-05-12 22:42:47,342 [INFO] Base - [id:298867247] Fetched 6510 reviews (6510 fetched in total)\n",
            "2021-05-12 22:43:00,378 [INFO] Base - [id:298867247] Fetched 6510 reviews (6510 fetched in total)\n",
            "2021-05-12 22:43:13,390 [INFO] Base - [id:298867247] Fetched 6510 reviews (6510 fetched in total)\n",
            "2021-05-12 22:43:26,471 [INFO] Base - [id:298867247] Fetched 6510 reviews (6510 fetched in total)\n",
            "2021-05-12 22:43:39,430 [INFO] Base - [id:298867247] Fetched 6510 reviews (6510 fetched in total)\n",
            "2021-05-12 22:43:52,540 [INFO] Base - [id:298867247] Fetched 6510 reviews (6510 fetched in total)\n",
            "2021-05-12 22:44:05,647 [INFO] Base - [id:298867247] Fetched 6510 reviews (6510 fetched in total)\n",
            "2021-05-12 22:44:18,952 [INFO] Base - [id:298867247] Fetched 6510 reviews (6510 fetched in total)\n",
            "2021-05-12 22:44:32,146 [INFO] Base - [id:298867247] Fetched 6510 reviews (6510 fetched in total)\n",
            "2021-05-12 22:44:45,266 [INFO] Base - [id:298867247] Fetched 6510 reviews (6510 fetched in total)\n",
            "2021-05-12 22:44:58,314 [INFO] Base - [id:298867247] Fetched 6510 reviews (6510 fetched in total)\n",
            "2021-05-12 22:45:11,326 [INFO] Base - [id:298867247] Fetched 6510 reviews (6510 fetched in total)\n",
            "2021-05-12 22:45:24,399 [INFO] Base - [id:298867247] Fetched 6510 reviews (6510 fetched in total)\n",
            "2021-05-12 22:45:37,454 [INFO] Base - [id:298867247] Fetched 6510 reviews (6510 fetched in total)\n",
            "2021-05-12 22:45:50,524 [INFO] Base - [id:298867247] Fetched 6510 reviews (6510 fetched in total)\n",
            "2021-05-12 22:46:03,424 [INFO] Base - [id:298867247] Fetched 6510 reviews (6510 fetched in total)\n",
            "2021-05-12 22:46:16,476 [INFO] Base - [id:298867247] Fetched 6510 reviews (6510 fetched in total)\n",
            "2021-05-12 22:46:29,673 [INFO] Base - [id:298867247] Fetched 6510 reviews (6510 fetched in total)\n",
            "2021-05-12 22:46:42,836 [INFO] Base - [id:298867247] Fetched 6510 reviews (6510 fetched in total)\n",
            "2021-05-12 22:46:56,021 [INFO] Base - [id:298867247] Fetched 6510 reviews (6510 fetched in total)\n",
            "2021-05-12 22:47:09,143 [INFO] Base - [id:298867247] Fetched 6510 reviews (6510 fetched in total)\n",
            "2021-05-12 22:47:22,358 [INFO] Base - [id:298867247] Fetched 6510 reviews (6510 fetched in total)\n",
            "2021-05-12 22:47:35,335 [INFO] Base - [id:298867247] Fetched 6510 reviews (6510 fetched in total)\n",
            "2021-05-12 22:47:48,619 [INFO] Base - [id:298867247] Fetched 6510 reviews (6510 fetched in total)\n",
            "2021-05-12 22:48:01,446 [INFO] Base - [id:298867247] Fetched 6510 reviews (6510 fetched in total)\n",
            "2021-05-12 22:48:14,341 [INFO] Base - [id:298867247] Fetched 6510 reviews (6510 fetched in total)\n",
            "2021-05-12 22:48:27,357 [INFO] Base - [id:298867247] Fetched 6510 reviews (6510 fetched in total)\n",
            "2021-05-12 22:48:40,516 [INFO] Base - [id:298867247] Fetched 6510 reviews (6510 fetched in total)\n",
            "2021-05-12 22:48:53,608 [INFO] Base - [id:298867247] Fetched 6510 reviews (6510 fetched in total)\n",
            "2021-05-12 22:49:06,766 [INFO] Base - [id:298867247] Fetched 6510 reviews (6510 fetched in total)\n",
            "2021-05-12 22:49:19,972 [INFO] Base - [id:298867247] Fetched 6510 reviews (6510 fetched in total)\n",
            "2021-05-12 22:49:33,117 [INFO] Base - [id:298867247] Fetched 6510 reviews (6510 fetched in total)\n",
            "2021-05-12 22:49:46,391 [INFO] Base - [id:298867247] Fetched 6510 reviews (6510 fetched in total)\n",
            "2021-05-12 22:49:59,401 [INFO] Base - [id:298867247] Fetched 6510 reviews (6510 fetched in total)\n",
            "2021-05-12 22:50:12,452 [INFO] Base - [id:298867247] Fetched 6510 reviews (6510 fetched in total)\n",
            "2021-05-12 22:50:25,468 [INFO] Base - [id:298867247] Fetched 6510 reviews (6510 fetched in total)\n",
            "2021-05-12 22:50:38,794 [INFO] Base - [id:298867247] Fetched 6510 reviews (6510 fetched in total)\n",
            "2021-05-12 22:50:52,078 [INFO] Base - [id:298867247] Fetched 6510 reviews (6510 fetched in total)\n",
            "2021-05-12 22:51:05,215 [INFO] Base - [id:298867247] Fetched 6510 reviews (6510 fetched in total)\n",
            "2021-05-12 22:51:18,421 [INFO] Base - [id:298867247] Fetched 6510 reviews (6510 fetched in total)\n",
            "2021-05-12 22:51:31,299 [INFO] Base - [id:298867247] Fetched 6510 reviews (6510 fetched in total)\n",
            "2021-05-12 22:51:44,377 [INFO] Base - [id:298867247] Fetched 6510 reviews (6510 fetched in total)\n",
            "2021-05-12 22:51:57,408 [INFO] Base - [id:298867247] Fetched 6510 reviews (6510 fetched in total)\n",
            "2021-05-12 22:52:10,554 [INFO] Base - [id:298867247] Fetched 6510 reviews (6510 fetched in total)\n",
            "2021-05-12 22:52:23,770 [INFO] Base - [id:298867247] Fetched 6510 reviews (6510 fetched in total)\n",
            "2021-05-12 22:52:36,571 [INFO] Base - [id:298867247] Fetched 6510 reviews (6510 fetched in total)\n",
            "2021-05-12 22:52:49,786 [INFO] Base - [id:298867247] Fetched 6510 reviews (6510 fetched in total)\n",
            "2021-05-12 22:53:02,985 [INFO] Base - [id:298867247] Fetched 6510 reviews (6510 fetched in total)\n",
            "2021-05-12 22:53:16,159 [INFO] Base - [id:298867247] Fetched 6510 reviews (6510 fetched in total)\n",
            "2021-05-12 22:53:28,997 [INFO] Base - [id:298867247] Fetched 6510 reviews (6510 fetched in total)\n",
            "2021-05-12 22:53:41,993 [INFO] Base - [id:298867247] Fetched 6510 reviews (6510 fetched in total)\n",
            "2021-05-12 22:53:55,031 [INFO] Base - [id:298867247] Fetched 6510 reviews (6510 fetched in total)\n",
            "2021-05-12 22:54:08,072 [INFO] Base - [id:298867247] Fetched 6510 reviews (6510 fetched in total)\n",
            "2021-05-12 22:54:21,183 [INFO] Base - [id:298867247] Fetched 6510 reviews (6510 fetched in total)\n",
            "2021-05-12 22:54:34,230 [INFO] Base - [id:298867247] Fetched 6510 reviews (6510 fetched in total)\n",
            "2021-05-12 22:54:47,300 [INFO] Base - [id:298867247] Fetched 6510 reviews (6510 fetched in total)\n",
            "2021-05-12 22:55:00,487 [INFO] Base - [id:298867247] Fetched 6510 reviews (6510 fetched in total)\n",
            "2021-05-12 22:55:13,678 [INFO] Base - [id:298867247] Fetched 6510 reviews (6510 fetched in total)\n",
            "2021-05-12 22:55:26,863 [INFO] Base - [id:298867247] Fetched 6510 reviews (6510 fetched in total)\n",
            "2021-05-12 22:55:40,080 [INFO] Base - [id:298867247] Fetched 6510 reviews (6510 fetched in total)\n",
            "2021-05-12 22:55:53,265 [INFO] Base - [id:298867247] Fetched 6510 reviews (6510 fetched in total)\n",
            "2021-05-12 22:56:06,502 [INFO] Base - [id:298867247] Fetched 6510 reviews (6510 fetched in total)\n",
            "2021-05-12 22:56:19,639 [INFO] Base - [id:298867247] Fetched 6510 reviews (6510 fetched in total)\n",
            "2021-05-12 22:56:32,579 [INFO] Base - [id:298867247] Fetched 6510 reviews (6510 fetched in total)\n",
            "2021-05-12 22:56:45,774 [INFO] Base - [id:298867247] Fetched 6510 reviews (6510 fetched in total)\n",
            "2021-05-12 22:56:59,109 [INFO] Base - [id:298867247] Fetched 6510 reviews (6510 fetched in total)\n",
            "2021-05-12 22:57:11,865 [INFO] Base - [id:298867247] Fetched 6510 reviews (6510 fetched in total)\n",
            "2021-05-12 22:57:24,889 [INFO] Base - [id:298867247] Fetched 6510 reviews (6510 fetched in total)\n",
            "2021-05-12 22:57:37,933 [INFO] Base - [id:298867247] Fetched 6510 reviews (6510 fetched in total)\n",
            "2021-05-12 22:57:50,972 [INFO] Base - [id:298867247] Fetched 6510 reviews (6510 fetched in total)\n",
            "2021-05-12 22:58:04,040 [INFO] Base - [id:298867247] Fetched 6510 reviews (6510 fetched in total)\n",
            "2021-05-12 22:58:17,066 [INFO] Base - [id:298867247] Fetched 6510 reviews (6510 fetched in total)\n",
            "2021-05-12 22:58:30,116 [INFO] Base - [id:298867247] Fetched 6510 reviews (6510 fetched in total)\n",
            "2021-05-12 22:58:43,212 [INFO] Base - [id:298867247] Fetched 6510 reviews (6510 fetched in total)\n",
            "2021-05-12 22:58:56,330 [INFO] Base - [id:298867247] Fetched 6510 reviews (6510 fetched in total)\n",
            "2021-05-12 22:59:09,128 [INFO] Base - [id:298867247] Fetched 6510 reviews (6510 fetched in total)\n",
            "2021-05-12 22:59:22,422 [INFO] Base - [id:298867247] Fetched 6510 reviews (6510 fetched in total)\n",
            "2021-05-12 22:59:35,561 [INFO] Base - [id:298867247] Fetched 6510 reviews (6510 fetched in total)\n",
            "2021-05-12 22:59:48,774 [INFO] Base - [id:298867247] Fetched 6510 reviews (6510 fetched in total)\n",
            "2021-05-12 23:00:01,645 [INFO] Base - [id:298867247] Fetched 6510 reviews (6510 fetched in total)\n",
            "2021-05-12 23:00:14,728 [INFO] Base - [id:298867247] Fetched 6510 reviews (6510 fetched in total)\n",
            "2021-05-12 23:00:27,757 [INFO] Base - [id:298867247] Fetched 6510 reviews (6510 fetched in total)\n",
            "2021-05-12 23:00:40,922 [INFO] Base - [id:298867247] Fetched 6510 reviews (6510 fetched in total)\n",
            "2021-05-12 23:00:54,019 [INFO] Base - [id:298867247] Fetched 6510 reviews (6510 fetched in total)\n",
            "2021-05-12 23:01:07,117 [INFO] Base - [id:298867247] Fetched 6510 reviews (6510 fetched in total)\n",
            "2021-05-12 23:01:20,303 [INFO] Base - [id:298867247] Fetched 6510 reviews (6510 fetched in total)\n",
            "2021-05-12 23:01:33,318 [INFO] Base - [id:298867247] Fetched 6510 reviews (6510 fetched in total)\n",
            "2021-05-12 23:01:46,364 [INFO] Base - [id:298867247] Fetched 6510 reviews (6510 fetched in total)\n",
            "2021-05-12 23:01:59,572 [INFO] Base - [id:298867247] Fetched 6510 reviews (6510 fetched in total)\n",
            "2021-05-12 23:02:12,592 [INFO] Base - [id:298867247] Fetched 6510 reviews (6510 fetched in total)\n",
            "2021-05-12 23:02:25,675 [INFO] Base - [id:298867247] Fetched 6510 reviews (6510 fetched in total)\n",
            "2021-05-12 23:02:38,900 [INFO] Base - [id:298867247] Fetched 6510 reviews (6510 fetched in total)\n",
            "2021-05-12 23:02:51,827 [INFO] Base - [id:298867247] Fetched 6510 reviews (6510 fetched in total)\n",
            "2021-05-12 23:03:05,070 [INFO] Base - [id:298867247] Fetched 6510 reviews (6510 fetched in total)\n",
            "2021-05-12 23:03:18,192 [INFO] Base - [id:298867247] Fetched 6510 reviews (6510 fetched in total)\n",
            "2021-05-12 23:03:31,183 [INFO] Base - [id:298867247] Fetched 6510 reviews (6510 fetched in total)\n",
            "2021-05-12 23:03:44,162 [INFO] Base - [id:298867247] Fetched 6510 reviews (6510 fetched in total)\n",
            "2021-05-12 23:03:57,139 [INFO] Base - [id:298867247] Fetched 6510 reviews (6510 fetched in total)\n",
            "2021-05-12 23:04:10,184 [INFO] Base - [id:298867247] Fetched 6510 reviews (6510 fetched in total)\n",
            "2021-05-12 23:04:23,252 [INFO] Base - [id:298867247] Fetched 6510 reviews (6510 fetched in total)\n",
            "2021-05-12 23:04:36,296 [INFO] Base - [id:298867247] Fetched 6510 reviews (6510 fetched in total)\n",
            "2021-05-12 23:04:49,292 [INFO] Base - [id:298867247] Fetched 6510 reviews (6510 fetched in total)\n",
            "2021-05-12 23:05:02,389 [INFO] Base - [id:298867247] Fetched 6510 reviews (6510 fetched in total)\n",
            "2021-05-12 23:05:15,439 [INFO] Base - [id:298867247] Fetched 6510 reviews (6510 fetched in total)\n",
            "2021-05-12 23:05:28,607 [INFO] Base - [id:298867247] Fetched 6510 reviews (6510 fetched in total)\n",
            "2021-05-12 23:05:41,827 [INFO] Base - [id:298867247] Fetched 6510 reviews (6510 fetched in total)\n",
            "2021-05-12 23:05:54,960 [INFO] Base - [id:298867247] Fetched 6510 reviews (6510 fetched in total)\n",
            "2021-05-12 23:06:07,953 [INFO] Base - [id:298867247] Fetched 6510 reviews (6510 fetched in total)\n",
            "2021-05-12 23:06:20,787 [INFO] Base - [id:298867247] Fetched 6510 reviews (6510 fetched in total)\n",
            "2021-05-12 23:06:33,720 [INFO] Base - [id:298867247] Fetched 6510 reviews (6510 fetched in total)\n",
            "2021-05-12 23:06:46,722 [INFO] Base - [id:298867247] Fetched 6510 reviews (6510 fetched in total)\n",
            "2021-05-12 23:06:59,616 [INFO] Base - [id:298867247] Fetched 6510 reviews (6510 fetched in total)\n",
            "2021-05-12 23:07:12,515 [INFO] Base - [id:298867247] Fetched 6510 reviews (6510 fetched in total)\n",
            "2021-05-12 23:07:25,563 [INFO] Base - [id:298867247] Fetched 6510 reviews (6510 fetched in total)\n",
            "2021-05-12 23:07:38,479 [INFO] Base - [id:298867247] Fetched 6510 reviews (6510 fetched in total)\n",
            "2021-05-12 23:07:51,711 [INFO] Base - [id:298867247] Fetched 6510 reviews (6510 fetched in total)\n",
            "2021-05-12 23:08:04,868 [INFO] Base - [id:298867247] Fetched 6510 reviews (6510 fetched in total)\n",
            "2021-05-12 23:08:18,035 [INFO] Base - [id:298867247] Fetched 6510 reviews (6510 fetched in total)\n",
            "2021-05-12 23:08:31,263 [INFO] Base - [id:298867247] Fetched 6510 reviews (6510 fetched in total)\n",
            "2021-05-12 23:08:44,367 [INFO] Base - [id:298867247] Fetched 6510 reviews (6510 fetched in total)\n",
            "2021-05-12 23:08:57,541 [INFO] Base - [id:298867247] Fetched 6510 reviews (6510 fetched in total)\n",
            "2021-05-12 23:09:10,655 [INFO] Base - [id:298867247] Fetched 6510 reviews (6510 fetched in total)\n",
            "2021-05-12 23:09:23,649 [INFO] Base - [id:298867247] Fetched 6510 reviews (6510 fetched in total)\n",
            "2021-05-12 23:09:36,697 [INFO] Base - [id:298867247] Fetched 6510 reviews (6510 fetched in total)\n",
            "2021-05-12 23:09:49,703 [INFO] Base - [id:298867247] Fetched 6510 reviews (6510 fetched in total)\n",
            "2021-05-12 23:10:02,940 [INFO] Base - [id:298867247] Fetched 6510 reviews (6510 fetched in total)\n",
            "2021-05-12 23:10:15,986 [INFO] Base - [id:298867247] Fetched 6510 reviews (6510 fetched in total)\n",
            "2021-05-12 23:10:29,099 [INFO] Base - [id:298867247] Fetched 6510 reviews (6510 fetched in total)\n",
            "2021-05-12 23:10:42,141 [INFO] Base - [id:298867247] Fetched 6510 reviews (6510 fetched in total)\n",
            "2021-05-12 23:10:55,165 [INFO] Base - [id:298867247] Fetched 6510 reviews (6510 fetched in total)\n",
            "2021-05-12 23:11:08,184 [INFO] Base - [id:298867247] Fetched 6510 reviews (6510 fetched in total)\n",
            "2021-05-12 23:11:21,224 [INFO] Base - [id:298867247] Fetched 6510 reviews (6510 fetched in total)\n",
            "2021-05-12 23:11:34,454 [INFO] Base - [id:298867247] Fetched 6510 reviews (6510 fetched in total)\n",
            "2021-05-12 23:11:47,421 [INFO] Base - [id:298867247] Fetched 6510 reviews (6510 fetched in total)\n",
            "2021-05-12 23:12:00,513 [INFO] Base - [id:298867247] Fetched 6510 reviews (6510 fetched in total)\n",
            "2021-05-12 23:12:13,497 [INFO] Base - [id:298867247] Fetched 6510 reviews (6510 fetched in total)\n",
            "2021-05-12 23:12:26,627 [INFO] Base - [id:298867247] Fetched 6510 reviews (6510 fetched in total)\n",
            "2021-05-12 23:12:39,655 [INFO] Base - [id:298867247] Fetched 6510 reviews (6510 fetched in total)\n",
            "2021-05-12 23:12:52,756 [INFO] Base - [id:298867247] Fetched 6510 reviews (6510 fetched in total)\n",
            "2021-05-12 23:13:05,959 [INFO] Base - [id:298867247] Fetched 6510 reviews (6510 fetched in total)\n",
            "2021-05-12 23:13:19,009 [INFO] Base - [id:298867247] Fetched 6510 reviews (6510 fetched in total)\n",
            "2021-05-12 23:13:31,870 [INFO] Base - [id:298867247] Fetched 6510 reviews (6510 fetched in total)\n",
            "2021-05-12 23:13:45,070 [INFO] Base - [id:298867247] Fetched 6510 reviews (6510 fetched in total)\n",
            "2021-05-12 23:13:58,272 [INFO] Base - [id:298867247] Fetched 6510 reviews (6510 fetched in total)\n",
            "2021-05-12 23:14:11,572 [INFO] Base - [id:298867247] Fetched 6510 reviews (6510 fetched in total)\n",
            "2021-05-12 23:14:24,943 [INFO] Base - [id:298867247] Fetched 6510 reviews (6510 fetched in total)\n",
            "2021-05-12 23:14:38,051 [INFO] Base - [id:298867247] Fetched 6510 reviews (6510 fetched in total)\n",
            "2021-05-12 23:14:50,903 [INFO] Base - [id:298867247] Fetched 6510 reviews (6510 fetched in total)\n",
            "2021-05-12 23:15:03,891 [INFO] Base - [id:298867247] Fetched 6510 reviews (6510 fetched in total)\n",
            "2021-05-12 23:15:17,035 [INFO] Base - [id:298867247] Fetched 6510 reviews (6510 fetched in total)\n",
            "2021-05-12 23:15:30,158 [INFO] Base - [id:298867247] Fetched 6510 reviews (6510 fetched in total)\n",
            "2021-05-12 23:15:43,144 [INFO] Base - [id:298867247] Fetched 6510 reviews (6510 fetched in total)\n",
            "2021-05-12 23:15:56,190 [INFO] Base - [id:298867247] Fetched 6510 reviews (6510 fetched in total)\n",
            "2021-05-12 23:16:09,170 [INFO] Base - [id:298867247] Fetched 6510 reviews (6510 fetched in total)\n",
            "2021-05-12 23:16:22,265 [INFO] Base - [id:298867247] Fetched 6510 reviews (6510 fetched in total)\n",
            "2021-05-12 23:16:35,297 [INFO] Base - [id:298867247] Fetched 6510 reviews (6510 fetched in total)\n",
            "2021-05-12 23:16:48,248 [INFO] Base - [id:298867247] Fetched 6510 reviews (6510 fetched in total)\n",
            "2021-05-12 23:17:01,321 [INFO] Base - [id:298867247] Fetched 6510 reviews (6510 fetched in total)\n",
            "2021-05-12 23:17:14,286 [INFO] Base - [id:298867247] Fetched 6510 reviews (6510 fetched in total)\n",
            "2021-05-12 23:17:27,400 [INFO] Base - [id:298867247] Fetched 6510 reviews (6510 fetched in total)\n",
            "2021-05-12 23:17:40,578 [INFO] Base - [id:298867247] Fetched 6510 reviews (6510 fetched in total)\n",
            "2021-05-12 23:17:53,695 [INFO] Base - [id:298867247] Fetched 6510 reviews (6510 fetched in total)\n",
            "2021-05-12 23:18:06,879 [INFO] Base - [id:298867247] Fetched 6510 reviews (6510 fetched in total)\n",
            "2021-05-12 23:18:19,839 [INFO] Base - [id:298867247] Fetched 6510 reviews (6510 fetched in total)\n",
            "2021-05-12 23:18:33,081 [INFO] Base - [id:298867247] Fetched 6510 reviews (6510 fetched in total)\n",
            "2021-05-12 23:18:46,258 [INFO] Base - [id:298867247] Fetched 6510 reviews (6510 fetched in total)\n",
            "2021-05-12 23:18:59,431 [INFO] Base - [id:298867247] Fetched 6510 reviews (6510 fetched in total)\n",
            "2021-05-12 23:19:12,670 [INFO] Base - [id:298867247] Fetched 6510 reviews (6510 fetched in total)\n",
            "2021-05-12 23:19:25,701 [INFO] Base - [id:298867247] Fetched 6510 reviews (6510 fetched in total)\n",
            "2021-05-12 23:19:38,598 [INFO] Base - [id:298867247] Fetched 6510 reviews (6510 fetched in total)\n",
            "2021-05-12 23:19:51,648 [INFO] Base - [id:298867247] Fetched 6510 reviews (6510 fetched in total)\n",
            "2021-05-12 23:20:04,908 [INFO] Base - [id:298867247] Fetched 6510 reviews (6510 fetched in total)\n",
            "2021-05-12 23:20:17,932 [INFO] Base - [id:298867247] Fetched 6510 reviews (6510 fetched in total)\n",
            "2021-05-12 23:20:30,907 [INFO] Base - [id:298867247] Fetched 6510 reviews (6510 fetched in total)\n",
            "2021-05-12 23:20:44,131 [INFO] Base - [id:298867247] Fetched 6510 reviews (6510 fetched in total)\n",
            "2021-05-12 23:20:57,095 [INFO] Base - [id:298867247] Fetched 6510 reviews (6510 fetched in total)\n",
            "2021-05-12 23:21:10,119 [INFO] Base - [id:298867247] Fetched 6510 reviews (6510 fetched in total)\n",
            "2021-05-12 23:21:23,166 [INFO] Base - [id:298867247] Fetched 6510 reviews (6510 fetched in total)\n",
            "2021-05-12 23:21:36,161 [INFO] Base - [id:298867247] Fetched 6510 reviews (6510 fetched in total)\n",
            "2021-05-12 23:21:49,352 [INFO] Base - [id:298867247] Fetched 6510 reviews (6510 fetched in total)\n",
            "2021-05-12 23:22:02,416 [INFO] Base - [id:298867247] Fetched 6510 reviews (6510 fetched in total)\n",
            "2021-05-12 23:22:15,375 [INFO] Base - [id:298867247] Fetched 6510 reviews (6510 fetched in total)\n",
            "2021-05-12 23:22:28,386 [INFO] Base - [id:298867247] Fetched 6510 reviews (6510 fetched in total)\n",
            "2021-05-12 23:22:41,428 [INFO] Base - [id:298867247] Fetched 6510 reviews (6510 fetched in total)\n",
            "2021-05-12 23:22:54,426 [INFO] Base - [id:298867247] Fetched 6510 reviews (6510 fetched in total)\n",
            "2021-05-12 23:23:07,475 [INFO] Base - [id:298867247] Fetched 6510 reviews (6510 fetched in total)\n",
            "2021-05-12 23:23:20,446 [INFO] Base - [id:298867247] Fetched 6510 reviews (6510 fetched in total)\n",
            "2021-05-12 23:23:33,488 [INFO] Base - [id:298867247] Fetched 6510 reviews (6510 fetched in total)\n",
            "2021-05-12 23:23:46,491 [INFO] Base - [id:298867247] Fetched 6510 reviews (6510 fetched in total)\n",
            "2021-05-12 23:23:59,510 [INFO] Base - [id:298867247] Fetched 6510 reviews (6510 fetched in total)\n",
            "2021-05-12 23:24:12,536 [INFO] Base - [id:298867247] Fetched 6510 reviews (6510 fetched in total)\n",
            "2021-05-12 23:24:25,503 [INFO] Base - [id:298867247] Fetched 6510 reviews (6510 fetched in total)\n",
            "2021-05-12 23:24:38,598 [INFO] Base - [id:298867247] Fetched 6510 reviews (6510 fetched in total)\n",
            "2021-05-12 23:24:51,601 [INFO] Base - [id:298867247] Fetched 6510 reviews (6510 fetched in total)\n",
            "2021-05-12 23:25:04,667 [INFO] Base - [id:298867247] Fetched 6510 reviews (6510 fetched in total)\n",
            "2021-05-12 23:25:17,750 [INFO] Base - [id:298867247] Fetched 6510 reviews (6510 fetched in total)\n",
            "2021-05-12 23:25:30,838 [INFO] Base - [id:298867247] Fetched 6510 reviews (6510 fetched in total)\n",
            "2021-05-12 23:25:44,262 [INFO] Base - [id:298867247] Fetched 6510 reviews (6510 fetched in total)\n",
            "2021-05-12 23:25:57,290 [INFO] Base - [id:298867247] Fetched 6510 reviews (6510 fetched in total)\n",
            "2021-05-12 23:26:10,365 [INFO] Base - [id:298867247] Fetched 6510 reviews (6510 fetched in total)\n",
            "2021-05-12 23:26:23,592 [INFO] Base - [id:298867247] Fetched 6510 reviews (6510 fetched in total)\n",
            "2021-05-12 23:26:36,878 [INFO] Base - [id:298867247] Fetched 6510 reviews (6510 fetched in total)\n",
            "2021-05-12 23:26:50,073 [INFO] Base - [id:298867247] Fetched 6510 reviews (6510 fetched in total)\n",
            "2021-05-12 23:27:03,198 [INFO] Base - [id:298867247] Fetched 6510 reviews (6510 fetched in total)\n",
            "2021-05-12 23:27:16,462 [INFO] Base - [id:298867247] Fetched 6510 reviews (6510 fetched in total)\n",
            "2021-05-12 23:27:29,561 [INFO] Base - [id:298867247] Fetched 6510 reviews (6510 fetched in total)\n",
            "2021-05-12 23:27:42,548 [INFO] Base - [id:298867247] Fetched 6510 reviews (6510 fetched in total)\n",
            "2021-05-12 23:27:55,569 [INFO] Base - [id:298867247] Fetched 6510 reviews (6510 fetched in total)\n",
            "2021-05-12 23:28:08,551 [INFO] Base - [id:298867247] Fetched 6510 reviews (6510 fetched in total)\n",
            "2021-05-12 23:28:21,550 [INFO] Base - [id:298867247] Fetched 6510 reviews (6510 fetched in total)\n",
            "2021-05-12 23:28:34,553 [INFO] Base - [id:298867247] Fetched 6510 reviews (6510 fetched in total)\n",
            "2021-05-12 23:28:47,578 [INFO] Base - [id:298867247] Fetched 6510 reviews (6510 fetched in total)\n",
            "2021-05-12 23:29:00,620 [INFO] Base - [id:298867247] Fetched 6510 reviews (6510 fetched in total)\n",
            "2021-05-12 23:29:13,583 [INFO] Base - [id:298867247] Fetched 6510 reviews (6510 fetched in total)\n",
            "2021-05-12 23:29:26,635 [INFO] Base - [id:298867247] Fetched 6510 reviews (6510 fetched in total)\n",
            "2021-05-12 23:29:39,608 [INFO] Base - [id:298867247] Fetched 6510 reviews (6510 fetched in total)\n",
            "2021-05-12 23:29:52,638 [INFO] Base - [id:298867247] Fetched 6510 reviews (6510 fetched in total)\n",
            "2021-05-12 23:30:05,653 [INFO] Base - [id:298867247] Fetched 6510 reviews (6510 fetched in total)\n",
            "2021-05-12 23:30:18,600 [INFO] Base - [id:298867247] Fetched 6510 reviews (6510 fetched in total)\n",
            "2021-05-12 23:30:31,529 [INFO] Base - [id:298867247] Fetched 6510 reviews (6510 fetched in total)\n",
            "2021-05-12 23:30:44,487 [INFO] Base - [id:298867247] Fetched 6510 reviews (6510 fetched in total)\n",
            "2021-05-12 23:30:57,554 [INFO] Base - [id:298867247] Fetched 6510 reviews (6510 fetched in total)\n",
            "2021-05-12 23:31:10,673 [INFO] Base - [id:298867247] Fetched 6510 reviews (6510 fetched in total)\n",
            "2021-05-12 23:31:23,632 [INFO] Base - [id:298867247] Fetched 6510 reviews (6510 fetched in total)\n",
            "2021-05-12 23:31:36,471 [INFO] Base - [id:298867247] Fetched 6510 reviews (6510 fetched in total)\n",
            "2021-05-12 23:31:49,579 [INFO] Base - [id:298867247] Fetched 6510 reviews (6510 fetched in total)\n",
            "2021-05-12 23:32:02,820 [INFO] Base - [id:298867247] Fetched 6510 reviews (6510 fetched in total)\n",
            "2021-05-12 23:32:16,123 [INFO] Base - [id:298867247] Fetched 6510 reviews (6510 fetched in total)\n",
            "2021-05-12 23:32:29,010 [INFO] Base - [id:298867247] Fetched 6510 reviews (6510 fetched in total)\n",
            "2021-05-12 23:32:42,182 [INFO] Base - [id:298867247] Fetched 6510 reviews (6510 fetched in total)\n",
            "2021-05-12 23:32:55,121 [INFO] Base - [id:298867247] Fetched 6510 reviews (6510 fetched in total)\n",
            "2021-05-12 23:33:08,362 [INFO] Base - [id:298867247] Fetched 6510 reviews (6510 fetched in total)\n",
            "2021-05-12 23:33:21,594 [INFO] Base - [id:298867247] Fetched 6510 reviews (6510 fetched in total)\n",
            "2021-05-12 23:33:34,834 [INFO] Base - [id:298867247] Fetched 6510 reviews (6510 fetched in total)\n",
            "2021-05-12 23:33:48,057 [INFO] Base - [id:298867247] Fetched 6510 reviews (6510 fetched in total)\n",
            "2021-05-12 23:34:01,371 [INFO] Base - [id:298867247] Fetched 6510 reviews (6510 fetched in total)\n",
            "2021-05-12 23:34:14,477 [INFO] Base - [id:298867247] Fetched 6510 reviews (6510 fetched in total)\n",
            "2021-05-12 23:34:27,525 [INFO] Base - [id:298867247] Fetched 6510 reviews (6510 fetched in total)\n",
            "2021-05-12 23:34:40,585 [INFO] Base - [id:298867247] Fetched 6510 reviews (6510 fetched in total)\n",
            "2021-05-12 23:34:53,567 [INFO] Base - [id:298867247] Fetched 6510 reviews (6510 fetched in total)\n",
            "2021-05-12 23:35:06,849 [INFO] Base - [id:298867247] Fetched 6510 reviews (6510 fetched in total)\n",
            "2021-05-12 23:35:20,127 [INFO] Base - [id:298867247] Fetched 6510 reviews (6510 fetched in total)\n",
            "2021-05-12 23:35:33,493 [INFO] Base - [id:298867247] Fetched 6510 reviews (6510 fetched in total)\n",
            "2021-05-12 23:35:46,654 [INFO] Base - [id:298867247] Fetched 6510 reviews (6510 fetched in total)\n",
            "2021-05-12 23:35:59,846 [INFO] Base - [id:298867247] Fetched 6510 reviews (6510 fetched in total)\n",
            "2021-05-12 23:36:13,146 [INFO] Base - [id:298867247] Fetched 6510 reviews (6510 fetched in total)\n",
            "2021-05-12 23:36:26,342 [INFO] Base - [id:298867247] Fetched 6510 reviews (6510 fetched in total)\n",
            "2021-05-12 23:36:39,508 [INFO] Base - [id:298867247] Fetched 6510 reviews (6510 fetched in total)\n",
            "2021-05-12 23:36:52,708 [INFO] Base - [id:298867247] Fetched 6510 reviews (6510 fetched in total)\n",
            "2021-05-12 23:37:06,011 [INFO] Base - [id:298867247] Fetched 6510 reviews (6510 fetched in total)\n",
            "2021-05-12 23:37:19,308 [INFO] Base - [id:298867247] Fetched 6510 reviews (6510 fetched in total)\n",
            "2021-05-12 23:37:32,514 [INFO] Base - [id:298867247] Fetched 6510 reviews (6510 fetched in total)\n",
            "2021-05-12 23:37:45,491 [INFO] Base - [id:298867247] Fetched 6510 reviews (6510 fetched in total)\n",
            "2021-05-12 23:37:58,209 [INFO] Base - [id:298867247] Fetched 6510 reviews (6510 fetched in total)\n",
            "2021-05-12 23:38:11,899 [INFO] Base - [id:298867247] Fetched 6510 reviews (6510 fetched in total)\n",
            "2021-05-12 23:38:25,406 [INFO] Base - [id:298867247] Fetched 6510 reviews (6510 fetched in total)\n",
            "2021-05-12 23:38:38,999 [INFO] Base - [id:298867247] Fetched 6510 reviews (6510 fetched in total)\n",
            "2021-05-12 23:38:52,074 [INFO] Base - [id:298867247] Fetched 6510 reviews (6510 fetched in total)\n",
            "2021-05-12 23:39:05,283 [INFO] Base - [id:298867247] Fetched 6510 reviews (6510 fetched in total)\n",
            "2021-05-12 23:39:18,396 [INFO] Base - [id:298867247] Fetched 6510 reviews (6510 fetched in total)\n",
            "2021-05-12 23:39:31,393 [INFO] Base - [id:298867247] Fetched 6510 reviews (6510 fetched in total)\n",
            "2021-05-12 23:39:44,876 [INFO] Base - [id:298867247] Fetched 6510 reviews (6510 fetched in total)\n",
            "2021-05-12 23:39:57,897 [INFO] Base - [id:298867247] Fetched 6510 reviews (6510 fetched in total)\n",
            "2021-05-12 23:40:10,899 [INFO] Base - [id:298867247] Fetched 6510 reviews (6510 fetched in total)\n",
            "2021-05-12 23:40:23,985 [INFO] Base - [id:298867247] Fetched 6510 reviews (6510 fetched in total)\n",
            "2021-05-12 23:40:37,102 [INFO] Base - [id:298867247] Fetched 6510 reviews (6510 fetched in total)\n",
            "2021-05-12 23:40:51,396 [INFO] Base - [id:298867247] Fetched 6510 reviews (6510 fetched in total)\n",
            "2021-05-12 23:41:04,709 [INFO] Base - [id:298867247] Fetched 6510 reviews (6510 fetched in total)\n",
            "2021-05-12 23:41:18,035 [INFO] Base - [id:298867247] Fetched 6510 reviews (6510 fetched in total)\n",
            "2021-05-12 23:41:31,202 [INFO] Base - [id:298867247] Fetched 6510 reviews (6510 fetched in total)\n",
            "2021-05-12 23:41:44,877 [INFO] Base - [id:298867247] Fetched 6510 reviews (6510 fetched in total)\n",
            "2021-05-12 23:41:58,111 [INFO] Base - [id:298867247] Fetched 6510 reviews (6510 fetched in total)\n",
            "2021-05-12 23:42:11,522 [INFO] Base - [id:298867247] Fetched 6510 reviews (6510 fetched in total)\n",
            "2021-05-12 23:42:24,432 [INFO] Base - [id:298867247] Fetched 6510 reviews (6510 fetched in total)\n",
            "2021-05-12 23:42:37,698 [INFO] Base - [id:298867247] Fetched 6510 reviews (6510 fetched in total)\n",
            "2021-05-12 23:42:50,814 [INFO] Base - [id:298867247] Fetched 6510 reviews (6510 fetched in total)\n",
            "2021-05-12 23:43:05,155 [INFO] Base - [id:298867247] Fetched 6510 reviews (6510 fetched in total)\n",
            "2021-05-12 23:43:18,531 [INFO] Base - [id:298867247] Fetched 6510 reviews (6510 fetched in total)\n",
            "2021-05-12 23:43:31,653 [INFO] Base - [id:298867247] Fetched 6510 reviews (6510 fetched in total)\n",
            "2021-05-12 23:43:44,734 [INFO] Base - [id:298867247] Fetched 6510 reviews (6510 fetched in total)\n",
            "2021-05-12 23:43:58,370 [INFO] Base - [id:298867247] Fetched 6510 reviews (6510 fetched in total)\n",
            "2021-05-12 23:44:11,573 [INFO] Base - [id:298867247] Fetched 6510 reviews (6510 fetched in total)\n",
            "2021-05-12 23:44:24,749 [INFO] Base - [id:298867247] Fetched 6510 reviews (6510 fetched in total)\n",
            "2021-05-12 23:44:37,941 [INFO] Base - [id:298867247] Fetched 6510 reviews (6510 fetched in total)\n",
            "2021-05-12 23:44:50,903 [INFO] Base - [id:298867247] Fetched 6510 reviews (6510 fetched in total)\n",
            "2021-05-12 23:45:03,964 [INFO] Base - [id:298867247] Fetched 6510 reviews (6510 fetched in total)\n",
            "2021-05-12 23:45:17,286 [INFO] Base - [id:298867247] Fetched 6510 reviews (6510 fetched in total)\n",
            "2021-05-12 23:45:30,674 [INFO] Base - [id:298867247] Fetched 6510 reviews (6510 fetched in total)\n",
            "2021-05-12 23:45:44,066 [INFO] Base - [id:298867247] Fetched 6510 reviews (6510 fetched in total)\n",
            "2021-05-12 23:45:57,755 [INFO] Base - [id:298867247] Fetched 6510 reviews (6510 fetched in total)\n",
            "2021-05-12 23:46:10,876 [INFO] Base - [id:298867247] Fetched 6510 reviews (6510 fetched in total)\n",
            "2021-05-12 23:46:24,244 [INFO] Base - [id:298867247] Fetched 6510 reviews (6510 fetched in total)\n",
            "2021-05-12 23:46:37,281 [INFO] Base - [id:298867247] Fetched 6510 reviews (6510 fetched in total)\n",
            "2021-05-12 23:46:50,366 [INFO] Base - [id:298867247] Fetched 6510 reviews (6510 fetched in total)\n",
            "2021-05-12 23:47:03,280 [INFO] Base - [id:298867247] Fetched 6510 reviews (6510 fetched in total)\n",
            "2021-05-12 23:47:16,265 [INFO] Base - [id:298867247] Fetched 6510 reviews (6510 fetched in total)\n",
            "2021-05-12 23:47:29,442 [INFO] Base - [id:298867247] Fetched 6510 reviews (6510 fetched in total)\n",
            "2021-05-12 23:47:42,508 [INFO] Base - [id:298867247] Fetched 6510 reviews (6510 fetched in total)\n",
            "2021-05-12 23:47:55,604 [INFO] Base - [id:298867247] Fetched 6510 reviews (6510 fetched in total)\n",
            "2021-05-12 23:48:08,673 [INFO] Base - [id:298867247] Fetched 6510 reviews (6510 fetched in total)\n",
            "2021-05-12 23:48:21,834 [INFO] Base - [id:298867247] Fetched 6510 reviews (6510 fetched in total)\n",
            "2021-05-12 23:48:34,870 [INFO] Base - [id:298867247] Fetched 6510 reviews (6510 fetched in total)\n",
            "2021-05-12 23:48:47,864 [INFO] Base - [id:298867247] Fetched 6510 reviews (6510 fetched in total)\n",
            "2021-05-12 23:49:00,902 [INFO] Base - [id:298867247] Fetched 6510 reviews (6510 fetched in total)\n",
            "2021-05-12 23:49:13,947 [INFO] Base - [id:298867247] Fetched 6510 reviews (6510 fetched in total)\n",
            "2021-05-12 23:49:27,000 [INFO] Base - [id:298867247] Fetched 6510 reviews (6510 fetched in total)\n",
            "2021-05-12 23:49:40,387 [INFO] Base - [id:298867247] Fetched 6510 reviews (6510 fetched in total)\n",
            "2021-05-12 23:49:53,402 [INFO] Base - [id:298867247] Fetched 6510 reviews (6510 fetched in total)\n",
            "2021-05-12 23:50:06,505 [INFO] Base - [id:298867247] Fetched 6510 reviews (6510 fetched in total)\n",
            "2021-05-12 23:50:19,704 [INFO] Base - [id:298867247] Fetched 6510 reviews (6510 fetched in total)\n",
            "2021-05-12 23:50:32,776 [INFO] Base - [id:298867247] Fetched 6510 reviews (6510 fetched in total)\n",
            "2021-05-12 23:50:46,035 [INFO] Base - [id:298867247] Fetched 6510 reviews (6510 fetched in total)\n",
            "2021-05-12 23:50:59,215 [INFO] Base - [id:298867247] Fetched 6510 reviews (6510 fetched in total)\n",
            "2021-05-12 23:51:12,372 [INFO] Base - [id:298867247] Fetched 6510 reviews (6510 fetched in total)\n",
            "2021-05-12 23:51:25,566 [INFO] Base - [id:298867247] Fetched 6510 reviews (6510 fetched in total)\n",
            "2021-05-12 23:51:38,770 [INFO] Base - [id:298867247] Fetched 6510 reviews (6510 fetched in total)\n",
            "2021-05-12 23:51:52,100 [INFO] Base - [id:298867247] Fetched 6510 reviews (6510 fetched in total)\n",
            "2021-05-12 23:52:05,244 [INFO] Base - [id:298867247] Fetched 6510 reviews (6510 fetched in total)\n",
            "2021-05-12 23:52:18,558 [INFO] Base - [id:298867247] Fetched 6510 reviews (6510 fetched in total)\n",
            "2021-05-12 23:52:31,699 [INFO] Base - [id:298867247] Fetched 6510 reviews (6510 fetched in total)\n",
            "2021-05-12 23:52:44,723 [INFO] Base - [id:298867247] Fetched 6510 reviews (6510 fetched in total)\n",
            "2021-05-12 23:52:57,772 [INFO] Base - [id:298867247] Fetched 6510 reviews (6510 fetched in total)\n",
            "2021-05-12 23:53:10,813 [INFO] Base - [id:298867247] Fetched 6510 reviews (6510 fetched in total)\n",
            "2021-05-12 23:53:23,693 [INFO] Base - [id:298867247] Fetched 6510 reviews (6510 fetched in total)\n",
            "2021-05-12 23:53:36,489 [INFO] Base - [id:298867247] Fetched 6510 reviews (6510 fetched in total)\n",
            "2021-05-12 23:53:49,589 [INFO] Base - [id:298867247] Fetched 6510 reviews (6510 fetched in total)\n",
            "2021-05-12 23:54:02,655 [INFO] Base - [id:298867247] Fetched 6510 reviews (6510 fetched in total)\n",
            "2021-05-12 23:54:15,663 [INFO] Base - [id:298867247] Fetched 6510 reviews (6510 fetched in total)\n",
            "2021-05-12 23:54:28,509 [INFO] Base - [id:298867247] Fetched 6510 reviews (6510 fetched in total)\n",
            "2021-05-12 23:54:41,798 [INFO] Base - [id:298867247] Fetched 6510 reviews (6510 fetched in total)\n",
            "2021-05-12 23:54:55,003 [INFO] Base - [id:298867247] Fetched 6510 reviews (6510 fetched in total)\n",
            "2021-05-12 23:55:08,228 [INFO] Base - [id:298867247] Fetched 6510 reviews (6510 fetched in total)\n",
            "2021-05-12 23:55:21,474 [INFO] Base - [id:298867247] Fetched 6510 reviews (6510 fetched in total)\n",
            "2021-05-12 23:55:34,895 [INFO] Base - [id:298867247] Fetched 6510 reviews (6510 fetched in total)\n",
            "2021-05-12 23:55:47,950 [INFO] Base - [id:298867247] Fetched 6510 reviews (6510 fetched in total)\n",
            "2021-05-12 23:56:00,977 [INFO] Base - [id:298867247] Fetched 6510 reviews (6510 fetched in total)\n",
            "2021-05-12 23:56:14,146 [INFO] Base - [id:298867247] Fetched 6510 reviews (6510 fetched in total)\n",
            "2021-05-12 23:56:27,388 [INFO] Base - [id:298867247] Fetched 6510 reviews (6510 fetched in total)\n",
            "2021-05-12 23:56:40,145 [INFO] Base - [id:298867247] Fetched 6510 reviews (6510 fetched in total)\n",
            "2021-05-12 23:56:53,155 [INFO] Base - [id:298867247] Fetched 6510 reviews (6510 fetched in total)\n",
            "2021-05-12 23:57:05,883 [INFO] Base - [id:298867247] Fetched 6510 reviews (6510 fetched in total)\n",
            "2021-05-12 23:57:19,022 [INFO] Base - [id:298867247] Fetched 6510 reviews (6510 fetched in total)\n",
            "2021-05-12 23:57:32,127 [INFO] Base - [id:298867247] Fetched 6510 reviews (6510 fetched in total)\n",
            "2021-05-12 23:57:45,169 [INFO] Base - [id:298867247] Fetched 6510 reviews (6510 fetched in total)\n",
            "2021-05-12 23:57:58,015 [INFO] Base - [id:298867247] Fetched 6510 reviews (6510 fetched in total)\n",
            "2021-05-12 23:58:10,972 [INFO] Base - [id:298867247] Fetched 6510 reviews (6510 fetched in total)\n",
            "2021-05-12 23:58:23,931 [INFO] Base - [id:298867247] Fetched 6510 reviews (6510 fetched in total)\n",
            "2021-05-12 23:58:36,993 [INFO] Base - [id:298867247] Fetched 6510 reviews (6510 fetched in total)\n",
            "2021-05-12 23:58:50,278 [INFO] Base - [id:298867247] Fetched 6510 reviews (6510 fetched in total)\n",
            "2021-05-12 23:59:03,466 [INFO] Base - [id:298867247] Fetched 6510 reviews (6510 fetched in total)\n",
            "2021-05-12 23:59:16,621 [INFO] Base - [id:298867247] Fetched 6510 reviews (6510 fetched in total)\n",
            "2021-05-12 23:59:29,809 [INFO] Base - [id:298867247] Fetched 6510 reviews (6510 fetched in total)\n",
            "2021-05-12 23:59:42,991 [INFO] Base - [id:298867247] Fetched 6510 reviews (6510 fetched in total)\n",
            "2021-05-12 23:59:55,980 [INFO] Base - [id:298867247] Fetched 6510 reviews (6510 fetched in total)\n",
            "2021-05-13 00:00:09,165 [INFO] Base - [id:298867247] Fetched 6510 reviews (6510 fetched in total)\n",
            "2021-05-13 00:00:22,293 [INFO] Base - [id:298867247] Fetched 6510 reviews (6510 fetched in total)\n",
            "2021-05-13 00:00:35,604 [INFO] Base - [id:298867247] Fetched 6510 reviews (6510 fetched in total)\n",
            "2021-05-13 00:00:48,679 [INFO] Base - [id:298867247] Fetched 6510 reviews (6510 fetched in total)\n",
            "2021-05-13 00:01:01,749 [INFO] Base - [id:298867247] Fetched 6510 reviews (6510 fetched in total)\n",
            "2021-05-13 00:01:15,206 [INFO] Base - [id:298867247] Fetched 6510 reviews (6510 fetched in total)\n",
            "2021-05-13 00:01:28,317 [INFO] Base - [id:298867247] Fetched 6510 reviews (6510 fetched in total)\n",
            "2021-05-13 00:01:41,561 [INFO] Base - [id:298867247] Fetched 6510 reviews (6510 fetched in total)\n",
            "2021-05-13 00:01:54,773 [INFO] Base - [id:298867247] Fetched 6510 reviews (6510 fetched in total)\n",
            "2021-05-13 00:02:07,866 [INFO] Base - [id:298867247] Fetched 6510 reviews (6510 fetched in total)\n",
            "2021-05-13 00:02:20,929 [INFO] Base - [id:298867247] Fetched 6510 reviews (6510 fetched in total)\n",
            "2021-05-13 00:02:34,304 [INFO] Base - [id:298867247] Fetched 6510 reviews (6510 fetched in total)\n",
            "2021-05-13 00:02:47,920 [INFO] Base - [id:298867247] Fetched 6510 reviews (6510 fetched in total)\n",
            "2021-05-13 00:03:00,992 [INFO] Base - [id:298867247] Fetched 6510 reviews (6510 fetched in total)\n",
            "2021-05-13 00:03:14,192 [INFO] Base - [id:298867247] Fetched 6510 reviews (6510 fetched in total)\n",
            "2021-05-13 00:03:27,614 [INFO] Base - [id:298867247] Fetched 6510 reviews (6510 fetched in total)\n",
            "2021-05-13 00:03:40,774 [INFO] Base - [id:298867247] Fetched 6510 reviews (6510 fetched in total)\n",
            "2021-05-13 00:03:53,987 [INFO] Base - [id:298867247] Fetched 6510 reviews (6510 fetched in total)\n",
            "2021-05-13 00:04:07,202 [INFO] Base - [id:298867247] Fetched 6510 reviews (6510 fetched in total)\n",
            "2021-05-13 00:04:20,335 [INFO] Base - [id:298867247] Fetched 6510 reviews (6510 fetched in total)\n",
            "2021-05-13 00:04:33,562 [INFO] Base - [id:298867247] Fetched 6510 reviews (6510 fetched in total)\n",
            "2021-05-13 00:04:46,635 [INFO] Base - [id:298867247] Fetched 6510 reviews (6510 fetched in total)\n",
            "2021-05-13 00:04:59,659 [INFO] Base - [id:298867247] Fetched 6510 reviews (6510 fetched in total)\n",
            "2021-05-13 00:05:12,708 [INFO] Base - [id:298867247] Fetched 6510 reviews (6510 fetched in total)\n",
            "2021-05-13 00:05:25,698 [INFO] Base - [id:298867247] Fetched 6510 reviews (6510 fetched in total)\n",
            "2021-05-13 00:05:38,841 [INFO] Base - [id:298867247] Fetched 6510 reviews (6510 fetched in total)\n",
            "2021-05-13 00:05:51,958 [INFO] Base - [id:298867247] Fetched 6510 reviews (6510 fetched in total)\n",
            "2021-05-13 00:06:05,002 [INFO] Base - [id:298867247] Fetched 6510 reviews (6510 fetched in total)\n",
            "2021-05-13 00:06:18,078 [INFO] Base - [id:298867247] Fetched 6510 reviews (6510 fetched in total)\n",
            "2021-05-13 00:06:31,222 [INFO] Base - [id:298867247] Fetched 6510 reviews (6510 fetched in total)\n",
            "2021-05-13 00:06:44,359 [INFO] Base - [id:298867247] Fetched 6510 reviews (6510 fetched in total)\n",
            "2021-05-13 00:06:57,402 [INFO] Base - [id:298867247] Fetched 6510 reviews (6510 fetched in total)\n",
            "2021-05-13 00:07:10,610 [INFO] Base - [id:298867247] Fetched 6510 reviews (6510 fetched in total)\n",
            "2021-05-13 00:07:23,671 [INFO] Base - [id:298867247] Fetched 6510 reviews (6510 fetched in total)\n",
            "2021-05-13 00:07:36,933 [INFO] Base - [id:298867247] Fetched 6510 reviews (6510 fetched in total)\n",
            "2021-05-13 00:07:50,137 [INFO] Base - [id:298867247] Fetched 6510 reviews (6510 fetched in total)\n",
            "2021-05-13 00:08:03,563 [INFO] Base - [id:298867247] Fetched 6510 reviews (6510 fetched in total)\n",
            "2021-05-13 00:08:16,331 [INFO] Base - [id:298867247] Fetched 6510 reviews (6510 fetched in total)\n",
            "2021-05-13 00:08:29,264 [INFO] Base - [id:298867247] Fetched 6510 reviews (6510 fetched in total)\n",
            "2021-05-13 00:08:42,249 [INFO] Base - [id:298867247] Fetched 6510 reviews (6510 fetched in total)\n",
            "2021-05-13 00:08:55,160 [INFO] Base - [id:298867247] Fetched 6510 reviews (6510 fetched in total)\n",
            "2021-05-13 00:09:08,186 [INFO] Base - [id:298867247] Fetched 6510 reviews (6510 fetched in total)\n",
            "2021-05-13 00:09:21,366 [INFO] Base - [id:298867247] Fetched 6510 reviews (6510 fetched in total)\n",
            "2021-05-13 00:09:34,461 [INFO] Base - [id:298867247] Fetched 6510 reviews (6510 fetched in total)\n",
            "2021-05-13 00:09:47,521 [INFO] Base - [id:298867247] Fetched 6510 reviews (6510 fetched in total)\n",
            "2021-05-13 00:10:00,371 [INFO] Base - [id:298867247] Fetched 6510 reviews (6510 fetched in total)\n",
            "2021-05-13 00:10:13,403 [INFO] Base - [id:298867247] Fetched 6510 reviews (6510 fetched in total)\n",
            "2021-05-13 00:10:26,570 [INFO] Base - [id:298867247] Fetched 6510 reviews (6510 fetched in total)\n",
            "2021-05-13 00:10:39,638 [INFO] Base - [id:298867247] Fetched 6510 reviews (6510 fetched in total)\n",
            "2021-05-13 00:10:52,624 [INFO] Base - [id:298867247] Fetched 6510 reviews (6510 fetched in total)\n",
            "2021-05-13 00:11:05,761 [INFO] Base - [id:298867247] Fetched 6510 reviews (6510 fetched in total)\n",
            "2021-05-13 00:11:18,788 [INFO] Base - [id:298867247] Fetched 6510 reviews (6510 fetched in total)\n",
            "2021-05-13 00:11:31,814 [INFO] Base - [id:298867247] Fetched 6510 reviews (6510 fetched in total)\n",
            "2021-05-13 00:11:44,887 [INFO] Base - [id:298867247] Fetched 6510 reviews (6510 fetched in total)\n",
            "2021-05-13 00:11:57,917 [INFO] Base - [id:298867247] Fetched 6510 reviews (6510 fetched in total)\n",
            "2021-05-13 00:12:10,948 [INFO] Base - [id:298867247] Fetched 6510 reviews (6510 fetched in total)\n",
            "2021-05-13 00:12:24,028 [INFO] Base - [id:298867247] Fetched 6510 reviews (6510 fetched in total)\n",
            "2021-05-13 00:12:37,042 [INFO] Base - [id:298867247] Fetched 6510 reviews (6510 fetched in total)\n",
            "2021-05-13 00:12:50,097 [INFO] Base - [id:298867247] Fetched 6510 reviews (6510 fetched in total)\n",
            "2021-05-13 00:13:03,182 [INFO] Base - [id:298867247] Fetched 6510 reviews (6510 fetched in total)\n",
            "2021-05-13 00:13:16,131 [INFO] Base - [id:298867247] Fetched 6510 reviews (6510 fetched in total)\n",
            "2021-05-13 00:13:29,346 [INFO] Base - [id:298867247] Fetched 6510 reviews (6510 fetched in total)\n",
            "2021-05-13 00:13:42,406 [INFO] Base - [id:298867247] Fetched 6510 reviews (6510 fetched in total)\n",
            "2021-05-13 00:13:55,461 [INFO] Base - [id:298867247] Fetched 6510 reviews (6510 fetched in total)\n",
            "2021-05-13 00:14:08,492 [INFO] Base - [id:298867247] Fetched 6510 reviews (6510 fetched in total)\n",
            "2021-05-13 00:14:21,811 [INFO] Base - [id:298867247] Fetched 6510 reviews (6510 fetched in total)\n",
            "2021-05-13 00:14:34,911 [INFO] Base - [id:298867247] Fetched 6510 reviews (6510 fetched in total)\n",
            "2021-05-13 00:14:48,019 [INFO] Base - [id:298867247] Fetched 6510 reviews (6510 fetched in total)\n",
            "2021-05-13 00:15:01,011 [INFO] Base - [id:298867247] Fetched 6510 reviews (6510 fetched in total)\n",
            "2021-05-13 00:15:14,148 [INFO] Base - [id:298867247] Fetched 6510 reviews (6510 fetched in total)\n",
            "2021-05-13 00:15:27,018 [INFO] Base - [id:298867247] Fetched 6510 reviews (6510 fetched in total)\n",
            "2021-05-13 00:15:40,052 [INFO] Base - [id:298867247] Fetched 6510 reviews (6510 fetched in total)\n",
            "2021-05-13 00:15:53,096 [INFO] Base - [id:298867247] Fetched 6510 reviews (6510 fetched in total)\n",
            "2021-05-13 00:16:06,149 [INFO] Base - [id:298867247] Fetched 6510 reviews (6510 fetched in total)\n",
            "2021-05-13 00:16:19,232 [INFO] Base - [id:298867247] Fetched 6510 reviews (6510 fetched in total)\n",
            "2021-05-13 00:16:32,391 [INFO] Base - [id:298867247] Fetched 6510 reviews (6510 fetched in total)\n",
            "2021-05-13 00:16:45,375 [INFO] Base - [id:298867247] Fetched 6510 reviews (6510 fetched in total)\n",
            "2021-05-13 00:16:58,314 [INFO] Base - [id:298867247] Fetched 6510 reviews (6510 fetched in total)\n",
            "2021-05-13 00:17:11,194 [INFO] Base - [id:298867247] Fetched 6510 reviews (6510 fetched in total)\n",
            "2021-05-13 00:17:24,336 [INFO] Base - [id:298867247] Fetched 6510 reviews (6510 fetched in total)\n",
            "2021-05-13 00:17:37,300 [INFO] Base - [id:298867247] Fetched 6510 reviews (6510 fetched in total)\n",
            "2021-05-13 00:17:50,433 [INFO] Base - [id:298867247] Fetched 6510 reviews (6510 fetched in total)\n",
            "2021-05-13 00:18:03,446 [INFO] Base - [id:298867247] Fetched 6510 reviews (6510 fetched in total)\n",
            "2021-05-13 00:18:16,476 [INFO] Base - [id:298867247] Fetched 6510 reviews (6510 fetched in total)\n",
            "2021-05-13 00:18:29,593 [INFO] Base - [id:298867247] Fetched 6510 reviews (6510 fetched in total)\n",
            "2021-05-13 00:18:42,522 [INFO] Base - [id:298867247] Fetched 6510 reviews (6510 fetched in total)\n",
            "2021-05-13 00:18:55,483 [INFO] Base - [id:298867247] Fetched 6510 reviews (6510 fetched in total)\n",
            "2021-05-13 00:19:08,724 [INFO] Base - [id:298867247] Fetched 6510 reviews (6510 fetched in total)\n",
            "2021-05-13 00:19:21,635 [INFO] Base - [id:298867247] Fetched 6510 reviews (6510 fetched in total)\n",
            "2021-05-13 00:19:34,687 [INFO] Base - [id:298867247] Fetched 6510 reviews (6510 fetched in total)\n",
            "2021-05-13 00:19:47,912 [INFO] Base - [id:298867247] Fetched 6510 reviews (6510 fetched in total)\n",
            "2021-05-13 00:20:01,106 [INFO] Base - [id:298867247] Fetched 6510 reviews (6510 fetched in total)\n",
            "2021-05-13 00:20:14,438 [INFO] Base - [id:298867247] Fetched 6510 reviews (6510 fetched in total)\n",
            "2021-05-13 00:20:27,621 [INFO] Base - [id:298867247] Fetched 6510 reviews (6510 fetched in total)\n",
            "2021-05-13 00:20:40,629 [INFO] Base - [id:298867247] Fetched 6510 reviews (6510 fetched in total)\n",
            "2021-05-13 00:20:53,367 [INFO] Base - [id:298867247] Fetched 6510 reviews (6510 fetched in total)\n",
            "2021-05-13 00:21:06,403 [INFO] Base - [id:298867247] Fetched 6510 reviews (6510 fetched in total)\n",
            "2021-05-13 00:21:19,559 [INFO] Base - [id:298867247] Fetched 6510 reviews (6510 fetched in total)\n",
            "2021-05-13 00:21:32,594 [INFO] Base - [id:298867247] Fetched 6510 reviews (6510 fetched in total)\n",
            "2021-05-13 00:21:45,576 [INFO] Base - [id:298867247] Fetched 6510 reviews (6510 fetched in total)\n",
            "2021-05-13 00:21:58,676 [INFO] Base - [id:298867247] Fetched 6510 reviews (6510 fetched in total)\n",
            "2021-05-13 00:22:11,703 [INFO] Base - [id:298867247] Fetched 6510 reviews (6510 fetched in total)\n",
            "2021-05-13 00:22:24,827 [INFO] Base - [id:298867247] Fetched 6510 reviews (6510 fetched in total)\n",
            "2021-05-13 00:22:37,867 [INFO] Base - [id:298867247] Fetched 6510 reviews (6510 fetched in total)\n",
            "2021-05-13 00:22:50,860 [INFO] Base - [id:298867247] Fetched 6510 reviews (6510 fetched in total)\n",
            "2021-05-13 00:23:03,806 [INFO] Base - [id:298867247] Fetched 6510 reviews (6510 fetched in total)\n",
            "2021-05-13 00:23:16,856 [INFO] Base - [id:298867247] Fetched 6510 reviews (6510 fetched in total)\n",
            "2021-05-13 00:23:29,929 [INFO] Base - [id:298867247] Fetched 6510 reviews (6510 fetched in total)\n",
            "2021-05-13 00:23:42,889 [INFO] Base - [id:298867247] Fetched 6510 reviews (6510 fetched in total)\n",
            "2021-05-13 00:23:55,992 [INFO] Base - [id:298867247] Fetched 6510 reviews (6510 fetched in total)\n",
            "2021-05-13 00:24:09,025 [INFO] Base - [id:298867247] Fetched 6510 reviews (6510 fetched in total)\n",
            "2021-05-13 00:24:21,989 [INFO] Base - [id:298867247] Fetched 6510 reviews (6510 fetched in total)\n",
            "2021-05-13 00:24:35,000 [INFO] Base - [id:298867247] Fetched 6510 reviews (6510 fetched in total)\n",
            "2021-05-13 00:24:48,088 [INFO] Base - [id:298867247] Fetched 6510 reviews (6510 fetched in total)\n",
            "2021-05-13 00:25:01,092 [INFO] Base - [id:298867247] Fetched 6510 reviews (6510 fetched in total)\n",
            "2021-05-13 00:25:14,113 [INFO] Base - [id:298867247] Fetched 6510 reviews (6510 fetched in total)\n",
            "2021-05-13 00:25:27,149 [INFO] Base - [id:298867247] Fetched 6510 reviews (6510 fetched in total)\n",
            "2021-05-13 00:25:40,136 [INFO] Base - [id:298867247] Fetched 6510 reviews (6510 fetched in total)\n",
            "2021-05-13 00:25:53,202 [INFO] Base - [id:298867247] Fetched 6510 reviews (6510 fetched in total)\n",
            "2021-05-13 00:26:06,244 [INFO] Base - [id:298867247] Fetched 6510 reviews (6510 fetched in total)\n",
            "2021-05-13 00:26:19,281 [INFO] Base - [id:298867247] Fetched 6510 reviews (6510 fetched in total)\n",
            "2021-05-13 00:26:32,198 [INFO] Base - [id:298867247] Fetched 6510 reviews (6510 fetched in total)\n",
            "2021-05-13 00:26:45,358 [INFO] Base - [id:298867247] Fetched 6510 reviews (6510 fetched in total)\n",
            "2021-05-13 00:26:58,490 [INFO] Base - [id:298867247] Fetched 6510 reviews (6510 fetched in total)\n",
            "2021-05-13 00:27:11,673 [INFO] Base - [id:298867247] Fetched 6510 reviews (6510 fetched in total)\n",
            "2021-05-13 00:27:25,077 [INFO] Base - [id:298867247] Fetched 6510 reviews (6510 fetched in total)\n",
            "2021-05-13 00:27:38,144 [INFO] Base - [id:298867247] Fetched 6510 reviews (6510 fetched in total)\n",
            "2021-05-13 00:27:51,154 [INFO] Base - [id:298867247] Fetched 6510 reviews (6510 fetched in total)\n",
            "2021-05-13 00:28:04,264 [INFO] Base - [id:298867247] Fetched 6510 reviews (6510 fetched in total)\n",
            "2021-05-13 00:28:17,681 [INFO] Base - [id:298867247] Fetched 6510 reviews (6510 fetched in total)\n",
            "2021-05-13 00:28:30,683 [INFO] Base - [id:298867247] Fetched 6510 reviews (6510 fetched in total)\n",
            "2021-05-13 00:28:43,785 [INFO] Base - [id:298867247] Fetched 6510 reviews (6510 fetched in total)\n",
            "2021-05-13 00:28:57,152 [INFO] Base - [id:298867247] Fetched 6510 reviews (6510 fetched in total)\n",
            "2021-05-13 00:29:10,325 [INFO] Base - [id:298867247] Fetched 6510 reviews (6510 fetched in total)\n",
            "2021-05-13 00:29:23,562 [INFO] Base - [id:298867247] Fetched 6510 reviews (6510 fetched in total)\n",
            "2021-05-13 00:29:36,697 [INFO] Base - [id:298867247] Fetched 6510 reviews (6510 fetched in total)\n",
            "2021-05-13 00:29:49,671 [INFO] Base - [id:298867247] Fetched 6510 reviews (6510 fetched in total)\n",
            "2021-05-13 00:30:02,698 [INFO] Base - [id:298867247] Fetched 6510 reviews (6510 fetched in total)\n",
            "2021-05-13 00:30:15,402 [INFO] Base - [id:298867247] Fetched 6510 reviews (6510 fetched in total)\n",
            "2021-05-13 00:30:28,459 [INFO] Base - [id:298867247] Fetched 6510 reviews (6510 fetched in total)\n",
            "2021-05-13 00:30:41,342 [INFO] Base - [id:298867247] Fetched 6510 reviews (6510 fetched in total)\n",
            "2021-05-13 00:30:54,026 [INFO] Base - [id:298867247] Fetched 6510 reviews (6510 fetched in total)\n",
            "2021-05-13 00:31:07,044 [INFO] Base - [id:298867247] Fetched 6510 reviews (6510 fetched in total)\n",
            "2021-05-13 00:31:19,874 [INFO] Base - [id:298867247] Fetched 6510 reviews (6510 fetched in total)\n",
            "2021-05-13 00:31:32,828 [INFO] Base - [id:298867247] Fetched 6510 reviews (6510 fetched in total)\n",
            "2021-05-13 00:31:45,848 [INFO] Base - [id:298867247] Fetched 6510 reviews (6510 fetched in total)\n",
            "2021-05-13 00:31:58,834 [INFO] Base - [id:298867247] Fetched 6510 reviews (6510 fetched in total)\n",
            "2021-05-13 00:32:11,881 [INFO] Base - [id:298867247] Fetched 6510 reviews (6510 fetched in total)\n",
            "2021-05-13 00:32:25,278 [INFO] Base - [id:298867247] Fetched 6510 reviews (6510 fetched in total)\n",
            "2021-05-13 00:32:38,280 [INFO] Base - [id:298867247] Fetched 6510 reviews (6510 fetched in total)\n",
            "2021-05-13 00:32:51,290 [INFO] Base - [id:298867247] Fetched 6510 reviews (6510 fetched in total)\n",
            "2021-05-13 00:33:04,180 [INFO] Base - [id:298867247] Fetched 6510 reviews (6510 fetched in total)\n",
            "2021-05-13 00:33:17,224 [INFO] Base - [id:298867247] Fetched 6510 reviews (6510 fetched in total)\n",
            "2021-05-13 00:33:30,197 [INFO] Base - [id:298867247] Fetched 6510 reviews (6510 fetched in total)\n",
            "2021-05-13 00:33:43,041 [INFO] Base - [id:298867247] Fetched 6510 reviews (6510 fetched in total)\n",
            "2021-05-13 00:33:56,119 [INFO] Base - [id:298867247] Fetched 6510 reviews (6510 fetched in total)\n",
            "2021-05-13 00:34:08,913 [INFO] Base - [id:298867247] Fetched 6510 reviews (6510 fetched in total)\n",
            "2021-05-13 00:34:21,939 [INFO] Base - [id:298867247] Fetched 6510 reviews (6510 fetched in total)\n",
            "2021-05-13 00:34:35,042 [INFO] Base - [id:298867247] Fetched 6510 reviews (6510 fetched in total)\n",
            "2021-05-13 00:34:48,025 [INFO] Base - [id:298867247] Fetched 6510 reviews (6510 fetched in total)\n",
            "2021-05-13 00:35:01,659 [INFO] Base - [id:298867247] Fetched 6510 reviews (6510 fetched in total)\n",
            "2021-05-13 00:35:14,554 [INFO] Base - [id:298867247] Fetched 6510 reviews (6510 fetched in total)\n",
            "2021-05-13 00:35:27,684 [INFO] Base - [id:298867247] Fetched 6510 reviews (6510 fetched in total)\n",
            "2021-05-13 00:35:40,829 [INFO] Base - [id:298867247] Fetched 6510 reviews (6510 fetched in total)\n",
            "2021-05-13 00:35:54,036 [INFO] Base - [id:298867247] Fetched 6510 reviews (6510 fetched in total)\n",
            "2021-05-13 00:36:07,180 [INFO] Base - [id:298867247] Fetched 6510 reviews (6510 fetched in total)\n",
            "2021-05-13 00:36:20,394 [INFO] Base - [id:298867247] Fetched 6510 reviews (6510 fetched in total)\n",
            "2021-05-13 00:36:33,594 [INFO] Base - [id:298867247] Fetched 6510 reviews (6510 fetched in total)\n",
            "2021-05-13 00:36:46,814 [INFO] Base - [id:298867247] Fetched 6510 reviews (6510 fetched in total)\n",
            "2021-05-13 00:36:59,663 [INFO] Base - [id:298867247] Fetched 6510 reviews (6510 fetched in total)\n",
            "2021-05-13 00:37:12,866 [INFO] Base - [id:298867247] Fetched 6510 reviews (6510 fetched in total)\n",
            "2021-05-13 00:37:25,720 [INFO] Base - [id:298867247] Fetched 6510 reviews (6510 fetched in total)\n",
            "2021-05-13 00:37:38,612 [INFO] Base - [id:298867247] Fetched 6510 reviews (6510 fetched in total)\n",
            "2021-05-13 00:37:51,698 [INFO] Base - [id:298867247] Fetched 6510 reviews (6510 fetched in total)\n",
            "2021-05-13 00:38:05,030 [INFO] Base - [id:298867247] Fetched 6510 reviews (6510 fetched in total)\n",
            "2021-05-13 00:38:18,279 [INFO] Base - [id:298867247] Fetched 6510 reviews (6510 fetched in total)\n",
            "2021-05-13 00:38:31,368 [INFO] Base - [id:298867247] Fetched 6510 reviews (6510 fetched in total)\n",
            "2021-05-13 00:38:44,433 [INFO] Base - [id:298867247] Fetched 6510 reviews (6510 fetched in total)\n",
            "2021-05-13 00:38:57,628 [INFO] Base - [id:298867247] Fetched 6510 reviews (6510 fetched in total)\n",
            "2021-05-13 00:39:10,503 [INFO] Base - [id:298867247] Fetched 6510 reviews (6510 fetched in total)\n",
            "2021-05-13 00:39:23,768 [INFO] Base - [id:298867247] Fetched 6510 reviews (6510 fetched in total)\n",
            "2021-05-13 00:39:36,902 [INFO] Base - [id:298867247] Fetched 6510 reviews (6510 fetched in total)\n",
            "2021-05-13 00:39:50,068 [INFO] Base - [id:298867247] Fetched 6510 reviews (6510 fetched in total)\n",
            "2021-05-13 00:40:03,287 [INFO] Base - [id:298867247] Fetched 6510 reviews (6510 fetched in total)\n",
            "2021-05-13 00:40:16,494 [INFO] Base - [id:298867247] Fetched 6510 reviews (6510 fetched in total)\n",
            "2021-05-13 00:40:29,693 [INFO] Base - [id:298867247] Fetched 6510 reviews (6510 fetched in total)\n",
            "2021-05-13 00:40:43,012 [INFO] Base - [id:298867247] Fetched 6510 reviews (6510 fetched in total)\n",
            "2021-05-13 00:40:56,059 [INFO] Base - [id:298867247] Fetched 6510 reviews (6510 fetched in total)\n",
            "2021-05-13 00:41:09,079 [INFO] Base - [id:298867247] Fetched 6510 reviews (6510 fetched in total)\n",
            "2021-05-13 00:41:22,150 [INFO] Base - [id:298867247] Fetched 6510 reviews (6510 fetched in total)\n",
            "2021-05-13 00:41:35,173 [INFO] Base - [id:298867247] Fetched 6510 reviews (6510 fetched in total)\n",
            "2021-05-13 00:41:48,190 [INFO] Base - [id:298867247] Fetched 6510 reviews (6510 fetched in total)\n",
            "2021-05-13 00:42:01,171 [INFO] Base - [id:298867247] Fetched 6510 reviews (6510 fetched in total)\n",
            "2021-05-13 00:42:14,194 [INFO] Base - [id:298867247] Fetched 6510 reviews (6510 fetched in total)\n",
            "2021-05-13 00:42:27,344 [INFO] Base - [id:298867247] Fetched 6510 reviews (6510 fetched in total)\n",
            "2021-05-13 00:42:40,478 [INFO] Base - [id:298867247] Fetched 6510 reviews (6510 fetched in total)\n",
            "2021-05-13 00:42:53,507 [INFO] Base - [id:298867247] Fetched 6510 reviews (6510 fetched in total)\n",
            "2021-05-13 00:43:06,821 [INFO] Base - [id:298867247] Fetched 6510 reviews (6510 fetched in total)\n",
            "2021-05-13 00:43:20,017 [INFO] Base - [id:298867247] Fetched 6510 reviews (6510 fetched in total)\n",
            "2021-05-13 00:43:33,219 [INFO] Base - [id:298867247] Fetched 6510 reviews (6510 fetched in total)\n",
            "2021-05-13 00:43:46,424 [INFO] Base - [id:298867247] Fetched 6510 reviews (6510 fetched in total)\n",
            "2021-05-13 00:43:59,805 [INFO] Base - [id:298867247] Fetched 6510 reviews (6510 fetched in total)\n",
            "2021-05-13 00:44:12,990 [INFO] Base - [id:298867247] Fetched 6510 reviews (6510 fetched in total)\n",
            "2021-05-13 00:44:26,149 [INFO] Base - [id:298867247] Fetched 6510 reviews (6510 fetched in total)\n",
            "2021-05-13 00:44:39,339 [INFO] Base - [id:298867247] Fetched 6510 reviews (6510 fetched in total)\n",
            "2021-05-13 00:44:52,410 [INFO] Base - [id:298867247] Fetched 6510 reviews (6510 fetched in total)\n",
            "2021-05-13 00:45:05,829 [INFO] Base - [id:298867247] Fetched 6510 reviews (6510 fetched in total)\n",
            "2021-05-13 00:45:18,588 [INFO] Base - [id:298867247] Fetched 6510 reviews (6510 fetched in total)\n",
            "2021-05-13 00:45:31,617 [INFO] Base - [id:298867247] Fetched 6510 reviews (6510 fetched in total)\n",
            "2021-05-13 00:45:44,811 [INFO] Base - [id:298867247] Fetched 6510 reviews (6510 fetched in total)\n",
            "2021-05-13 00:45:57,805 [INFO] Base - [id:298867247] Fetched 6510 reviews (6510 fetched in total)\n",
            "2021-05-13 00:46:10,849 [INFO] Base - [id:298867247] Fetched 6510 reviews (6510 fetched in total)\n",
            "2021-05-13 00:46:23,874 [INFO] Base - [id:298867247] Fetched 6510 reviews (6510 fetched in total)\n",
            "2021-05-13 00:46:36,913 [INFO] Base - [id:298867247] Fetched 6510 reviews (6510 fetched in total)\n",
            "2021-05-13 00:46:49,947 [INFO] Base - [id:298867247] Fetched 6510 reviews (6510 fetched in total)\n",
            "2021-05-13 00:47:03,619 [INFO] Base - [id:298867247] Fetched 6510 reviews (6510 fetched in total)\n",
            "2021-05-13 00:47:16,724 [INFO] Base - [id:298867247] Fetched 6510 reviews (6510 fetched in total)\n",
            "2021-05-13 00:47:29,722 [INFO] Base - [id:298867247] Fetched 6510 reviews (6510 fetched in total)\n",
            "2021-05-13 00:47:42,728 [INFO] Base - [id:298867247] Fetched 6510 reviews (6510 fetched in total)\n",
            "2021-05-13 00:47:55,780 [INFO] Base - [id:298867247] Fetched 6510 reviews (6510 fetched in total)\n",
            "2021-05-13 00:48:08,835 [INFO] Base - [id:298867247] Fetched 6510 reviews (6510 fetched in total)\n",
            "2021-05-13 00:48:21,880 [INFO] Base - [id:298867247] Fetched 6510 reviews (6510 fetched in total)\n",
            "2021-05-13 00:48:34,925 [INFO] Base - [id:298867247] Fetched 6510 reviews (6510 fetched in total)\n",
            "2021-05-13 00:48:48,116 [INFO] Base - [id:298867247] Fetched 6510 reviews (6510 fetched in total)\n",
            "2021-05-13 00:49:01,251 [INFO] Base - [id:298867247] Fetched 6510 reviews (6510 fetched in total)\n",
            "2021-05-13 00:49:14,627 [INFO] Base - [id:298867247] Fetched 6510 reviews (6510 fetched in total)\n",
            "2021-05-13 00:49:27,830 [INFO] Base - [id:298867247] Fetched 6510 reviews (6510 fetched in total)\n",
            "2021-05-13 00:49:41,060 [INFO] Base - [id:298867247] Fetched 6510 reviews (6510 fetched in total)\n",
            "2021-05-13 00:49:54,233 [INFO] Base - [id:298867247] Fetched 6510 reviews (6510 fetched in total)\n",
            "2021-05-13 00:50:07,428 [INFO] Base - [id:298867247] Fetched 6510 reviews (6510 fetched in total)\n",
            "2021-05-13 00:50:20,579 [INFO] Base - [id:298867247] Fetched 6510 reviews (6510 fetched in total)\n",
            "2021-05-13 00:50:34,115 [INFO] Base - [id:298867247] Fetched 6510 reviews (6510 fetched in total)\n",
            "2021-05-13 00:50:47,340 [INFO] Base - [id:298867247] Fetched 6510 reviews (6510 fetched in total)\n",
            "2021-05-13 00:51:00,444 [INFO] Base - [id:298867247] Fetched 6510 reviews (6510 fetched in total)\n",
            "2021-05-13 00:51:13,470 [INFO] Base - [id:298867247] Fetched 6510 reviews (6510 fetched in total)\n",
            "2021-05-13 00:51:26,648 [INFO] Base - [id:298867247] Fetched 6510 reviews (6510 fetched in total)\n",
            "2021-05-13 00:51:39,672 [INFO] Base - [id:298867247] Fetched 6510 reviews (6510 fetched in total)\n",
            "2021-05-13 00:51:52,700 [INFO] Base - [id:298867247] Fetched 6510 reviews (6510 fetched in total)\n",
            "2021-05-13 00:52:05,644 [INFO] Base - [id:298867247] Fetched 6510 reviews (6510 fetched in total)\n",
            "2021-05-13 00:52:18,701 [INFO] Base - [id:298867247] Fetched 6510 reviews (6510 fetched in total)\n",
            "2021-05-13 00:52:31,646 [INFO] Base - [id:298867247] Fetched 6510 reviews (6510 fetched in total)\n",
            "2021-05-13 00:52:44,804 [INFO] Base - [id:298867247] Fetched 6510 reviews (6510 fetched in total)\n",
            "2021-05-13 00:52:57,873 [INFO] Base - [id:298867247] Fetched 6510 reviews (6510 fetched in total)\n",
            "2021-05-13 00:53:10,900 [INFO] Base - [id:298867247] Fetched 6510 reviews (6510 fetched in total)\n",
            "2021-05-13 00:53:23,666 [INFO] Base - [id:298867247] Fetched 6510 reviews (6510 fetched in total)\n",
            "2021-05-13 00:53:36,604 [INFO] Base - [id:298867247] Fetched 6510 reviews (6510 fetched in total)\n",
            "2021-05-13 00:53:49,788 [INFO] Base - [id:298867247] Fetched 6510 reviews (6510 fetched in total)\n",
            "2021-05-13 00:54:02,763 [INFO] Base - [id:298867247] Fetched 6510 reviews (6510 fetched in total)\n",
            "2021-05-13 00:54:15,776 [INFO] Base - [id:298867247] Fetched 6510 reviews (6510 fetched in total)\n",
            "2021-05-13 00:54:28,754 [INFO] Base - [id:298867247] Fetched 6510 reviews (6510 fetched in total)\n",
            "2021-05-13 00:54:41,742 [INFO] Base - [id:298867247] Fetched 6510 reviews (6510 fetched in total)\n",
            "2021-05-13 00:54:54,886 [INFO] Base - [id:298867247] Fetched 6510 reviews (6510 fetched in total)\n",
            "2021-05-13 00:55:07,886 [INFO] Base - [id:298867247] Fetched 6510 reviews (6510 fetched in total)\n",
            "2021-05-13 00:55:20,856 [INFO] Base - [id:298867247] Fetched 6510 reviews (6510 fetched in total)\n",
            "2021-05-13 00:55:33,891 [INFO] Base - [id:298867247] Fetched 6510 reviews (6510 fetched in total)\n",
            "2021-05-13 00:55:46,909 [INFO] Base - [id:298867247] Fetched 6510 reviews (6510 fetched in total)\n",
            "2021-05-13 00:55:59,946 [INFO] Base - [id:298867247] Fetched 6510 reviews (6510 fetched in total)\n",
            "2021-05-13 00:56:12,988 [INFO] Base - [id:298867247] Fetched 6510 reviews (6510 fetched in total)\n",
            "2021-05-13 00:56:26,207 [INFO] Base - [id:298867247] Fetched 6510 reviews (6510 fetched in total)\n",
            "2021-05-13 00:56:39,300 [INFO] Base - [id:298867247] Fetched 6510 reviews (6510 fetched in total)\n",
            "2021-05-13 00:56:52,286 [INFO] Base - [id:298867247] Fetched 6510 reviews (6510 fetched in total)\n",
            "2021-05-13 00:57:05,478 [INFO] Base - [id:298867247] Fetched 6510 reviews (6510 fetched in total)\n",
            "2021-05-13 00:57:18,681 [INFO] Base - [id:298867247] Fetched 6510 reviews (6510 fetched in total)\n",
            "2021-05-13 00:57:31,904 [INFO] Base - [id:298867247] Fetched 6510 reviews (6510 fetched in total)\n",
            "2021-05-13 00:57:45,082 [INFO] Base - [id:298867247] Fetched 6510 reviews (6510 fetched in total)\n",
            "2021-05-13 00:57:58,268 [INFO] Base - [id:298867247] Fetched 6510 reviews (6510 fetched in total)\n",
            "2021-05-13 00:58:11,588 [INFO] Base - [id:298867247] Fetched 6510 reviews (6510 fetched in total)\n",
            "2021-05-13 00:58:24,831 [INFO] Base - [id:298867247] Fetched 6510 reviews (6510 fetched in total)\n",
            "2021-05-13 00:58:37,986 [INFO] Base - [id:298867247] Fetched 6510 reviews (6510 fetched in total)\n",
            "2021-05-13 00:58:51,272 [INFO] Base - [id:298867247] Fetched 6510 reviews (6510 fetched in total)\n",
            "2021-05-13 00:59:04,368 [INFO] Base - [id:298867247] Fetched 6510 reviews (6510 fetched in total)\n",
            "2021-05-13 00:59:17,572 [INFO] Base - [id:298867247] Fetched 6510 reviews (6510 fetched in total)\n",
            "2021-05-13 00:59:30,762 [INFO] Base - [id:298867247] Fetched 6510 reviews (6510 fetched in total)\n",
            "2021-05-13 00:59:43,798 [INFO] Base - [id:298867247] Fetched 6510 reviews (6510 fetched in total)\n",
            "2021-05-13 00:59:56,918 [INFO] Base - [id:298867247] Fetched 6510 reviews (6510 fetched in total)\n",
            "2021-05-13 01:00:10,238 [INFO] Base - [id:298867247] Fetched 6510 reviews (6510 fetched in total)\n",
            "2021-05-13 01:00:23,359 [INFO] Base - [id:298867247] Fetched 6510 reviews (6510 fetched in total)\n",
            "2021-05-13 01:00:36,442 [INFO] Base - [id:298867247] Fetched 6510 reviews (6510 fetched in total)\n",
            "2021-05-13 01:00:49,420 [INFO] Base - [id:298867247] Fetched 6510 reviews (6510 fetched in total)\n",
            "2021-05-13 01:01:02,470 [INFO] Base - [id:298867247] Fetched 6510 reviews (6510 fetched in total)\n",
            "2021-05-13 01:01:15,369 [INFO] Base - [id:298867247] Fetched 6510 reviews (6510 fetched in total)\n",
            "2021-05-13 01:01:28,224 [INFO] Base - [id:298867247] Fetched 6510 reviews (6510 fetched in total)\n",
            "2021-05-13 01:01:41,228 [INFO] Base - [id:298867247] Fetched 6510 reviews (6510 fetched in total)\n",
            "2021-05-13 01:01:54,267 [INFO] Base - [id:298867247] Fetched 6510 reviews (6510 fetched in total)\n",
            "2021-05-13 01:02:07,762 [INFO] Base - [id:298867247] Fetched 6510 reviews (6510 fetched in total)\n",
            "2021-05-13 01:02:20,768 [INFO] Base - [id:298867247] Fetched 6510 reviews (6510 fetched in total)\n",
            "2021-05-13 01:02:34,019 [INFO] Base - [id:298867247] Fetched 6510 reviews (6510 fetched in total)\n",
            "2021-05-13 01:02:47,206 [INFO] Base - [id:298867247] Fetched 6510 reviews (6510 fetched in total)\n",
            "2021-05-13 01:03:00,448 [INFO] Base - [id:298867247] Fetched 6510 reviews (6510 fetched in total)\n",
            "2021-05-13 01:03:13,357 [INFO] Base - [id:298867247] Fetched 6510 reviews (6510 fetched in total)\n",
            "2021-05-13 01:03:26,333 [INFO] Base - [id:298867247] Fetched 6510 reviews (6510 fetched in total)\n",
            "2021-05-13 01:03:39,134 [INFO] Base - [id:298867247] Fetched 6510 reviews (6510 fetched in total)\n",
            "2021-05-13 01:03:51,933 [INFO] Base - [id:298867247] Fetched 6510 reviews (6510 fetched in total)\n",
            "2021-05-13 01:04:04,960 [INFO] Base - [id:298867247] Fetched 6510 reviews (6510 fetched in total)\n",
            "2021-05-13 01:04:18,123 [INFO] Base - [id:298867247] Fetched 6510 reviews (6510 fetched in total)\n",
            "2021-05-13 01:04:31,339 [INFO] Base - [id:298867247] Fetched 6510 reviews (6510 fetched in total)\n",
            "2021-05-13 01:04:44,563 [INFO] Base - [id:298867247] Fetched 6510 reviews (6510 fetched in total)\n",
            "2021-05-13 01:04:57,574 [INFO] Base - [id:298867247] Fetched 6510 reviews (6510 fetched in total)\n",
            "2021-05-13 01:05:10,797 [INFO] Base - [id:298867247] Fetched 6510 reviews (6510 fetched in total)\n",
            "2021-05-13 01:05:24,029 [INFO] Base - [id:298867247] Fetched 6510 reviews (6510 fetched in total)\n",
            "2021-05-13 01:05:37,187 [INFO] Base - [id:298867247] Fetched 6510 reviews (6510 fetched in total)\n",
            "2021-05-13 01:05:50,375 [INFO] Base - [id:298867247] Fetched 6510 reviews (6510 fetched in total)\n",
            "2021-05-13 01:06:03,561 [INFO] Base - [id:298867247] Fetched 6510 reviews (6510 fetched in total)\n",
            "2021-05-13 01:06:16,604 [INFO] Base - [id:298867247] Fetched 6510 reviews (6510 fetched in total)\n",
            "2021-05-13 01:06:29,758 [INFO] Base - [id:298867247] Fetched 6510 reviews (6510 fetched in total)\n",
            "2021-05-13 01:06:43,027 [INFO] Base - [id:298867247] Fetched 6510 reviews (6510 fetched in total)\n",
            "2021-05-13 01:06:56,604 [INFO] Base - [id:298867247] Fetched 6510 reviews (6510 fetched in total)\n",
            "2021-05-13 01:07:09,767 [INFO] Base - [id:298867247] Fetched 6510 reviews (6510 fetched in total)\n",
            "2021-05-13 01:07:22,851 [INFO] Base - [id:298867247] Fetched 6510 reviews (6510 fetched in total)\n",
            "2021-05-13 01:07:35,966 [INFO] Base - [id:298867247] Fetched 6510 reviews (6510 fetched in total)\n",
            "2021-05-13 01:07:48,947 [INFO] Base - [id:298867247] Fetched 6510 reviews (6510 fetched in total)\n",
            "2021-05-13 01:08:01,908 [INFO] Base - [id:298867247] Fetched 6510 reviews (6510 fetched in total)\n",
            "2021-05-13 01:08:15,092 [INFO] Base - [id:298867247] Fetched 6510 reviews (6510 fetched in total)\n",
            "2021-05-13 01:08:28,161 [INFO] Base - [id:298867247] Fetched 6510 reviews (6510 fetched in total)\n",
            "2021-05-13 01:08:41,187 [INFO] Base - [id:298867247] Fetched 6510 reviews (6510 fetched in total)\n",
            "2021-05-13 01:08:54,164 [INFO] Base - [id:298867247] Fetched 6510 reviews (6510 fetched in total)\n",
            "2021-05-13 01:09:07,360 [INFO] Base - [id:298867247] Fetched 6510 reviews (6510 fetched in total)\n",
            "2021-05-13 01:09:20,374 [INFO] Base - [id:298867247] Fetched 6510 reviews (6510 fetched in total)\n",
            "2021-05-13 01:09:34,132 [INFO] Base - [id:298867247] Fetched 6510 reviews (6510 fetched in total)\n",
            "2021-05-13 01:09:47,268 [INFO] Base - [id:298867247] Fetched 6510 reviews (6510 fetched in total)\n",
            "2021-05-13 01:10:00,302 [INFO] Base - [id:298867247] Fetched 6510 reviews (6510 fetched in total)\n",
            "2021-05-13 01:10:13,495 [INFO] Base - [id:298867247] Fetched 6510 reviews (6510 fetched in total)\n",
            "2021-05-13 01:10:26,779 [INFO] Base - [id:298867247] Fetched 6510 reviews (6510 fetched in total)\n",
            "2021-05-13 01:10:40,087 [INFO] Base - [id:298867247] Fetched 6510 reviews (6510 fetched in total)\n",
            "2021-05-13 01:10:53,503 [INFO] Base - [id:298867247] Fetched 6510 reviews (6510 fetched in total)\n",
            "2021-05-13 01:11:06,735 [INFO] Base - [id:298867247] Fetched 6510 reviews (6510 fetched in total)\n",
            "2021-05-13 01:11:19,911 [INFO] Base - [id:298867247] Fetched 6510 reviews (6510 fetched in total)\n",
            "2021-05-13 01:11:33,126 [INFO] Base - [id:298867247] Fetched 6510 reviews (6510 fetched in total)\n",
            "2021-05-13 01:11:46,386 [INFO] Base - [id:298867247] Fetched 6510 reviews (6510 fetched in total)\n",
            "2021-05-13 01:11:59,554 [INFO] Base - [id:298867247] Fetched 6510 reviews (6510 fetched in total)\n",
            "2021-05-13 01:12:12,761 [INFO] Base - [id:298867247] Fetched 6510 reviews (6510 fetched in total)\n",
            "2021-05-13 01:12:25,855 [INFO] Base - [id:298867247] Fetched 6510 reviews (6510 fetched in total)\n",
            "2021-05-13 01:12:38,881 [INFO] Base - [id:298867247] Fetched 6510 reviews (6510 fetched in total)\n",
            "2021-05-13 01:12:51,879 [INFO] Base - [id:298867247] Fetched 6510 reviews (6510 fetched in total)\n",
            "2021-05-13 01:13:05,095 [INFO] Base - [id:298867247] Fetched 6510 reviews (6510 fetched in total)\n",
            "2021-05-13 01:13:18,132 [INFO] Base - [id:298867247] Fetched 6510 reviews (6510 fetched in total)\n",
            "2021-05-13 01:13:31,158 [INFO] Base - [id:298867247] Fetched 6510 reviews (6510 fetched in total)\n",
            "2021-05-13 01:13:44,253 [INFO] Base - [id:298867247] Fetched 6510 reviews (6510 fetched in total)\n",
            "2021-05-13 01:13:57,307 [INFO] Base - [id:298867247] Fetched 6510 reviews (6510 fetched in total)\n",
            "2021-05-13 01:14:10,344 [INFO] Base - [id:298867247] Fetched 6510 reviews (6510 fetched in total)\n",
            "2021-05-13 01:14:23,393 [INFO] Base - [id:298867247] Fetched 6510 reviews (6510 fetched in total)\n",
            "2021-05-13 01:14:36,563 [INFO] Base - [id:298867247] Fetched 6510 reviews (6510 fetched in total)\n",
            "2021-05-13 01:14:49,772 [INFO] Base - [id:298867247] Fetched 6510 reviews (6510 fetched in total)\n",
            "2021-05-13 01:15:02,925 [INFO] Base - [id:298867247] Fetched 6510 reviews (6510 fetched in total)\n",
            "2021-05-13 01:15:16,094 [INFO] Base - [id:298867247] Fetched 6510 reviews (6510 fetched in total)\n",
            "2021-05-13 01:15:29,094 [INFO] Base - [id:298867247] Fetched 6510 reviews (6510 fetched in total)\n",
            "2021-05-13 01:15:42,322 [INFO] Base - [id:298867247] Fetched 6510 reviews (6510 fetched in total)\n",
            "2021-05-13 01:15:55,362 [INFO] Base - [id:298867247] Fetched 6510 reviews (6510 fetched in total)\n",
            "2021-05-13 01:16:08,667 [INFO] Base - [id:298867247] Fetched 6510 reviews (6510 fetched in total)\n",
            "2021-05-13 01:16:21,860 [INFO] Base - [id:298867247] Fetched 6510 reviews (6510 fetched in total)\n",
            "2021-05-13 01:16:35,159 [INFO] Base - [id:298867247] Fetched 6510 reviews (6510 fetched in total)\n",
            "2021-05-13 01:16:48,376 [INFO] Base - [id:298867247] Fetched 6510 reviews (6510 fetched in total)\n",
            "2021-05-13 01:17:01,643 [INFO] Base - [id:298867247] Fetched 6510 reviews (6510 fetched in total)\n",
            "2021-05-13 01:17:14,794 [INFO] Base - [id:298867247] Fetched 6510 reviews (6510 fetched in total)\n",
            "2021-05-13 01:17:28,001 [INFO] Base - [id:298867247] Fetched 6510 reviews (6510 fetched in total)\n",
            "2021-05-13 01:17:41,166 [INFO] Base - [id:298867247] Fetched 6510 reviews (6510 fetched in total)\n",
            "2021-05-13 01:17:54,077 [INFO] Base - [id:298867247] Fetched 6510 reviews (6510 fetched in total)\n",
            "2021-05-13 01:18:07,300 [INFO] Base - [id:298867247] Fetched 6510 reviews (6510 fetched in total)\n",
            "2021-05-13 01:18:20,585 [INFO] Base - [id:298867247] Fetched 6510 reviews (6510 fetched in total)\n",
            "2021-05-13 01:18:33,669 [INFO] Base - [id:298867247] Fetched 6510 reviews (6510 fetched in total)\n",
            "2021-05-13 01:18:46,800 [INFO] Base - [id:298867247] Fetched 6510 reviews (6510 fetched in total)\n",
            "2021-05-13 01:18:59,785 [INFO] Base - [id:298867247] Fetched 6510 reviews (6510 fetched in total)\n",
            "2021-05-13 01:19:13,903 [INFO] Base - [id:298867247] Fetched 6510 reviews (6510 fetched in total)\n",
            "2021-05-13 01:19:26,927 [INFO] Base - [id:298867247] Fetched 6510 reviews (6510 fetched in total)\n",
            "2021-05-13 01:19:40,919 [INFO] Base - [id:298867247] Fetched 6510 reviews (6510 fetched in total)\n",
            "2021-05-13 01:19:53,921 [INFO] Base - [id:298867247] Fetched 6510 reviews (6510 fetched in total)\n",
            "2021-05-13 01:20:06,948 [INFO] Base - [id:298867247] Fetched 6510 reviews (6510 fetched in total)\n",
            "2021-05-13 01:20:20,001 [INFO] Base - [id:298867247] Fetched 6510 reviews (6510 fetched in total)\n",
            "2021-05-13 01:20:33,478 [INFO] Base - [id:298867247] Fetched 6510 reviews (6510 fetched in total)\n",
            "2021-05-13 01:20:46,648 [INFO] Base - [id:298867247] Fetched 6510 reviews (6510 fetched in total)\n",
            "2021-05-13 01:20:59,831 [INFO] Base - [id:298867247] Fetched 6510 reviews (6510 fetched in total)\n",
            "2021-05-13 01:21:13,109 [INFO] Base - [id:298867247] Fetched 6510 reviews (6510 fetched in total)\n",
            "2021-05-13 01:21:26,310 [INFO] Base - [id:298867247] Fetched 6510 reviews (6510 fetched in total)\n",
            "2021-05-13 01:21:40,728 [INFO] Base - [id:298867247] Fetched 6510 reviews (6510 fetched in total)\n",
            "2021-05-13 01:21:53,938 [INFO] Base - [id:298867247] Fetched 6510 reviews (6510 fetched in total)\n",
            "2021-05-13 01:22:07,097 [INFO] Base - [id:298867247] Fetched 6510 reviews (6510 fetched in total)\n",
            "2021-05-13 01:22:20,328 [INFO] Base - [id:298867247] Fetched 6510 reviews (6510 fetched in total)\n",
            "2021-05-13 01:22:33,359 [INFO] Base - [id:298867247] Fetched 6510 reviews (6510 fetched in total)\n",
            "2021-05-13 01:22:46,338 [INFO] Base - [id:298867247] Fetched 6510 reviews (6510 fetched in total)\n",
            "2021-05-13 01:22:59,387 [INFO] Base - [id:298867247] Fetched 6510 reviews (6510 fetched in total)\n",
            "2021-05-13 01:23:12,477 [INFO] Base - [id:298867247] Fetched 6510 reviews (6510 fetched in total)\n",
            "2021-05-13 01:23:25,677 [INFO] Base - [id:298867247] Fetched 6510 reviews (6510 fetched in total)\n",
            "2021-05-13 01:23:38,816 [INFO] Base - [id:298867247] Fetched 6510 reviews (6510 fetched in total)\n",
            "2021-05-13 01:23:51,986 [INFO] Base - [id:298867247] Fetched 6510 reviews (6510 fetched in total)\n",
            "2021-05-13 01:24:05,065 [INFO] Base - [id:298867247] Fetched 6510 reviews (6510 fetched in total)\n",
            "2021-05-13 01:24:18,177 [INFO] Base - [id:298867247] Fetched 6510 reviews (6510 fetched in total)\n",
            "2021-05-13 01:24:31,210 [INFO] Base - [id:298867247] Fetched 6510 reviews (6510 fetched in total)\n",
            "2021-05-13 01:24:44,539 [INFO] Base - [id:298867247] Fetched 6510 reviews (6510 fetched in total)\n",
            "2021-05-13 01:24:57,615 [INFO] Base - [id:298867247] Fetched 6510 reviews (6510 fetched in total)\n",
            "2021-05-13 01:25:10,621 [INFO] Base - [id:298867247] Fetched 6510 reviews (6510 fetched in total)\n",
            "2021-05-13 01:25:23,585 [INFO] Base - [id:298867247] Fetched 6510 reviews (6510 fetched in total)\n",
            "2021-05-13 01:25:36,585 [INFO] Base - [id:298867247] Fetched 6510 reviews (6510 fetched in total)\n",
            "2021-05-13 01:25:49,884 [INFO] Base - [id:298867247] Fetched 6510 reviews (6510 fetched in total)\n",
            "2021-05-13 01:26:03,027 [INFO] Base - [id:298867247] Fetched 6510 reviews (6510 fetched in total)\n",
            "2021-05-13 01:26:16,189 [INFO] Base - [id:298867247] Fetched 6510 reviews (6510 fetched in total)\n",
            "2021-05-13 01:26:29,294 [INFO] Base - [id:298867247] Fetched 6510 reviews (6510 fetched in total)\n",
            "2021-05-13 01:26:42,421 [INFO] Base - [id:298867247] Fetched 6510 reviews (6510 fetched in total)\n",
            "2021-05-13 01:26:56,041 [INFO] Base - [id:298867247] Fetched 6510 reviews (6510 fetched in total)\n",
            "2021-05-13 01:27:09,055 [INFO] Base - [id:298867247] Fetched 6510 reviews (6510 fetched in total)\n",
            "2021-05-13 01:27:22,171 [INFO] Base - [id:298867247] Fetched 6510 reviews (6510 fetched in total)\n",
            "2021-05-13 01:27:35,227 [INFO] Base - [id:298867247] Fetched 6510 reviews (6510 fetched in total)\n",
            "2021-05-13 01:27:48,337 [INFO] Base - [id:298867247] Fetched 6510 reviews (6510 fetched in total)\n",
            "2021-05-13 01:28:01,350 [INFO] Base - [id:298867247] Fetched 6510 reviews (6510 fetched in total)\n",
            "2021-05-13 01:28:14,323 [INFO] Base - [id:298867247] Fetched 6510 reviews (6510 fetched in total)\n",
            "2021-05-13 01:28:28,186 [INFO] Base - [id:298867247] Fetched 6510 reviews (6510 fetched in total)\n",
            "2021-05-13 01:28:41,326 [INFO] Base - [id:298867247] Fetched 6510 reviews (6510 fetched in total)\n",
            "2021-05-13 01:28:54,424 [INFO] Base - [id:298867247] Fetched 6510 reviews (6510 fetched in total)\n",
            "2021-05-13 01:29:07,723 [INFO] Base - [id:298867247] Fetched 6510 reviews (6510 fetched in total)\n",
            "2021-05-13 01:29:20,926 [INFO] Base - [id:298867247] Fetched 6510 reviews (6510 fetched in total)\n",
            "2021-05-13 01:29:34,216 [INFO] Base - [id:298867247] Fetched 6510 reviews (6510 fetched in total)\n",
            "2021-05-13 01:29:47,617 [INFO] Base - [id:298867247] Fetched 6510 reviews (6510 fetched in total)\n",
            "2021-05-13 01:30:00,830 [INFO] Base - [id:298867247] Fetched 6510 reviews (6510 fetched in total)\n",
            "2021-05-13 01:30:15,190 [INFO] Base - [id:298867247] Fetched 6510 reviews (6510 fetched in total)\n",
            "2021-05-13 01:30:28,611 [INFO] Base - [id:298867247] Fetched 6510 reviews (6510 fetched in total)\n",
            "2021-05-13 01:30:41,587 [INFO] Base - [id:298867247] Fetched 6510 reviews (6510 fetched in total)\n",
            "2021-05-13 01:30:54,648 [INFO] Base - [id:298867247] Fetched 6510 reviews (6510 fetched in total)\n",
            "2021-05-13 01:31:07,861 [INFO] Base - [id:298867247] Fetched 6510 reviews (6510 fetched in total)\n",
            "2021-05-13 01:31:21,082 [INFO] Base - [id:298867247] Fetched 6510 reviews (6510 fetched in total)\n",
            "2021-05-13 01:31:34,440 [INFO] Base - [id:298867247] Fetched 6510 reviews (6510 fetched in total)\n",
            "2021-05-13 01:31:47,693 [INFO] Base - [id:298867247] Fetched 6510 reviews (6510 fetched in total)\n",
            "2021-05-13 01:32:00,905 [INFO] Base - [id:298867247] Fetched 6510 reviews (6510 fetched in total)\n",
            "2021-05-13 01:32:14,094 [INFO] Base - [id:298867247] Fetched 6510 reviews (6510 fetched in total)\n",
            "2021-05-13 01:32:27,274 [INFO] Base - [id:298867247] Fetched 6510 reviews (6510 fetched in total)\n",
            "2021-05-13 01:32:40,483 [INFO] Base - [id:298867247] Fetched 6510 reviews (6510 fetched in total)\n",
            "2021-05-13 01:32:53,617 [INFO] Base - [id:298867247] Fetched 6510 reviews (6510 fetched in total)\n",
            "2021-05-13 01:33:06,689 [INFO] Base - [id:298867247] Fetched 6510 reviews (6510 fetched in total)\n",
            "2021-05-13 01:33:20,002 [INFO] Base - [id:298867247] Fetched 6510 reviews (6510 fetched in total)\n",
            "2021-05-13 01:33:33,245 [INFO] Base - [id:298867247] Fetched 6510 reviews (6510 fetched in total)\n",
            "2021-05-13 01:33:46,260 [INFO] Base - [id:298867247] Fetched 6510 reviews (6510 fetched in total)\n",
            "2021-05-13 01:33:59,473 [INFO] Base - [id:298867247] Fetched 6510 reviews (6510 fetched in total)\n",
            "2021-05-13 01:34:12,758 [INFO] Base - [id:298867247] Fetched 6510 reviews (6510 fetched in total)\n",
            "2021-05-13 01:34:26,020 [INFO] Base - [id:298867247] Fetched 6510 reviews (6510 fetched in total)\n",
            "2021-05-13 01:34:39,224 [INFO] Base - [id:298867247] Fetched 6510 reviews (6510 fetched in total)\n",
            "2021-05-13 01:34:52,413 [INFO] Base - [id:298867247] Fetched 6510 reviews (6510 fetched in total)\n",
            "2021-05-13 01:35:05,764 [INFO] Base - [id:298867247] Fetched 6510 reviews (6510 fetched in total)\n",
            "2021-05-13 01:35:18,941 [INFO] Base - [id:298867247] Fetched 6510 reviews (6510 fetched in total)\n",
            "2021-05-13 01:35:32,126 [INFO] Base - [id:298867247] Fetched 6510 reviews (6510 fetched in total)\n",
            "2021-05-13 01:35:45,189 [INFO] Base - [id:298867247] Fetched 6510 reviews (6510 fetched in total)\n",
            "2021-05-13 01:35:58,384 [INFO] Base - [id:298867247] Fetched 6510 reviews (6510 fetched in total)\n",
            "2021-05-13 01:36:11,655 [INFO] Base - [id:298867247] Fetched 6510 reviews (6510 fetched in total)\n",
            "2021-05-13 01:36:24,844 [INFO] Base - [id:298867247] Fetched 6510 reviews (6510 fetched in total)\n",
            "2021-05-13 01:36:38,051 [INFO] Base - [id:298867247] Fetched 6510 reviews (6510 fetched in total)\n",
            "2021-05-13 01:36:51,096 [INFO] Base - [id:298867247] Fetched 6510 reviews (6510 fetched in total)\n",
            "2021-05-13 01:37:04,160 [INFO] Base - [id:298867247] Fetched 6510 reviews (6510 fetched in total)\n",
            "2021-05-13 01:37:17,225 [INFO] Base - [id:298867247] Fetched 6510 reviews (6510 fetched in total)\n",
            "2021-05-13 01:37:30,271 [INFO] Base - [id:298867247] Fetched 6510 reviews (6510 fetched in total)\n",
            "2021-05-13 01:37:43,620 [INFO] Base - [id:298867247] Fetched 6510 reviews (6510 fetched in total)\n",
            "2021-05-13 01:37:56,675 [INFO] Base - [id:298867247] Fetched 6510 reviews (6510 fetched in total)\n",
            "2021-05-13 01:38:09,695 [INFO] Base - [id:298867247] Fetched 6510 reviews (6510 fetched in total)\n",
            "2021-05-13 01:38:22,710 [INFO] Base - [id:298867247] Fetched 6510 reviews (6510 fetched in total)\n",
            "2021-05-13 01:38:35,711 [INFO] Base - [id:298867247] Fetched 6510 reviews (6510 fetched in total)\n",
            "2021-05-13 01:38:48,672 [INFO] Base - [id:298867247] Fetched 6510 reviews (6510 fetched in total)\n",
            "2021-05-13 01:39:01,776 [INFO] Base - [id:298867247] Fetched 6510 reviews (6510 fetched in total)\n",
            "2021-05-13 01:39:14,779 [INFO] Base - [id:298867247] Fetched 6510 reviews (6510 fetched in total)\n",
            "2021-05-13 01:39:27,929 [INFO] Base - [id:298867247] Fetched 6510 reviews (6510 fetched in total)\n",
            "2021-05-13 01:39:41,452 [INFO] Base - [id:298867247] Fetched 6510 reviews (6510 fetched in total)\n",
            "2021-05-13 01:39:54,464 [INFO] Base - [id:298867247] Fetched 6510 reviews (6510 fetched in total)\n",
            "2021-05-13 01:40:07,509 [INFO] Base - [id:298867247] Fetched 6510 reviews (6510 fetched in total)\n",
            "2021-05-13 01:40:20,579 [INFO] Base - [id:298867247] Fetched 6510 reviews (6510 fetched in total)\n",
            "2021-05-13 01:40:33,704 [INFO] Base - [id:298867247] Fetched 6510 reviews (6510 fetched in total)\n",
            "2021-05-13 01:40:46,902 [INFO] Base - [id:298867247] Fetched 6510 reviews (6510 fetched in total)\n",
            "2021-05-13 01:41:00,133 [INFO] Base - [id:298867247] Fetched 6510 reviews (6510 fetched in total)\n",
            "2021-05-13 01:41:13,882 [INFO] Base - [id:298867247] Fetched 6510 reviews (6510 fetched in total)\n",
            "2021-05-13 01:41:26,895 [INFO] Base - [id:298867247] Fetched 6510 reviews (6510 fetched in total)\n",
            "2021-05-13 01:41:40,128 [INFO] Base - [id:298867247] Fetched 6510 reviews (6510 fetched in total)\n",
            "2021-05-13 01:41:53,455 [INFO] Base - [id:298867247] Fetched 6510 reviews (6510 fetched in total)\n",
            "2021-05-13 01:42:06,523 [INFO] Base - [id:298867247] Fetched 6510 reviews (6510 fetched in total)\n",
            "2021-05-13 01:42:19,846 [INFO] Base - [id:298867247] Fetched 6510 reviews (6510 fetched in total)\n",
            "2021-05-13 01:42:33,031 [INFO] Base - [id:298867247] Fetched 6510 reviews (6510 fetched in total)\n",
            "2021-05-13 01:42:45,899 [INFO] Base - [id:298867247] Fetched 6510 reviews (6510 fetched in total)\n",
            "2021-05-13 01:42:58,956 [INFO] Base - [id:298867247] Fetched 6510 reviews (6510 fetched in total)\n",
            "2021-05-13 01:43:11,939 [INFO] Base - [id:298867247] Fetched 6510 reviews (6510 fetched in total)\n",
            "2021-05-13 01:43:24,749 [INFO] Base - [id:298867247] Fetched 6510 reviews (6510 fetched in total)\n",
            "2021-05-13 01:43:37,908 [INFO] Base - [id:298867247] Fetched 6510 reviews (6510 fetched in total)\n",
            "2021-05-13 01:43:50,927 [INFO] Base - [id:298867247] Fetched 6510 reviews (6510 fetched in total)\n",
            "2021-05-13 01:44:04,052 [INFO] Base - [id:298867247] Fetched 6510 reviews (6510 fetched in total)\n",
            "2021-05-13 01:44:17,051 [INFO] Base - [id:298867247] Fetched 6510 reviews (6510 fetched in total)\n",
            "2021-05-13 01:44:30,098 [INFO] Base - [id:298867247] Fetched 6510 reviews (6510 fetched in total)\n",
            "2021-05-13 01:44:43,491 [INFO] Base - [id:298867247] Fetched 6510 reviews (6510 fetched in total)\n",
            "2021-05-13 01:44:56,612 [INFO] Base - [id:298867247] Fetched 6510 reviews (6510 fetched in total)\n",
            "2021-05-13 01:45:09,709 [INFO] Base - [id:298867247] Fetched 6510 reviews (6510 fetched in total)\n",
            "2021-05-13 01:45:22,759 [INFO] Base - [id:298867247] Fetched 6510 reviews (6510 fetched in total)\n",
            "2021-05-13 01:45:35,799 [INFO] Base - [id:298867247] Fetched 6510 reviews (6510 fetched in total)\n",
            "2021-05-13 01:45:48,890 [INFO] Base - [id:298867247] Fetched 6510 reviews (6510 fetched in total)\n",
            "2021-05-13 01:46:01,897 [INFO] Base - [id:298867247] Fetched 6510 reviews (6510 fetched in total)\n",
            "2021-05-13 01:46:14,923 [INFO] Base - [id:298867247] Fetched 6510 reviews (6510 fetched in total)\n",
            "2021-05-13 01:46:27,904 [INFO] Base - [id:298867247] Fetched 6510 reviews (6510 fetched in total)\n",
            "2021-05-13 01:46:41,172 [INFO] Base - [id:298867247] Fetched 6510 reviews (6510 fetched in total)\n",
            "2021-05-13 01:46:54,273 [INFO] Base - [id:298867247] Fetched 6510 reviews (6510 fetched in total)\n",
            "2021-05-13 01:47:08,129 [INFO] Base - [id:298867247] Fetched 6510 reviews (6510 fetched in total)\n",
            "2021-05-13 01:47:21,225 [INFO] Base - [id:298867247] Fetched 6510 reviews (6510 fetched in total)\n",
            "2021-05-13 01:47:34,287 [INFO] Base - [id:298867247] Fetched 6510 reviews (6510 fetched in total)\n",
            "2021-05-13 01:47:47,318 [INFO] Base - [id:298867247] Fetched 6510 reviews (6510 fetched in total)\n",
            "2021-05-13 01:48:00,501 [INFO] Base - [id:298867247] Fetched 6510 reviews (6510 fetched in total)\n",
            "2021-05-13 01:48:13,521 [INFO] Base - [id:298867247] Fetched 6510 reviews (6510 fetched in total)\n",
            "2021-05-13 01:48:26,577 [INFO] Base - [id:298867247] Fetched 6510 reviews (6510 fetched in total)\n",
            "2021-05-13 01:48:39,480 [INFO] Base - [id:298867247] Fetched 6510 reviews (6510 fetched in total)\n",
            "2021-05-13 01:48:52,312 [INFO] Base - [id:298867247] Fetched 6510 reviews (6510 fetched in total)\n",
            "2021-05-13 01:49:06,352 [INFO] Base - [id:298867247] Fetched 6510 reviews (6510 fetched in total)\n",
            "2021-05-13 01:49:19,268 [INFO] Base - [id:298867247] Fetched 6510 reviews (6510 fetched in total)\n",
            "2021-05-13 01:49:32,300 [INFO] Base - [id:298867247] Fetched 6510 reviews (6510 fetched in total)\n",
            "2021-05-13 01:49:45,349 [INFO] Base - [id:298867247] Fetched 6510 reviews (6510 fetched in total)\n",
            "2021-05-13 01:49:58,467 [INFO] Base - [id:298867247] Fetched 6510 reviews (6510 fetched in total)\n",
            "2021-05-13 01:50:11,419 [INFO] Base - [id:298867247] Fetched 6510 reviews (6510 fetched in total)\n",
            "2021-05-13 01:50:24,389 [INFO] Base - [id:298867247] Fetched 6510 reviews (6510 fetched in total)\n",
            "2021-05-13 01:50:37,401 [INFO] Base - [id:298867247] Fetched 6510 reviews (6510 fetched in total)\n",
            "2021-05-13 01:50:50,377 [INFO] Base - [id:298867247] Fetched 6510 reviews (6510 fetched in total)\n",
            "2021-05-13 01:51:04,012 [INFO] Base - [id:298867247] Fetched 6510 reviews (6510 fetched in total)\n",
            "2021-05-13 01:51:17,136 [INFO] Base - [id:298867247] Fetched 6510 reviews (6510 fetched in total)\n",
            "2021-05-13 01:51:30,924 [INFO] Base - [id:298867247] Fetched 6510 reviews (6510 fetched in total)\n",
            "2021-05-13 01:51:44,021 [INFO] Base - [id:298867247] Fetched 6510 reviews (6510 fetched in total)\n",
            "2021-05-13 01:51:57,200 [INFO] Base - [id:298867247] Fetched 6510 reviews (6510 fetched in total)\n",
            "2021-05-13 01:52:10,288 [INFO] Base - [id:298867247] Fetched 6510 reviews (6510 fetched in total)\n",
            "2021-05-13 01:52:23,348 [INFO] Base - [id:298867247] Fetched 6510 reviews (6510 fetched in total)\n",
            "2021-05-13 01:52:36,336 [INFO] Base - [id:298867247] Fetched 6510 reviews (6510 fetched in total)\n",
            "2021-05-13 01:52:49,594 [INFO] Base - [id:298867247] Fetched 6510 reviews (6510 fetched in total)\n",
            "2021-05-13 01:53:02,826 [INFO] Base - [id:298867247] Fetched 6510 reviews (6510 fetched in total)\n",
            "2021-05-13 01:53:16,042 [INFO] Base - [id:298867247] Fetched 6510 reviews (6510 fetched in total)\n",
            "2021-05-13 01:53:29,251 [INFO] Base - [id:298867247] Fetched 6510 reviews (6510 fetched in total)\n",
            "2021-05-13 01:53:42,353 [INFO] Base - [id:298867247] Fetched 6510 reviews (6510 fetched in total)\n",
            "2021-05-13 01:53:55,424 [INFO] Base - [id:298867247] Fetched 6510 reviews (6510 fetched in total)\n",
            "2021-05-13 01:54:08,669 [INFO] Base - [id:298867247] Fetched 6510 reviews (6510 fetched in total)\n",
            "2021-05-13 01:54:21,868 [INFO] Base - [id:298867247] Fetched 6510 reviews (6510 fetched in total)\n",
            "2021-05-13 01:54:35,216 [INFO] Base - [id:298867247] Fetched 6510 reviews (6510 fetched in total)\n",
            "2021-05-13 01:54:48,375 [INFO] Base - [id:298867247] Fetched 6510 reviews (6510 fetched in total)\n",
            "2021-05-13 01:55:01,425 [INFO] Base - [id:298867247] Fetched 6510 reviews (6510 fetched in total)\n",
            "2021-05-13 01:55:14,475 [INFO] Base - [id:298867247] Fetched 6510 reviews (6510 fetched in total)\n",
            "2021-05-13 01:55:27,450 [INFO] Base - [id:298867247] Fetched 6510 reviews (6510 fetched in total)\n",
            "2021-05-13 01:55:40,747 [INFO] Base - [id:298867247] Fetched 6510 reviews (6510 fetched in total)\n",
            "2021-05-13 01:55:53,742 [INFO] Base - [id:298867247] Fetched 6510 reviews (6510 fetched in total)\n",
            "2021-05-13 01:56:06,828 [INFO] Base - [id:298867247] Fetched 6510 reviews (6510 fetched in total)\n",
            "2021-05-13 01:56:19,835 [INFO] Base - [id:298867247] Fetched 6510 reviews (6510 fetched in total)\n",
            "2021-05-13 01:56:33,060 [INFO] Base - [id:298867247] Fetched 6510 reviews (6510 fetched in total)\n",
            "2021-05-13 01:56:46,161 [INFO] Base - [id:298867247] Fetched 6510 reviews (6510 fetched in total)\n",
            "2021-05-13 01:56:59,296 [INFO] Base - [id:298867247] Fetched 6510 reviews (6510 fetched in total)\n",
            "2021-05-13 01:57:12,619 [INFO] Base - [id:298867247] Fetched 6510 reviews (6510 fetched in total)\n",
            "2021-05-13 01:57:25,820 [INFO] Base - [id:298867247] Fetched 6510 reviews (6510 fetched in total)\n",
            "2021-05-13 01:57:39,075 [INFO] Base - [id:298867247] Fetched 6510 reviews (6510 fetched in total)\n",
            "2021-05-13 01:57:52,286 [INFO] Base - [id:298867247] Fetched 6510 reviews (6510 fetched in total)\n",
            "2021-05-13 01:58:05,478 [INFO] Base - [id:298867247] Fetched 6510 reviews (6510 fetched in total)\n",
            "2021-05-13 01:58:18,870 [INFO] Base - [id:298867247] Fetched 6510 reviews (6510 fetched in total)\n",
            "2021-05-13 01:58:32,057 [INFO] Base - [id:298867247] Fetched 6510 reviews (6510 fetched in total)\n",
            "2021-05-13 01:58:45,289 [INFO] Base - [id:298867247] Fetched 6510 reviews (6510 fetched in total)\n",
            "2021-05-13 01:58:58,502 [INFO] Base - [id:298867247] Fetched 6510 reviews (6510 fetched in total)\n",
            "2021-05-13 01:59:11,663 [INFO] Base - [id:298867247] Fetched 6510 reviews (6510 fetched in total)\n",
            "2021-05-13 01:59:24,810 [INFO] Base - [id:298867247] Fetched 6510 reviews (6510 fetched in total)\n",
            "2021-05-13 01:59:37,978 [INFO] Base - [id:298867247] Fetched 6510 reviews (6510 fetched in total)\n",
            "2021-05-13 01:59:51,167 [INFO] Base - [id:298867247] Fetched 6510 reviews (6510 fetched in total)\n",
            "2021-05-13 02:00:04,365 [INFO] Base - [id:298867247] Fetched 6510 reviews (6510 fetched in total)\n",
            "2021-05-13 02:00:17,549 [INFO] Base - [id:298867247] Fetched 6510 reviews (6510 fetched in total)\n",
            "2021-05-13 02:00:30,850 [INFO] Base - [id:298867247] Fetched 6510 reviews (6510 fetched in total)\n",
            "2021-05-13 02:00:44,003 [INFO] Base - [id:298867247] Fetched 6510 reviews (6510 fetched in total)\n",
            "2021-05-13 02:00:57,225 [INFO] Base - [id:298867247] Fetched 6510 reviews (6510 fetched in total)\n",
            "2021-05-13 02:01:10,741 [INFO] Base - [id:298867247] Fetched 6510 reviews (6510 fetched in total)\n",
            "2021-05-13 02:01:23,961 [INFO] Base - [id:298867247] Fetched 6510 reviews (6510 fetched in total)\n",
            "2021-05-13 02:01:37,199 [INFO] Base - [id:298867247] Fetched 6510 reviews (6510 fetched in total)\n",
            "2021-05-13 02:01:51,415 [INFO] Base - [id:298867247] Fetched 6510 reviews (6510 fetched in total)\n",
            "2021-05-13 02:02:04,580 [INFO] Base - [id:298867247] Fetched 6510 reviews (6510 fetched in total)\n",
            "2021-05-13 02:02:17,715 [INFO] Base - [id:298867247] Fetched 6510 reviews (6510 fetched in total)\n",
            "2021-05-13 02:02:30,981 [INFO] Base - [id:298867247] Fetched 6510 reviews (6510 fetched in total)\n",
            "2021-05-13 02:02:44,301 [INFO] Base - [id:298867247] Fetched 6510 reviews (6510 fetched in total)\n",
            "2021-05-13 02:02:57,349 [INFO] Base - [id:298867247] Fetched 6510 reviews (6510 fetched in total)\n",
            "2021-05-13 02:03:10,399 [INFO] Base - [id:298867247] Fetched 6510 reviews (6510 fetched in total)\n",
            "2021-05-13 02:03:23,638 [INFO] Base - [id:298867247] Fetched 6510 reviews (6510 fetched in total)\n",
            "2021-05-13 02:03:36,999 [INFO] Base - [id:298867247] Fetched 6510 reviews (6510 fetched in total)\n",
            "2021-05-13 02:03:50,118 [INFO] Base - [id:298867247] Fetched 6510 reviews (6510 fetched in total)\n",
            "2021-05-13 02:04:03,158 [INFO] Base - [id:298867247] Fetched 6510 reviews (6510 fetched in total)\n",
            "2021-05-13 02:04:16,212 [INFO] Base - [id:298867247] Fetched 6510 reviews (6510 fetched in total)\n",
            "2021-05-13 02:04:29,089 [INFO] Base - [id:298867247] Fetched 6510 reviews (6510 fetched in total)\n",
            "2021-05-13 02:04:42,073 [INFO] Base - [id:298867247] Fetched 6510 reviews (6510 fetched in total)\n",
            "2021-05-13 02:04:55,069 [INFO] Base - [id:298867247] Fetched 6510 reviews (6510 fetched in total)\n",
            "2021-05-13 02:05:08,109 [INFO] Base - [id:298867247] Fetched 6510 reviews (6510 fetched in total)\n",
            "2021-05-13 02:05:21,237 [INFO] Base - [id:298867247] Fetched 6510 reviews (6510 fetched in total)\n",
            "2021-05-13 02:05:34,278 [INFO] Base - [id:298867247] Fetched 6510 reviews (6510 fetched in total)\n",
            "2021-05-13 02:05:47,501 [INFO] Base - [id:298867247] Fetched 6510 reviews (6510 fetched in total)\n",
            "2021-05-13 02:06:00,571 [INFO] Base - [id:298867247] Fetched 6510 reviews (6510 fetched in total)\n",
            "2021-05-13 02:06:13,594 [INFO] Base - [id:298867247] Fetched 6510 reviews (6510 fetched in total)\n",
            "2021-05-13 02:06:26,639 [INFO] Base - [id:298867247] Fetched 6510 reviews (6510 fetched in total)\n",
            "2021-05-13 02:06:39,591 [INFO] Base - [id:298867247] Fetched 6510 reviews (6510 fetched in total)\n",
            "2021-05-13 02:06:52,484 [INFO] Base - [id:298867247] Fetched 6510 reviews (6510 fetched in total)\n",
            "2021-05-13 02:07:05,446 [INFO] Base - [id:298867247] Fetched 6510 reviews (6510 fetched in total)\n",
            "2021-05-13 02:07:18,343 [INFO] Base - [id:298867247] Fetched 6510 reviews (6510 fetched in total)\n",
            "2021-05-13 02:07:31,422 [INFO] Base - [id:298867247] Fetched 6510 reviews (6510 fetched in total)\n",
            "2021-05-13 02:07:44,359 [INFO] Base - [id:298867247] Fetched 6510 reviews (6510 fetched in total)\n",
            "2021-05-13 02:07:57,270 [INFO] Base - [id:298867247] Fetched 6510 reviews (6510 fetched in total)\n",
            "2021-05-13 02:08:10,321 [INFO] Base - [id:298867247] Fetched 6510 reviews (6510 fetched in total)\n",
            "2021-05-13 02:08:23,427 [INFO] Base - [id:298867247] Fetched 6510 reviews (6510 fetched in total)\n",
            "2021-05-13 02:08:36,463 [INFO] Base - [id:298867247] Fetched 6510 reviews (6510 fetched in total)\n",
            "2021-05-13 02:08:49,563 [INFO] Base - [id:298867247] Fetched 6510 reviews (6510 fetched in total)\n",
            "2021-05-13 02:09:02,880 [INFO] Base - [id:298867247] Fetched 6510 reviews (6510 fetched in total)\n",
            "2021-05-13 02:09:16,134 [INFO] Base - [id:298867247] Fetched 6510 reviews (6510 fetched in total)\n",
            "2021-05-13 02:09:29,528 [INFO] Base - [id:298867247] Fetched 6510 reviews (6510 fetched in total)\n",
            "2021-05-13 02:09:42,610 [INFO] Base - [id:298867247] Fetched 6510 reviews (6510 fetched in total)\n",
            "2021-05-13 02:09:55,617 [INFO] Base - [id:298867247] Fetched 6510 reviews (6510 fetched in total)\n",
            "2021-05-13 02:10:08,803 [INFO] Base - [id:298867247] Fetched 6510 reviews (6510 fetched in total)\n",
            "2021-05-13 02:10:22,018 [INFO] Base - [id:298867247] Fetched 6510 reviews (6510 fetched in total)\n",
            "2021-05-13 02:10:35,176 [INFO] Base - [id:298867247] Fetched 6510 reviews (6510 fetched in total)\n",
            "2021-05-13 02:10:48,256 [INFO] Base - [id:298867247] Fetched 6510 reviews (6510 fetched in total)\n",
            "2021-05-13 02:11:01,261 [INFO] Base - [id:298867247] Fetched 6510 reviews (6510 fetched in total)\n",
            "2021-05-13 02:11:14,376 [INFO] Base - [id:298867247] Fetched 6510 reviews (6510 fetched in total)\n",
            "2021-05-13 02:11:27,365 [INFO] Base - [id:298867247] Fetched 6510 reviews (6510 fetched in total)\n",
            "2021-05-13 02:11:40,599 [INFO] Base - [id:298867247] Fetched 6510 reviews (6510 fetched in total)\n",
            "2021-05-13 02:11:53,650 [INFO] Base - [id:298867247] Fetched 6510 reviews (6510 fetched in total)\n",
            "2021-05-13 02:12:06,690 [INFO] Base - [id:298867247] Fetched 6510 reviews (6510 fetched in total)\n",
            "2021-05-13 02:12:19,678 [INFO] Base - [id:298867247] Fetched 6510 reviews (6510 fetched in total)\n",
            "2021-05-13 02:12:32,710 [INFO] Base - [id:298867247] Fetched 6510 reviews (6510 fetched in total)\n",
            "2021-05-13 02:12:45,908 [INFO] Base - [id:298867247] Fetched 6510 reviews (6510 fetched in total)\n",
            "2021-05-13 02:12:59,105 [INFO] Base - [id:298867247] Fetched 6510 reviews (6510 fetched in total)\n",
            "2021-05-13 02:13:12,480 [INFO] Base - [id:298867247] Fetched 6510 reviews (6510 fetched in total)\n",
            "2021-05-13 02:13:25,493 [INFO] Base - [id:298867247] Fetched 6510 reviews (6510 fetched in total)\n",
            "2021-05-13 02:13:38,385 [INFO] Base - [id:298867247] Fetched 6510 reviews (6510 fetched in total)\n",
            "2021-05-13 02:13:51,595 [INFO] Base - [id:298867247] Fetched 6510 reviews (6510 fetched in total)\n",
            "2021-05-13 02:14:04,863 [INFO] Base - [id:298867247] Fetched 6510 reviews (6510 fetched in total)\n",
            "2021-05-13 02:14:18,133 [INFO] Base - [id:298867247] Fetched 6510 reviews (6510 fetched in total)\n",
            "2021-05-13 02:14:31,112 [INFO] Base - [id:298867247] Fetched 6510 reviews (6510 fetched in total)\n",
            "2021-05-13 02:14:44,278 [INFO] Base - [id:298867247] Fetched 6510 reviews (6510 fetched in total)\n",
            "2021-05-13 02:14:57,432 [INFO] Base - [id:298867247] Fetched 6510 reviews (6510 fetched in total)\n",
            "2021-05-13 02:15:10,847 [INFO] Base - [id:298867247] Fetched 6510 reviews (6510 fetched in total)\n",
            "2021-05-13 02:15:23,982 [INFO] Base - [id:298867247] Fetched 6510 reviews (6510 fetched in total)\n",
            "2021-05-13 02:15:37,069 [INFO] Base - [id:298867247] Fetched 6510 reviews (6510 fetched in total)\n",
            "2021-05-13 02:15:50,108 [INFO] Base - [id:298867247] Fetched 6510 reviews (6510 fetched in total)\n",
            "2021-05-13 02:16:03,377 [INFO] Base - [id:298867247] Fetched 6510 reviews (6510 fetched in total)\n",
            "2021-05-13 02:16:16,563 [INFO] Base - [id:298867247] Fetched 6510 reviews (6510 fetched in total)\n",
            "2021-05-13 02:16:29,744 [INFO] Base - [id:298867247] Fetched 6510 reviews (6510 fetched in total)\n",
            "2021-05-13 02:16:42,962 [INFO] Base - [id:298867247] Fetched 6510 reviews (6510 fetched in total)\n",
            "2021-05-13 02:16:56,341 [INFO] Base - [id:298867247] Fetched 6510 reviews (6510 fetched in total)\n",
            "2021-05-13 02:17:09,562 [INFO] Base - [id:298867247] Fetched 6510 reviews (6510 fetched in total)\n",
            "2021-05-13 02:17:22,796 [INFO] Base - [id:298867247] Fetched 6510 reviews (6510 fetched in total)\n",
            "2021-05-13 02:17:36,008 [INFO] Base - [id:298867247] Fetched 6510 reviews (6510 fetched in total)\n",
            "2021-05-13 02:17:49,217 [INFO] Base - [id:298867247] Fetched 6510 reviews (6510 fetched in total)\n",
            "2021-05-13 02:18:02,472 [INFO] Base - [id:298867247] Fetched 6510 reviews (6510 fetched in total)\n",
            "2021-05-13 02:18:15,541 [INFO] Base - [id:298867247] Fetched 6510 reviews (6510 fetched in total)\n",
            "2021-05-13 02:18:28,912 [INFO] Base - [id:298867247] Fetched 6510 reviews (6510 fetched in total)\n",
            "2021-05-13 02:18:42,218 [INFO] Base - [id:298867247] Fetched 6510 reviews (6510 fetched in total)\n",
            "2021-05-13 02:18:55,242 [INFO] Base - [id:298867247] Fetched 6510 reviews (6510 fetched in total)\n",
            "2021-05-13 02:19:08,339 [INFO] Base - [id:298867247] Fetched 6510 reviews (6510 fetched in total)\n",
            "2021-05-13 02:19:21,403 [INFO] Base - [id:298867247] Fetched 6510 reviews (6510 fetched in total)\n",
            "2021-05-13 02:19:34,443 [INFO] Base - [id:298867247] Fetched 6510 reviews (6510 fetched in total)\n",
            "2021-05-13 02:19:47,464 [INFO] Base - [id:298867247] Fetched 6510 reviews (6510 fetched in total)\n",
            "2021-05-13 02:20:00,606 [INFO] Base - [id:298867247] Fetched 6510 reviews (6510 fetched in total)\n",
            "2021-05-13 02:20:13,619 [INFO] Base - [id:298867247] Fetched 6510 reviews (6510 fetched in total)\n",
            "2021-05-13 02:20:26,631 [INFO] Base - [id:298867247] Fetched 6510 reviews (6510 fetched in total)\n",
            "2021-05-13 02:20:39,708 [INFO] Base - [id:298867247] Fetched 6510 reviews (6510 fetched in total)\n",
            "2021-05-13 02:20:52,717 [INFO] Base - [id:298867247] Fetched 6510 reviews (6510 fetched in total)\n",
            "2021-05-13 02:21:05,569 [INFO] Base - [id:298867247] Fetched 6510 reviews (6510 fetched in total)\n",
            "2021-05-13 02:21:18,688 [INFO] Base - [id:298867247] Fetched 6510 reviews (6510 fetched in total)\n",
            "2021-05-13 02:21:31,813 [INFO] Base - [id:298867247] Fetched 6510 reviews (6510 fetched in total)\n",
            "2021-05-13 02:21:44,869 [INFO] Base - [id:298867247] Fetched 6510 reviews (6510 fetched in total)\n",
            "2021-05-13 02:21:57,884 [INFO] Base - [id:298867247] Fetched 6510 reviews (6510 fetched in total)\n",
            "2021-05-13 02:22:10,944 [INFO] Base - [id:298867247] Fetched 6510 reviews (6510 fetched in total)\n",
            "2021-05-13 02:22:23,938 [INFO] Base - [id:298867247] Fetched 6510 reviews (6510 fetched in total)\n",
            "2021-05-13 02:22:37,064 [INFO] Base - [id:298867247] Fetched 6510 reviews (6510 fetched in total)\n",
            "2021-05-13 02:22:50,095 [INFO] Base - [id:298867247] Fetched 6510 reviews (6510 fetched in total)\n",
            "2021-05-13 02:23:03,118 [INFO] Base - [id:298867247] Fetched 6510 reviews (6510 fetched in total)\n",
            "2021-05-13 02:23:16,164 [INFO] Base - [id:298867247] Fetched 6510 reviews (6510 fetched in total)\n",
            "2021-05-13 02:23:28,937 [INFO] Base - [id:298867247] Fetched 6510 reviews (6510 fetched in total)\n",
            "2021-05-13 02:23:42,094 [INFO] Base - [id:298867247] Fetched 6510 reviews (6510 fetched in total)\n",
            "2021-05-13 02:23:55,084 [INFO] Base - [id:298867247] Fetched 6510 reviews (6510 fetched in total)\n",
            "2021-05-13 02:24:08,262 [INFO] Base - [id:298867247] Fetched 6510 reviews (6510 fetched in total)\n",
            "2021-05-13 02:24:21,321 [INFO] Base - [id:298867247] Fetched 6510 reviews (6510 fetched in total)\n",
            "2021-05-13 02:24:34,398 [INFO] Base - [id:298867247] Fetched 6510 reviews (6510 fetched in total)\n",
            "2021-05-13 02:24:47,366 [INFO] Base - [id:298867247] Fetched 6510 reviews (6510 fetched in total)\n",
            "2021-05-13 02:25:00,619 [INFO] Base - [id:298867247] Fetched 6510 reviews (6510 fetched in total)\n",
            "2021-05-13 02:25:13,647 [INFO] Base - [id:298867247] Fetched 6510 reviews (6510 fetched in total)\n",
            "2021-05-13 02:25:26,756 [INFO] Base - [id:298867247] Fetched 6510 reviews (6510 fetched in total)\n",
            "2021-05-13 02:25:39,942 [INFO] Base - [id:298867247] Fetched 6510 reviews (6510 fetched in total)\n",
            "2021-05-13 02:25:53,168 [INFO] Base - [id:298867247] Fetched 6510 reviews (6510 fetched in total)\n",
            "2021-05-13 02:26:06,432 [INFO] Base - [id:298867247] Fetched 6510 reviews (6510 fetched in total)\n",
            "2021-05-13 02:26:19,637 [INFO] Base - [id:298867247] Fetched 6510 reviews (6510 fetched in total)\n",
            "2021-05-13 02:26:32,912 [INFO] Base - [id:298867247] Fetched 6510 reviews (6510 fetched in total)\n",
            "2021-05-13 02:26:45,988 [INFO] Base - [id:298867247] Fetched 6510 reviews (6510 fetched in total)\n",
            "2021-05-13 02:26:59,167 [INFO] Base - [id:298867247] Fetched 6510 reviews (6510 fetched in total)\n"
          ],
          "name": "stderr"
        }
      ]
    },
    {
      "cell_type": "code",
      "metadata": {
        "id": "ybqpvYbfhZiY"
      },
      "source": [
        "# Chase"
      ],
      "execution_count": null,
      "outputs": []
    },
    {
      "cell_type": "code",
      "metadata": {
        "colab": {
          "base_uri": "https://localhost:8080/",
          "height": 232
        },
        "id": "BkvVy6UjhZia",
        "outputId": "bb5f80b7-6e16-4588-876e-52e5c2156a39"
      },
      "source": [
        "review_text = []\n",
        "review_title = []\n",
        "user = []\n",
        "rating = []\n",
        "date = []\n",
        "for review in reviews.review:\n",
        "    review_text.append(review['review'])\n",
        "    review_title.append(review['title'])\n",
        "    user.append(review['userName'])\n",
        "    rating.append(review['rating'])\n",
        "    date.append(review['date'])"
      ],
      "execution_count": null,
      "outputs": [
        {
          "output_type": "error",
          "ename": "NameError",
          "evalue": "ignored",
          "traceback": [
            "\u001b[0;31m---------------------------------------------------------------------------\u001b[0m",
            "\u001b[0;31mNameError\u001b[0m                                 Traceback (most recent call last)",
            "\u001b[0;32m<ipython-input-2-277f4c6a2a29>\u001b[0m in \u001b[0;36m<module>\u001b[0;34m()\u001b[0m\n\u001b[1;32m      4\u001b[0m \u001b[0mrating\u001b[0m \u001b[0;34m=\u001b[0m \u001b[0;34m[\u001b[0m\u001b[0;34m]\u001b[0m\u001b[0;34m\u001b[0m\u001b[0;34m\u001b[0m\u001b[0m\n\u001b[1;32m      5\u001b[0m \u001b[0mdate\u001b[0m \u001b[0;34m=\u001b[0m \u001b[0;34m[\u001b[0m\u001b[0;34m]\u001b[0m\u001b[0;34m\u001b[0m\u001b[0;34m\u001b[0m\u001b[0m\n\u001b[0;32m----> 6\u001b[0;31m \u001b[0;32mfor\u001b[0m \u001b[0mreview\u001b[0m \u001b[0;32min\u001b[0m \u001b[0mreviews\u001b[0m\u001b[0;34m.\u001b[0m\u001b[0mreview\u001b[0m\u001b[0;34m:\u001b[0m\u001b[0;34m\u001b[0m\u001b[0;34m\u001b[0m\u001b[0m\n\u001b[0m\u001b[1;32m      7\u001b[0m     \u001b[0mreview_text\u001b[0m\u001b[0;34m.\u001b[0m\u001b[0mappend\u001b[0m\u001b[0;34m(\u001b[0m\u001b[0mreview\u001b[0m\u001b[0;34m[\u001b[0m\u001b[0;34m'review'\u001b[0m\u001b[0;34m]\u001b[0m\u001b[0;34m)\u001b[0m\u001b[0;34m\u001b[0m\u001b[0;34m\u001b[0m\u001b[0m\n\u001b[1;32m      8\u001b[0m     \u001b[0mreview_title\u001b[0m\u001b[0;34m.\u001b[0m\u001b[0mappend\u001b[0m\u001b[0;34m(\u001b[0m\u001b[0mreview\u001b[0m\u001b[0;34m[\u001b[0m\u001b[0;34m'title'\u001b[0m\u001b[0;34m]\u001b[0m\u001b[0;34m)\u001b[0m\u001b[0;34m\u001b[0m\u001b[0;34m\u001b[0m\u001b[0m\n",
            "\u001b[0;31mNameError\u001b[0m: name 'reviews' is not defined"
          ]
        }
      ]
    },
    {
      "cell_type": "code",
      "metadata": {
        "colab": {
          "base_uri": "https://localhost:8080/",
          "height": 164
        },
        "id": "7sdoSRATCo80",
        "outputId": "176721e3-5a11-44c8-fc75-3ab1a1c75b87"
      },
      "source": [
        "reviews.review"
      ],
      "execution_count": null,
      "outputs": [
        {
          "output_type": "error",
          "ename": "NameError",
          "evalue": "ignored",
          "traceback": [
            "\u001b[0;31m---------------------------------------------------------------------------\u001b[0m",
            "\u001b[0;31mNameError\u001b[0m                                 Traceback (most recent call last)",
            "\u001b[0;32m<ipython-input-3-de6ce060e058>\u001b[0m in \u001b[0;36m<module>\u001b[0;34m()\u001b[0m\n\u001b[0;32m----> 1\u001b[0;31m \u001b[0mreviews\u001b[0m\u001b[0;34m.\u001b[0m\u001b[0mreview\u001b[0m\u001b[0;34m\u001b[0m\u001b[0;34m\u001b[0m\u001b[0m\n\u001b[0m",
            "\u001b[0;31mNameError\u001b[0m: name 'reviews' is not defined"
          ]
        }
      ]
    },
    {
      "cell_type": "code",
      "metadata": {
        "id": "qKP6XNqchZia"
      },
      "source": [
        "data = pd.DataFrame({'user':user,'date':date,'title':review_title,'text':review_text,'rating':rating})"
      ],
      "execution_count": null,
      "outputs": []
    },
    {
      "cell_type": "code",
      "metadata": {
        "id": "XRzJIDFshZib",
        "outputId": "75a15c05-5d41-4cd8-8407-1d6f65867f02"
      },
      "source": [
        "data"
      ],
      "execution_count": null,
      "outputs": [
        {
          "output_type": "execute_result",
          "data": {
            "text/html": [
              "<div>\n",
              "<style scoped>\n",
              "    .dataframe tbody tr th:only-of-type {\n",
              "        vertical-align: middle;\n",
              "    }\n",
              "\n",
              "    .dataframe tbody tr th {\n",
              "        vertical-align: top;\n",
              "    }\n",
              "\n",
              "    .dataframe thead th {\n",
              "        text-align: right;\n",
              "    }\n",
              "</style>\n",
              "<table border=\"1\" class=\"dataframe\">\n",
              "  <thead>\n",
              "    <tr style=\"text-align: right;\">\n",
              "      <th></th>\n",
              "      <th>user</th>\n",
              "      <th>date</th>\n",
              "      <th>title</th>\n",
              "      <th>text</th>\n",
              "      <th>rating</th>\n",
              "    </tr>\n",
              "  </thead>\n",
              "  <tbody>\n",
              "    <tr>\n",
              "      <th>0</th>\n",
              "      <td>dangityourecute</td>\n",
              "      <td>2018-08-31 03:27:20</td>\n",
              "      <td>I love the chase app</td>\n",
              "      <td>I’ve been using the app for over 4 years now a...</td>\n",
              "      <td>5</td>\n",
              "    </tr>\n",
              "    <tr>\n",
              "      <th>1</th>\n",
              "      <td>*dude1.0*</td>\n",
              "      <td>2020-06-17 17:44:58</td>\n",
              "      <td>Terrible Customer Service and App</td>\n",
              "      <td>First of all I rarely leave negative reviews, ...</td>\n",
              "      <td>1</td>\n",
              "    </tr>\n",
              "    <tr>\n",
              "      <th>2</th>\n",
              "      <td>cdjewell.net</td>\n",
              "      <td>2021-03-07 13:50:05</td>\n",
              "      <td>Great but missing one key feature</td>\n",
              "      <td>I have an embarrassing number of Chase account...</td>\n",
              "      <td>4</td>\n",
              "    </tr>\n",
              "    <tr>\n",
              "      <th>3</th>\n",
              "      <td>Zoeyxoxoxo</td>\n",
              "      <td>2020-06-03 00:42:12</td>\n",
              "      <td>If I could I’d put no stars</td>\n",
              "      <td>This app is TRASH. Matter of fact throw out th...</td>\n",
              "      <td>1</td>\n",
              "    </tr>\n",
              "    <tr>\n",
              "      <th>4</th>\n",
              "      <td>Serge s...</td>\n",
              "      <td>2020-07-07 12:43:59</td>\n",
              "      <td>It's excellent, packed with technology</td>\n",
              "      <td>I have done a review of the chase app over a y...</td>\n",
              "      <td>5</td>\n",
              "    </tr>\n",
              "    <tr>\n",
              "      <th>...</th>\n",
              "      <td>...</td>\n",
              "      <td>...</td>\n",
              "      <td>...</td>\n",
              "      <td>...</td>\n",
              "      <td>...</td>\n",
              "    </tr>\n",
              "    <tr>\n",
              "      <th>59995</th>\n",
              "      <td>Csmithincin</td>\n",
              "      <td>2015-10-05 11:55:33</td>\n",
              "      <td>Reliable, innovative and user friendly</td>\n",
              "      <td>Reliable, innovative and user friendly. Best b...</td>\n",
              "      <td>5</td>\n",
              "    </tr>\n",
              "    <tr>\n",
              "      <th>59996</th>\n",
              "      <td>Adam sefchovich</td>\n",
              "      <td>2015-10-05 00:40:21</td>\n",
              "      <td>Great app</td>\n",
              "      <td>Wish it included more rewards information rega...</td>\n",
              "      <td>5</td>\n",
              "    </tr>\n",
              "    <tr>\n",
              "      <th>59997</th>\n",
              "      <td>Goofy4u21</td>\n",
              "      <td>2015-10-04 20:31:14</td>\n",
              "      <td>Amazing</td>\n",
              "      <td>Chase app has gotten better and better. Love t...</td>\n",
              "      <td>5</td>\n",
              "    </tr>\n",
              "    <tr>\n",
              "      <th>59998</th>\n",
              "      <td>rmb317</td>\n",
              "      <td>2015-10-04 20:11:24</td>\n",
              "      <td>Terrific!</td>\n",
              "      <td>Great app! Very user-friendly and very few iss...</td>\n",
              "      <td>5</td>\n",
              "    </tr>\n",
              "    <tr>\n",
              "      <th>59999</th>\n",
              "      <td>T_NYCE</td>\n",
              "      <td>2015-10-04 18:37:27</td>\n",
              "      <td>Love it!</td>\n",
              "      <td>I have multiple bank accounts and multiple ban...</td>\n",
              "      <td>5</td>\n",
              "    </tr>\n",
              "  </tbody>\n",
              "</table>\n",
              "<p>60000 rows × 5 columns</p>\n",
              "</div>"
            ],
            "text/plain": [
              "                  user                date  \\\n",
              "0      dangityourecute 2018-08-31 03:27:20   \n",
              "1            *dude1.0* 2020-06-17 17:44:58   \n",
              "2         cdjewell.net 2021-03-07 13:50:05   \n",
              "3           Zoeyxoxoxo 2020-06-03 00:42:12   \n",
              "4           Serge s... 2020-07-07 12:43:59   \n",
              "...                ...                 ...   \n",
              "59995      Csmithincin 2015-10-05 11:55:33   \n",
              "59996  Adam sefchovich 2015-10-05 00:40:21   \n",
              "59997        Goofy4u21 2015-10-04 20:31:14   \n",
              "59998           rmb317 2015-10-04 20:11:24   \n",
              "59999           T_NYCE 2015-10-04 18:37:27   \n",
              "\n",
              "                                        title  \\\n",
              "0                        I love the chase app   \n",
              "1           Terrible Customer Service and App   \n",
              "2           Great but missing one key feature   \n",
              "3                 If I could I’d put no stars   \n",
              "4      It's excellent, packed with technology   \n",
              "...                                       ...   \n",
              "59995  Reliable, innovative and user friendly   \n",
              "59996                               Great app   \n",
              "59997                                 Amazing   \n",
              "59998                               Terrific!   \n",
              "59999                                Love it!   \n",
              "\n",
              "                                                    text  rating  \n",
              "0      I’ve been using the app for over 4 years now a...       5  \n",
              "1      First of all I rarely leave negative reviews, ...       1  \n",
              "2      I have an embarrassing number of Chase account...       4  \n",
              "3      This app is TRASH. Matter of fact throw out th...       1  \n",
              "4      I have done a review of the chase app over a y...       5  \n",
              "...                                                  ...     ...  \n",
              "59995  Reliable, innovative and user friendly. Best b...       5  \n",
              "59996  Wish it included more rewards information rega...       5  \n",
              "59997  Chase app has gotten better and better. Love t...       5  \n",
              "59998  Great app! Very user-friendly and very few iss...       5  \n",
              "59999  I have multiple bank accounts and multiple ban...       5  \n",
              "\n",
              "[60000 rows x 5 columns]"
            ]
          },
          "metadata": {
            "tags": []
          },
          "execution_count": 7
        }
      ]
    },
    {
      "cell_type": "code",
      "metadata": {
        "id": "bsYyGhxZhZib",
        "outputId": "7bf8413c-774a-4096-b71a-bcf1149ee69c"
      },
      "source": [
        "data.dropna()"
      ],
      "execution_count": null,
      "outputs": [
        {
          "output_type": "execute_result",
          "data": {
            "text/html": [
              "<div>\n",
              "<style scoped>\n",
              "    .dataframe tbody tr th:only-of-type {\n",
              "        vertical-align: middle;\n",
              "    }\n",
              "\n",
              "    .dataframe tbody tr th {\n",
              "        vertical-align: top;\n",
              "    }\n",
              "\n",
              "    .dataframe thead th {\n",
              "        text-align: right;\n",
              "    }\n",
              "</style>\n",
              "<table border=\"1\" class=\"dataframe\">\n",
              "  <thead>\n",
              "    <tr style=\"text-align: right;\">\n",
              "      <th></th>\n",
              "      <th>user</th>\n",
              "      <th>date</th>\n",
              "      <th>title</th>\n",
              "      <th>text</th>\n",
              "      <th>rating</th>\n",
              "    </tr>\n",
              "  </thead>\n",
              "  <tbody>\n",
              "    <tr>\n",
              "      <th>0</th>\n",
              "      <td>dangityourecute</td>\n",
              "      <td>2018-08-31 03:27:20</td>\n",
              "      <td>I love the chase app</td>\n",
              "      <td>I’ve been using the app for over 4 years now a...</td>\n",
              "      <td>5</td>\n",
              "    </tr>\n",
              "    <tr>\n",
              "      <th>1</th>\n",
              "      <td>*dude1.0*</td>\n",
              "      <td>2020-06-17 17:44:58</td>\n",
              "      <td>Terrible Customer Service and App</td>\n",
              "      <td>First of all I rarely leave negative reviews, ...</td>\n",
              "      <td>1</td>\n",
              "    </tr>\n",
              "    <tr>\n",
              "      <th>2</th>\n",
              "      <td>cdjewell.net</td>\n",
              "      <td>2021-03-07 13:50:05</td>\n",
              "      <td>Great but missing one key feature</td>\n",
              "      <td>I have an embarrassing number of Chase account...</td>\n",
              "      <td>4</td>\n",
              "    </tr>\n",
              "    <tr>\n",
              "      <th>3</th>\n",
              "      <td>Zoeyxoxoxo</td>\n",
              "      <td>2020-06-03 00:42:12</td>\n",
              "      <td>If I could I’d put no stars</td>\n",
              "      <td>This app is TRASH. Matter of fact throw out th...</td>\n",
              "      <td>1</td>\n",
              "    </tr>\n",
              "    <tr>\n",
              "      <th>4</th>\n",
              "      <td>Serge s...</td>\n",
              "      <td>2020-07-07 12:43:59</td>\n",
              "      <td>It's excellent, packed with technology</td>\n",
              "      <td>I have done a review of the chase app over a y...</td>\n",
              "      <td>5</td>\n",
              "    </tr>\n",
              "    <tr>\n",
              "      <th>...</th>\n",
              "      <td>...</td>\n",
              "      <td>...</td>\n",
              "      <td>...</td>\n",
              "      <td>...</td>\n",
              "      <td>...</td>\n",
              "    </tr>\n",
              "    <tr>\n",
              "      <th>59995</th>\n",
              "      <td>Csmithincin</td>\n",
              "      <td>2015-10-05 11:55:33</td>\n",
              "      <td>Reliable, innovative and user friendly</td>\n",
              "      <td>Reliable, innovative and user friendly. Best b...</td>\n",
              "      <td>5</td>\n",
              "    </tr>\n",
              "    <tr>\n",
              "      <th>59996</th>\n",
              "      <td>Adam sefchovich</td>\n",
              "      <td>2015-10-05 00:40:21</td>\n",
              "      <td>Great app</td>\n",
              "      <td>Wish it included more rewards information rega...</td>\n",
              "      <td>5</td>\n",
              "    </tr>\n",
              "    <tr>\n",
              "      <th>59997</th>\n",
              "      <td>Goofy4u21</td>\n",
              "      <td>2015-10-04 20:31:14</td>\n",
              "      <td>Amazing</td>\n",
              "      <td>Chase app has gotten better and better. Love t...</td>\n",
              "      <td>5</td>\n",
              "    </tr>\n",
              "    <tr>\n",
              "      <th>59998</th>\n",
              "      <td>rmb317</td>\n",
              "      <td>2015-10-04 20:11:24</td>\n",
              "      <td>Terrific!</td>\n",
              "      <td>Great app! Very user-friendly and very few iss...</td>\n",
              "      <td>5</td>\n",
              "    </tr>\n",
              "    <tr>\n",
              "      <th>59999</th>\n",
              "      <td>T_NYCE</td>\n",
              "      <td>2015-10-04 18:37:27</td>\n",
              "      <td>Love it!</td>\n",
              "      <td>I have multiple bank accounts and multiple ban...</td>\n",
              "      <td>5</td>\n",
              "    </tr>\n",
              "  </tbody>\n",
              "</table>\n",
              "<p>60000 rows × 5 columns</p>\n",
              "</div>"
            ],
            "text/plain": [
              "                  user                date  \\\n",
              "0      dangityourecute 2018-08-31 03:27:20   \n",
              "1            *dude1.0* 2020-06-17 17:44:58   \n",
              "2         cdjewell.net 2021-03-07 13:50:05   \n",
              "3           Zoeyxoxoxo 2020-06-03 00:42:12   \n",
              "4           Serge s... 2020-07-07 12:43:59   \n",
              "...                ...                 ...   \n",
              "59995      Csmithincin 2015-10-05 11:55:33   \n",
              "59996  Adam sefchovich 2015-10-05 00:40:21   \n",
              "59997        Goofy4u21 2015-10-04 20:31:14   \n",
              "59998           rmb317 2015-10-04 20:11:24   \n",
              "59999           T_NYCE 2015-10-04 18:37:27   \n",
              "\n",
              "                                        title  \\\n",
              "0                        I love the chase app   \n",
              "1           Terrible Customer Service and App   \n",
              "2           Great but missing one key feature   \n",
              "3                 If I could I’d put no stars   \n",
              "4      It's excellent, packed with technology   \n",
              "...                                       ...   \n",
              "59995  Reliable, innovative and user friendly   \n",
              "59996                               Great app   \n",
              "59997                                 Amazing   \n",
              "59998                               Terrific!   \n",
              "59999                                Love it!   \n",
              "\n",
              "                                                    text  rating  \n",
              "0      I’ve been using the app for over 4 years now a...       5  \n",
              "1      First of all I rarely leave negative reviews, ...       1  \n",
              "2      I have an embarrassing number of Chase account...       4  \n",
              "3      This app is TRASH. Matter of fact throw out th...       1  \n",
              "4      I have done a review of the chase app over a y...       5  \n",
              "...                                                  ...     ...  \n",
              "59995  Reliable, innovative and user friendly. Best b...       5  \n",
              "59996  Wish it included more rewards information rega...       5  \n",
              "59997  Chase app has gotten better and better. Love t...       5  \n",
              "59998  Great app! Very user-friendly and very few iss...       5  \n",
              "59999  I have multiple bank accounts and multiple ban...       5  \n",
              "\n",
              "[60000 rows x 5 columns]"
            ]
          },
          "metadata": {
            "tags": []
          },
          "execution_count": 13
        }
      ]
    },
    {
      "cell_type": "code",
      "metadata": {
        "id": "udhSYvQehZic"
      },
      "source": [
        "data = pd.read_csv('chaseReviews_60000.csv')"
      ],
      "execution_count": null,
      "outputs": []
    },
    {
      "cell_type": "code",
      "metadata": {
        "id": "huKyISL9hZic",
        "outputId": "e2b66b1c-2b40-43de-862e-8de9911af90f"
      },
      "source": [
        "data.head()"
      ],
      "execution_count": null,
      "outputs": [
        {
          "output_type": "execute_result",
          "data": {
            "text/html": [
              "<div>\n",
              "<style scoped>\n",
              "    .dataframe tbody tr th:only-of-type {\n",
              "        vertical-align: middle;\n",
              "    }\n",
              "\n",
              "    .dataframe tbody tr th {\n",
              "        vertical-align: top;\n",
              "    }\n",
              "\n",
              "    .dataframe thead th {\n",
              "        text-align: right;\n",
              "    }\n",
              "</style>\n",
              "<table border=\"1\" class=\"dataframe\">\n",
              "  <thead>\n",
              "    <tr style=\"text-align: right;\">\n",
              "      <th></th>\n",
              "      <th>Unnamed: 0</th>\n",
              "      <th>user</th>\n",
              "      <th>date</th>\n",
              "      <th>title</th>\n",
              "      <th>text</th>\n",
              "      <th>rating</th>\n",
              "    </tr>\n",
              "  </thead>\n",
              "  <tbody>\n",
              "    <tr>\n",
              "      <th>0</th>\n",
              "      <td>0</td>\n",
              "      <td>dangityourecute</td>\n",
              "      <td>2018-08-31 03:27:20</td>\n",
              "      <td>I love the chase app</td>\n",
              "      <td>I’ve been using the app for over 4 years now a...</td>\n",
              "      <td>5</td>\n",
              "    </tr>\n",
              "    <tr>\n",
              "      <th>1</th>\n",
              "      <td>1</td>\n",
              "      <td>*dude1.0*</td>\n",
              "      <td>2020-06-17 17:44:58</td>\n",
              "      <td>Terrible Customer Service and App</td>\n",
              "      <td>First of all I rarely leave negative reviews, ...</td>\n",
              "      <td>1</td>\n",
              "    </tr>\n",
              "    <tr>\n",
              "      <th>2</th>\n",
              "      <td>2</td>\n",
              "      <td>cdjewell.net</td>\n",
              "      <td>2021-03-07 13:50:05</td>\n",
              "      <td>Great but missing one key feature</td>\n",
              "      <td>I have an embarrassing number of Chase account...</td>\n",
              "      <td>4</td>\n",
              "    </tr>\n",
              "    <tr>\n",
              "      <th>3</th>\n",
              "      <td>3</td>\n",
              "      <td>Zoeyxoxoxo</td>\n",
              "      <td>2020-06-03 00:42:12</td>\n",
              "      <td>If I could I’d put no stars</td>\n",
              "      <td>This app is TRASH. Matter of fact throw out th...</td>\n",
              "      <td>1</td>\n",
              "    </tr>\n",
              "    <tr>\n",
              "      <th>4</th>\n",
              "      <td>4</td>\n",
              "      <td>Serge s...</td>\n",
              "      <td>2020-07-07 12:43:59</td>\n",
              "      <td>It's excellent, packed with technology</td>\n",
              "      <td>I have done a review of the chase app over a y...</td>\n",
              "      <td>5</td>\n",
              "    </tr>\n",
              "  </tbody>\n",
              "</table>\n",
              "</div>"
            ],
            "text/plain": [
              "   Unnamed: 0             user                 date  \\\n",
              "0           0  dangityourecute  2018-08-31 03:27:20   \n",
              "1           1        *dude1.0*  2020-06-17 17:44:58   \n",
              "2           2     cdjewell.net  2021-03-07 13:50:05   \n",
              "3           3       Zoeyxoxoxo  2020-06-03 00:42:12   \n",
              "4           4       Serge s...  2020-07-07 12:43:59   \n",
              "\n",
              "                                    title  \\\n",
              "0                    I love the chase app   \n",
              "1       Terrible Customer Service and App   \n",
              "2       Great but missing one key feature   \n",
              "3             If I could I’d put no stars   \n",
              "4  It's excellent, packed with technology   \n",
              "\n",
              "                                                text  rating  \n",
              "0  I’ve been using the app for over 4 years now a...       5  \n",
              "1  First of all I rarely leave negative reviews, ...       1  \n",
              "2  I have an embarrassing number of Chase account...       4  \n",
              "3  This app is TRASH. Matter of fact throw out th...       1  \n",
              "4  I have done a review of the chase app over a y...       5  "
            ]
          },
          "metadata": {
            "tags": []
          },
          "execution_count": 11
        }
      ]
    },
    {
      "cell_type": "code",
      "metadata": {
        "id": "kYeuF3ZqhZic"
      },
      "source": [
        "from datetime import datetime as dt"
      ],
      "execution_count": null,
      "outputs": []
    },
    {
      "cell_type": "code",
      "metadata": {
        "id": "UZ63xs_hhZid"
      },
      "source": [
        "ymd = []\n",
        "year = []\n",
        "month = []\n",
        "for i in data.date:\n",
        "    ymd.append(dt.strptime(i,'%Y-%m-%d %H:%M:%S').date())\n",
        "    year.append(dt.strptime(i,'%Y-%m-%d %H:%M:%S').year)\n",
        "    month.append(dt.strptime(i,'%Y-%m-%d %H:%M:%S').month)"
      ],
      "execution_count": null,
      "outputs": []
    },
    {
      "cell_type": "code",
      "metadata": {
        "id": "Jg4zaU8NhZid",
        "outputId": "1d286948-8873-4a43-eb26-309bfc066e92"
      },
      "source": [
        "data.pop('Unnamed: 0')"
      ],
      "execution_count": null,
      "outputs": [
        {
          "output_type": "execute_result",
          "data": {
            "text/plain": [
              "0            0\n",
              "1            1\n",
              "2            2\n",
              "3            3\n",
              "4            4\n",
              "         ...  \n",
              "59995    59995\n",
              "59996    59996\n",
              "59997    59997\n",
              "59998    59998\n",
              "59999    59999\n",
              "Name: Unnamed: 0, Length: 60000, dtype: int64"
            ]
          },
          "metadata": {
            "tags": []
          },
          "execution_count": 26
        }
      ]
    },
    {
      "cell_type": "code",
      "metadata": {
        "id": "4H_bwa0uhZid"
      },
      "source": [
        "data['date'] = ymd\n",
        "data['year'] = year\n",
        "data['month'] = month"
      ],
      "execution_count": null,
      "outputs": []
    },
    {
      "cell_type": "code",
      "metadata": {
        "id": "kWpD9qpghZid",
        "outputId": "89992ac0-4fe8-4f48-db8a-68c8e2f330bc"
      },
      "source": [
        "data"
      ],
      "execution_count": null,
      "outputs": [
        {
          "output_type": "execute_result",
          "data": {
            "text/html": [
              "<div>\n",
              "<style scoped>\n",
              "    .dataframe tbody tr th:only-of-type {\n",
              "        vertical-align: middle;\n",
              "    }\n",
              "\n",
              "    .dataframe tbody tr th {\n",
              "        vertical-align: top;\n",
              "    }\n",
              "\n",
              "    .dataframe thead th {\n",
              "        text-align: right;\n",
              "    }\n",
              "</style>\n",
              "<table border=\"1\" class=\"dataframe\">\n",
              "  <thead>\n",
              "    <tr style=\"text-align: right;\">\n",
              "      <th></th>\n",
              "      <th>user</th>\n",
              "      <th>date</th>\n",
              "      <th>title</th>\n",
              "      <th>text</th>\n",
              "      <th>rating</th>\n",
              "      <th>year</th>\n",
              "      <th>month</th>\n",
              "    </tr>\n",
              "  </thead>\n",
              "  <tbody>\n",
              "    <tr>\n",
              "      <th>0</th>\n",
              "      <td>dangityourecute</td>\n",
              "      <td>2018-08-31</td>\n",
              "      <td>I love the chase app</td>\n",
              "      <td>I’ve been using the app for over 4 years now a...</td>\n",
              "      <td>5</td>\n",
              "      <td>2018</td>\n",
              "      <td>8</td>\n",
              "    </tr>\n",
              "    <tr>\n",
              "      <th>1</th>\n",
              "      <td>*dude1.0*</td>\n",
              "      <td>2020-06-17</td>\n",
              "      <td>Terrible Customer Service and App</td>\n",
              "      <td>First of all I rarely leave negative reviews, ...</td>\n",
              "      <td>1</td>\n",
              "      <td>2020</td>\n",
              "      <td>6</td>\n",
              "    </tr>\n",
              "    <tr>\n",
              "      <th>2</th>\n",
              "      <td>cdjewell.net</td>\n",
              "      <td>2021-03-07</td>\n",
              "      <td>Great but missing one key feature</td>\n",
              "      <td>I have an embarrassing number of Chase account...</td>\n",
              "      <td>4</td>\n",
              "      <td>2021</td>\n",
              "      <td>3</td>\n",
              "    </tr>\n",
              "    <tr>\n",
              "      <th>3</th>\n",
              "      <td>Zoeyxoxoxo</td>\n",
              "      <td>2020-06-03</td>\n",
              "      <td>If I could I’d put no stars</td>\n",
              "      <td>This app is TRASH. Matter of fact throw out th...</td>\n",
              "      <td>1</td>\n",
              "      <td>2020</td>\n",
              "      <td>6</td>\n",
              "    </tr>\n",
              "    <tr>\n",
              "      <th>4</th>\n",
              "      <td>Serge s...</td>\n",
              "      <td>2020-07-07</td>\n",
              "      <td>It's excellent, packed with technology</td>\n",
              "      <td>I have done a review of the chase app over a y...</td>\n",
              "      <td>5</td>\n",
              "      <td>2020</td>\n",
              "      <td>7</td>\n",
              "    </tr>\n",
              "    <tr>\n",
              "      <th>...</th>\n",
              "      <td>...</td>\n",
              "      <td>...</td>\n",
              "      <td>...</td>\n",
              "      <td>...</td>\n",
              "      <td>...</td>\n",
              "      <td>...</td>\n",
              "      <td>...</td>\n",
              "    </tr>\n",
              "    <tr>\n",
              "      <th>59995</th>\n",
              "      <td>Csmithincin</td>\n",
              "      <td>2015-10-05</td>\n",
              "      <td>Reliable, innovative and user friendly</td>\n",
              "      <td>Reliable, innovative and user friendly. Best b...</td>\n",
              "      <td>5</td>\n",
              "      <td>2015</td>\n",
              "      <td>10</td>\n",
              "    </tr>\n",
              "    <tr>\n",
              "      <th>59996</th>\n",
              "      <td>Adam sefchovich</td>\n",
              "      <td>2015-10-05</td>\n",
              "      <td>Great app</td>\n",
              "      <td>Wish it included more rewards information rega...</td>\n",
              "      <td>5</td>\n",
              "      <td>2015</td>\n",
              "      <td>10</td>\n",
              "    </tr>\n",
              "    <tr>\n",
              "      <th>59997</th>\n",
              "      <td>Goofy4u21</td>\n",
              "      <td>2015-10-04</td>\n",
              "      <td>Amazing</td>\n",
              "      <td>Chase app has gotten better and better. Love t...</td>\n",
              "      <td>5</td>\n",
              "      <td>2015</td>\n",
              "      <td>10</td>\n",
              "    </tr>\n",
              "    <tr>\n",
              "      <th>59998</th>\n",
              "      <td>rmb317</td>\n",
              "      <td>2015-10-04</td>\n",
              "      <td>Terrific!</td>\n",
              "      <td>Great app! Very user-friendly and very few iss...</td>\n",
              "      <td>5</td>\n",
              "      <td>2015</td>\n",
              "      <td>10</td>\n",
              "    </tr>\n",
              "    <tr>\n",
              "      <th>59999</th>\n",
              "      <td>T_NYCE</td>\n",
              "      <td>2015-10-04</td>\n",
              "      <td>Love it!</td>\n",
              "      <td>I have multiple bank accounts and multiple ban...</td>\n",
              "      <td>5</td>\n",
              "      <td>2015</td>\n",
              "      <td>10</td>\n",
              "    </tr>\n",
              "  </tbody>\n",
              "</table>\n",
              "<p>60000 rows × 7 columns</p>\n",
              "</div>"
            ],
            "text/plain": [
              "                  user        date                                   title  \\\n",
              "0      dangityourecute  2018-08-31                    I love the chase app   \n",
              "1            *dude1.0*  2020-06-17       Terrible Customer Service and App   \n",
              "2         cdjewell.net  2021-03-07       Great but missing one key feature   \n",
              "3           Zoeyxoxoxo  2020-06-03             If I could I’d put no stars   \n",
              "4           Serge s...  2020-07-07  It's excellent, packed with technology   \n",
              "...                ...         ...                                     ...   \n",
              "59995      Csmithincin  2015-10-05  Reliable, innovative and user friendly   \n",
              "59996  Adam sefchovich  2015-10-05                               Great app   \n",
              "59997        Goofy4u21  2015-10-04                                 Amazing   \n",
              "59998           rmb317  2015-10-04                               Terrific!   \n",
              "59999           T_NYCE  2015-10-04                                Love it!   \n",
              "\n",
              "                                                    text  rating  year  month  \n",
              "0      I’ve been using the app for over 4 years now a...       5  2018      8  \n",
              "1      First of all I rarely leave negative reviews, ...       1  2020      6  \n",
              "2      I have an embarrassing number of Chase account...       4  2021      3  \n",
              "3      This app is TRASH. Matter of fact throw out th...       1  2020      6  \n",
              "4      I have done a review of the chase app over a y...       5  2020      7  \n",
              "...                                                  ...     ...   ...    ...  \n",
              "59995  Reliable, innovative and user friendly. Best b...       5  2015     10  \n",
              "59996  Wish it included more rewards information rega...       5  2015     10  \n",
              "59997  Chase app has gotten better and better. Love t...       5  2015     10  \n",
              "59998  Great app! Very user-friendly and very few iss...       5  2015     10  \n",
              "59999  I have multiple bank accounts and multiple ban...       5  2015     10  \n",
              "\n",
              "[60000 rows x 7 columns]"
            ]
          },
          "metadata": {
            "tags": []
          },
          "execution_count": 28
        }
      ]
    },
    {
      "cell_type": "code",
      "metadata": {
        "id": "OALJntwthZie"
      },
      "source": [
        "data.to_csv('chaseReviews_60000_clean.csv', index = False)"
      ],
      "execution_count": null,
      "outputs": []
    },
    {
      "cell_type": "code",
      "metadata": {
        "id": "B6gHjzWPhZie",
        "outputId": "efade295-71b7-4bed-89af-4343a836b64c"
      },
      "source": [
        "len(set(year))"
      ],
      "execution_count": null,
      "outputs": [
        {
          "output_type": "execute_result",
          "data": {
            "text/plain": [
              "14"
            ]
          },
          "metadata": {
            "tags": []
          },
          "execution_count": 11
        }
      ]
    },
    {
      "cell_type": "code",
      "metadata": {
        "id": "ODFyyXpWhZie",
        "outputId": "af615bc3-4278-4aa1-ddcb-18658db36c81"
      },
      "source": [
        "for i in set(year):\n",
        "    print(i,year.count(i))"
      ],
      "execution_count": null,
      "outputs": [
        {
          "output_type": "stream",
          "text": [
            "2016 16150\n",
            "2017 11088\n",
            "2018 8666\n",
            "2019 4505\n",
            "2020 4680\n",
            "2021 1622\n",
            "2008 27\n",
            "2009 222\n",
            "2010 391\n",
            "2011 323\n",
            "2012 705\n",
            "2013 695\n",
            "2014 3969\n",
            "2015 6957\n"
          ],
          "name": "stdout"
        }
      ]
    },
    {
      "cell_type": "code",
      "metadata": {
        "id": "R-BfAwODhZij"
      },
      "source": [
        "from selenium import webdriver"
      ],
      "execution_count": null,
      "outputs": []
    },
    {
      "cell_type": "code",
      "metadata": {
        "id": "NlbTUXcChZik"
      },
      "source": [
        ""
      ],
      "execution_count": null,
      "outputs": []
    },
    {
      "cell_type": "code",
      "metadata": {
        "id": "pZ8tYI45hZik",
        "outputId": "bcd3cf6c-f5ba-42f5-e079-40e428797947"
      },
      "source": [
        "url = 'https://apps.apple.com/us/app/chase-mobile-bank-invest/id298867247'\n",
        "page = urllib.request.urlopen(url)\n",
        "soup = BeautifulSoup(page,'html.parser')\n",
        "v = soup.find('ul',{'class':'version-history__items'})\n",
        "\"\"\"\n",
        "versions = []\n",
        "for i in v:\n",
        "    versions.append(i.find('a').get_text())\n",
        "\"\"\""
      ],
      "execution_count": null,
      "outputs": [
        {
          "output_type": "execute_result",
          "data": {
            "text/plain": [
              "\"\\nversions = []\\nfor i in v:\\n    versions.append(i.find('a').get_text())\\n\""
            ]
          },
          "metadata": {
            "tags": []
          },
          "execution_count": 46
        }
      ]
    },
    {
      "cell_type": "code",
      "metadata": {
        "id": "EWI23J8KhZik",
        "outputId": "72e3c7d6-63ba-4e7e-82e2-6b712d341b4f"
      },
      "source": [
        "print(v)"
      ],
      "execution_count": null,
      "outputs": [
        {
          "output_type": "stream",
          "text": [
            "None\n"
          ],
          "name": "stdout"
        }
      ]
    },
    {
      "cell_type": "code",
      "metadata": {
        "id": "hdKj7iGAhZik"
      },
      "source": [
        "driver = webdriver.Chrome()\n",
        "driver.get('https://apps.apple.com/us/app/chase-mobile-bank-invest/id298867247')\n",
        "button = driver.find_element_by_id('modal-trigger-ember138')\n",
        "button.click()"
      ],
      "execution_count": null,
      "outputs": []
    },
    {
      "cell_type": "code",
      "metadata": {
        "id": "t3uWEwr7hZil",
        "outputId": "58c97d56-f9b7-477b-d901-80a67e2e2876"
      },
      "source": [
        "driver.switch_to_window(driver.window_handles[0])\n",
        "page = driver.page_source.encode('utf-8')"
      ],
      "execution_count": null,
      "outputs": [
        {
          "output_type": "stream",
          "text": [
            "<ipython-input-56-4d8acde237bb>:1: DeprecationWarning: use driver.switch_to.window instead\n",
            "  driver.switch_to_window(driver.window_handles[0])\n"
          ],
          "name": "stderr"
        }
      ]
    },
    {
      "cell_type": "code",
      "metadata": {
        "id": "HbZEYbtdhZil"
      },
      "source": [
        "soup = BeautifulSoup(page,'html.parser')\n",
        "v = soup.find('ul',{'class':'version-history__items'})"
      ],
      "execution_count": null,
      "outputs": []
    },
    {
      "cell_type": "code",
      "metadata": {
        "id": "KgYbwDtBhZil"
      },
      "source": [
        "updates = v.find_all('li',{'class':'version-history__item'})"
      ],
      "execution_count": null,
      "outputs": []
    },
    {
      "cell_type": "code",
      "metadata": {
        "id": "HejTta_ahZil",
        "outputId": "2c23b126-a785-4bba-de7e-ac17ae7a8f5f"
      },
      "source": [
        "updates"
      ],
      "execution_count": null,
      "outputs": [
        {
          "output_type": "execute_result",
          "data": {
            "text/plain": [
              "[<li class=\"version-history__item\">\n",
              " <h4 class=\"version-history__item__version-number\">4.192</h4>\n",
              " <time aria-label=\"April 16, 2021\" class=\"version-history__item__release-date\" data-test-we-datetime=\"\" datetime=\"2021-04-16T04:00:00.000Z\">Apr 16, 2021</time>\n",
              " <div aria-label=\"\" class=\"we-truncate we-truncate--multi-line we-truncate--interactive we-truncate--truncated version-history__item__release-notes\" dir=\"\">\n",
              " <div class=\"we-clamp\" data-clamp=\"\" ismorertl=\"false\" style=\"height: 90px; -webkit-mask: linear-gradient(0deg, rgba(0, 0, 0, 0) 0px, rgba(0, 0, 0, 0) 18.0001px, rgb(0, 0, 0) 18.0001px), linear-gradient(270deg, rgba(0, 0, 0, 0) 0px, rgba(0, 0, 0, 0) 32.8px, rgb(0, 0, 0) 68.8002px);\">\n",
              " <p data-test-bidi=\"\" dir=\"ltr\">We've enhanced the Chase Mobile® app experience with new features that will allow our customers to do more in the app.</p>\n",
              " <br/>\n",
              " <p data-test-bidi=\"\" dir=\"ltr\">Now you can:</p>\n",
              " <p data-test-bidi=\"\" dir=\"ltr\">• Look for the new Zelle® logo when you need to send, request or split money.</p>\n",
              " <p data-test-bidi=\"\" dir=\"ltr\">• Take a photo of your receipts and access them quickly and easily.</p>\n",
              " <p data-test-bidi=\"\" dir=\"ltr\">• Create recurring chores for Chase First Banking® accounts.</p>\n",
              " <p data-test-bidi=\"\" dir=\"ltr\">• Set up and manage your monthly budget in few steps.</p>\n",
              " <p data-test-bidi=\"\" dir=\"ltr\">• Link external accounts for a consolidated view of your finances.</p>\n",
              " <br/>\n",
              " <p data-test-bidi=\"\" dir=\"ltr\">Keep in mind: Features are subject to customer eligibility.</p>\n",
              " </div>\n",
              " <button aria-hidden=\"true\" class=\"link we-truncate__button\" data-metrics-click='{\"actionType\":\"more\",\"targetType\":\"button\",\"targetId\":\"More\"}' data-more-button=\"\" tabindex=\"-1\" type=\"button\">\n",
              "         more\n",
              "       </button>\n",
              " </div>\n",
              " </li>,\n",
              " <li class=\"version-history__item\">\n",
              " <h4 class=\"version-history__item__version-number\">4.191</h4>\n",
              " <time aria-label=\"April 13, 2021\" class=\"version-history__item__release-date\" data-test-we-datetime=\"\" datetime=\"2021-04-13T04:00:00.000Z\">Apr 13, 2021</time>\n",
              " <div aria-label=\"\" class=\"we-truncate we-truncate--multi-line we-truncate--interactive we-truncate--truncated version-history__item__release-notes\" dir=\"\">\n",
              " <div class=\"we-clamp\" data-clamp=\"\" ismorertl=\"false\" style=\"height: 90px; -webkit-mask: linear-gradient(0deg, rgba(0, 0, 0, 0) 0px, rgba(0, 0, 0, 0) 18.0001px, rgb(0, 0, 0) 18.0001px), linear-gradient(270deg, rgba(0, 0, 0, 0) 0px, rgba(0, 0, 0, 0) 32.8px, rgb(0, 0, 0) 68.8002px);\">\n",
              " <p data-test-bidi=\"\" dir=\"ltr\">We've enhanced the Chase Mobile® app experience with new features that will allow our customers to do more in the app.</p>\n",
              " <br/>\n",
              " <br/>\n",
              " <br/>\n",
              " <p data-test-bidi=\"\" dir=\"ltr\">Now you can:</p>\n",
              " <br/>\n",
              " <br/>\n",
              " <br/>\n",
              " <p data-test-bidi=\"\" dir=\"ltr\">• Look for the new Zelle® logo when you need to send, request or split money.</p>\n",
              " <p data-test-bidi=\"\" dir=\"ltr\">• Take a photo of your receipts and access them quickly and easily.</p>\n",
              " <p data-test-bidi=\"\" dir=\"ltr\">• Create recurring chores for Chase First Banking® accounts.</p>\n",
              " <p data-test-bidi=\"\" dir=\"ltr\">• Set up and manage your monthly budget in few steps.</p>\n",
              " <p data-test-bidi=\"\" dir=\"ltr\">• Link external accounts for a consolidated view of your finances.</p>\n",
              " <br/>\n",
              " <br/>\n",
              " <br/>\n",
              " <p data-test-bidi=\"\" dir=\"ltr\">Keep in mind: Features are subject to customer eligibility.</p>\n",
              " </div>\n",
              " <button aria-hidden=\"true\" class=\"link we-truncate__button\" data-metrics-click='{\"actionType\":\"more\",\"targetType\":\"button\",\"targetId\":\"More\"}' data-more-button=\"\" tabindex=\"-1\" type=\"button\">\n",
              "         more\n",
              "       </button>\n",
              " </div>\n",
              " </li>,\n",
              " <li class=\"version-history__item\">\n",
              " <h4 class=\"version-history__item__version-number\">4.190</h4>\n",
              " <time aria-label=\"April 6, 2021\" class=\"version-history__item__release-date\" data-test-we-datetime=\"\" datetime=\"2021-04-06T04:00:00.000Z\">Apr 6, 2021</time>\n",
              " <div aria-label=\"\" class=\"we-truncate we-truncate--multi-line we-truncate--interactive we-truncate--truncated version-history__item__release-notes\" dir=\"\">\n",
              " <div class=\"we-clamp\" data-clamp=\"\" ismorertl=\"false\" style=\"height: 90px; -webkit-mask: linear-gradient(0deg, rgba(0, 0, 0, 0) 0px, rgba(0, 0, 0, 0) 18.0001px, rgb(0, 0, 0) 18.0001px), linear-gradient(270deg, rgba(0, 0, 0, 0) 0px, rgba(0, 0, 0, 0) 32.8px, rgb(0, 0, 0) 68.8002px);\">\n",
              " <p data-test-bidi=\"\" dir=\"ltr\">We've enhanced the Chase Mobile® app experience with new features that will allow our customers to do more in the app.</p>\n",
              " <br/>\n",
              " <br/>\n",
              " <p data-test-bidi=\"\" dir=\"ltr\">Now you can:</p>\n",
              " <br/>\n",
              " <p data-test-bidi=\"\" dir=\"ltr\">• Look for the new Zelle® logo when you need to send, request or split money.</p>\n",
              " <p data-test-bidi=\"\" dir=\"ltr\">• Take a photo of your receipts and access them quickly and easily.</p>\n",
              " <p data-test-bidi=\"\" dir=\"ltr\">• Create recurring chores for Chase First Banking® accounts.</p>\n",
              " <p data-test-bidi=\"\" dir=\"ltr\">• Set up and manage your monthly budget in few steps.</p>\n",
              " <p data-test-bidi=\"\" dir=\"ltr\">• Link external accounts for a consolidated view of your finances.</p>\n",
              " <br/>\n",
              " <p data-test-bidi=\"\" dir=\"ltr\">Keep in mind: Features are subject to customer eligibility.</p>\n",
              " </div>\n",
              " <button aria-hidden=\"true\" class=\"link we-truncate__button\" data-metrics-click='{\"actionType\":\"more\",\"targetType\":\"button\",\"targetId\":\"More\"}' data-more-button=\"\" tabindex=\"-1\" type=\"button\">\n",
              "         more\n",
              "       </button>\n",
              " </div>\n",
              " </li>,\n",
              " <li class=\"version-history__item\">\n",
              " <h4 class=\"version-history__item__version-number\">4.181</h4>\n",
              " <time aria-label=\"March 3, 2021\" class=\"version-history__item__release-date\" data-test-we-datetime=\"\" datetime=\"2021-03-03T05:00:00.000Z\">Mar 3, 2021</time>\n",
              " <div aria-label=\"\" class=\"we-truncate we-truncate--multi-line we-truncate--interactive version-history__item__release-notes\" dir=\"\">\n",
              " <div class=\"we-clamp\" data-clamp=\"\">\n",
              " <p data-test-bidi=\"\" dir=\"ltr\">We're frequently updating the app in order to give you the best experience. Turn on auto updates to ensure you always have the latest version.</p>\n",
              " <br/>\n",
              " <p data-test-bidi=\"\" dir=\"ltr\">This update includes:</p>\n",
              " <br/>\n",
              " <p data-test-bidi=\"\" dir=\"ltr\">[+] Minor bug fixes and improvements</p>\n",
              " </div>\n",
              " <!-- --></div>\n",
              " </li>,\n",
              " <li class=\"version-history__item\">\n",
              " <h4 class=\"version-history__item__version-number\">4.180</h4>\n",
              " <time aria-label=\"February 23, 2021\" class=\"version-history__item__release-date\" data-test-we-datetime=\"\" datetime=\"2021-02-23T05:00:00.000Z\">Feb 23, 2021</time>\n",
              " <div aria-label=\"\" class=\"we-truncate we-truncate--multi-line we-truncate--interactive version-history__item__release-notes\" dir=\"\">\n",
              " <div class=\"we-clamp\" data-clamp=\"\">\n",
              " <p data-test-bidi=\"\" dir=\"ltr\">We're frequently updating the app in order to give you the best experience. Turn on auto updates to ensure you always have the latest version.</p>\n",
              " <br/>\n",
              " <p data-test-bidi=\"\" dir=\"ltr\">This update includes:</p>\n",
              " <br/>\n",
              " <p data-test-bidi=\"\" dir=\"ltr\">[+] Minor bug fixes and improvements</p>\n",
              " </div>\n",
              " <!-- --></div>\n",
              " </li>,\n",
              " <li class=\"version-history__item\">\n",
              " <h4 class=\"version-history__item__version-number\">4.172</h4>\n",
              " <time aria-label=\"January 28, 2021\" class=\"version-history__item__release-date\" data-test-we-datetime=\"\" datetime=\"2021-01-28T05:00:00.000Z\">Jan 28, 2021</time>\n",
              " <div aria-label=\"\" class=\"we-truncate we-truncate--multi-line we-truncate--interactive version-history__item__release-notes\" dir=\"\">\n",
              " <div class=\"we-clamp\" data-clamp=\"\">\n",
              " <p data-test-bidi=\"\" dir=\"ltr\">We're frequently updating the app in order to give you the best experience. Turn on auto updates to ensure you always have the latest version.</p>\n",
              " <br/>\n",
              " <p data-test-bidi=\"\" dir=\"ltr\">This update includes:</p>\n",
              " <br/>\n",
              " <p data-test-bidi=\"\" dir=\"ltr\">[+] Minor bug fixes and improvements</p>\n",
              " </div>\n",
              " <!-- --></div>\n",
              " </li>,\n",
              " <li class=\"version-history__item\">\n",
              " <h4 class=\"version-history__item__version-number\">4.171</h4>\n",
              " <time aria-label=\"December 10, 2020\" class=\"version-history__item__release-date\" data-test-we-datetime=\"\" datetime=\"2020-12-10T05:00:00.000Z\">Dec 10, 2020</time>\n",
              " <div aria-label=\"\" class=\"we-truncate we-truncate--multi-line we-truncate--interactive we-truncate--truncated version-history__item__release-notes\" dir=\"\">\n",
              " <div class=\"we-clamp\" data-clamp=\"\" ismorertl=\"false\" style=\"height: 90px; -webkit-mask: linear-gradient(0deg, rgba(0, 0, 0, 0) 0px, rgba(0, 0, 0, 0) 18.0001px, rgb(0, 0, 0) 18.0001px), linear-gradient(270deg, rgba(0, 0, 0, 0) 0px, rgba(0, 0, 0, 0) 32.8px, rgb(0, 0, 0) 68.8002px);\">\n",
              " <p data-test-bidi=\"\" dir=\"ltr\">We've enhanced the Chase Mobile® app experience with new features that will allow our customers to do more in the app.</p>\n",
              " <br/>\n",
              " <p data-test-bidi=\"\" dir=\"ltr\">Now you can:</p>\n",
              " <p data-test-bidi=\"\" dir=\"ltr\">• Add a memo or note to your credit card transaction details.</p>\n",
              " <p data-test-bidi=\"\" dir=\"ltr\">• Manage your accounts with a new and improved home screen.</p>\n",
              " <p data-test-bidi=\"\" dir=\"ltr\">• Minor bug fixes and improvements.</p>\n",
              " <br/>\n",
              " <p data-test-bidi=\"\" dir=\"ltr\">Keep in mind: Features are subject to customer eligibility</p>\n",
              " </div>\n",
              " <button aria-hidden=\"true\" class=\"link we-truncate__button\" data-metrics-click='{\"actionType\":\"more\",\"targetType\":\"button\",\"targetId\":\"More\"}' data-more-button=\"\" tabindex=\"-1\" type=\"button\">\n",
              "         more\n",
              "       </button>\n",
              " </div>\n",
              " </li>,\n",
              " <li class=\"version-history__item\">\n",
              " <h4 class=\"version-history__item__version-number\">4.170</h4>\n",
              " <time aria-label=\"December 3, 2020\" class=\"version-history__item__release-date\" data-test-we-datetime=\"\" datetime=\"2020-12-03T05:00:00.000Z\">Dec 3, 2020</time>\n",
              " <div aria-label=\"\" class=\"we-truncate we-truncate--multi-line we-truncate--interactive we-truncate--truncated version-history__item__release-notes\" dir=\"\">\n",
              " <div class=\"we-clamp\" data-clamp=\"\" ismorertl=\"false\" style=\"height: 90px; -webkit-mask: linear-gradient(0deg, rgba(0, 0, 0, 0) 0px, rgba(0, 0, 0, 0) 18.0001px, rgb(0, 0, 0) 18.0001px), linear-gradient(270deg, rgba(0, 0, 0, 0) 0px, rgba(0, 0, 0, 0) 32.8px, rgb(0, 0, 0) 68.8002px);\">\n",
              " <p data-test-bidi=\"\" dir=\"ltr\">We've enhanced the Chase Mobile® app experience with new features that will allow our customers to do more in the app.</p>\n",
              " <br/>\n",
              " <p data-test-bidi=\"\" dir=\"ltr\">Now you can:</p>\n",
              " <br/>\n",
              " <p data-test-bidi=\"\" dir=\"ltr\">• Add a memo or note to your credit card transaction details.</p>\n",
              " <p data-test-bidi=\"\" dir=\"ltr\">• Manage your accounts with a new and improved home screen.</p>\n",
              " <p data-test-bidi=\"\" dir=\"ltr\">• Minor bug fixes and improvements.</p>\n",
              " <br/>\n",
              " <p data-test-bidi=\"\" dir=\"ltr\">Keep in mind: Features are subject to customer eligibility</p>\n",
              " </div>\n",
              " <button aria-hidden=\"true\" class=\"link we-truncate__button\" data-metrics-click='{\"actionType\":\"more\",\"targetType\":\"button\",\"targetId\":\"More\"}' data-more-button=\"\" tabindex=\"-1\" type=\"button\">\n",
              "         more\n",
              "       </button>\n",
              " </div>\n",
              " </li>,\n",
              " <li class=\"version-history__item\">\n",
              " <h4 class=\"version-history__item__version-number\">4.160</h4>\n",
              " <time aria-label=\"November 5, 2020\" class=\"version-history__item__release-date\" data-test-we-datetime=\"\" datetime=\"2020-11-05T05:00:00.000Z\">Nov 5, 2020</time>\n",
              " <div aria-label=\"\" class=\"we-truncate we-truncate--multi-line we-truncate--interactive version-history__item__release-notes\" dir=\"\">\n",
              " <div class=\"we-clamp\" data-clamp=\"\">\n",
              " <p data-test-bidi=\"\" dir=\"ltr\">We're frequently updating the app in order to give you the best experience. Turn on auto updates to ensure you always have the latest version.</p>\n",
              " <br/>\n",
              " <br/>\n",
              " <p data-test-bidi=\"\" dir=\"ltr\">This update includes:</p>\n",
              " <br/>\n",
              " <p data-test-bidi=\"\" dir=\"ltr\">[+] Minor bug fixes and improvements.</p>\n",
              " </div>\n",
              " <!-- --></div>\n",
              " </li>,\n",
              " <li class=\"version-history__item\">\n",
              " <h4 class=\"version-history__item__version-number\">4.153</h4>\n",
              " <time aria-label=\"October 9, 2020\" class=\"version-history__item__release-date\" data-test-we-datetime=\"\" datetime=\"2020-10-09T04:00:00.000Z\">Oct 9, 2020</time>\n",
              " <div aria-label=\"\" class=\"we-truncate we-truncate--multi-line we-truncate--interactive we-truncate--truncated version-history__item__release-notes\" dir=\"\">\n",
              " <div class=\"we-clamp\" data-clamp=\"\" ismorertl=\"false\" style=\"height: 90px; -webkit-mask: linear-gradient(0deg, rgba(0, 0, 0, 0) 0px, rgba(0, 0, 0, 0) 18.0001px, rgb(0, 0, 0) 18.0001px), linear-gradient(270deg, rgba(0, 0, 0, 0) 0px, rgba(0, 0, 0, 0) 32.8px, rgb(0, 0, 0) 68.8002px);\">\n",
              " <p data-test-bidi=\"\" dir=\"ltr\">We've enhanced the Chase Mobile® app experience with new features that will allow our customers to do more in the app.</p>\n",
              " <br/>\n",
              " <p data-test-bidi=\"\" dir=\"ltr\">Now you can:</p>\n",
              " <br/>\n",
              " <p data-test-bidi=\"\" dir=\"ltr\">• Manage your accounts with a new and improved home screen.</p>\n",
              " <p data-test-bidi=\"\" dir=\"ltr\">• Review your credit card rewards earning activity.</p>\n",
              " <p data-test-bidi=\"\" dir=\"ltr\">• Search and activate credit card benefits including Global Entry and TSA Precheck®, DoorDash®, Lyft® and more.</p>\n",
              " <p data-test-bidi=\"\" dir=\"ltr\">• Customize your Snapshot by choosing the accounts you’d like to see insights for.</p>\n",
              " <br/>\n",
              " <p data-test-bidi=\"\" dir=\"ltr\">Keep in mind: Features are subject to customer eligibility.</p>\n",
              " </div>\n",
              " <button aria-hidden=\"true\" class=\"link we-truncate__button\" data-metrics-click='{\"actionType\":\"more\",\"targetType\":\"button\",\"targetId\":\"More\"}' data-more-button=\"\" tabindex=\"-1\" type=\"button\">\n",
              "         more\n",
              "       </button>\n",
              " </div>\n",
              " </li>,\n",
              " <li class=\"version-history__item\">\n",
              " <h4 class=\"version-history__item__version-number\">4.152</h4>\n",
              " <time aria-label=\"October 3, 2020\" class=\"version-history__item__release-date\" data-test-we-datetime=\"\" datetime=\"2020-10-03T04:00:00.000Z\">Oct 3, 2020</time>\n",
              " <div aria-label=\"\" class=\"we-truncate we-truncate--multi-line we-truncate--interactive we-truncate--truncated version-history__item__release-notes\" dir=\"\">\n",
              " <div class=\"we-clamp\" data-clamp=\"\" ismorertl=\"false\" style=\"height: 90px; -webkit-mask: linear-gradient(0deg, rgba(0, 0, 0, 0) 0px, rgba(0, 0, 0, 0) 18.0001px, rgb(0, 0, 0) 18.0001px), linear-gradient(270deg, rgba(0, 0, 0, 0) 0px, rgba(0, 0, 0, 0) 32.8px, rgb(0, 0, 0) 68.8002px);\">\n",
              " <p data-test-bidi=\"\" dir=\"ltr\">We've enhanced the Chase Mobile® app experience with new features that will allow our customers to do more in the app.</p>\n",
              " <br/>\n",
              " <p data-test-bidi=\"\" dir=\"ltr\">Now you can:</p>\n",
              " <br/>\n",
              " <p data-test-bidi=\"\" dir=\"ltr\">• Manage your accounts with a new and improved home screen.</p>\n",
              " <p data-test-bidi=\"\" dir=\"ltr\">• Review your credit card rewards earning activity.</p>\n",
              " <p data-test-bidi=\"\" dir=\"ltr\">• Search and activate credit card benefits including Global Entry and TSA Precheck®, DoorDash®, Lyft® and more.</p>\n",
              " <p data-test-bidi=\"\" dir=\"ltr\">• Customize your Snapshot by choosing the accounts you’d like to see insights for.</p>\n",
              " <br/>\n",
              " <p data-test-bidi=\"\" dir=\"ltr\">Keep in mind: Features are subject to customer eligibility.</p>\n",
              " </div>\n",
              " <button aria-hidden=\"true\" class=\"link we-truncate__button\" data-metrics-click='{\"actionType\":\"more\",\"targetType\":\"button\",\"targetId\":\"More\"}' data-more-button=\"\" tabindex=\"-1\" type=\"button\">\n",
              "         more\n",
              "       </button>\n",
              " </div>\n",
              " </li>,\n",
              " <li class=\"version-history__item\">\n",
              " <h4 class=\"version-history__item__version-number\">4.150</h4>\n",
              " <time aria-label=\"September 16, 2020\" class=\"version-history__item__release-date\" data-test-we-datetime=\"\" datetime=\"2020-09-16T04:00:00.000Z\">Sep 16, 2020</time>\n",
              " <div aria-label=\"\" class=\"we-truncate we-truncate--multi-line we-truncate--interactive version-history__item__release-notes\" dir=\"\">\n",
              " <div class=\"we-clamp\" data-clamp=\"\">\n",
              " <p data-test-bidi=\"\" dir=\"ltr\">We're frequently updating the app in order to give you the best experience. Turn on auto updates to ensure you always have the latest version.</p>\n",
              " <br/>\n",
              " <p data-test-bidi=\"\" dir=\"ltr\">This update includes:</p>\n",
              " <br/>\n",
              " <p data-test-bidi=\"\" dir=\"ltr\">[+] Adding support for iOS 14.</p>\n",
              " <p data-test-bidi=\"\" dir=\"ltr\">[+] Minor bug fixes and improvements.</p>\n",
              " </div>\n",
              " <!-- --></div>\n",
              " </li>,\n",
              " <li class=\"version-history__item\">\n",
              " <h4 class=\"version-history__item__version-number\">4.143</h4>\n",
              " <time aria-label=\"September 2, 2020\" class=\"version-history__item__release-date\" data-test-we-datetime=\"\" datetime=\"2020-09-02T04:00:00.000Z\">Sep 2, 2020</time>\n",
              " <div aria-label=\"\" class=\"we-truncate we-truncate--multi-line we-truncate--interactive version-history__item__release-notes\" dir=\"\">\n",
              " <div class=\"we-clamp\" data-clamp=\"\">\n",
              " <p data-test-bidi=\"\" dir=\"ltr\">We're frequently updating the app in order to give you the best experience. Turn on auto updates to ensure you always have the latest version.</p>\n",
              " <br/>\n",
              " <p data-test-bidi=\"\" dir=\"ltr\">This update includes:</p>\n",
              " <br/>\n",
              " <p data-test-bidi=\"\" dir=\"ltr\">[+] Minor bug fixes and improvements.</p>\n",
              " </div>\n",
              " <!-- --></div>\n",
              " </li>,\n",
              " <li class=\"version-history__item\">\n",
              " <h4 class=\"version-history__item__version-number\">4.142</h4>\n",
              " <time aria-label=\"August 25, 2020\" class=\"version-history__item__release-date\" data-test-we-datetime=\"\" datetime=\"2020-08-25T04:00:00.000Z\">Aug 25, 2020</time>\n",
              " <div aria-label=\"\" class=\"we-truncate we-truncate--multi-line we-truncate--interactive version-history__item__release-notes\" dir=\"\">\n",
              " <div class=\"we-clamp\" data-clamp=\"\">\n",
              " <p data-test-bidi=\"\" dir=\"ltr\">We're frequently updating the app in order to give you the best experience. Turn on auto updates to ensure you always have the latest version.</p>\n",
              " <br/>\n",
              " <p data-test-bidi=\"\" dir=\"ltr\">This update includes:</p>\n",
              " <br/>\n",
              " <p data-test-bidi=\"\" dir=\"ltr\">[+] Minor bug fixes and improvements.</p>\n",
              " </div>\n",
              " <!-- --></div>\n",
              " </li>,\n",
              " <li class=\"version-history__item\">\n",
              " <h4 class=\"version-history__item__version-number\">4.140</h4>\n",
              " <time aria-label=\"August 11, 2020\" class=\"version-history__item__release-date\" data-test-we-datetime=\"\" datetime=\"2020-08-11T04:00:00.000Z\">Aug 11, 2020</time>\n",
              " <div aria-label=\"\" class=\"we-truncate we-truncate--multi-line we-truncate--interactive version-history__item__release-notes\" dir=\"\">\n",
              " <div class=\"we-clamp\" data-clamp=\"\">\n",
              " <p data-test-bidi=\"\" dir=\"ltr\">We're frequently updating the app in order to give you the best experience. Turn on auto updates to ensure you always have the latest version.</p>\n",
              " <br/>\n",
              " <p data-test-bidi=\"\" dir=\"ltr\">This update includes:</p>\n",
              " <br/>\n",
              " <p data-test-bidi=\"\" dir=\"ltr\">[+] Minor bug fixes and improvements.</p>\n",
              " </div>\n",
              " <!-- --></div>\n",
              " </li>,\n",
              " <li class=\"version-history__item\">\n",
              " <h4 class=\"version-history__item__version-number\">4.130</h4>\n",
              " <time aria-label=\"July 7, 2020\" class=\"version-history__item__release-date\" data-test-we-datetime=\"\" datetime=\"2020-07-07T04:00:00.000Z\">Jul 7, 2020</time>\n",
              " <div aria-label=\"\" class=\"we-truncate we-truncate--multi-line we-truncate--interactive version-history__item__release-notes\" dir=\"\">\n",
              " <div class=\"we-clamp\" data-clamp=\"\">\n",
              " <p data-test-bidi=\"\" dir=\"ltr\">We're frequently updating the app in order to give you the best experience. Turn on auto updates to ensure you always have the latest version.</p>\n",
              " <br/>\n",
              " <p data-test-bidi=\"\" dir=\"ltr\">This update includes:</p>\n",
              " <br/>\n",
              " <p data-test-bidi=\"\" dir=\"ltr\">[+] Minor bug fixes and improvements.</p>\n",
              " </div>\n",
              " <!-- --></div>\n",
              " </li>,\n",
              " <li class=\"version-history__item\">\n",
              " <h4 class=\"version-history__item__version-number\">4.122</h4>\n",
              " <time aria-label=\"June 11, 2020\" class=\"version-history__item__release-date\" data-test-we-datetime=\"\" datetime=\"2020-06-11T04:00:00.000Z\">Jun 11, 2020</time>\n",
              " <div aria-label=\"\" class=\"we-truncate we-truncate--multi-line we-truncate--interactive we-truncate--truncated version-history__item__release-notes\" dir=\"\">\n",
              " <div class=\"we-clamp\" data-clamp=\"\" ismorertl=\"false\" style=\"height: 90px; -webkit-mask: linear-gradient(0deg, rgba(0, 0, 0, 0) 0px, rgba(0, 0, 0, 0) 18.0001px, rgb(0, 0, 0) 18.0001px), linear-gradient(270deg, rgba(0, 0, 0, 0) 0px, rgba(0, 0, 0, 0) 32.8px, rgb(0, 0, 0) 68.8002px);\">\n",
              " <p data-test-bidi=\"\" dir=\"ltr\">We've enhanced the Chase Mobile® app experience with new features that will allow our customers to do more in the app.</p>\n",
              " <br/>\n",
              " <br/>\n",
              " <p data-test-bidi=\"\" dir=\"ltr\">Now you can:</p>\n",
              " <br/>\n",
              " <p data-test-bidi=\"\" dir=\"ltr\">• Find research, order status and your watchlist from the investment dashboard.</p>\n",
              " <p data-test-bidi=\"\" dir=\"ltr\">• Manage Rewards Dollars and see benefits for Disney® Visa® credit cards.</p>\n",
              " <p data-test-bidi=\"\" dir=\"ltr\">• See benefits information for Hyatt credit cards.</p>\n",
              " <p data-test-bidi=\"\" dir=\"ltr\">• Review spending summary for business checking accounts.</p>\n",
              " <p data-test-bidi=\"\" dir=\"ltr\">• Track your credit usage, mortgage progress and monthly spending by category in Snapshot.</p>\n",
              " <p data-test-bidi=\"\" dir=\"ltr\">• Dispute transactions for business credit cards.</p>\n",
              " <br/>\n",
              " <p data-test-bidi=\"\" dir=\"ltr\">Keep in mind: Features are subject to customer eligibility.</p>\n",
              " </div>\n",
              " <button aria-hidden=\"true\" class=\"link we-truncate__button\" data-metrics-click='{\"actionType\":\"more\",\"targetType\":\"button\",\"targetId\":\"More\"}' data-more-button=\"\" tabindex=\"-1\" type=\"button\">\n",
              "         more\n",
              "       </button>\n",
              " </div>\n",
              " </li>,\n",
              " <li class=\"version-history__item\">\n",
              " <h4 class=\"version-history__item__version-number\">4.120</h4>\n",
              " <time aria-label=\"June 2, 2020\" class=\"version-history__item__release-date\" data-test-we-datetime=\"\" datetime=\"2020-06-02T04:00:00.000Z\">Jun 2, 2020</time>\n",
              " <div aria-label=\"\" class=\"we-truncate we-truncate--multi-line we-truncate--interactive we-truncate--truncated version-history__item__release-notes\" dir=\"\">\n",
              " <div class=\"we-clamp\" data-clamp=\"\" ismorertl=\"false\" style=\"height: 90px; -webkit-mask: linear-gradient(0deg, rgba(0, 0, 0, 0) 0px, rgba(0, 0, 0, 0) 18.0001px, rgb(0, 0, 0) 18.0001px), linear-gradient(270deg, rgba(0, 0, 0, 0) 0px, rgba(0, 0, 0, 0) 32.8px, rgb(0, 0, 0) 68.8002px);\">\n",
              " <p data-test-bidi=\"\" dir=\"ltr\">We've enhanced the Chase Mobile® app experience with new features that will allow our customers to do more in the app.</p>\n",
              " <br/>\n",
              " <br/>\n",
              " <p data-test-bidi=\"\" dir=\"ltr\">Now you can:</p>\n",
              " <br/>\n",
              " <p data-test-bidi=\"\" dir=\"ltr\">• Find research, order status and your watchlist from the investment dashboard.</p>\n",
              " <p data-test-bidi=\"\" dir=\"ltr\">• Manage Rewards Dollars and see benefits for Disney® Visa® credit cards.</p>\n",
              " <p data-test-bidi=\"\" dir=\"ltr\">• See benefits information for Hyatt credit cards.</p>\n",
              " <p data-test-bidi=\"\" dir=\"ltr\">• Review spending summary for business checking accounts.</p>\n",
              " <p data-test-bidi=\"\" dir=\"ltr\">• Track your credit usage, mortgage progress and monthly spending by category in Snapshot.</p>\n",
              " <p data-test-bidi=\"\" dir=\"ltr\">• Dispute transactions for business credit cards.</p>\n",
              " <br/>\n",
              " <p data-test-bidi=\"\" dir=\"ltr\">Keep in mind: Features are subject to customer eligibility.</p>\n",
              " </div>\n",
              " <button aria-hidden=\"true\" class=\"link we-truncate__button\" data-metrics-click='{\"actionType\":\"more\",\"targetType\":\"button\",\"targetId\":\"More\"}' data-more-button=\"\" tabindex=\"-1\" type=\"button\">\n",
              "         more\n",
              "       </button>\n",
              " </div>\n",
              " </li>,\n",
              " <li class=\"version-history__item\">\n",
              " <h4 class=\"version-history__item__version-number\">4.110</h4>\n",
              " <time aria-label=\"May 4, 2020\" class=\"version-history__item__release-date\" data-test-we-datetime=\"\" datetime=\"2020-05-04T04:00:00.000Z\">May 4, 2020</time>\n",
              " <div aria-label=\"\" class=\"we-truncate we-truncate--multi-line we-truncate--interactive version-history__item__release-notes\" dir=\"\">\n",
              " <div class=\"we-clamp\" data-clamp=\"\">\n",
              " <p data-test-bidi=\"\" dir=\"ltr\">We're frequently updating the app in order to give you the best experience. Turn on auto updates to ensure you always have the latest version.</p>\n",
              " <br/>\n",
              " <p data-test-bidi=\"\" dir=\"ltr\">This update includes:</p>\n",
              " <br/>\n",
              " <p data-test-bidi=\"\" dir=\"ltr\">[+] Minor bug fixes and improvements.</p>\n",
              " </div>\n",
              " <!-- --></div>\n",
              " </li>,\n",
              " <li class=\"version-history__item\">\n",
              " <h4 class=\"version-history__item__version-number\">4.102</h4>\n",
              " <time aria-label=\"April 18, 2020\" class=\"version-history__item__release-date\" data-test-we-datetime=\"\" datetime=\"2020-04-18T04:00:00.000Z\">Apr 18, 2020</time>\n",
              " <div aria-label=\"\" class=\"we-truncate we-truncate--multi-line we-truncate--interactive version-history__item__release-notes\" dir=\"\">\n",
              " <div class=\"we-clamp\" data-clamp=\"\">\n",
              " <p data-test-bidi=\"\" dir=\"ltr\">We're frequently updating the app in order to give you the best experience. Turn on auto updates to ensure you always have the latest version.</p>\n",
              " <br/>\n",
              " <p data-test-bidi=\"\" dir=\"ltr\">This update includes:</p>\n",
              " <br/>\n",
              " <p data-test-bidi=\"\" dir=\"ltr\">[+] Minor bug fixes and improvements.</p>\n",
              " </div>\n",
              " <!-- --></div>\n",
              " </li>,\n",
              " <li class=\"version-history__item\">\n",
              " <h4 class=\"version-history__item__version-number\">4.100</h4>\n",
              " <time aria-label=\"April 5, 2020\" class=\"version-history__item__release-date\" data-test-we-datetime=\"\" datetime=\"2020-04-05T04:00:00.000Z\">Apr 5, 2020</time>\n",
              " <div aria-label=\"\" class=\"we-truncate we-truncate--multi-line we-truncate--interactive we-truncate--truncated version-history__item__release-notes\" dir=\"\">\n",
              " <div class=\"we-clamp\" data-clamp=\"\" ismorertl=\"false\" style=\"height: 90px; -webkit-mask: linear-gradient(0deg, rgba(0, 0, 0, 0) 0px, rgba(0, 0, 0, 0) 18.0001px, rgb(0, 0, 0) 18.0001px), linear-gradient(270deg, rgba(0, 0, 0, 0) 0px, rgba(0, 0, 0, 0) 32.8px, rgb(0, 0, 0) 68.8002px);\">\n",
              " <p data-test-bidi=\"\" dir=\"ltr\">We've enhanced the Chase Mobile® app experience with new features that will allow our customers to do more in the app.</p>\n",
              " <br/>\n",
              " <p data-test-bidi=\"\" dir=\"ltr\">Now you can:</p>\n",
              " <br/>\n",
              " <p data-test-bidi=\"\" dir=\"ltr\">• Earn statement credits by using Chase Offers with your eligible credit and debit cards.</p>\n",
              " <p data-test-bidi=\"\" dir=\"ltr\">• See new Snapshot features including monthly credit and debit card usage, monthly cash flow and category spend tracking.</p>\n",
              " <p data-test-bidi=\"\" dir=\"ltr\">• Customize shortcuts to some of your account features with Quick Actions.</p>\n",
              " <p data-test-bidi=\"\" dir=\"ltr\">• Easily search your account transactions.</p>\n",
              " <p data-test-bidi=\"\" dir=\"ltr\">• Review a summary of your spending.</p>\n",
              " <p data-test-bidi=\"\" dir=\"ltr\">• See how much interest you’ve paid on your auto loan.</p>\n",
              " <br/>\n",
              " <p data-test-bidi=\"\" dir=\"ltr\">Keep in mind: Features are subject to customer eligibility.</p>\n",
              " </div>\n",
              " <button aria-hidden=\"true\" class=\"link we-truncate__button\" data-metrics-click='{\"actionType\":\"more\",\"targetType\":\"button\",\"targetId\":\"More\"}' data-more-button=\"\" tabindex=\"-1\" type=\"button\">\n",
              "         more\n",
              "       </button>\n",
              " </div>\n",
              " </li>,\n",
              " <li class=\"version-history__item\">\n",
              " <h4 class=\"version-history__item__version-number\">4.010</h4>\n",
              " <time aria-label=\"February 24, 2020\" class=\"version-history__item__release-date\" data-test-we-datetime=\"\" datetime=\"2020-02-24T05:00:00.000Z\">Feb 24, 2020</time>\n",
              " <div aria-label=\"\" class=\"we-truncate we-truncate--multi-line we-truncate--interactive version-history__item__release-notes\" dir=\"\">\n",
              " <div class=\"we-clamp\" data-clamp=\"\">\n",
              " <p data-test-bidi=\"\" dir=\"ltr\">We're frequently updating the app in order to give you the best experience. Turn on auto updates to ensure you always have the latest version.</p>\n",
              " <br/>\n",
              " <p data-test-bidi=\"\" dir=\"ltr\">This update includes:</p>\n",
              " <br/>\n",
              " <p data-test-bidi=\"\" dir=\"ltr\">[+] Minor bug fixes and improvements.</p>\n",
              " </div>\n",
              " <!-- --></div>\n",
              " </li>,\n",
              " <li class=\"version-history__item\">\n",
              " <h4 class=\"version-history__item__version-number\">4.002</h4>\n",
              " <time aria-label=\"January 21, 2020\" class=\"version-history__item__release-date\" data-test-we-datetime=\"\" datetime=\"2020-01-21T05:00:00.000Z\">Jan 21, 2020</time>\n",
              " <div aria-label=\"\" class=\"we-truncate we-truncate--multi-line we-truncate--interactive version-history__item__release-notes\" dir=\"\">\n",
              " <div class=\"we-clamp\" data-clamp=\"\">\n",
              " <p data-test-bidi=\"\" dir=\"ltr\">We're frequently updating the app in order to give you the best experience. Turn on auto updates to ensure you always have the latest version.</p>\n",
              " <br/>\n",
              " <p data-test-bidi=\"\" dir=\"ltr\">This update includes:</p>\n",
              " <br/>\n",
              " <p data-test-bidi=\"\" dir=\"ltr\">[+] Minor bug fixes and improvements.</p>\n",
              " </div>\n",
              " <!-- --></div>\n",
              " </li>,\n",
              " <li class=\"version-history__item\">\n",
              " <h4 class=\"version-history__item__version-number\">4.001</h4>\n",
              " <time aria-label=\"December 14, 2019\" class=\"version-history__item__release-date\" data-test-we-datetime=\"\" datetime=\"2019-12-14T05:00:00.000Z\">Dec 14, 2019</time>\n",
              " <div aria-label=\"\" class=\"we-truncate we-truncate--multi-line we-truncate--interactive we-truncate--truncated version-history__item__release-notes\" dir=\"\">\n",
              " <div class=\"we-clamp\" data-clamp=\"\" ismorertl=\"false\" style=\"height: 90px; -webkit-mask: linear-gradient(0deg, rgba(0, 0, 0, 0) 0px, rgba(0, 0, 0, 0) 18.0001px, rgb(0, 0, 0) 18.0001px), linear-gradient(270deg, rgba(0, 0, 0, 0) 0px, rgba(0, 0, 0, 0) 32.8px, rgb(0, 0, 0) 68.8002px);\">\n",
              " <p data-test-bidi=\"\" dir=\"ltr\">We've enhanced the Chase Mobile® app experience with new features that will allow our customers to do more in the app.</p>\n",
              " <br/>\n",
              " <p data-test-bidi=\"\" dir=\"ltr\">Now you can:</p>\n",
              " <p data-test-bidi=\"\" dir=\"ltr\">• Edit spending categories for your credit card transactions.</p>\n",
              " <p data-test-bidi=\"\" dir=\"ltr\">• See new features in Snapshot including category spending, money coming in each month and a rewards summary.</p>\n",
              " <p data-test-bidi=\"\" dir=\"ltr\">• View multiple business accounts on a single dashboard.</p>\n",
              " <p data-test-bidi=\"\" dir=\"ltr\">• Find investments and check your stock watchlist from the investment dashboard.</p>\n",
              " <p data-test-bidi=\"\" dir=\"ltr\">• See benefits and rewards details for IHG® credit cards.</p>\n",
              " <p data-test-bidi=\"\" dir=\"ltr\">• View eligible prior year contributions to your IRA in the investment dashboard.</p>\n",
              " <br/>\n",
              " <p data-test-bidi=\"\" dir=\"ltr\">Keep in mind: Features are subject to customer eligibility.</p>\n",
              " </div>\n",
              " <button aria-hidden=\"true\" class=\"link we-truncate__button\" data-metrics-click='{\"actionType\":\"more\",\"targetType\":\"button\",\"targetId\":\"More\"}' data-more-button=\"\" tabindex=\"-1\" type=\"button\">\n",
              "         more\n",
              "       </button>\n",
              " </div>\n",
              " </li>,\n",
              " <li class=\"version-history__item\">\n",
              " <h4 class=\"version-history__item__version-number\">4.000</h4>\n",
              " <time aria-label=\"December 7, 2019\" class=\"version-history__item__release-date\" data-test-we-datetime=\"\" datetime=\"2019-12-07T05:00:00.000Z\">Dec 7, 2019</time>\n",
              " <div aria-label=\"\" class=\"we-truncate we-truncate--multi-line we-truncate--interactive we-truncate--truncated version-history__item__release-notes\" dir=\"\">\n",
              " <div class=\"we-clamp\" data-clamp=\"\" ismorertl=\"false\" style=\"height: 90px; -webkit-mask: linear-gradient(0deg, rgba(0, 0, 0, 0) 0px, rgba(0, 0, 0, 0) 18.0001px, rgb(0, 0, 0) 18.0001px), linear-gradient(270deg, rgba(0, 0, 0, 0) 0px, rgba(0, 0, 0, 0) 32.8px, rgb(0, 0, 0) 68.8002px);\">\n",
              " <p data-test-bidi=\"\" dir=\"ltr\">We've enhanced the Chase Mobile® app experience with new features that will allow our customers to do more in the app.</p>\n",
              " <br/>\n",
              " <p data-test-bidi=\"\" dir=\"ltr\">Now you can:</p>\n",
              " <p data-test-bidi=\"\" dir=\"ltr\">• Edit spending categories for your credit card transactions.</p>\n",
              " <p data-test-bidi=\"\" dir=\"ltr\">• See new features in Snapshot including category spending, money coming in each month and a rewards summary.</p>\n",
              " <p data-test-bidi=\"\" dir=\"ltr\">• View multiple business accounts on a single dashboard.</p>\n",
              " <p data-test-bidi=\"\" dir=\"ltr\">• Find investments and check your stock watchlist from the investment dashboard.</p>\n",
              " <p data-test-bidi=\"\" dir=\"ltr\">• See benefits and rewards details for IHG® credit cards.</p>\n",
              " <p data-test-bidi=\"\" dir=\"ltr\">• View eligible prior year contributions to your IRA in the investment dashboard.</p>\n",
              " <br/>\n",
              " <p data-test-bidi=\"\" dir=\"ltr\">Keep in mind: Features are subject to customer eligibility.</p>\n",
              " </div>\n",
              " <button aria-hidden=\"true\" class=\"link we-truncate__button\" data-metrics-click='{\"actionType\":\"more\",\"targetType\":\"button\",\"targetId\":\"More\"}' data-more-button=\"\" tabindex=\"-1\" type=\"button\">\n",
              "         more\n",
              "       </button>\n",
              " </div>\n",
              " </li>]"
            ]
          },
          "metadata": {
            "tags": []
          },
          "execution_count": 70
        }
      ]
    },
    {
      "cell_type": "code",
      "metadata": {
        "id": "uft9b8R1hZim"
      },
      "source": [
        "d = []\n",
        "\n",
        "text = []\n",
        "version = []\n",
        "for i in updates:\n",
        "    version.append(i.find('h4',{'class':'version-history__item__version-number'}).get_text())\n",
        "    d.append(i.find('time',{'class':'version-history__item__release-date'}).get_text())\n",
        "    p = i.find_all('p')\n",
        "    t = ''\n",
        "    for n in p:\n",
        "        t += n.get_text()\n",
        "    text.append(t)\n"
      ],
      "execution_count": null,
      "outputs": []
    },
    {
      "cell_type": "code",
      "metadata": {
        "id": "np-dkMimhZim",
        "outputId": "b8cb3704-97be-4dd9-9eb4-e6c2a6552f84"
      },
      "source": [
        "print(len(text),len(d),len(version))"
      ],
      "execution_count": null,
      "outputs": [
        {
          "output_type": "stream",
          "text": [
            "25 25 25\n"
          ],
          "name": "stdout"
        }
      ]
    },
    {
      "cell_type": "code",
      "metadata": {
        "id": "YOrYf-vqhZim"
      },
      "source": [
        "updateInfo = pd.DataFrame({'version':version,'date':d,'content':text})"
      ],
      "execution_count": null,
      "outputs": []
    },
    {
      "cell_type": "code",
      "metadata": {
        "id": "HnYuABbMhZim",
        "outputId": "100a66e2-ca99-41b0-a38a-90c8d0470127"
      },
      "source": [
        "updateInfo"
      ],
      "execution_count": null,
      "outputs": [
        {
          "output_type": "execute_result",
          "data": {
            "text/html": [
              "<div>\n",
              "<style scoped>\n",
              "    .dataframe tbody tr th:only-of-type {\n",
              "        vertical-align: middle;\n",
              "    }\n",
              "\n",
              "    .dataframe tbody tr th {\n",
              "        vertical-align: top;\n",
              "    }\n",
              "\n",
              "    .dataframe thead th {\n",
              "        text-align: right;\n",
              "    }\n",
              "</style>\n",
              "<table border=\"1\" class=\"dataframe\">\n",
              "  <thead>\n",
              "    <tr style=\"text-align: right;\">\n",
              "      <th></th>\n",
              "      <th>version</th>\n",
              "      <th>date</th>\n",
              "      <th>content</th>\n",
              "    </tr>\n",
              "  </thead>\n",
              "  <tbody>\n",
              "    <tr>\n",
              "      <th>0</th>\n",
              "      <td>4.192</td>\n",
              "      <td>Apr 16, 2021</td>\n",
              "      <td>We've enhanced the Chase Mobile® app experienc...</td>\n",
              "    </tr>\n",
              "    <tr>\n",
              "      <th>1</th>\n",
              "      <td>4.191</td>\n",
              "      <td>Apr 13, 2021</td>\n",
              "      <td>We've enhanced the Chase Mobile® app experienc...</td>\n",
              "    </tr>\n",
              "    <tr>\n",
              "      <th>2</th>\n",
              "      <td>4.190</td>\n",
              "      <td>Apr 6, 2021</td>\n",
              "      <td>We've enhanced the Chase Mobile® app experienc...</td>\n",
              "    </tr>\n",
              "    <tr>\n",
              "      <th>3</th>\n",
              "      <td>4.181</td>\n",
              "      <td>Mar 3, 2021</td>\n",
              "      <td>We're frequently updating the app in order to ...</td>\n",
              "    </tr>\n",
              "    <tr>\n",
              "      <th>4</th>\n",
              "      <td>4.180</td>\n",
              "      <td>Feb 23, 2021</td>\n",
              "      <td>We're frequently updating the app in order to ...</td>\n",
              "    </tr>\n",
              "    <tr>\n",
              "      <th>5</th>\n",
              "      <td>4.172</td>\n",
              "      <td>Jan 28, 2021</td>\n",
              "      <td>We're frequently updating the app in order to ...</td>\n",
              "    </tr>\n",
              "    <tr>\n",
              "      <th>6</th>\n",
              "      <td>4.171</td>\n",
              "      <td>Dec 10, 2020</td>\n",
              "      <td>We've enhanced the Chase Mobile® app experienc...</td>\n",
              "    </tr>\n",
              "    <tr>\n",
              "      <th>7</th>\n",
              "      <td>4.170</td>\n",
              "      <td>Dec 3, 2020</td>\n",
              "      <td>We've enhanced the Chase Mobile® app experienc...</td>\n",
              "    </tr>\n",
              "    <tr>\n",
              "      <th>8</th>\n",
              "      <td>4.160</td>\n",
              "      <td>Nov 5, 2020</td>\n",
              "      <td>We're frequently updating the app in order to ...</td>\n",
              "    </tr>\n",
              "    <tr>\n",
              "      <th>9</th>\n",
              "      <td>4.153</td>\n",
              "      <td>Oct 9, 2020</td>\n",
              "      <td>We've enhanced the Chase Mobile® app experienc...</td>\n",
              "    </tr>\n",
              "    <tr>\n",
              "      <th>10</th>\n",
              "      <td>4.152</td>\n",
              "      <td>Oct 3, 2020</td>\n",
              "      <td>We've enhanced the Chase Mobile® app experienc...</td>\n",
              "    </tr>\n",
              "    <tr>\n",
              "      <th>11</th>\n",
              "      <td>4.150</td>\n",
              "      <td>Sep 16, 2020</td>\n",
              "      <td>We're frequently updating the app in order to ...</td>\n",
              "    </tr>\n",
              "    <tr>\n",
              "      <th>12</th>\n",
              "      <td>4.143</td>\n",
              "      <td>Sep 2, 2020</td>\n",
              "      <td>We're frequently updating the app in order to ...</td>\n",
              "    </tr>\n",
              "    <tr>\n",
              "      <th>13</th>\n",
              "      <td>4.142</td>\n",
              "      <td>Aug 25, 2020</td>\n",
              "      <td>We're frequently updating the app in order to ...</td>\n",
              "    </tr>\n",
              "    <tr>\n",
              "      <th>14</th>\n",
              "      <td>4.140</td>\n",
              "      <td>Aug 11, 2020</td>\n",
              "      <td>We're frequently updating the app in order to ...</td>\n",
              "    </tr>\n",
              "    <tr>\n",
              "      <th>15</th>\n",
              "      <td>4.130</td>\n",
              "      <td>Jul 7, 2020</td>\n",
              "      <td>We're frequently updating the app in order to ...</td>\n",
              "    </tr>\n",
              "    <tr>\n",
              "      <th>16</th>\n",
              "      <td>4.122</td>\n",
              "      <td>Jun 11, 2020</td>\n",
              "      <td>We've enhanced the Chase Mobile® app experienc...</td>\n",
              "    </tr>\n",
              "    <tr>\n",
              "      <th>17</th>\n",
              "      <td>4.120</td>\n",
              "      <td>Jun 2, 2020</td>\n",
              "      <td>We've enhanced the Chase Mobile® app experienc...</td>\n",
              "    </tr>\n",
              "    <tr>\n",
              "      <th>18</th>\n",
              "      <td>4.110</td>\n",
              "      <td>May 4, 2020</td>\n",
              "      <td>We're frequently updating the app in order to ...</td>\n",
              "    </tr>\n",
              "    <tr>\n",
              "      <th>19</th>\n",
              "      <td>4.102</td>\n",
              "      <td>Apr 18, 2020</td>\n",
              "      <td>We're frequently updating the app in order to ...</td>\n",
              "    </tr>\n",
              "    <tr>\n",
              "      <th>20</th>\n",
              "      <td>4.100</td>\n",
              "      <td>Apr 5, 2020</td>\n",
              "      <td>We've enhanced the Chase Mobile® app experienc...</td>\n",
              "    </tr>\n",
              "    <tr>\n",
              "      <th>21</th>\n",
              "      <td>4.010</td>\n",
              "      <td>Feb 24, 2020</td>\n",
              "      <td>We're frequently updating the app in order to ...</td>\n",
              "    </tr>\n",
              "    <tr>\n",
              "      <th>22</th>\n",
              "      <td>4.002</td>\n",
              "      <td>Jan 21, 2020</td>\n",
              "      <td>We're frequently updating the app in order to ...</td>\n",
              "    </tr>\n",
              "    <tr>\n",
              "      <th>23</th>\n",
              "      <td>4.001</td>\n",
              "      <td>Dec 14, 2019</td>\n",
              "      <td>We've enhanced the Chase Mobile® app experienc...</td>\n",
              "    </tr>\n",
              "    <tr>\n",
              "      <th>24</th>\n",
              "      <td>4.000</td>\n",
              "      <td>Dec 7, 2019</td>\n",
              "      <td>We've enhanced the Chase Mobile® app experienc...</td>\n",
              "    </tr>\n",
              "  </tbody>\n",
              "</table>\n",
              "</div>"
            ],
            "text/plain": [
              "   version          date                                            content\n",
              "0    4.192  Apr 16, 2021  We've enhanced the Chase Mobile® app experienc...\n",
              "1    4.191  Apr 13, 2021  We've enhanced the Chase Mobile® app experienc...\n",
              "2    4.190   Apr 6, 2021  We've enhanced the Chase Mobile® app experienc...\n",
              "3    4.181   Mar 3, 2021  We're frequently updating the app in order to ...\n",
              "4    4.180  Feb 23, 2021  We're frequently updating the app in order to ...\n",
              "5    4.172  Jan 28, 2021  We're frequently updating the app in order to ...\n",
              "6    4.171  Dec 10, 2020  We've enhanced the Chase Mobile® app experienc...\n",
              "7    4.170   Dec 3, 2020  We've enhanced the Chase Mobile® app experienc...\n",
              "8    4.160   Nov 5, 2020  We're frequently updating the app in order to ...\n",
              "9    4.153   Oct 9, 2020  We've enhanced the Chase Mobile® app experienc...\n",
              "10   4.152   Oct 3, 2020  We've enhanced the Chase Mobile® app experienc...\n",
              "11   4.150  Sep 16, 2020  We're frequently updating the app in order to ...\n",
              "12   4.143   Sep 2, 2020  We're frequently updating the app in order to ...\n",
              "13   4.142  Aug 25, 2020  We're frequently updating the app in order to ...\n",
              "14   4.140  Aug 11, 2020  We're frequently updating the app in order to ...\n",
              "15   4.130   Jul 7, 2020  We're frequently updating the app in order to ...\n",
              "16   4.122  Jun 11, 2020  We've enhanced the Chase Mobile® app experienc...\n",
              "17   4.120   Jun 2, 2020  We've enhanced the Chase Mobile® app experienc...\n",
              "18   4.110   May 4, 2020  We're frequently updating the app in order to ...\n",
              "19   4.102  Apr 18, 2020  We're frequently updating the app in order to ...\n",
              "20   4.100   Apr 5, 2020  We've enhanced the Chase Mobile® app experienc...\n",
              "21   4.010  Feb 24, 2020  We're frequently updating the app in order to ...\n",
              "22   4.002  Jan 21, 2020  We're frequently updating the app in order to ...\n",
              "23   4.001  Dec 14, 2019  We've enhanced the Chase Mobile® app experienc...\n",
              "24   4.000   Dec 7, 2019  We've enhanced the Chase Mobile® app experienc..."
            ]
          },
          "metadata": {
            "tags": []
          },
          "execution_count": 132
        }
      ]
    },
    {
      "cell_type": "code",
      "metadata": {
        "id": "T3uG86vohZin"
      },
      "source": [
        "updateInfo.to_csv('updateInfo.csv')"
      ],
      "execution_count": null,
      "outputs": []
    },
    {
      "cell_type": "markdown",
      "metadata": {
        "id": "O0np1xfhggqD"
      },
      "source": [
        "# <font color=red> Cleaning the Data"
      ]
    },
    {
      "cell_type": "markdown",
      "metadata": {
        "id": "hjybhkU0ggqJ"
      },
      "source": [
        "### <font color=purple>Cleaning off unnessesary years"
      ]
    },
    {
      "cell_type": "code",
      "metadata": {
        "id": "qr1vJ8hAggqJ"
      },
      "source": [
        "import pandas as pd"
      ],
      "execution_count": null,
      "outputs": []
    },
    {
      "cell_type": "code",
      "metadata": {
        "id": "BKbK-akXggqK"
      },
      "source": [
        "chase = pd.read_csv(\"chaseReviews_60000_clean.csv\")"
      ],
      "execution_count": null,
      "outputs": []
    },
    {
      "cell_type": "code",
      "metadata": {
        "id": "DedkEBzNggqK",
        "outputId": "b6ff273c-8554-4f24-8947-2e1a700c8763"
      },
      "source": [
        "chase.head()"
      ],
      "execution_count": null,
      "outputs": [
        {
          "output_type": "execute_result",
          "data": {
            "text/html": [
              "<div>\n",
              "<style scoped>\n",
              "    .dataframe tbody tr th:only-of-type {\n",
              "        vertical-align: middle;\n",
              "    }\n",
              "\n",
              "    .dataframe tbody tr th {\n",
              "        vertical-align: top;\n",
              "    }\n",
              "\n",
              "    .dataframe thead th {\n",
              "        text-align: right;\n",
              "    }\n",
              "</style>\n",
              "<table border=\"1\" class=\"dataframe\">\n",
              "  <thead>\n",
              "    <tr style=\"text-align: right;\">\n",
              "      <th></th>\n",
              "      <th>user</th>\n",
              "      <th>date</th>\n",
              "      <th>title</th>\n",
              "      <th>text</th>\n",
              "      <th>rating</th>\n",
              "      <th>year</th>\n",
              "      <th>month</th>\n",
              "    </tr>\n",
              "  </thead>\n",
              "  <tbody>\n",
              "    <tr>\n",
              "      <th>0</th>\n",
              "      <td>dangityourecute</td>\n",
              "      <td>2018-08-31</td>\n",
              "      <td>I love the chase app</td>\n",
              "      <td>I’ve been using the app for over 4 years now a...</td>\n",
              "      <td>5</td>\n",
              "      <td>2018</td>\n",
              "      <td>8</td>\n",
              "    </tr>\n",
              "    <tr>\n",
              "      <th>1</th>\n",
              "      <td>*dude1.0*</td>\n",
              "      <td>2020-06-17</td>\n",
              "      <td>Terrible Customer Service and App</td>\n",
              "      <td>First of all I rarely leave negative reviews, ...</td>\n",
              "      <td>1</td>\n",
              "      <td>2020</td>\n",
              "      <td>6</td>\n",
              "    </tr>\n",
              "    <tr>\n",
              "      <th>2</th>\n",
              "      <td>cdjewell.net</td>\n",
              "      <td>2021-03-07</td>\n",
              "      <td>Great but missing one key feature</td>\n",
              "      <td>I have an embarrassing number of Chase account...</td>\n",
              "      <td>4</td>\n",
              "      <td>2021</td>\n",
              "      <td>3</td>\n",
              "    </tr>\n",
              "    <tr>\n",
              "      <th>3</th>\n",
              "      <td>Zoeyxoxoxo</td>\n",
              "      <td>2020-06-03</td>\n",
              "      <td>If I could I’d put no stars</td>\n",
              "      <td>This app is TRASH. Matter of fact throw out th...</td>\n",
              "      <td>1</td>\n",
              "      <td>2020</td>\n",
              "      <td>6</td>\n",
              "    </tr>\n",
              "    <tr>\n",
              "      <th>4</th>\n",
              "      <td>Serge s...</td>\n",
              "      <td>2020-07-07</td>\n",
              "      <td>It's excellent, packed with technology</td>\n",
              "      <td>I have done a review of the chase app over a y...</td>\n",
              "      <td>5</td>\n",
              "      <td>2020</td>\n",
              "      <td>7</td>\n",
              "    </tr>\n",
              "  </tbody>\n",
              "</table>\n",
              "</div>"
            ],
            "text/plain": [
              "              user        date                                   title  \\\n",
              "0  dangityourecute  2018-08-31                    I love the chase app   \n",
              "1        *dude1.0*  2020-06-17       Terrible Customer Service and App   \n",
              "2     cdjewell.net  2021-03-07       Great but missing one key feature   \n",
              "3       Zoeyxoxoxo  2020-06-03             If I could I’d put no stars   \n",
              "4       Serge s...  2020-07-07  It's excellent, packed with technology   \n",
              "\n",
              "                                                text  rating  year  month  \n",
              "0  I’ve been using the app for over 4 years now a...       5  2018      8  \n",
              "1  First of all I rarely leave negative reviews, ...       1  2020      6  \n",
              "2  I have an embarrassing number of Chase account...       4  2021      3  \n",
              "3  This app is TRASH. Matter of fact throw out th...       1  2020      6  \n",
              "4  I have done a review of the chase app over a y...       5  2020      7  "
            ]
          },
          "metadata": {
            "tags": []
          },
          "execution_count": 11
        }
      ]
    },
    {
      "cell_type": "code",
      "metadata": {
        "id": "1Vl-_U9QggqL"
      },
      "source": [
        "chase.year= chase['year']"
      ],
      "execution_count": null,
      "outputs": []
    },
    {
      "cell_type": "code",
      "metadata": {
        "id": "uR-z2QoBggqM"
      },
      "source": [
        "index = []\n",
        "for x in range(0,len(chase)):\n",
        "    if chase.year[x] >= 2015:\n",
        "        index.append(x)"
      ],
      "execution_count": null,
      "outputs": []
    },
    {
      "cell_type": "code",
      "metadata": {
        "id": "Z7rus5pCggqN"
      },
      "source": [
        "chase = chase.loc[index]"
      ],
      "execution_count": null,
      "outputs": []
    },
    {
      "cell_type": "code",
      "metadata": {
        "id": "QORwyH2IggqN"
      },
      "source": [
        "chase = chase.reset_index()"
      ],
      "execution_count": null,
      "outputs": []
    },
    {
      "cell_type": "code",
      "metadata": {
        "id": "0O0TmYEUggqN"
      },
      "source": [
        "del chase['index']"
      ],
      "execution_count": null,
      "outputs": []
    },
    {
      "cell_type": "code",
      "metadata": {
        "id": "COmLzcO2ggqN",
        "outputId": "0e05e73a-0458-473f-cbb0-6886a55776d9"
      },
      "source": [
        "chase"
      ],
      "execution_count": null,
      "outputs": [
        {
          "output_type": "execute_result",
          "data": {
            "text/html": [
              "<div>\n",
              "<style scoped>\n",
              "    .dataframe tbody tr th:only-of-type {\n",
              "        vertical-align: middle;\n",
              "    }\n",
              "\n",
              "    .dataframe tbody tr th {\n",
              "        vertical-align: top;\n",
              "    }\n",
              "\n",
              "    .dataframe thead th {\n",
              "        text-align: right;\n",
              "    }\n",
              "</style>\n",
              "<table border=\"1\" class=\"dataframe\">\n",
              "  <thead>\n",
              "    <tr style=\"text-align: right;\">\n",
              "      <th></th>\n",
              "      <th>user</th>\n",
              "      <th>date</th>\n",
              "      <th>title</th>\n",
              "      <th>text</th>\n",
              "      <th>rating</th>\n",
              "      <th>year</th>\n",
              "      <th>month</th>\n",
              "    </tr>\n",
              "  </thead>\n",
              "  <tbody>\n",
              "    <tr>\n",
              "      <th>0</th>\n",
              "      <td>dangityourecute</td>\n",
              "      <td>2018-08-31</td>\n",
              "      <td>I love the chase app</td>\n",
              "      <td>I’ve been using the app for over 4 years now a...</td>\n",
              "      <td>5</td>\n",
              "      <td>2018</td>\n",
              "      <td>8</td>\n",
              "    </tr>\n",
              "    <tr>\n",
              "      <th>1</th>\n",
              "      <td>*dude1.0*</td>\n",
              "      <td>2020-06-17</td>\n",
              "      <td>Terrible Customer Service and App</td>\n",
              "      <td>First of all I rarely leave negative reviews, ...</td>\n",
              "      <td>1</td>\n",
              "      <td>2020</td>\n",
              "      <td>6</td>\n",
              "    </tr>\n",
              "    <tr>\n",
              "      <th>2</th>\n",
              "      <td>cdjewell.net</td>\n",
              "      <td>2021-03-07</td>\n",
              "      <td>Great but missing one key feature</td>\n",
              "      <td>I have an embarrassing number of Chase account...</td>\n",
              "      <td>4</td>\n",
              "      <td>2021</td>\n",
              "      <td>3</td>\n",
              "    </tr>\n",
              "    <tr>\n",
              "      <th>3</th>\n",
              "      <td>Zoeyxoxoxo</td>\n",
              "      <td>2020-06-03</td>\n",
              "      <td>If I could I’d put no stars</td>\n",
              "      <td>This app is TRASH. Matter of fact throw out th...</td>\n",
              "      <td>1</td>\n",
              "      <td>2020</td>\n",
              "      <td>6</td>\n",
              "    </tr>\n",
              "    <tr>\n",
              "      <th>4</th>\n",
              "      <td>Serge s...</td>\n",
              "      <td>2020-07-07</td>\n",
              "      <td>It's excellent, packed with technology</td>\n",
              "      <td>I have done a review of the chase app over a y...</td>\n",
              "      <td>5</td>\n",
              "      <td>2020</td>\n",
              "      <td>7</td>\n",
              "    </tr>\n",
              "    <tr>\n",
              "      <th>...</th>\n",
              "      <td>...</td>\n",
              "      <td>...</td>\n",
              "      <td>...</td>\n",
              "      <td>...</td>\n",
              "      <td>...</td>\n",
              "      <td>...</td>\n",
              "      <td>...</td>\n",
              "    </tr>\n",
              "    <tr>\n",
              "      <th>53663</th>\n",
              "      <td>Csmithincin</td>\n",
              "      <td>2015-10-05</td>\n",
              "      <td>Reliable, innovative and user friendly</td>\n",
              "      <td>Reliable, innovative and user friendly. Best b...</td>\n",
              "      <td>5</td>\n",
              "      <td>2015</td>\n",
              "      <td>10</td>\n",
              "    </tr>\n",
              "    <tr>\n",
              "      <th>53664</th>\n",
              "      <td>Adam sefchovich</td>\n",
              "      <td>2015-10-05</td>\n",
              "      <td>Great app</td>\n",
              "      <td>Wish it included more rewards information rega...</td>\n",
              "      <td>5</td>\n",
              "      <td>2015</td>\n",
              "      <td>10</td>\n",
              "    </tr>\n",
              "    <tr>\n",
              "      <th>53665</th>\n",
              "      <td>Goofy4u21</td>\n",
              "      <td>2015-10-04</td>\n",
              "      <td>Amazing</td>\n",
              "      <td>Chase app has gotten better and better. Love t...</td>\n",
              "      <td>5</td>\n",
              "      <td>2015</td>\n",
              "      <td>10</td>\n",
              "    </tr>\n",
              "    <tr>\n",
              "      <th>53666</th>\n",
              "      <td>rmb317</td>\n",
              "      <td>2015-10-04</td>\n",
              "      <td>Terrific!</td>\n",
              "      <td>Great app! Very user-friendly and very few iss...</td>\n",
              "      <td>5</td>\n",
              "      <td>2015</td>\n",
              "      <td>10</td>\n",
              "    </tr>\n",
              "    <tr>\n",
              "      <th>53667</th>\n",
              "      <td>T_NYCE</td>\n",
              "      <td>2015-10-04</td>\n",
              "      <td>Love it!</td>\n",
              "      <td>I have multiple bank accounts and multiple ban...</td>\n",
              "      <td>5</td>\n",
              "      <td>2015</td>\n",
              "      <td>10</td>\n",
              "    </tr>\n",
              "  </tbody>\n",
              "</table>\n",
              "<p>53668 rows × 7 columns</p>\n",
              "</div>"
            ],
            "text/plain": [
              "                  user        date                                   title  \\\n",
              "0      dangityourecute  2018-08-31                    I love the chase app   \n",
              "1            *dude1.0*  2020-06-17       Terrible Customer Service and App   \n",
              "2         cdjewell.net  2021-03-07       Great but missing one key feature   \n",
              "3           Zoeyxoxoxo  2020-06-03             If I could I’d put no stars   \n",
              "4           Serge s...  2020-07-07  It's excellent, packed with technology   \n",
              "...                ...         ...                                     ...   \n",
              "53663      Csmithincin  2015-10-05  Reliable, innovative and user friendly   \n",
              "53664  Adam sefchovich  2015-10-05                               Great app   \n",
              "53665        Goofy4u21  2015-10-04                                 Amazing   \n",
              "53666           rmb317  2015-10-04                               Terrific!   \n",
              "53667           T_NYCE  2015-10-04                                Love it!   \n",
              "\n",
              "                                                    text  rating  year  month  \n",
              "0      I’ve been using the app for over 4 years now a...       5  2018      8  \n",
              "1      First of all I rarely leave negative reviews, ...       1  2020      6  \n",
              "2      I have an embarrassing number of Chase account...       4  2021      3  \n",
              "3      This app is TRASH. Matter of fact throw out th...       1  2020      6  \n",
              "4      I have done a review of the chase app over a y...       5  2020      7  \n",
              "...                                                  ...     ...   ...    ...  \n",
              "53663  Reliable, innovative and user friendly. Best b...       5  2015     10  \n",
              "53664  Wish it included more rewards information rega...       5  2015     10  \n",
              "53665  Chase app has gotten better and better. Love t...       5  2015     10  \n",
              "53666  Great app! Very user-friendly and very few iss...       5  2015     10  \n",
              "53667  I have multiple bank accounts and multiple ban...       5  2015     10  \n",
              "\n",
              "[53668 rows x 7 columns]"
            ]
          },
          "metadata": {
            "tags": []
          },
          "execution_count": 38
        }
      ]
    },
    {
      "cell_type": "code",
      "metadata": {
        "id": "6GQRkvRSggqO"
      },
      "source": [
        "chase.to_csv('2015-2021_Chase_Rev.csv')"
      ],
      "execution_count": null,
      "outputs": []
    },
    {
      "cell_type": "markdown",
      "metadata": {
        "id": "seJ9S_bjggqO"
      },
      "source": [
        "# <font color=red> Frequency"
      ]
    },
    {
      "cell_type": "code",
      "metadata": {
        "id": "6noSISzYggqO",
        "outputId": "4bb1d851-ff5f-4512-8125-b381ded697c4"
      },
      "source": [
        "import nltk #import nltk package \n",
        "from nltk import FreqDist\n",
        "\n",
        "\n",
        "#read file from local\n",
        "f = open('2015-2021_Chase_Rev.csv','rU')\n",
        "raw = f.read()"
      ],
      "execution_count": null,
      "outputs": [
        {
          "output_type": "stream",
          "text": [
            "<ipython-input-40-0bc6afa89479>:6: DeprecationWarning: 'U' mode is deprecated\n",
            "  f = open('2015-2021_Chase_Rev.csv','rU')\n"
          ],
          "name": "stderr"
        }
      ]
    },
    {
      "cell_type": "markdown",
      "metadata": {
        "id": "cglo-qWNggqO"
      },
      "source": [
        "## <font color=orange> Frequncy Total"
      ]
    },
    {
      "cell_type": "markdown",
      "metadata": {
        "id": "j6d4z0lxggqP"
      },
      "source": [
        "### <font color=purple> 1. Simple Bag of Words Approach"
      ]
    },
    {
      "cell_type": "code",
      "metadata": {
        "id": "idiw3gjaggqP"
      },
      "source": [
        "#use built-in NLTK tokenization function to tokenize\n",
        "tokens = nltk.word_tokenize(raw)\n",
        "\n",
        "#change all tokens into lower case \n",
        "words1 = [w.lower() for w in tokens] \n",
        " \n",
        "words1 = []\n",
        "for w in tokens: \n",
        "    words1.append(w.lower())\n",
        "\n",
        "#only keep text words, no numbers \n",
        "words2 = [w for w in words1 if w.isalpha()]\n",
        "\n",
        "#generate a frequency dictionary for all tokens \n",
        "freq = FreqDist(words2)\n",
        "\n",
        "#sort the frequency list in descending order\n",
        "sorted_freq = sorted(freq.items(),key = lambda k:k[1], reverse = True)\n"
      ],
      "execution_count": null,
      "outputs": []
    },
    {
      "cell_type": "markdown",
      "metadata": {
        "id": "J1zCFXCAggqP"
      },
      "source": [
        "#### <font color=green> Top 30 keywords (concepts) extracted "
      ]
    },
    {
      "cell_type": "code",
      "metadata": {
        "id": "Lck7JJOqggqP",
        "outputId": "d1e612a2-ba7a-45ce-9d05-aec402749685"
      },
      "source": [
        "bowtop30 = sorted_freq[0:30] #extracting top 30 words from sorted frequency list\n",
        "bowtop30\n"
      ],
      "execution_count": null,
      "outputs": [
        {
          "output_type": "execute_result",
          "data": {
            "text/plain": [
              "[('the', 82408),\n",
              " ('to', 82386),\n",
              " ('i', 81089),\n",
              " ('app', 63609),\n",
              " ('and', 57982),\n",
              " ('it', 51140),\n",
              " ('a', 36237),\n",
              " ('my', 36050),\n",
              " ('is', 34632),\n",
              " ('this', 29645),\n",
              " ('chase', 24722),\n",
              " ('of', 22771),\n",
              " ('for', 21987),\n",
              " ('have', 20951),\n",
              " ('you', 18772),\n",
              " ('use', 18431),\n",
              " ('in', 18044),\n",
              " ('with', 17769),\n",
              " ('easy', 17750),\n",
              " ('that', 16791),\n",
              " ('on', 15811),\n",
              " ('great', 15760),\n",
              " ('love', 14877),\n",
              " ('can', 12633),\n",
              " ('me', 12356),\n",
              " ('bank', 12033),\n",
              " ('do', 12003),\n",
              " ('not', 11808),\n",
              " ('very', 11700),\n",
              " ('so', 11373)]"
            ]
          },
          "metadata": {
            "tags": []
          },
          "execution_count": 42
        }
      ]
    },
    {
      "cell_type": "markdown",
      "metadata": {
        "id": "peEHrllCggqP"
      },
      "source": [
        "#### <font color=green>Top 30 keywords (concepts) Plotted"
      ]
    },
    {
      "cell_type": "code",
      "metadata": {
        "id": "s_vXaf21ggqQ",
        "outputId": "c500810f-0c8f-4f5c-8070-5ccf803a1743"
      },
      "source": [
        "#plotting the top 30 keywords on frequency plot\n",
        "bowtop30plot = freq.plot(30,title = \"Simple BOW Top 30 Words Frequency Plot\")"
      ],
      "execution_count": null,
      "outputs": [
        {
          "output_type": "display_data",
          "data": {
            "image/png": "[encoded data removed]",
            "text/plain": [
              "<Figure size 432x288 with 1 Axes>"
            ]
          },
          "metadata": {
            "tags": [],
            "needs_background": "light"
          }
        }
      ]
    },
    {
      "cell_type": "markdown",
      "metadata": {
        "id": "dJlh1VsxggqQ"
      },
      "source": [
        "### <font color=purple>2. Bag of Words Approach (Stemming and Stop Words Removal)"
      ]
    },
    {
      "cell_type": "code",
      "metadata": {
        "id": "VgADbo_PggqQ",
        "outputId": "fc1c02e2-35f6-4cf4-c4d0-d1817aaad878"
      },
      "source": [
        "nltk.download('stopwords') #download stopwords package"
      ],
      "execution_count": null,
      "outputs": [
        {
          "output_type": "stream",
          "text": [
            "[nltk_data] Downloading package stopwords to\n",
            "[nltk_data]     /Users/vanessaasaro/nltk_data...\n",
            "[nltk_data]   Package stopwords is already up-to-date!\n"
          ],
          "name": "stderr"
        },
        {
          "output_type": "execute_result",
          "data": {
            "text/plain": [
              "True"
            ]
          },
          "metadata": {
            "tags": []
          },
          "execution_count": 44
        }
      ]
    },
    {
      "cell_type": "code",
      "metadata": {
        "id": "Sc-6WPk-ggqQ"
      },
      "source": [
        "from nltk.corpus import stopwords #importing stopwords\n",
        "\n",
        "stopwords = stopwords.words('english') #use the NLTK stopwords"
      ],
      "execution_count": null,
      "outputs": []
    },
    {
      "cell_type": "code",
      "metadata": {
        "id": "17j7wtJzggqQ"
      },
      "source": [
        "#create a new list without stopwords \n",
        "words_nostopwords = [w for w in words2 if w not in stopwords]"
      ],
      "execution_count": null,
      "outputs": []
    },
    {
      "cell_type": "code",
      "metadata": {
        "id": "Lorcz-waggqQ"
      },
      "source": [
        "#Use Porter Stemmer with words with no stop words list\n",
        "porter = nltk.PorterStemmer()\n",
        "stem1 = [porter.stem(w) for w in words_nostopwords]\n",
        "\n",
        "#Get the frequency distribution \n",
        "freq1 = FreqDist(stem1)\n",
        "#Sort the result\n",
        "sorted_freq1 = sorted(freq1.items(),key = lambda k: k[1], reverse = True)"
      ],
      "execution_count": null,
      "outputs": []
    },
    {
      "cell_type": "markdown",
      "metadata": {
        "id": "V6p0fq5hggqR"
      },
      "source": [
        "#### <font color=green>Top 30 keywords (concepts) extracted "
      ]
    },
    {
      "cell_type": "code",
      "metadata": {
        "id": "Ts_HJnfAggqR",
        "outputId": "83ecb089-ee50-4ac9-e3f2-6a3b08e713cf"
      },
      "source": [
        "bowstemstoptop30 = sorted_freq1[0:30] #extracting top 30 words from sorted frequency list\n",
        "bowstemstoptop30"
      ],
      "execution_count": null,
      "outputs": [
        {
          "output_type": "execute_result",
          "data": {
            "text/plain": [
              "[('app', 66853),\n",
              " ('use', 27738),\n",
              " ('chase', 24808),\n",
              " ('bank', 24711),\n",
              " ('easi', 17760),\n",
              " ('check', 15797),\n",
              " ('great', 15784),\n",
              " ('account', 15372),\n",
              " ('love', 15334),\n",
              " ('deposit', 11365),\n",
              " ('work', 10843),\n",
              " ('time', 10679),\n",
              " ('need', 10092),\n",
              " ('make', 10078),\n",
              " ('like', 8594),\n",
              " ('pay', 8216),\n",
              " ('updat', 8144),\n",
              " ('get', 7127),\n",
              " ('balanc', 6767),\n",
              " ('go', 6602),\n",
              " ('one', 6521),\n",
              " ('conveni', 6493),\n",
              " ('money', 6115),\n",
              " ('card', 6093),\n",
              " ('good', 5773),\n",
              " ('would', 5751),\n",
              " ('password', 5544),\n",
              " ('featur', 5366),\n",
              " ('transfer', 5337),\n",
              " ('mobil', 5280)]"
            ]
          },
          "metadata": {
            "tags": []
          },
          "execution_count": 48
        }
      ]
    },
    {
      "cell_type": "markdown",
      "metadata": {
        "id": "4LHHN8AcggqR"
      },
      "source": [
        "#### <font color=green>Top 30 keywords (concepts) Plotted"
      ]
    },
    {
      "cell_type": "code",
      "metadata": {
        "id": "_JzfJ_AKggqR",
        "outputId": "bffc5543-847e-467e-9a26-b46737a90ac8"
      },
      "source": [
        "#plotting the top 30 keywords on frequency plot\n",
        "bowstemstoptop30plot = freq1.plot(30,title = \"Advanced BOW Top 30 Words Frequency Plot\")\n",
        "bowstemstoptop30plot"
      ],
      "execution_count": null,
      "outputs": [
        {
          "output_type": "display_data",
          "data": {
            "image/png": "[encoded data removed]",
            "text/plain": [
              "<Figure size 432x288 with 1 Axes>"
            ]
          },
          "metadata": {
            "tags": [],
            "needs_background": "light"
          }
        },
        {
          "output_type": "execute_result",
          "data": {
            "text/plain": [
              "<matplotlib.axes._subplots.AxesSubplot at 0x7fa78ca5e910>"
            ]
          },
          "metadata": {
            "tags": []
          },
          "execution_count": 49
        }
      ]
    },
    {
      "cell_type": "markdown",
      "metadata": {
        "id": "rC21fvhdggqR"
      },
      "source": [
        "### <font color=purple> 3. POS Approach (all noun forms)"
      ]
    },
    {
      "cell_type": "code",
      "metadata": {
        "id": "_Y4HFgvMggqS"
      },
      "source": [
        "POS_tags = nltk.pos_tag(tokens) #use unprocessed 'tokens', not 'words'\n",
        "\n",
        "#Generate a list of POS tags\n",
        "POS_tag_list = [(words2,tag) for (words2,tag) in POS_tags if tag.startswith('N')]\n",
        " "
      ],
      "execution_count": null,
      "outputs": []
    },
    {
      "cell_type": "code",
      "metadata": {
        "id": "XZM-GhmdggqS"
      },
      "source": [
        "#Generate a frequency distribution of all the POS tags\n",
        "tag_freq = nltk.FreqDist(POS_tag_list)\n",
        "\n",
        "#Sort the result \n",
        "sorted_tag_freq = sorted(tag_freq.items(), key = lambda k:k[1], reverse = True)\n"
      ],
      "execution_count": null,
      "outputs": []
    },
    {
      "cell_type": "code",
      "metadata": {
        "id": "WuCgmuUWggqS",
        "outputId": "bb814283-f01d-4f2d-bbb7-82cf85462514"
      },
      "source": [
        "nltk.download('averaged_perceptron_tagger')"
      ],
      "execution_count": null,
      "outputs": [
        {
          "output_type": "stream",
          "text": [
            "[nltk_data] Downloading package averaged_perceptron_tagger to\n",
            "[nltk_data]     /Users/vanessaasaro/nltk_data...\n",
            "[nltk_data]   Package averaged_perceptron_tagger is already up-to-\n",
            "[nltk_data]       date!\n"
          ],
          "name": "stderr"
        },
        {
          "output_type": "execute_result",
          "data": {
            "text/plain": [
              "True"
            ]
          },
          "metadata": {
            "tags": []
          },
          "execution_count": 52
        }
      ]
    },
    {
      "cell_type": "code",
      "metadata": {
        "id": "CcZxAeh-ggqS"
      },
      "source": [
        "POS_tags = nltk.pos_tag(tokens) #use unprocessed 'tokens', not 'words'\n",
        "\n",
        "#Generate a list of POS tags\n",
        "POS_tag_list = [(word,tag) for (word,tag) in POS_tags if tag.startswith('N')]\n"
      ],
      "execution_count": null,
      "outputs": []
    },
    {
      "cell_type": "code",
      "metadata": {
        "id": "FOsfN9tcggqS"
      },
      "source": [
        "#take out anything that is not alpha or numbers\n",
        "POS_tag_list = [(word,tag) for (word,tag) in POS_tag_list if word[0].isalnum()]"
      ],
      "execution_count": null,
      "outputs": []
    },
    {
      "cell_type": "code",
      "metadata": {
        "id": "e8QeEOEeggqT"
      },
      "source": [
        "#Generate a frequency distribution of all the POS tags\n",
        "tag_freq = nltk.FreqDist(POS_tag_list)\n",
        "\n",
        "#Sort the result \n",
        "sorted_tag_freq = sorted(tag_freq.items(), key = lambda k:k[1], reverse = True)\n"
      ],
      "execution_count": null,
      "outputs": []
    },
    {
      "cell_type": "markdown",
      "metadata": {
        "id": "ChCwcj7wggqT"
      },
      "source": [
        "#### <font color=green>Top 30 keywords (concepts) extracted "
      ]
    },
    {
      "cell_type": "code",
      "metadata": {
        "id": "Bme8hmdEggqT",
        "outputId": "363ce08a-1f7e-4d05-868d-07be756739d4"
      },
      "source": [
        "postop30 = sorted_tag_freq[0:30]  #extracting top 30 words and their part of speech from sorted frequency list\n",
        "postop30"
      ],
      "execution_count": null,
      "outputs": [
        {
          "output_type": "execute_result",
          "data": {
            "text/plain": [
              "[(('app', 'NN'), 50419),\n",
              " (('Chase', 'NNP'), 18928),\n",
              " (('bank', 'NN'), 9935),\n",
              " (('account', 'NN'), 9101),\n",
              " (('banking', 'NN'), 8588),\n",
              " (('App', 'NNP'), 8409),\n",
              " (('Great', 'NNP'), 8390),\n",
              " (('time', 'NN'), 8039),\n",
              " (('money', 'NN'), 6004),\n",
              " (('accounts', 'NNS'), 5385),\n",
              " (('checks', 'NNS'), 4970),\n",
              " (('password', 'NN'), 4843),\n",
              " (('Easy', 'NNP'), 4809),\n",
              " (('card', 'NN'), 4603),\n",
              " (('ID', 'NNP'), 4417),\n",
              " (('credit', 'NN'), 4305),\n",
              " (('balance', 'NN'), 4204),\n",
              " (('deposit', 'NN'), 4051),\n",
              " (('everything', 'NN'), 3884),\n",
              " (('t', 'NN'), 3879),\n",
              " (('Love', 'NNP'), 3872),\n",
              " (('check', 'NN'), 3862),\n",
              " (('phone', 'NN'), 3859),\n",
              " (('chase', 'NN'), 3519),\n",
              " (('access', 'NN'), 3110),\n",
              " (('feature', 'NN'), 2929),\n",
              " (('bills', 'NNS'), 2807),\n",
              " (('years', 'NNS'), 2742),\n",
              " (('Touch', 'NNP'), 2715),\n",
              " (('way', 'NN'), 2678)]"
            ]
          },
          "metadata": {
            "tags": []
          },
          "execution_count": 56
        }
      ]
    },
    {
      "cell_type": "markdown",
      "metadata": {
        "id": "I9VBRbL6ggqT"
      },
      "source": [
        "#### <font color=green>Top 30 keywords (concepts) Plotted"
      ]
    },
    {
      "cell_type": "code",
      "metadata": {
        "id": "6rIyIHQcggqT",
        "outputId": "2338e28e-4c96-4481-8f54-be6c4c138056"
      },
      "source": [
        "#plotting the top 30 keywords and part of speechon frequency plot\n",
        "postop30plot = tag_freq.plot(30,title = \"POS Top 30 Words Frequency Plot\")"
      ],
      "execution_count": null,
      "outputs": [
        {
          "output_type": "display_data",
          "data": {
            "image/png": "[encoded data removed]",
            "text/plain": [
              "<Figure size 432x288 with 1 Axes>"
            ]
          },
          "metadata": {
            "tags": [],
            "needs_background": "light"
          }
        }
      ]
    },
    {
      "cell_type": "markdown",
      "metadata": {
        "id": "c26H2T4FggqT"
      },
      "source": [
        "### <font color=purple> 4. POS Approach (NNP)"
      ]
    },
    {
      "cell_type": "code",
      "metadata": {
        "id": "I8o9sN7KggqU"
      },
      "source": [
        "#create a new list from past of speech list with only NNP\n",
        "NNPlist = []\n",
        "for x in POS_tag_list:\n",
        "    if 'NNP' in x:\n",
        "        NNPlist.append(x)\n",
        "        \n",
        "#Generate a frequency distribution of all the NNP tags    \n",
        "NNP_freq = nltk.FreqDist(NNPlist)\n",
        "\n",
        "#Sort the result\n",
        "sorted_NNP_freq = sorted(NNP_freq.items(), key = lambda k:k[1], reverse = True)\n"
      ],
      "execution_count": null,
      "outputs": []
    },
    {
      "cell_type": "markdown",
      "metadata": {
        "id": "3hOutvs8ggqU"
      },
      "source": [
        "#### <font color=green>Top 30 keywords (concepts) extracted "
      ]
    },
    {
      "cell_type": "code",
      "metadata": {
        "id": "NVALfSfrggqU",
        "outputId": "1a234976-b449-4b6a-e098-b2b948e056dc"
      },
      "source": [
        "nnptop30 = sorted_NNP_freq[0:30]  #extracting top 30 NNP words from sorted frequency list\n",
        "nnptop30"
      ],
      "execution_count": null,
      "outputs": [
        {
          "output_type": "execute_result",
          "data": {
            "text/plain": [
              "[(('Chase', 'NNP'), 18928),\n",
              " (('App', 'NNP'), 8409),\n",
              " (('Great', 'NNP'), 8390),\n",
              " (('Easy', 'NNP'), 4809),\n",
              " (('ID', 'NNP'), 4417),\n",
              " (('Love', 'NNP'), 3872),\n",
              " (('Touch', 'NNP'), 2715),\n",
              " (('Bank', 'NNP'), 1998),\n",
              " (('Very', 'NNP'), 1972),\n",
              " (('Best', 'NNP'), 1726),\n",
              " (('Thank', 'NNP'), 1435),\n",
              " (('Good', 'NNP'), 1430),\n",
              " (('Works', 'NNP'), 1300),\n",
              " (('Banking', 'NNP'), 1264),\n",
              " (('Excellent', 'NNP'), 1113),\n",
              " (('Mobile', 'NNP'), 1070),\n",
              " (('Awesome', 'NNP'), 1021),\n",
              " (('Please', 'NNP'), 1007),\n",
              " (('Convenient', 'NNP'), 943),\n",
              " (('Quick', 'NNP'), 819),\n",
              " (('My', 'NNP'), 772),\n",
              " (('Just', 'NNP'), 737),\n",
              " (('New', 'NNP'), 717),\n",
              " (('So', 'NNP'), 681),\n",
              " (('User', 'NNP'), 668),\n",
              " (('Makes', 'NNP'), 668),\n",
              " (('Never', 'NNP'), 636),\n",
              " (('No', 'NNP'), 630),\n",
              " (('Super', 'NNP'), 626),\n",
              " (('Simple', 'NNP'), 603)]"
            ]
          },
          "metadata": {
            "tags": []
          },
          "execution_count": 59
        }
      ]
    },
    {
      "cell_type": "markdown",
      "metadata": {
        "id": "Vmhgr5AFggqU"
      },
      "source": [
        "#### <font color=green>Top 30 keywords (concepts) Plotted"
      ]
    },
    {
      "cell_type": "code",
      "metadata": {
        "id": "u93umajiggqU",
        "scrolled": true,
        "outputId": "d8520634-829a-4ec7-aaa9-fb25672d09dd"
      },
      "source": [
        "#plotting the top 30 NNP words and part of speech on frequency plot\n",
        "nnptop30plot = NNP_freq.plot(30,title =\"NNP Top 30 Words Frequency Plot\")\n"
      ],
      "execution_count": null,
      "outputs": [
        {
          "output_type": "display_data",
          "data": {
            "image/png": "[encoded data removed]",
            "text/plain": [
              "<Figure size 432x288 with 1 Axes>"
            ]
          },
          "metadata": {
            "tags": [],
            "needs_background": "light"
          }
        }
      ]
    },
    {
      "cell_type": "code",
      "metadata": {
        "id": "E_rnHcdmggqU",
        "outputId": "e17f8e3c-bd16-4800-8500-b96e9fd521a2"
      },
      "source": [
        "import nltk #import nltk package \n",
        "from nltk import FreqDist\n",
        "\n",
        "\n",
        "#read file from local\n",
        "f = open('2015-2021_Chase_Rev.csv','rU')\n",
        "raw = f.read()"
      ],
      "execution_count": null,
      "outputs": [
        {
          "output_type": "stream",
          "text": [
            "<ipython-input-40-0bc6afa89479>:6: DeprecationWarning: 'U' mode is deprecated\n",
            "  f = open('2015-2021_Chase_Rev.csv','rU')\n"
          ],
          "name": "stderr"
        }
      ]
    },
    {
      "cell_type": "markdown",
      "metadata": {
        "id": "mAP3ZjIXggqV"
      },
      "source": [
        "## <font color=orange> Frequncy By Year - 2015"
      ]
    },
    {
      "cell_type": "code",
      "metadata": {
        "id": "m9BBDHf3ggqV"
      },
      "source": [
        "_2015 = chase[chase['year'] == (2015)]"
      ],
      "execution_count": null,
      "outputs": []
    },
    {
      "cell_type": "code",
      "metadata": {
        "id": "6E99srCtggqV"
      },
      "source": [
        "_2015.to_csv('2015.csv')"
      ],
      "execution_count": null,
      "outputs": []
    },
    {
      "cell_type": "code",
      "metadata": {
        "id": "2K_dkilXggqV",
        "outputId": "751be8bf-ab4a-4eb8-aad5-bf70be4ddebb"
      },
      "source": [
        "f = open('2015.csv','rU')\n",
        "raw = f.read()"
      ],
      "execution_count": null,
      "outputs": [
        {
          "output_type": "stream",
          "text": [
            "<ipython-input-75-2ceec98a2074>:1: DeprecationWarning: 'U' mode is deprecated\n",
            "  f = open('2015.csv','rU')\n"
          ],
          "name": "stderr"
        }
      ]
    },
    {
      "cell_type": "code",
      "metadata": {
        "id": "DvoHOUI-ggqV"
      },
      "source": [
        "#use built-in NLTK tokenization function to tokenize\n",
        "tokens = nltk.word_tokenize(raw)\n",
        "\n",
        "POS_tags = nltk.pos_tag(tokens) #use unprocessed 'tokens', not 'words'\n",
        "\n",
        "#Generate a list of POS tags\n",
        "POS_tag_list = [(word,tag) for (word,tag) in POS_tags if tag.startswith('N')]\n",
        "\n",
        "#Generate a frequency distribution of all the POS tags\n",
        "tag_freq = nltk.FreqDist(POS_tag_list)\n",
        "\n",
        "#Sort the result \n",
        "sorted_tag_freq = sorted(tag_freq.items(), key = lambda k:k[1], reverse = True)\n"
      ],
      "execution_count": null,
      "outputs": []
    },
    {
      "cell_type": "code",
      "metadata": {
        "id": "FMKiekrsggqW",
        "outputId": "8f8b79c3-4bef-4f4f-9fe1-049eb346492e"
      },
      "source": [
        "chase_2015 = sorted_tag_freq[0:30]\n",
        "chase_2015"
      ],
      "execution_count": null,
      "outputs": [
        {
          "output_type": "execute_result",
          "data": {
            "text/plain": [
              "[(('app', 'NN'), 7775),\n",
              " (('Chase', 'NNP'), 2753),\n",
              " (('bank', 'NN'), 1551),\n",
              " (('banking', 'NN'), 1541),\n",
              " (('Great', 'NNP'), 1453),\n",
              " (('account', 'NN'), 1294),\n",
              " (('App', 'NNP'), 1210),\n",
              " (('ID', 'NNP'), 1025),\n",
              " (('time', 'NN'), 994),\n",
              " (('money', 'NN'), 921),\n",
              " (('checks', 'NNS'), 864),\n",
              " (('accounts', 'NNS'), 822),\n",
              " (('Touch', 'NNP'), 733),\n",
              " (('balance', 'NN'), 726),\n",
              " (('everything', 'NN'), 689),\n",
              " (('Love', 'NNP'), 665),\n",
              " (('deposit', 'NN'), 653),\n",
              " (('Easy', 'NNP'), 639),\n",
              " (('feature', 'NN'), 618),\n",
              " (('phone', 'NN'), 594),\n",
              " (('check', 'NN'), 581),\n",
              " (('password', 'NN'), 553),\n",
              " (('bills', 'NNS'), 521),\n",
              " (('card', 'NN'), 487),\n",
              " (('chase', 'NN'), 486),\n",
              " (('credit', 'NN'), 486),\n",
              " (('access', 'NN'), 463),\n",
              " (('pay', 'NN'), 447),\n",
              " (('features', 'NNS'), 419),\n",
              " (('balances', 'NNS'), 417)]"
            ]
          },
          "metadata": {
            "tags": []
          },
          "execution_count": 77
        }
      ]
    },
    {
      "cell_type": "markdown",
      "metadata": {
        "id": "zT0752JOggqW"
      },
      "source": [
        "## <font color=orange> Frequency By Year - 2016"
      ]
    },
    {
      "cell_type": "code",
      "metadata": {
        "id": "MbwtlSEnggqW"
      },
      "source": [
        "_2016 = chase[chase['year'] == (2016)]"
      ],
      "execution_count": null,
      "outputs": []
    },
    {
      "cell_type": "code",
      "metadata": {
        "id": "k-aaHPNIggqW"
      },
      "source": [
        "_2016.to_csv('2016.csv')"
      ],
      "execution_count": null,
      "outputs": []
    },
    {
      "cell_type": "code",
      "metadata": {
        "id": "F0WQ0y7-ggqW",
        "outputId": "c15ab781-3264-40ab-ba7b-d770b2e49359"
      },
      "source": [
        "f = open('2016.csv','rU')\n",
        "raw = f.read()"
      ],
      "execution_count": null,
      "outputs": [
        {
          "output_type": "stream",
          "text": [
            "<ipython-input-80-7bdf95f71a81>:1: DeprecationWarning: 'U' mode is deprecated\n",
            "  f = open('2016.csv','rU')\n"
          ],
          "name": "stderr"
        }
      ]
    },
    {
      "cell_type": "code",
      "metadata": {
        "id": "PrvwlaaxggqW"
      },
      "source": [
        "#use built-in NLTK tokenization function to tokenize\n",
        "tokens = nltk.word_tokenize(raw)\n",
        "\n",
        "POS_tags = nltk.pos_tag(tokens) #use unprocessed 'tokens', not 'words'\n",
        "\n",
        "#Generate a list of POS tags\n",
        "POS_tag_list = [(word,tag) for (word,tag) in POS_tags if tag.startswith('N')]\n",
        "\n",
        "#Generate a frequency distribution of all the POS tags\n",
        "tag_freq = nltk.FreqDist(POS_tag_list)\n",
        "\n",
        "#Sort the result \n",
        "sorted_tag_freq = sorted(tag_freq.items(), key = lambda k:k[1], reverse = True)\n"
      ],
      "execution_count": null,
      "outputs": []
    },
    {
      "cell_type": "code",
      "metadata": {
        "id": "HkgxAsDgggqX",
        "scrolled": true,
        "outputId": "7801724a-69f6-4b2a-cad0-cdfd90ca1fa5"
      },
      "source": [
        "chase_2016 = sorted_tag_freq[0:30]\n",
        "chase_2016"
      ],
      "execution_count": null,
      "outputs": [
        {
          "output_type": "execute_result",
          "data": {
            "text/plain": [
              "[(('app', 'NN'), 17832),\n",
              " (('Chase', 'NNP'), 5878),\n",
              " (('bank', 'NN'), 3296),\n",
              " (('Great', 'NNP'), 3238),\n",
              " (('banking', 'NN'), 3219),\n",
              " (('account', 'NN'), 2970),\n",
              " (('App', 'NNP'), 2844),\n",
              " (('money', 'NN'), 2345),\n",
              " (('time', 'NN'), 2296),\n",
              " (('accounts', 'NNS'), 2088),\n",
              " (('checks', 'NNS'), 2035),\n",
              " (('Easy', 'NNP'), 1803),\n",
              " (('balance', 'NN'), 1616),\n",
              " (('everything', 'NN'), 1576),\n",
              " (('Love', 'NNP'), 1508),\n",
              " (('deposit', 'NN'), 1480),\n",
              " (('card', 'NN'), 1464),\n",
              " (('credit', 'NN'), 1451),\n",
              " (('check', 'NN'), 1333),\n",
              " (('ID', 'NNP'), 1307),\n",
              " (('phone', 'NN'), 1242),\n",
              " (('access', 'NN'), 1175),\n",
              " (('bills', 'NNS'), 1150),\n",
              " (('pay', 'NN'), 1144),\n",
              " (('feature', 'NN'), 1116),\n",
              " (('password', 'NN'), 1082),\n",
              " (('chase', 'NN'), 1058),\n",
              " (('balances', 'NNS'), 1023),\n",
              " (('years', 'NNS'), 943),\n",
              " (('transactions', 'NNS'), 927)]"
            ]
          },
          "metadata": {
            "tags": []
          },
          "execution_count": 82
        }
      ]
    },
    {
      "cell_type": "markdown",
      "metadata": {
        "id": "DZkSH8MxggqX"
      },
      "source": [
        "## <font color=orange> Frequency  By Year - 2017"
      ]
    },
    {
      "cell_type": "code",
      "metadata": {
        "id": "3tw035iFggqX"
      },
      "source": [
        "_2017 = chase[chase['year'] == (2017)]"
      ],
      "execution_count": null,
      "outputs": []
    },
    {
      "cell_type": "code",
      "metadata": {
        "id": "yYkUAr9tggqX"
      },
      "source": [
        "_2017.to_csv('2017.csv')"
      ],
      "execution_count": null,
      "outputs": []
    },
    {
      "cell_type": "code",
      "metadata": {
        "id": "cTxXcV8gggqX",
        "outputId": "7fc73721-64c6-49ee-832a-2d645692e58e"
      },
      "source": [
        "f = open('2017.csv','rU')\n",
        "raw = f.read()"
      ],
      "execution_count": null,
      "outputs": [
        {
          "output_type": "stream",
          "text": [
            "<ipython-input-85-6aafa90b69a9>:1: DeprecationWarning: 'U' mode is deprecated\n",
            "  f = open('2017.csv','rU')\n"
          ],
          "name": "stderr"
        }
      ]
    },
    {
      "cell_type": "code",
      "metadata": {
        "id": "0UmHsKDDggqX"
      },
      "source": [
        "#use built-in NLTK tokenization function to tokenize\n",
        "tokens = nltk.word_tokenize(raw)\n",
        "\n",
        "POS_tags = nltk.pos_tag(tokens) #use unprocessed 'tokens', not 'words'\n",
        "\n",
        "#Generate a list of POS tags\n",
        "POS_tag_list = [(word,tag) for (word,tag) in POS_tags if tag.startswith('N')]\n",
        "\n",
        "#Generate a frequency distribution of all the POS tags\n",
        "tag_freq = nltk.FreqDist(POS_tag_list)\n",
        "\n",
        "#Sort the result \n",
        "sorted_tag_freq = sorted(tag_freq.items(), key = lambda k:k[1], reverse = True)\n"
      ],
      "execution_count": null,
      "outputs": []
    },
    {
      "cell_type": "code",
      "metadata": {
        "id": "3_QWyOlDggqY",
        "outputId": "d877e035-ea68-4217-ad03-38c8da053f06"
      },
      "source": [
        "chase_2017 = sorted_tag_freq[0:30]\n",
        "chase_2017"
      ],
      "execution_count": null,
      "outputs": [
        {
          "output_type": "execute_result",
          "data": {
            "text/plain": [
              "[(('app', 'NN'), 11902),\n",
              " (('Chase', 'NNP'), 3917),\n",
              " (('bank', 'NN'), 2095),\n",
              " (('account', 'NN'), 2085),\n",
              " (('banking', 'NN'), 2041),\n",
              " (('time', 'NN'), 1905),\n",
              " (('Great', 'NNP'), 1882),\n",
              " (('App', 'NNP'), 1725),\n",
              " (('money', 'NN'), 1438),\n",
              " (('accounts', 'NNS'), 1382),\n",
              " (('checks', 'NNS'), 1336),\n",
              " (('Easy', 'NNP'), 1283),\n",
              " (('password', 'NN'), 1248),\n",
              " (('credit', 'NN'), 1104),\n",
              " (('card', 'NN'), 1076),\n",
              " (('ID', 'NNP'), 1043),\n",
              " (('deposit', 'NN'), 1014),\n",
              " (('check', 'NN'), 988),\n",
              " (('balance', 'NN'), 976),\n",
              " (('everything', 'NN'), 970),\n",
              " (('phone', 'NN'), 801),\n",
              " (('access', 'NN'), 784),\n",
              " (('Love', 'NNP'), 769),\n",
              " (('years', 'NNS'), 697),\n",
              " (('bills', 'NNS'), 697),\n",
              " (('feature', 'NN'), 682),\n",
              " (('Touch', 'NNP'), 669),\n",
              " (('pay', 'NN'), 627),\n",
              " (('chase', 'NN'), 620),\n",
              " (('way', 'NN'), 616)]"
            ]
          },
          "metadata": {
            "tags": []
          },
          "execution_count": 87
        }
      ]
    },
    {
      "cell_type": "markdown",
      "metadata": {
        "id": "M4pXFxxfggqY"
      },
      "source": [
        "## <font color=orange> Frequency By Year - 2018"
      ]
    },
    {
      "cell_type": "code",
      "metadata": {
        "id": "Ja1KskvJggqY"
      },
      "source": [
        "_2018 = chase[chase['year'] == (2018)]"
      ],
      "execution_count": null,
      "outputs": []
    },
    {
      "cell_type": "code",
      "metadata": {
        "id": "bKOppJdxggqY"
      },
      "source": [
        "_2018.to_csv('2018.csv')"
      ],
      "execution_count": null,
      "outputs": []
    },
    {
      "cell_type": "code",
      "metadata": {
        "id": "UAXBTyVbggqY",
        "outputId": "12e1adcb-d08a-4ba3-d291-4d6bf920fc69"
      },
      "source": [
        "f = open('2018.csv','rU')\n",
        "raw = f.read()"
      ],
      "execution_count": null,
      "outputs": [
        {
          "output_type": "stream",
          "text": [
            "<ipython-input-90-931f39ac2eb4>:1: DeprecationWarning: 'U' mode is deprecated\n",
            "  f = open('2018.csv','rU')\n"
          ],
          "name": "stderr"
        }
      ]
    },
    {
      "cell_type": "code",
      "metadata": {
        "id": "WKzCpPCTggqY"
      },
      "source": [
        "#use built-in NLTK tokenization function to tokenize\n",
        "tokens = nltk.word_tokenize(raw)\n",
        "\n",
        "POS_tags = nltk.pos_tag(tokens) #use unprocessed 'tokens', not 'words'\n",
        "\n",
        "#Generate a list of POS tags\n",
        "POS_tag_list = [(word,tag) for (word,tag) in POS_tags if tag.startswith('N')]\n",
        "\n",
        "#Generate a frequency distribution of all the POS tags\n",
        "tag_freq = nltk.FreqDist(POS_tag_list)\n",
        "\n",
        "#Sort the result \n",
        "sorted_tag_freq = sorted(tag_freq.items(), key = lambda k:k[1], reverse = True)\n"
      ],
      "execution_count": null,
      "outputs": []
    },
    {
      "cell_type": "code",
      "metadata": {
        "id": "JOjHavZCggqZ",
        "outputId": "26f94936-a89d-4be4-f3e7-5a192f3a7276"
      },
      "source": [
        "chase_2018 = sorted_tag_freq[0:30]\n",
        "chase_2018"
      ],
      "execution_count": null,
      "outputs": [
        {
          "output_type": "execute_result",
          "data": {
            "text/plain": [
              "[(('app', 'NN'), 6261),\n",
              " (('Chase', 'NNP'), 2533),\n",
              " (('t', 'NN'), 1697),\n",
              " (('’', 'NNP'), 1605),\n",
              " (('password', 'NN'), 1387),\n",
              " (('time', 'NN'), 1340),\n",
              " (('App', 'NNP'), 1240),\n",
              " (('account', 'NN'), 1145),\n",
              " (('bank', 'NN'), 1109),\n",
              " (('Great', 'NNP'), 832),\n",
              " (('update', 'NN'), 815),\n",
              " (('banking', 'NN'), 781),\n",
              " (('ID', 'NNP'), 727),\n",
              " (('card', 'NN'), 683),\n",
              " (('Easy', 'NNP'), 564),\n",
              " (('check', 'NN'), 541),\n",
              " (('deposit', 'NN'), 539),\n",
              " (('phone', 'NN'), 536),\n",
              " (('alerts', 'NNS'), 524),\n",
              " (('money', 'NN'), 511),\n",
              " (('chase', 'NN'), 505),\n",
              " (('credit', 'NN'), 503),\n",
              " (('service', 'NN'), 483),\n",
              " (('payment', 'NN'), 469),\n",
              " (('times', 'NNS'), 453),\n",
              " (('iPhone', 'NN'), 448),\n",
              " (('Love', 'NNP'), 439),\n",
              " (('checks', 'NNS'), 427),\n",
              " (('notifications', 'NNS'), 427),\n",
              " (('accounts', 'NNS'), 399)]"
            ]
          },
          "metadata": {
            "tags": []
          },
          "execution_count": 92
        }
      ]
    },
    {
      "cell_type": "markdown",
      "metadata": {
        "id": "KegMaJ_4ggqZ"
      },
      "source": [
        "## <font color=orange> Frequency By Year - 2019"
      ]
    },
    {
      "cell_type": "code",
      "metadata": {
        "id": "t9QBvlPJggqZ"
      },
      "source": [
        "_2019 = chase[chase['year'] == (2019)]"
      ],
      "execution_count": null,
      "outputs": []
    },
    {
      "cell_type": "code",
      "metadata": {
        "id": "GYbNbfzXggqZ"
      },
      "source": [
        "_2019.to_csv('2019.csv')"
      ],
      "execution_count": null,
      "outputs": []
    },
    {
      "cell_type": "code",
      "metadata": {
        "id": "NtE1GRyqggqZ",
        "outputId": "f32dfa97-9890-4fc1-eb26-0c0d31b04ec1"
      },
      "source": [
        "f = open('2019.csv','rU')\n",
        "raw = f.read()"
      ],
      "execution_count": null,
      "outputs": [
        {
          "output_type": "stream",
          "text": [
            "<ipython-input-95-272d07325f72>:1: DeprecationWarning: 'U' mode is deprecated\n",
            "  f = open('2019.csv','rU')\n"
          ],
          "name": "stderr"
        }
      ]
    },
    {
      "cell_type": "code",
      "metadata": {
        "id": "mrClce7nggqa"
      },
      "source": [
        "#use built-in NLTK tokenization function to tokenize\n",
        "tokens = nltk.word_tokenize(raw)\n",
        "\n",
        "POS_tags = nltk.pos_tag(tokens) #use unprocessed 'tokens', not 'words'\n",
        "\n",
        "#Generate a list of POS tags\n",
        "POS_tag_list = [(word,tag) for (word,tag) in POS_tags if tag.startswith('N')]\n",
        "\n",
        "#Generate a frequency distribution of all the POS tags\n",
        "tag_freq = nltk.FreqDist(POS_tag_list)\n",
        "\n",
        "#Sort the result \n",
        "sorted_tag_freq = sorted(tag_freq.items(), key = lambda k:k[1], reverse = True)\n"
      ],
      "execution_count": null,
      "outputs": []
    },
    {
      "cell_type": "code",
      "metadata": {
        "id": "JSsjctBCggqa",
        "scrolled": true,
        "outputId": "617bb418-992e-4066-d03c-3c786d06abd4"
      },
      "source": [
        "chase_2019 = sorted_tag_freq[0:30]\n",
        "chase_2019"
      ],
      "execution_count": null,
      "outputs": [
        {
          "output_type": "execute_result",
          "data": {
            "text/plain": [
              "[(('app', 'NN'), 2911),\n",
              " (('Chase', 'NNP'), 1473),\n",
              " (('t', 'NN'), 795),\n",
              " (('’', 'NNP'), 741),\n",
              " (('time', 'NN'), 735),\n",
              " (('account', 'NN'), 714),\n",
              " (('bank', 'NN'), 707),\n",
              " (('App', 'NNP'), 622),\n",
              " (('card', 'NN'), 389),\n",
              " (('service', 'NN'), 373),\n",
              " (('update', 'NN'), 365),\n",
              " (('banking', 'NN'), 365),\n",
              " (('password', 'NN'), 349),\n",
              " (('Great', 'NNP'), 346),\n",
              " (('chase', 'NN'), 335),\n",
              " (('credit', 'NN'), 333),\n",
              " (('customer', 'NN'), 290),\n",
              " (('money', 'NN'), 275),\n",
              " (('accounts', 'NNS'), 268),\n",
              " (('version', 'NN'), 222),\n",
              " (('balance', 'NN'), 220),\n",
              " (('times', 'NNS'), 220),\n",
              " (('way', 'NN'), 212),\n",
              " (('New', 'NNP'), 212),\n",
              " (('phone', 'NN'), 211),\n",
              " (('Bank', 'NNP'), 204),\n",
              " (('transactions', 'NNS'), 202),\n",
              " (('check', 'NN'), 198),\n",
              " (('Easy', 'NNP'), 191),\n",
              " (('updates', 'NNS'), 190)]"
            ]
          },
          "metadata": {
            "tags": []
          },
          "execution_count": 97
        }
      ]
    },
    {
      "cell_type": "markdown",
      "metadata": {
        "id": "4c_6MyFPggqa"
      },
      "source": [
        "### <font color=green> 2019 - Update"
      ]
    },
    {
      "cell_type": "markdown",
      "metadata": {
        "id": "7Pchgeimggqa"
      },
      "source": [
        "## <font color=orange> Frequency By Year - 2020"
      ]
    },
    {
      "cell_type": "code",
      "metadata": {
        "id": "M8a1JHqBggqa"
      },
      "source": [
        "_2020 = chase[chase['year'] == (2020)]"
      ],
      "execution_count": null,
      "outputs": []
    },
    {
      "cell_type": "code",
      "metadata": {
        "id": "SrRSqN5Aggqa"
      },
      "source": [
        "_2020.to_csv('2020.csv')"
      ],
      "execution_count": null,
      "outputs": []
    },
    {
      "cell_type": "code",
      "metadata": {
        "id": "Aw0K5b1pggqa",
        "outputId": "a50ec3cc-5553-41c1-ec6d-42fc1523a17d"
      },
      "source": [
        "f = open('2020.csv','rU')\n",
        "raw = f.read()"
      ],
      "execution_count": null,
      "outputs": [
        {
          "output_type": "stream",
          "text": [
            "<ipython-input-100-de36ed56df73>:1: DeprecationWarning: 'U' mode is deprecated\n",
            "  f = open('2020.csv','rU')\n"
          ],
          "name": "stderr"
        }
      ]
    },
    {
      "cell_type": "code",
      "metadata": {
        "id": "QEFz_2WGggqb"
      },
      "source": [
        "#use built-in NLTK tokenization function to tokenize\n",
        "tokens = nltk.word_tokenize(raw)\n",
        "\n",
        "POS_tags = nltk.pos_tag(tokens) #use unprocessed 'tokens', not 'words'\n",
        "\n",
        "#Generate a list of POS tags\n",
        "POS_tag_list = [(word,tag) for (word,tag) in POS_tags if tag.startswith('N')]\n",
        "\n",
        "#Generate a frequency distribution of all the POS tags\n",
        "tag_freq = nltk.FreqDist(POS_tag_list)\n",
        "\n",
        "#Sort the result \n",
        "sorted_tag_freq = sorted(tag_freq.items(), key = lambda k:k[1], reverse = True)\n"
      ],
      "execution_count": null,
      "outputs": []
    },
    {
      "cell_type": "code",
      "metadata": {
        "id": "miMyXNG0ggqb",
        "scrolled": true,
        "outputId": "6ddbc6a9-8fdf-412a-a510-ce999495c88f"
      },
      "source": [
        "chase_2020 = sorted_tag_freq[0:30]\n",
        "chase_2020"
      ],
      "execution_count": null,
      "outputs": [
        {
          "output_type": "execute_result",
          "data": {
            "text/plain": [
              "[(('app', 'NN'), 2773),\n",
              " (('Chase', 'NNP'), 1699),\n",
              " (('bank', 'NN'), 835),\n",
              " (('’', 'NNP'), 783),\n",
              " (('t', 'NN'), 777),\n",
              " (('account', 'NN'), 655),\n",
              " (('time', 'NN'), 610),\n",
              " (('App', 'NNP'), 593),\n",
              " (('Great', 'NNP'), 470),\n",
              " (('service', 'NN'), 469),\n",
              " (('banking', 'NN'), 461),\n",
              " (('card', 'NN'), 400),\n",
              " (('customer', 'NN'), 379),\n",
              " (('chase', 'NN'), 378),\n",
              " (('update', 'NN'), 377),\n",
              " (('money', 'NN'), 370),\n",
              " (('credit', 'NN'), 319),\n",
              " (('accounts', 'NNS'), 316),\n",
              " (('phone', 'NN'), 262),\n",
              " (('Bank', 'NNP'), 261),\n",
              " (('Easy', 'NNP'), 256),\n",
              " (('years', 'NNS'), 237),\n",
              " (('Love', 'NNP'), 235),\n",
              " (('balance', 'NN'), 227),\n",
              " (('Thank', 'NNP'), 204),\n",
              " (('transactions', 'NNS'), 196),\n",
              " (('way', 'NN'), 181),\n",
              " (('Best', 'NNP'), 177),\n",
              " (('check', 'NN'), 172),\n",
              " (('password', 'NN'), 171)]"
            ]
          },
          "metadata": {
            "tags": []
          },
          "execution_count": 102
        }
      ]
    },
    {
      "cell_type": "markdown",
      "metadata": {
        "id": "3kfZi3Sqggqb"
      },
      "source": [
        "### <font color=green> 2020 - Update"
      ]
    },
    {
      "cell_type": "markdown",
      "metadata": {
        "id": "SqEkU_cCggqb"
      },
      "source": [
        "## <font color=orange> Frequency By Year - 2021"
      ]
    },
    {
      "cell_type": "code",
      "metadata": {
        "id": "DZE4GugSggqb"
      },
      "source": [
        "_2021 = chase[chase['year'] == (2021)]"
      ],
      "execution_count": null,
      "outputs": []
    },
    {
      "cell_type": "code",
      "metadata": {
        "id": "iiroKg0Hggqb"
      },
      "source": [
        "_2021.to_csv('2021.csv')"
      ],
      "execution_count": null,
      "outputs": []
    },
    {
      "cell_type": "code",
      "metadata": {
        "id": "YV6h_2tjggqc",
        "outputId": "d0467341-2b69-4217-b6c1-f3149dcad678"
      },
      "source": [
        "f = open('2021.csv','rU')\n",
        "raw = f.read()"
      ],
      "execution_count": null,
      "outputs": [
        {
          "output_type": "stream",
          "text": [
            "<ipython-input-106-2c2d7871230b>:1: DeprecationWarning: 'U' mode is deprecated\n",
            "  f = open('2021.csv','rU')\n"
          ],
          "name": "stderr"
        }
      ]
    },
    {
      "cell_type": "code",
      "metadata": {
        "id": "wVu59sNlggqc"
      },
      "source": [
        "#use built-in NLTK tokenization function to tokenize\n",
        "tokens = nltk.word_tokenize(raw)\n",
        "\n",
        "POS_tags = nltk.pos_tag(tokens) #use unprocessed 'tokens', not 'words'\n",
        "\n",
        "#Generate a list of POS tags\n",
        "POS_tag_list = [(word,tag) for (word,tag) in POS_tags if tag.startswith('N')]\n",
        "\n",
        "#Generate a frequency distribution of all the POS tags\n",
        "tag_freq = nltk.FreqDist(POS_tag_list)\n",
        "\n",
        "#Sort the result \n",
        "sorted_tag_freq = sorted(tag_freq.items(), key = lambda k:k[1], reverse = True)\n"
      ],
      "execution_count": null,
      "outputs": []
    },
    {
      "cell_type": "code",
      "metadata": {
        "id": "0Jly9nA1ggqc",
        "scrolled": true,
        "outputId": "d0b3b5c2-628e-4f23-90a9-69502fb4bc25"
      },
      "source": [
        "chase_2021 = sorted_tag_freq[0:30]\n",
        "chase_2021"
      ],
      "execution_count": null,
      "outputs": [
        {
          "output_type": "execute_result",
          "data": {
            "text/plain": [
              "[(('app', 'NN'), 966),\n",
              " (('Chase', 'NNP'), 675),\n",
              " (('bank', 'NN'), 342),\n",
              " (('t', 'NN'), 338),\n",
              " (('’', 'NNP'), 289),\n",
              " (('account', 'NN'), 238),\n",
              " (('phone', 'NN'), 213),\n",
              " (('banking', 'NN'), 180),\n",
              " (('App', 'NNP'), 175),\n",
              " (('Great', 'NNP'), 169),\n",
              " (('time', 'NN'), 159),\n",
              " (('service', 'NN'), 150),\n",
              " (('money', 'NN'), 144),\n",
              " (('chase', 'NN'), 137),\n",
              " (('customer', 'NN'), 128),\n",
              " (('iPhone', 'NN'), 119),\n",
              " (('accounts', 'NNS'), 110),\n",
              " (('credit', 'NN'), 109),\n",
              " (('years', 'NNS'), 109),\n",
              " (('card', 'NN'), 104),\n",
              " (('Bank', 'NNP'), 98),\n",
              " (('version', 'NN'), 92),\n",
              " (('update', 'NN'), 90),\n",
              " (('Love', 'NNP'), 74),\n",
              " (('Thank', 'NNP'), 74),\n",
              " (('Easy', 'NNP'), 73),\n",
              " (('t', 'NNS'), 66),\n",
              " (('Best', 'NNP'), 64),\n",
              " (('transactions', 'NNS'), 64),\n",
              " (('way', 'NN'), 64)]"
            ]
          },
          "metadata": {
            "tags": []
          },
          "execution_count": 108
        }
      ]
    },
    {
      "cell_type": "markdown",
      "metadata": {
        "id": "vL6FjNs7ggqc"
      },
      "source": [
        "### <font color=purple>Trend Analysis"
      ]
    },
    {
      "cell_type": "code",
      "metadata": {
        "id": "tTevNOuIggqc"
      },
      "source": [
        "chase_2015 = pd.DataFrame(chase_2015, columns =['Word', 'Frequency']) \n",
        "chase_2016 = pd.DataFrame(chase_2016, columns =['Word', 'Frequency'])  \n",
        "chase_2017 = pd.DataFrame(chase_2017, columns =['Word', 'Frequency']) \n",
        "chase_2018 = pd.DataFrame(chase_2018, columns =['Word', 'Frequency']) \n",
        "chase_2019 = pd.DataFrame(chase_2019, columns =['Word', 'Frequency']) \n",
        "chase_2020 = pd.DataFrame(chase_2020, columns =['Word', 'Frequency'])\n",
        "chase_2021 = pd.DataFrame(chase_2021, columns =['Word', 'Frequency']) "
      ],
      "execution_count": null,
      "outputs": []
    },
    {
      "cell_type": "code",
      "metadata": {
        "id": "eV3-tcKmggqc"
      },
      "source": [
        "#add the year as new column in each dataframe\n",
        "chase_2015.insert(loc = 2, column = 'Year', value = 2015)\n",
        "chase_2016.insert(loc = 2, column = 'Year', value = 2016)\n",
        "chase_2017.insert(loc = 2, column = 'Year', value = 2017)\n",
        "chase_2018.insert(loc = 2, column = 'Year', value = 2018)\n",
        "chase_2019.insert(loc = 2, column = 'Year', value = 2019)\n",
        "chase_2020.insert(loc = 2, column = 'Year', value = 2020)\n",
        "chase_2021.insert(loc = 2, column = 'Year', value = 2021)"
      ],
      "execution_count": null,
      "outputs": []
    },
    {
      "cell_type": "code",
      "metadata": {
        "id": "WxJnTYt9ggqd"
      },
      "source": [
        "#frequency list to a bigger list\n",
        "chase_trend = [chase_2015,chase_2016,chase_2017,chase_2018,chase_2019,chase_2020,chase_2021]"
      ],
      "execution_count": null,
      "outputs": []
    },
    {
      "cell_type": "code",
      "metadata": {
        "id": "W5SsX6w6ggqd"
      },
      "source": [
        "#create a dataframe from the combined year lists\n",
        "chase_tot_freq = pd.concat(chase_trend)"
      ],
      "execution_count": null,
      "outputs": []
    },
    {
      "cell_type": "code",
      "metadata": {
        "id": "lPJurgVFggqd"
      },
      "source": [
        "#reset index\n",
        "chase_tot_freq = chase_tot_freq.reset_index(drop = True)"
      ],
      "execution_count": null,
      "outputs": []
    },
    {
      "cell_type": "code",
      "metadata": {
        "id": "UwFD_AR-ggqd"
      },
      "source": [
        "#create crosstab between word and year, value is sum of frequency, sort by \"All\"\n",
        "chase_tab = pd.crosstab(chase_tot_freq.Word,chase_tot_freq.Year,values=chase_tot_freq.Frequency,aggfunc=\"sum\",margins=True).sort_values('All',ascending=False)\n",
        "chase_tab = chase_tab.drop('All',axis=1) #drop All\n",
        "chase_tab = chase_tab.drop('All',axis=0) #drop All\n",
        "chase_tab = chase_tab[0:65] #only using up to 65 words\n"
      ],
      "execution_count": null,
      "outputs": []
    },
    {
      "cell_type": "code",
      "metadata": {
        "id": "Qwxeilozggqd"
      },
      "source": [
        "#import numpy, seaborn, and matplotlib\n",
        "import numpy as np \n",
        "import seaborn as sns\n",
        "import matplotlib.pyplot as plt\n",
        "\n",
        "sns.set(rc={'figure.figsize':(18,10)})\n"
      ],
      "execution_count": null,
      "outputs": []
    },
    {
      "cell_type": "code",
      "metadata": {
        "id": "diNw2oQ9ggqd",
        "scrolled": true,
        "outputId": "4e429aff-6fb1-418f-c7f9-8ce07ffd5b1f"
      },
      "source": [
        "#create stacked bar plot of crosstab formulated above for Hasbro\n",
        "chase_tab.plot.bar(stacked=True)\n",
        "plt.legend(title='Year')\n",
        "plt.title('Chase Trend Analysis',fontsize=20)\n",
        "plt.show()\n",
        "\n"
      ],
      "execution_count": null,
      "outputs": [
        {
          "output_type": "display_data",
          "data": {
            "image/png": "[encoded data removed]",
            "text/plain": [
              "<Figure size 1296x720 with 1 Axes>"
            ]
          },
          "metadata": {
            "tags": []
          }
        }
      ]
    },
    {
      "cell_type": "code",
      "metadata": {
        "id": "LhfjhDXPhZin"
      },
      "source": [
        ""
      ],
      "execution_count": null,
      "outputs": []
    }
  ]
}